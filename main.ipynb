{
 "cells": [
  {
   "cell_type": "code",
   "execution_count": 5,
   "id": "c6f0be08",
   "metadata": {},
   "outputs": [],
   "source": [
    "import requests\n",
    "import json\n",
    "import pandas as pd\n",
    "import time\n",
    "import keepa\n",
    "import numpy as np\n",
    "api_key = \"a1g603bd0m13rt71rksm50t36ane60qc8kvioi1ivo3b4sf1qkbj0net036tt6ql\"\n",
    "api = keepa.Keepa(api_key)\n"
   ]
  },
  {
   "cell_type": "code",
   "execution_count": 6,
   "id": "f0a1a701",
   "metadata": {},
   "outputs": [],
   "source": [
    "def fetch_products_from_queries(query_series, allowed_brands,dfname='products' ,max_per_minute=20):\n",
    "    \"\"\"\n",
    "    For each search query and allowed brand, fetch 1 product from Keepa API.\n",
    "    Applies rate-limiting and returns a flattened DataFrame.\n",
    "    \"\"\"\n",
    "    results = []\n",
    "\n",
    "    for keyword in query_series:\n",
    "        product_row = {\"Search Query\": keyword}\n",
    "        column_suffix = 1\n",
    "\n",
    "        for brand in allowed_brands:\n",
    "            product_params = {\n",
    "                'domain': 1,\n",
    "                'term': keyword,\n",
    "                'brand': brand\n",
    "            }\n",
    "\n",
    "            try:\n",
    "                asin_list = api.product_finder(product_params)\n",
    "                if not asin_list:\n",
    "                    print(f\"No ASINs for keyword '{keyword}' and brand '{brand}'.\")\n",
    "                    continue\n",
    "\n",
    "                # ✅ Query only one ASIN\n",
    "                asin = asin_list[0]\n",
    "                time.sleep(4)  # 🕒 Throttle per brand request\n",
    "\n",
    "                raw_products = api.query(\n",
    "                    [asin],\n",
    "                    rating=True,\n",
    "                    buybox=False,\n",
    "                    update=False,\n",
    "                    history=True,\n",
    "                )\n",
    "\n",
    "                product = raw_products[0] if raw_products and isinstance(raw_products[0], dict) else None\n",
    "                if not product:\n",
    "                    continue\n",
    "\n",
    "                asin = product.get('asin', 'N/A')\n",
    "                title = product.get('title', 'N/A')\n",
    "                brand_actual = product.get('brand', 'N/A')\n",
    "\n",
    "                # NEW price\n",
    "                price_data = product.get('data', {}).get('NEW', [])\n",
    "                latest_price = next((p for p in reversed(price_data) if p and not np.isnan(p)), None)\n",
    "                formatted_price = f\"${latest_price:.2f}\" if latest_price else \"N/A\"\n",
    "\n",
    "                # Rating\n",
    "                rating_data = product.get('csv', [[], []])[16]\n",
    "                latest_rating = rating_data[-1] / 10 if rating_data and rating_data[-1] != -1 else \"N/A\"\n",
    "\n",
    "                # Review Count\n",
    "                review_data = product.get('csv', [[], []])[17]\n",
    "                latest_review_count = review_data[-1] if review_data and review_data[-1] != -1 else \"N/A\"\n",
    "\n",
    "                # Suffix to allow multiple products per row\n",
    "                suffix = f\"({column_suffix})\" if column_suffix > 1 else \"\"\n",
    "                product_row[f\"Brand{suffix}\"] = brand\n",
    "                product_row[f\"ASIN{suffix}\"] = asin\n",
    "                product_row[f\"Title{suffix}\"] = title\n",
    "                product_row[f\"Price{suffix}\"] = formatted_price\n",
    "                product_row[f\"Rating{suffix}\"] = latest_rating\n",
    "                product_row[f\"Review Count{suffix}\"] = latest_review_count\n",
    "\n",
    "                print(f\"[✓] {keyword} | {brand} | ASIN: {asin} | Price: {formatted_price} | \"\n",
    "                      f\"Rating: {latest_rating} | Reviews: {latest_review_count}\")\n",
    "\n",
    "                column_suffix += 1\n",
    "\n",
    "            except RuntimeError as e:\n",
    "                print(f\"[✗] API Error for query '{keyword}' and brand '{brand}': {e}\")\n",
    "                continue\n",
    "            \n",
    "\n",
    "    # Final output\n",
    "        results.append(product_row)\n",
    "        time.sleep(3)\n",
    "\n",
    "    df = pd.DataFrame(results)\n",
    "    df.to_csv(dfname)\n",
    "\n",
    "    return pd.DataFrame(results)\n"
   ]
  },
  {
   "cell_type": "code",
   "execution_count": 7,
   "id": "386086ca",
   "metadata": {},
   "outputs": [],
   "source": [
    "queries = pd.read_csv(\"cleaned_brand_terms.csv\")['Product Name']\n",
    "allowed_brands = [\"ARANA\",\"Suspensia\"]"
   ]
  },
  {
   "cell_type": "code",
   "execution_count": 69,
   "id": "d4d611e0",
   "metadata": {},
   "outputs": [
    {
     "name": "stderr",
     "output_type": "stream",
     "text": [
      "\n",
      "\n",
      "\u001b[A\u001b[A\n",
      "\n",
      "100%|██████████| 1/1 [00:03<00:00,  3.20s/it]\n"
     ]
    },
    {
     "name": "stdout",
     "output_type": "stream",
     "text": [
      "[✓] X23CJ7188 Suspension Control Arm and Ball Joint Assembly Fits Hyundai Kia Front Left Lower | ARANA | ASIN: B08CV97X67 | Price: $22.99 | Rating: 4.5 | Reviews: 7712\n"
     ]
    },
    {
     "name": "stderr",
     "output_type": "stream",
     "text": [
      "\n",
      "\n",
      "\u001b[A\u001b[A\n",
      "\n",
      "100%|██████████| 1/1 [00:02<00:00,  2.51s/it]\n"
     ]
    },
    {
     "name": "stdout",
     "output_type": "stream",
     "text": [
      "[✓] X23CJ7188 Suspension Control Arm and Ball Joint Assembly Fits Hyundai Kia Front Left Lower | Suspensia | ASIN: B0C75WP31W | Price: $48.92 | Rating: N/A | Reviews: N/A\n"
     ]
    },
    {
     "name": "stderr",
     "output_type": "stream",
     "text": [
      "\n",
      "\n",
      "\u001b[A\u001b[A\n",
      "\n",
      "100%|██████████| 1/1 [00:02<00:00,  2.06s/it]\n"
     ]
    },
    {
     "name": "stdout",
     "output_type": "stream",
     "text": [
      "[✓] X23CJ7187 Suspension Control Arm and Ball Joint Assembly Fits Hyundai Kia Front Right Lower Aluminum | ARANA | ASIN: B08CV97X67 | Price: $22.99 | Rating: 4.5 | Reviews: 7712\n"
     ]
    },
    {
     "name": "stderr",
     "output_type": "stream",
     "text": [
      "\n",
      "\n",
      "\u001b[A\u001b[A\n",
      "\n",
      "100%|██████████| 1/1 [00:01<00:00,  1.88s/it]\n"
     ]
    },
    {
     "name": "stdout",
     "output_type": "stream",
     "text": [
      "[✓] X23CJ7187 Suspension Control Arm and Ball Joint Assembly Fits Hyundai Kia Front Right Lower Aluminum | Suspensia | ASIN: B0C75WP31W | Price: $48.92 | Rating: N/A | Reviews: N/A\n"
     ]
    },
    {
     "name": "stderr",
     "output_type": "stream",
     "text": [
      "\n",
      "\n",
      "\u001b[A\u001b[A\n",
      "\n",
      "100%|██████████| 1/1 [00:02<00:00,  2.87s/it]\n"
     ]
    },
    {
     "name": "stdout",
     "output_type": "stream",
     "text": [
      "[✓] X18CJ1696 Suspension Control Arm and Ball Joint Assembly Fits Hyundai Kia Front Left Lower | ARANA | ASIN: B07CGKD9XP | Price: $19.59 | Rating: 4.5 | Reviews: 7721\n"
     ]
    },
    {
     "name": "stderr",
     "output_type": "stream",
     "text": [
      "\n",
      "\n",
      "\u001b[A\u001b[A\n",
      "\n",
      "100%|██████████| 1/1 [00:01<00:00,  1.97s/it]\n"
     ]
    },
    {
     "name": "stdout",
     "output_type": "stream",
     "text": [
      "[✓] X18CJ1696 Suspension Control Arm and Ball Joint Assembly Fits Hyundai Kia Front Left Lower | Suspensia | ASIN: B0C75WP31W | Price: $48.92 | Rating: N/A | Reviews: N/A\n"
     ]
    },
    {
     "name": "stderr",
     "output_type": "stream",
     "text": [
      "\n",
      "\n",
      "\u001b[A\u001b[A\n",
      "\n",
      "100%|██████████| 1/1 [00:01<00:00,  1.99s/it]\n"
     ]
    },
    {
     "name": "stdout",
     "output_type": "stream",
     "text": [
      "[✓] X07SL1199 Suspension Stabilizer Bar Link Fits Buick Chevrolet Front | ARANA | ASIN: B07CGKD9XP | Price: $19.59 | Rating: 4.5 | Reviews: 7721\n"
     ]
    },
    {
     "name": "stderr",
     "output_type": "stream",
     "text": [
      "\n",
      "\n",
      "\u001b[A\u001b[A\n",
      "\n",
      "100%|██████████| 1/1 [00:02<00:00,  2.16s/it]\n"
     ]
    },
    {
     "name": "stdout",
     "output_type": "stream",
     "text": [
      "[✓] X07SL1199 Suspension Stabilizer Bar Link Fits Buick Chevrolet Front | Suspensia | ASIN: B0C75WP31W | Price: $48.92 | Rating: N/A | Reviews: N/A\n"
     ]
    },
    {
     "name": "stderr",
     "output_type": "stream",
     "text": [
      "\n",
      "\n",
      "\u001b[A\u001b[A\n",
      "\n",
      "100%|██████████| 1/1 [00:01<00:00,  1.96s/it]\n"
     ]
    },
    {
     "name": "stdout",
     "output_type": "stream",
     "text": [
      "[✓] Sets LGP6 Universal Lift Supports Gas Props Springs Struts for Tool Box Lid Top RV Camper Marine Beds Motorhome Doors | ARANA | ASIN: B08CV97X67 | Price: $22.99 | Rating: 4.5 | Reviews: 7712\n"
     ]
    },
    {
     "name": "stderr",
     "output_type": "stream",
     "text": [
      "\n",
      "\n",
      "\u001b[A\u001b[A\n",
      "\n",
      "100%|██████████| 1/1 [00:02<00:00,  2.01s/it]\n"
     ]
    },
    {
     "name": "stdout",
     "output_type": "stream",
     "text": [
      "[✓] Sets LGP6 Universal Lift Supports Gas Props Springs Struts for Tool Box Lid Top RV Camper Marine Beds Motorhome Doors | Suspensia | ASIN: B0C75WP31W | Price: $48.92 | Rating: N/A | Reviews: N/A\n"
     ]
    },
    {
     "name": "stderr",
     "output_type": "stream",
     "text": [
      "\n",
      "\n",
      "\u001b[A\u001b[A\n",
      "\n",
      "100%|██████████| 1/1 [00:02<00:00,  2.03s/it]\n"
     ]
    },
    {
     "name": "stdout",
     "output_type": "stream",
     "text": [
      "[✓] Hood Lift Support Compatible with Ford F Raptor | ARANA | ASIN: B08CV97X67 | Price: $22.99 | Rating: 4.5 | Reviews: 7712\n"
     ]
    },
    {
     "name": "stderr",
     "output_type": "stream",
     "text": [
      "\n",
      "\n",
      "\u001b[A\u001b[A\n",
      "\n",
      "100%|██████████| 1/1 [00:02<00:00,  2.15s/it]"
     ]
    },
    {
     "name": "stdout",
     "output_type": "stream",
     "text": [
      "[✓] Hood Lift Support Compatible with Ford F Raptor | Suspensia | ASIN: B0C75WP31W | Price: $48.92 | Rating: N/A | Reviews: N/A\n"
     ]
    },
    {
     "name": "stderr",
     "output_type": "stream",
     "text": [
      "\n"
     ]
    }
   ],
   "source": [
    "second = fetch_products_from_queries(queries.iloc[4:10], allowed_brands)"
   ]
  },
  {
   "cell_type": "code",
   "execution_count": 70,
   "id": "8416843f",
   "metadata": {},
   "outputs": [],
   "source": [
    "second.to_csv(\"products2.csv\", index=False)"
   ]
  },
  {
   "cell_type": "code",
   "execution_count": 71,
   "id": "87c1bbee",
   "metadata": {},
   "outputs": [
    {
     "data": {
      "text/html": [
       "<div>\n",
       "<style scoped>\n",
       "    .dataframe tbody tr th:only-of-type {\n",
       "        vertical-align: middle;\n",
       "    }\n",
       "\n",
       "    .dataframe tbody tr th {\n",
       "        vertical-align: top;\n",
       "    }\n",
       "\n",
       "    .dataframe thead th {\n",
       "        text-align: right;\n",
       "    }\n",
       "</style>\n",
       "<table border=\"1\" class=\"dataframe\">\n",
       "  <thead>\n",
       "    <tr style=\"text-align: right;\">\n",
       "      <th></th>\n",
       "      <th>Search Query</th>\n",
       "      <th>Brand</th>\n",
       "      <th>ASIN</th>\n",
       "      <th>Title</th>\n",
       "      <th>Price</th>\n",
       "      <th>Rating</th>\n",
       "      <th>Review Count</th>\n",
       "      <th>Brand(2)</th>\n",
       "      <th>ASIN(2)</th>\n",
       "      <th>Title(2)</th>\n",
       "      <th>Price(2)</th>\n",
       "      <th>Rating(2)</th>\n",
       "      <th>Review Count(2)</th>\n",
       "    </tr>\n",
       "  </thead>\n",
       "  <tbody>\n",
       "    <tr>\n",
       "      <th>0</th>\n",
       "      <td>X23CJ7188 Suspension Control Arm and Ball Join...</td>\n",
       "      <td>ARANA</td>\n",
       "      <td>B08CV97X67</td>\n",
       "      <td>ARANA Gas Struts 15 inch 60 Lbs, ml13-60 Gas L...</td>\n",
       "      <td>$22.99</td>\n",
       "      <td>4.5</td>\n",
       "      <td>7712</td>\n",
       "      <td>Suspensia</td>\n",
       "      <td>B0C75WP31W</td>\n",
       "      <td>Suspensia X14CJ1539 Suspension Control Arm and...</td>\n",
       "      <td>$48.92</td>\n",
       "      <td>N/A</td>\n",
       "      <td>N/A</td>\n",
       "    </tr>\n",
       "    <tr>\n",
       "      <th>1</th>\n",
       "      <td>X23CJ7187 Suspension Control Arm and Ball Join...</td>\n",
       "      <td>ARANA</td>\n",
       "      <td>B08CV97X67</td>\n",
       "      <td>ARANA Gas Struts 15 inch 60 Lbs, ml13-60 Gas L...</td>\n",
       "      <td>$22.99</td>\n",
       "      <td>4.5</td>\n",
       "      <td>7712</td>\n",
       "      <td>Suspensia</td>\n",
       "      <td>B0C75WP31W</td>\n",
       "      <td>Suspensia X14CJ1539 Suspension Control Arm and...</td>\n",
       "      <td>$48.92</td>\n",
       "      <td>N/A</td>\n",
       "      <td>N/A</td>\n",
       "    </tr>\n",
       "    <tr>\n",
       "      <th>2</th>\n",
       "      <td>X18CJ1696 Suspension Control Arm and Ball Join...</td>\n",
       "      <td>ARANA</td>\n",
       "      <td>B07CGKD9XP</td>\n",
       "      <td>ARANA Gas Struts Lift Support 15 inch 24 Lbs, ...</td>\n",
       "      <td>$19.59</td>\n",
       "      <td>4.5</td>\n",
       "      <td>7721</td>\n",
       "      <td>Suspensia</td>\n",
       "      <td>B0C75WP31W</td>\n",
       "      <td>Suspensia X14CJ1539 Suspension Control Arm and...</td>\n",
       "      <td>$48.92</td>\n",
       "      <td>N/A</td>\n",
       "      <td>N/A</td>\n",
       "    </tr>\n",
       "    <tr>\n",
       "      <th>3</th>\n",
       "      <td>X07SL1199 Suspension Stabilizer Bar Link Fits ...</td>\n",
       "      <td>ARANA</td>\n",
       "      <td>B07CGKD9XP</td>\n",
       "      <td>ARANA Gas Struts Lift Support 15 inch 24 Lbs, ...</td>\n",
       "      <td>$19.59</td>\n",
       "      <td>4.5</td>\n",
       "      <td>7721</td>\n",
       "      <td>Suspensia</td>\n",
       "      <td>B0C75WP31W</td>\n",
       "      <td>Suspensia X14CJ1539 Suspension Control Arm and...</td>\n",
       "      <td>$48.92</td>\n",
       "      <td>N/A</td>\n",
       "      <td>N/A</td>\n",
       "    </tr>\n",
       "    <tr>\n",
       "      <th>4</th>\n",
       "      <td>Sets LGP6 Universal Lift Supports Gas Props Sp...</td>\n",
       "      <td>ARANA</td>\n",
       "      <td>B08CV97X67</td>\n",
       "      <td>ARANA Gas Struts 15 inch 60 Lbs, ml13-60 Gas L...</td>\n",
       "      <td>$22.99</td>\n",
       "      <td>4.5</td>\n",
       "      <td>7712</td>\n",
       "      <td>Suspensia</td>\n",
       "      <td>B0C75WP31W</td>\n",
       "      <td>Suspensia X14CJ1539 Suspension Control Arm and...</td>\n",
       "      <td>$48.92</td>\n",
       "      <td>N/A</td>\n",
       "      <td>N/A</td>\n",
       "    </tr>\n",
       "    <tr>\n",
       "      <th>5</th>\n",
       "      <td>Hood Lift Support Compatible with Ford F Raptor</td>\n",
       "      <td>ARANA</td>\n",
       "      <td>B08CV97X67</td>\n",
       "      <td>ARANA Gas Struts 15 inch 60 Lbs, ml13-60 Gas L...</td>\n",
       "      <td>$22.99</td>\n",
       "      <td>4.5</td>\n",
       "      <td>7712</td>\n",
       "      <td>Suspensia</td>\n",
       "      <td>B0C75WP31W</td>\n",
       "      <td>Suspensia X14CJ1539 Suspension Control Arm and...</td>\n",
       "      <td>$48.92</td>\n",
       "      <td>N/A</td>\n",
       "      <td>N/A</td>\n",
       "    </tr>\n",
       "  </tbody>\n",
       "</table>\n",
       "</div>"
      ],
      "text/plain": [
       "                                        Search Query  Brand        ASIN  \\\n",
       "0  X23CJ7188 Suspension Control Arm and Ball Join...  ARANA  B08CV97X67   \n",
       "1  X23CJ7187 Suspension Control Arm and Ball Join...  ARANA  B08CV97X67   \n",
       "2  X18CJ1696 Suspension Control Arm and Ball Join...  ARANA  B07CGKD9XP   \n",
       "3  X07SL1199 Suspension Stabilizer Bar Link Fits ...  ARANA  B07CGKD9XP   \n",
       "4  Sets LGP6 Universal Lift Supports Gas Props Sp...  ARANA  B08CV97X67   \n",
       "5    Hood Lift Support Compatible with Ford F Raptor  ARANA  B08CV97X67   \n",
       "\n",
       "                                               Title   Price  Rating  \\\n",
       "0  ARANA Gas Struts 15 inch 60 Lbs, ml13-60 Gas L...  $22.99     4.5   \n",
       "1  ARANA Gas Struts 15 inch 60 Lbs, ml13-60 Gas L...  $22.99     4.5   \n",
       "2  ARANA Gas Struts Lift Support 15 inch 24 Lbs, ...  $19.59     4.5   \n",
       "3  ARANA Gas Struts Lift Support 15 inch 24 Lbs, ...  $19.59     4.5   \n",
       "4  ARANA Gas Struts 15 inch 60 Lbs, ml13-60 Gas L...  $22.99     4.5   \n",
       "5  ARANA Gas Struts 15 inch 60 Lbs, ml13-60 Gas L...  $22.99     4.5   \n",
       "\n",
       "   Review Count   Brand(2)     ASIN(2)  \\\n",
       "0          7712  Suspensia  B0C75WP31W   \n",
       "1          7712  Suspensia  B0C75WP31W   \n",
       "2          7721  Suspensia  B0C75WP31W   \n",
       "3          7721  Suspensia  B0C75WP31W   \n",
       "4          7712  Suspensia  B0C75WP31W   \n",
       "5          7712  Suspensia  B0C75WP31W   \n",
       "\n",
       "                                            Title(2) Price(2) Rating(2)  \\\n",
       "0  Suspensia X14CJ1539 Suspension Control Arm and...   $48.92       N/A   \n",
       "1  Suspensia X14CJ1539 Suspension Control Arm and...   $48.92       N/A   \n",
       "2  Suspensia X14CJ1539 Suspension Control Arm and...   $48.92       N/A   \n",
       "3  Suspensia X14CJ1539 Suspension Control Arm and...   $48.92       N/A   \n",
       "4  Suspensia X14CJ1539 Suspension Control Arm and...   $48.92       N/A   \n",
       "5  Suspensia X14CJ1539 Suspension Control Arm and...   $48.92       N/A   \n",
       "\n",
       "  Review Count(2)  \n",
       "0             N/A  \n",
       "1             N/A  \n",
       "2             N/A  \n",
       "3             N/A  \n",
       "4             N/A  \n",
       "5             N/A  "
      ]
     },
     "execution_count": 71,
     "metadata": {},
     "output_type": "execute_result"
    }
   ],
   "source": [
    "second"
   ]
  },
  {
   "cell_type": "code",
   "execution_count": 72,
   "id": "960eadde",
   "metadata": {},
   "outputs": [
    {
     "name": "stderr",
     "output_type": "stream",
     "text": [
      "\n",
      "\n",
      "\u001b[A\u001b[A\n",
      "\n",
      "100%|██████████| 1/1 [00:02<00:00,  2.34s/it]\n"
     ]
    },
    {
     "name": "stdout",
     "output_type": "stream",
     "text": [
      "[✓] Seat Lift Support Compatible with Suzuki Burgman AN650 AN650A Door Motorcycle W/Stock Seat | ARANA | ASIN: B08CV97X67 | Price: $22.99 | Rating: 4.5 | Reviews: 7712\n"
     ]
    },
    {
     "name": "stderr",
     "output_type": "stream",
     "text": [
      "\n",
      "\n",
      "\u001b[A\u001b[A\n",
      "\n",
      "100%|██████████| 1/1 [00:02<00:00,  2.70s/it]\n"
     ]
    },
    {
     "name": "stdout",
     "output_type": "stream",
     "text": [
      "[✓] Seat Lift Support Compatible with Suzuki Burgman AN650 AN650A Door Motorcycle W/Stock Seat | Suspensia | ASIN: B0C75WP31W | Price: $48.92 | Rating: N/A | Reviews: N/A\n"
     ]
    },
    {
     "name": "stderr",
     "output_type": "stream",
     "text": [
      "\n",
      "\n",
      "\u001b[A\u001b[A\n",
      "\n",
      "100%|██████████| 1/1 [00:02<00:00,  2.99s/it]\n"
     ]
    },
    {
     "name": "stdout",
     "output_type": "stream",
     "text": [
      "[✓] Trunk Lid Lift Support Compatible with Mercedes Benz AMG GT GT C GT S | ARANA | ASIN: B08CV97X67 | Price: $22.99 | Rating: 4.5 | Reviews: 7712\n"
     ]
    },
    {
     "name": "stderr",
     "output_type": "stream",
     "text": [
      "\n",
      "\n",
      "\u001b[A\u001b[A\n",
      "\n",
      "100%|██████████| 1/1 [00:01<00:00,  1.98s/it]\n"
     ]
    },
    {
     "name": "stdout",
     "output_type": "stream",
     "text": [
      "[✓] Trunk Lid Lift Support Compatible with Mercedes Benz AMG GT GT C GT S | Suspensia | ASIN: B0C75WP31W | Price: $48.92 | Rating: N/A | Reviews: N/A\n"
     ]
    },
    {
     "name": "stderr",
     "output_type": "stream",
     "text": [
      "\n",
      "\n",
      "\u001b[A\u001b[A\n",
      "\n",
      "100%|██████████| 1/1 [00:02<00:00,  2.13s/it]\n"
     ]
    },
    {
     "name": "stdout",
     "output_type": "stream",
     "text": [
      "[✓] Steering Damper Mercedes Benz 240D 280E 300Cd 300D 300Sd 300Td 380Se 380Sel 450Sl 560Sec 560Sel 560Sl | ARANA | ASIN: B08CV97X67 | Price: $22.99 | Rating: 4.5 | Reviews: 7712\n"
     ]
    },
    {
     "name": "stderr",
     "output_type": "stream",
     "text": [
      "\n",
      "\n",
      "\u001b[A\u001b[A\n",
      "\n",
      "100%|██████████| 1/1 [00:02<00:00,  2.30s/it]\n"
     ]
    },
    {
     "name": "stdout",
     "output_type": "stream",
     "text": [
      "[✓] Steering Damper Mercedes Benz 240D 280E 300Cd 300D 300Sd 300Td 380Se 380Sel 450Sl 560Sec 560Sel 560Sl | Suspensia | ASIN: B0C75WP31W | Price: $48.92 | Rating: N/A | Reviews: N/A\n"
     ]
    },
    {
     "name": "stderr",
     "output_type": "stream",
     "text": [
      "\n",
      "\n",
      "\u001b[A\u001b[A\n",
      "\n",
      "100%|██████████| 1/1 [00:02<00:00,  2.61s/it]\n"
     ]
    },
    {
     "name": "stdout",
     "output_type": "stream",
     "text": [
      "[✓] Belt Tension Damper Shock Mercedes Benz C220 C230 C280 Clk320 E320 E430 E55 Ml320 Slk230 Vw Lt | ARANA | ASIN: B07CGKD9XP | Price: $19.59 | Rating: 4.5 | Reviews: 7721\n"
     ]
    },
    {
     "name": "stderr",
     "output_type": "stream",
     "text": [
      "\n",
      "\n",
      "\u001b[A\u001b[A\n",
      "\n",
      "100%|██████████| 1/1 [00:01<00:00,  1.93s/it]\n"
     ]
    },
    {
     "name": "stdout",
     "output_type": "stream",
     "text": [
      "[✓] Belt Tension Damper Shock Mercedes Benz C220 C230 C280 Clk320 E320 E430 E55 Ml320 Slk230 Vw Lt | Suspensia | ASIN: B0C75WP31W | Price: $48.92 | Rating: N/A | Reviews: N/A\n"
     ]
    },
    {
     "name": "stderr",
     "output_type": "stream",
     "text": [
      "\n",
      "\n",
      "\u001b[A\u001b[A\n",
      "\n",
      "100%|██████████| 1/1 [00:02<00:00,  2.85s/it]\n"
     ]
    },
    {
     "name": "stdout",
     "output_type": "stream",
     "text": [
      "[✓] Power Lift Support Liftgate Compatible with Jaguar F Pace Power Lift to VIN KA602215 | ARANA | ASIN: B08CV97X67 | Price: $22.99 | Rating: 4.5 | Reviews: 7712\n"
     ]
    },
    {
     "name": "stderr",
     "output_type": "stream",
     "text": [
      "\n",
      "\n",
      "\u001b[A\u001b[A\n",
      "\n",
      "100%|██████████| 1/1 [00:02<00:00,  2.05s/it]\n"
     ]
    },
    {
     "name": "stdout",
     "output_type": "stream",
     "text": [
      "[✓] Power Lift Support Liftgate Compatible with Jaguar F Pace Power Lift to VIN KA602215 | Suspensia | ASIN: B0C75WP31W | Price: $48.92 | Rating: N/A | Reviews: N/A\n"
     ]
    },
    {
     "name": "stderr",
     "output_type": "stream",
     "text": [
      "\n",
      "\n",
      "\u001b[A\u001b[A\n",
      "\n",
      "100%|██████████| 1/1 [00:02<00:00,  2.44s/it]\n"
     ]
    },
    {
     "name": "stdout",
     "output_type": "stream",
     "text": [
      "[✓] Liftgate Lift Supports Fits To Audi Q3 and Audi Q3 Quattro With Power | ARANA | ASIN: B08CV97X67 | Price: $22.99 | Rating: 4.5 | Reviews: 7712\n"
     ]
    },
    {
     "name": "stderr",
     "output_type": "stream",
     "text": [
      "\n",
      "\n",
      "\u001b[A\u001b[A\n",
      "\n",
      "100%|██████████| 1/1 [00:02<00:00,  2.16s/it]\n"
     ]
    },
    {
     "name": "stdout",
     "output_type": "stream",
     "text": [
      "[✓] Liftgate Lift Supports Fits To Audi Q3 and Audi Q3 Quattro With Power | Suspensia | ASIN: B0C75WP31W | Price: $48.92 | Rating: N/A | Reviews: N/A\n"
     ]
    },
    {
     "name": "stderr",
     "output_type": "stream",
     "text": [
      "\n",
      "\n",
      "\u001b[A\u001b[A\n",
      "\n",
      "100%|██████████| 1/1 [00:01<00:00,  1.86s/it]\n"
     ]
    },
    {
     "name": "stdout",
     "output_type": "stream",
     "text": [
      "[✓] Liftgate Lift Supports Fits to Volkswagen Sharan & to Seat Alhambra with Power | ARANA | ASIN: B08CV97X67 | Price: $22.99 | Rating: 4.5 | Reviews: 7712\n"
     ]
    },
    {
     "name": "stderr",
     "output_type": "stream",
     "text": [
      "\n",
      "\n",
      "\u001b[A\u001b[A\n",
      "\n",
      "100%|██████████| 1/1 [00:02<00:00,  2.15s/it]\n"
     ]
    },
    {
     "name": "stdout",
     "output_type": "stream",
     "text": [
      "[✓] Liftgate Lift Supports Fits to Volkswagen Sharan & to Seat Alhambra with Power | Suspensia | ASIN: B0C75WP31W | Price: $48.92 | Rating: N/A | Reviews: N/A\n"
     ]
    },
    {
     "name": "stderr",
     "output_type": "stream",
     "text": [
      "\n",
      "\n",
      "\u001b[A\u001b[A\n",
      "\n",
      "100%|██████████| 1/1 [00:01<00:00,  1.98s/it]\n"
     ]
    },
    {
     "name": "stdout",
     "output_type": "stream",
     "text": [
      "[✓] Liftgate Lift Supports Fits to Land Rover Range Rover with Power | ARANA | ASIN: B08CV97X67 | Price: $22.99 | Rating: 4.5 | Reviews: 7712\n"
     ]
    },
    {
     "name": "stderr",
     "output_type": "stream",
     "text": [
      "\n",
      "\n",
      "\u001b[A\u001b[A\n",
      "\n",
      "100%|██████████| 1/1 [00:01<00:00,  1.91s/it]\n"
     ]
    },
    {
     "name": "stdout",
     "output_type": "stream",
     "text": [
      "[✓] Liftgate Lift Supports Fits to Land Rover Range Rover with Power | Suspensia | ASIN: B0C75WP31W | Price: $48.92 | Rating: N/A | Reviews: N/A\n"
     ]
    },
    {
     "name": "stderr",
     "output_type": "stream",
     "text": [
      "\n",
      "\n",
      "\u001b[A\u001b[A\n",
      "\n",
      "100%|██████████| 1/1 [00:02<00:00,  2.08s/it]\n"
     ]
    },
    {
     "name": "stdout",
     "output_type": "stream",
     "text": [
      "[✓] Liftgate Lift Supports Fits To BMW X3 With Power | ARANA | ASIN: B08CV97X67 | Price: $22.99 | Rating: 4.5 | Reviews: 7712\n"
     ]
    },
    {
     "name": "stderr",
     "output_type": "stream",
     "text": [
      "\n",
      "\n",
      "\u001b[A\u001b[A\n",
      "\n",
      "100%|██████████| 1/1 [00:01<00:00,  1.83s/it]\n"
     ]
    },
    {
     "name": "stdout",
     "output_type": "stream",
     "text": [
      "[✓] Liftgate Lift Supports Fits To BMW X3 With Power | Suspensia | ASIN: B0C75WP31W | Price: $48.92 | Rating: N/A | Reviews: N/A\n"
     ]
    },
    {
     "name": "stderr",
     "output_type": "stream",
     "text": [
      "\n",
      "\n",
      "\u001b[A\u001b[A\n",
      "\n",
      "100%|██████████| 1/1 [00:02<00:00,  2.01s/it]\n"
     ]
    },
    {
     "name": "stdout",
     "output_type": "stream",
     "text": [
      "[✓] Liftgate Lift Supports to Porsche Macan with Power | ARANA | ASIN: B08CV97X67 | Price: $22.99 | Rating: 4.5 | Reviews: 7712\n"
     ]
    },
    {
     "name": "stderr",
     "output_type": "stream",
     "text": [
      "\n",
      "\n",
      "\u001b[A\u001b[A\n",
      "\n",
      "100%|██████████| 1/1 [00:01<00:00,  1.83s/it]\n"
     ]
    },
    {
     "name": "stdout",
     "output_type": "stream",
     "text": [
      "[✓] Liftgate Lift Supports to Porsche Macan with Power | Suspensia | ASIN: B0C75WP31W | Price: $48.92 | Rating: N/A | Reviews: N/A\n"
     ]
    },
    {
     "name": "stderr",
     "output_type": "stream",
     "text": [
      "\n",
      "\n",
      "\u001b[A\u001b[A\n",
      "\n",
      "100%|██████████| 1/1 [00:01<00:00,  1.98s/it]\n"
     ]
    },
    {
     "name": "stdout",
     "output_type": "stream",
     "text": [
      "[✓] Liftgate Lift Supports Fits Volkswagen Touareg | ARANA | ASIN: B08CV97X67 | Price: $22.99 | Rating: 4.5 | Reviews: 7712\n"
     ]
    },
    {
     "name": "stderr",
     "output_type": "stream",
     "text": [
      "\n",
      "\n",
      "\u001b[A\u001b[A\n",
      "\n",
      "100%|██████████| 1/1 [00:02<00:00,  2.04s/it]\n"
     ]
    },
    {
     "name": "stdout",
     "output_type": "stream",
     "text": [
      "[✓] Liftgate Lift Supports Fits Volkswagen Touareg | Suspensia | ASIN: B0C75WP31W | Price: $48.92 | Rating: N/A | Reviews: N/A\n"
     ]
    },
    {
     "name": "stderr",
     "output_type": "stream",
     "text": [
      "\n",
      "\n",
      "\u001b[A\u001b[A\n",
      "\n",
      "100%|██████████| 1/1 [00:01<00:00,  1.97s/it]\n"
     ]
    },
    {
     "name": "stdout",
     "output_type": "stream",
     "text": [
      "[✓] Rear Liftgate Lift Supports Fits to BMW X5 with Power | ARANA | ASIN: B08CV97X67 | Price: $22.99 | Rating: 4.5 | Reviews: 7712\n"
     ]
    },
    {
     "name": "stderr",
     "output_type": "stream",
     "text": [
      "\n",
      "\n",
      "\u001b[A\u001b[A\n",
      "\n",
      "100%|██████████| 1/1 [00:01<00:00,  1.94s/it]\n"
     ]
    },
    {
     "name": "stdout",
     "output_type": "stream",
     "text": [
      "[✓] Rear Liftgate Lift Supports Fits to BMW X5 with Power | Suspensia | ASIN: B0C75WP31W | Price: $48.92 | Rating: N/A | Reviews: N/A\n"
     ]
    },
    {
     "name": "stderr",
     "output_type": "stream",
     "text": [
      "\n",
      "\n",
      "\u001b[A\u001b[A\n",
      "\n",
      "100%|██████████| 1/1 [00:02<00:00,  2.23s/it]\n"
     ]
    },
    {
     "name": "stdout",
     "output_type": "stream",
     "text": [
      "[✓] Rear Liftgate Lift Supports Fits to Land Rover Discovery Sport with Power | ARANA | ASIN: B08CV97X67 | Price: $22.99 | Rating: 4.5 | Reviews: 7712\n"
     ]
    },
    {
     "name": "stderr",
     "output_type": "stream",
     "text": [
      "\n",
      "\n",
      "\u001b[A\u001b[A\n",
      "\n",
      "100%|██████████| 1/1 [00:01<00:00,  1.99s/it]\n"
     ]
    },
    {
     "name": "stdout",
     "output_type": "stream",
     "text": [
      "[✓] Rear Liftgate Lift Supports Fits to Land Rover Discovery Sport with Power | Suspensia | ASIN: B0C75WP31W | Price: $48.92 | Rating: N/A | Reviews: N/A\n"
     ]
    },
    {
     "name": "stderr",
     "output_type": "stream",
     "text": [
      "\n",
      "\n",
      "\u001b[A\u001b[A\n",
      "\n",
      "100%|██████████| 1/1 [00:01<00:00,  1.92s/it]\n"
     ]
    },
    {
     "name": "stdout",
     "output_type": "stream",
     "text": [
      "[✓] Rear Liftgate Lift Supports Fits to Porsche Cayenne with Power | ARANA | ASIN: B08CV97X67 | Price: $22.99 | Rating: 4.5 | Reviews: 7712\n"
     ]
    },
    {
     "name": "stderr",
     "output_type": "stream",
     "text": [
      "\n",
      "\n",
      "\u001b[A\u001b[A\n",
      "\n",
      "100%|██████████| 1/1 [00:01<00:00,  1.92s/it]\n"
     ]
    },
    {
     "name": "stdout",
     "output_type": "stream",
     "text": [
      "[✓] Rear Liftgate Lift Supports Fits to Porsche Cayenne with Power | Suspensia | ASIN: B0C75WP31W | Price: $48.92 | Rating: N/A | Reviews: N/A\n"
     ]
    },
    {
     "name": "stderr",
     "output_type": "stream",
     "text": [
      "\n",
      "\n",
      "\u001b[A\u001b[A\n",
      "\n",
      "100%|██████████| 1/1 [00:02<00:00,  2.98s/it]\n"
     ]
    },
    {
     "name": "stdout",
     "output_type": "stream",
     "text": [
      "[✓] Rear Hatchback Lift Supports Fits to Land Rover Range Rover Sport with Power | ARANA | ASIN: B08CV97X67 | Price: $22.99 | Rating: 4.5 | Reviews: 7712\n"
     ]
    },
    {
     "name": "stderr",
     "output_type": "stream",
     "text": [
      "\n",
      "\n",
      "\u001b[A\u001b[A\n",
      "\n",
      "100%|██████████| 1/1 [00:01<00:00,  1.95s/it]\n"
     ]
    },
    {
     "name": "stdout",
     "output_type": "stream",
     "text": [
      "[✓] Rear Hatchback Lift Supports Fits to Land Rover Range Rover Sport with Power | Suspensia | ASIN: B0C75WP31W | Price: $48.92 | Rating: N/A | Reviews: N/A\n"
     ]
    },
    {
     "name": "stderr",
     "output_type": "stream",
     "text": [
      "\n",
      "\n",
      "\u001b[A\u001b[A\n",
      "\n",
      "100%|██████████| 1/1 [00:02<00:00,  2.07s/it]\n"
     ]
    },
    {
     "name": "stdout",
     "output_type": "stream",
     "text": [
      "[✓] Rear Hatchback Lift Supports Fits to Porsche Panamera | ARANA | ASIN: B08CV97X67 | Price: $22.99 | Rating: 4.5 | Reviews: 7712\n"
     ]
    },
    {
     "name": "stderr",
     "output_type": "stream",
     "text": [
      "\n",
      "\n",
      "\u001b[A\u001b[A\n",
      "\n",
      "100%|██████████| 1/1 [00:02<00:00,  2.02s/it]\n"
     ]
    },
    {
     "name": "stdout",
     "output_type": "stream",
     "text": [
      "[✓] Rear Hatchback Lift Supports Fits to Porsche Panamera | Suspensia | ASIN: B0C75WP31W | Price: $48.92 | Rating: N/A | Reviews: N/A\n"
     ]
    },
    {
     "name": "stderr",
     "output_type": "stream",
     "text": [
      "\n",
      "\n",
      "\u001b[A\u001b[A\n",
      "\n",
      "100%|██████████| 1/1 [00:01<00:00,  1.93s/it]\n"
     ]
    },
    {
     "name": "stdout",
     "output_type": "stream",
     "text": [
      "[✓] Liftgate Lift Supports to Land Rover Range Rover Sport | ARANA | ASIN: B08CV97X67 | Price: $22.99 | Rating: 4.5 | Reviews: 7712\n"
     ]
    },
    {
     "name": "stderr",
     "output_type": "stream",
     "text": [
      "\n",
      "\n",
      "\u001b[A\u001b[A\n",
      "\n",
      "100%|██████████| 1/1 [00:01<00:00,  1.86s/it]\n"
     ]
    },
    {
     "name": "stdout",
     "output_type": "stream",
     "text": [
      "[✓] Liftgate Lift Supports to Land Rover Range Rover Sport | Suspensia | ASIN: B0C75WP31W | Price: $48.92 | Rating: N/A | Reviews: N/A\n"
     ]
    },
    {
     "name": "stderr",
     "output_type": "stream",
     "text": [
      "Waiting 44 seconds for additional tokens\n",
      "\n",
      "\n",
      "\u001b[A\u001b[A\n",
      "\n",
      "100%|██████████| 1/1 [00:02<00:00,  2.00s/it]\n"
     ]
    },
    {
     "name": "stdout",
     "output_type": "stream",
     "text": [
      "[✓] Rear Engine Lid Lift Support Fits: Coupe Gt3 Model | ARANA | ASIN: B08CV97X67 | Price: $22.99 | Rating: 4.5 | Reviews: 7712\n"
     ]
    },
    {
     "name": "stderr",
     "output_type": "stream",
     "text": [
      "\n",
      "\n",
      "\u001b[A\u001b[AWaiting 60 seconds for additional tokens\n",
      "\n",
      "\n",
      "100%|██████████| 1/1 [01:03<00:00, 63.08s/it]\n"
     ]
    },
    {
     "name": "stdout",
     "output_type": "stream",
     "text": [
      "[✓] Rear Engine Lid Lift Support Fits: Coupe Gt3 Model | Suspensia | ASIN: B0C75WP31W | Price: $48.92 | Rating: N/A | Reviews: N/A\n"
     ]
    },
    {
     "name": "stderr",
     "output_type": "stream",
     "text": [
      "\n",
      "\n",
      "\u001b[A\u001b[A\n",
      "\n",
      "100%|██████████| 1/1 [00:02<00:00,  2.74s/it]\n"
     ]
    },
    {
     "name": "stdout",
     "output_type": "stream",
     "text": [
      "[✓] Rear Deck Lid Lift Supports Compatible With Bmw 325I 328I 335I 335Is 428I 428I Xdrive 430I 430I Xdrive 435I Xdrive 440I 440I Xdrive M4 | ARANA | ASIN: B08CV97X67 | Price: $22.99 | Rating: 4.5 | Reviews: 7712\n"
     ]
    },
    {
     "name": "stderr",
     "output_type": "stream",
     "text": [
      "Waiting 40 seconds for additional tokens\n",
      "\n",
      "\n",
      "\u001b[A\u001b[A\n",
      "\n",
      "100%|██████████| 1/1 [00:01<00:00,  1.91s/it]\n"
     ]
    },
    {
     "name": "stdout",
     "output_type": "stream",
     "text": [
      "[✓] Rear Deck Lid Lift Supports Compatible With Bmw 325I 328I 335I 335Is 428I 428I Xdrive 430I 430I Xdrive 435I Xdrive 440I 440I Xdrive M4 | Suspensia | ASIN: B0C75WP31W | Price: $48.92 | Rating: N/A | Reviews: N/A\n"
     ]
    },
    {
     "name": "stderr",
     "output_type": "stream",
     "text": [
      "\n",
      "\n",
      "\u001b[A\u001b[AWaiting 60 seconds for additional tokens\n",
      "\n",
      "\n",
      "100%|██████████| 1/1 [01:03<00:00, 63.18s/it]\n"
     ]
    },
    {
     "name": "stdout",
     "output_type": "stream",
     "text": [
      "[✓] Rear Seat Lift Support Fits to Dodge Ram | ARANA | ASIN: B07CGKD9XP | Price: $19.59 | Rating: 4.5 | Reviews: 7721\n"
     ]
    },
    {
     "name": "stderr",
     "output_type": "stream",
     "text": [
      "\n",
      "\n",
      "\u001b[A\u001b[AWaiting 34 seconds for additional tokens\n",
      "\n",
      "\n",
      "100%|██████████| 1/1 [00:36<00:00, 36.62s/it]\n"
     ]
    },
    {
     "name": "stdout",
     "output_type": "stream",
     "text": [
      "[✓] Rear Seat Lift Support Fits to Dodge Ram | Suspensia | ASIN: B0C75WP31W | Price: $48.92 | Rating: N/A | Reviews: N/A\n"
     ]
    },
    {
     "name": "stderr",
     "output_type": "stream",
     "text": [
      "\n",
      "\n",
      "\u001b[A\u001b[A\n",
      "\n",
      "100%|██████████| 1/1 [00:02<00:00,  2.89s/it]\n"
     ]
    },
    {
     "name": "stdout",
     "output_type": "stream",
     "text": [
      "[✓] Rear Engine Lid Lift Support Replaces: to Porsche Coupe Convertible Extended Length .\" | ARANA | ASIN: B08CV97X67 | Price: $22.99 | Rating: 4.5 | Reviews: 7712\n"
     ]
    },
    {
     "name": "stderr",
     "output_type": "stream",
     "text": [
      "\n",
      "\n",
      "\u001b[A\u001b[AWaiting 62 seconds for additional tokens\n",
      "\n",
      "\n",
      "100%|██████████| 1/1 [01:04<00:00, 64.91s/it]\n"
     ]
    },
    {
     "name": "stdout",
     "output_type": "stream",
     "text": [
      "[✓] Rear Engine Lid Lift Support Replaces: to Porsche Coupe Convertible Extended Length .\" | Suspensia | ASIN: B0C75WP31W | Price: $48.92 | Rating: N/A | Reviews: N/A\n"
     ]
    },
    {
     "name": "stderr",
     "output_type": "stream",
     "text": [
      "\n",
      "\n",
      "\u001b[A\u001b[A\n",
      "\n",
      "100%|██████████| 1/1 [00:01<00:00,  1.90s/it]\n"
     ]
    },
    {
     "name": "stdout",
     "output_type": "stream",
     "text": [
      "[✓] Rear Trunk Lid Lift Supports To Oldsmobile Omega To Pontiac Phoenix To Buick Skylark Without Spoiler | ARANA | ASIN: B08CV97X67 | Price: $22.99 | Rating: 4.5 | Reviews: 7712\n"
     ]
    },
    {
     "name": "stderr",
     "output_type": "stream",
     "text": [
      "Waiting 35 seconds for additional tokens\n",
      "\n",
      "\n",
      "\u001b[A\u001b[A\n",
      "\n",
      "100%|██████████| 1/1 [00:01<00:00,  1.92s/it]\n"
     ]
    },
    {
     "name": "stdout",
     "output_type": "stream",
     "text": [
      "[✓] Rear Trunk Lid Lift Supports To Oldsmobile Omega To Pontiac Phoenix To Buick Skylark Without Spoiler | Suspensia | ASIN: B0C75WP31W | Price: $48.92 | Rating: N/A | Reviews: N/A\n"
     ]
    },
    {
     "name": "stderr",
     "output_type": "stream",
     "text": [
      "\n",
      "\n",
      "\u001b[A\u001b[AWaiting 59 seconds for additional tokens\n",
      "\n",
      "\n",
      "100%|██████████| 1/1 [01:02<00:00, 62.60s/it]\n"
     ]
    },
    {
     "name": "stdout",
     "output_type": "stream",
     "text": [
      "[✓] Rear Trunk Lid Lift Supports to Volkswagen Beetle Convertible Only | ARANA | ASIN: B08CV97X67 | Price: $22.99 | Rating: 4.5 | Reviews: 7712\n"
     ]
    },
    {
     "name": "stderr",
     "output_type": "stream",
     "text": [
      "\n",
      "\n",
      "\u001b[A\u001b[A\n",
      "\n",
      "100%|██████████| 1/1 [00:01<00:00,  1.99s/it]\n"
     ]
    },
    {
     "name": "stdout",
     "output_type": "stream",
     "text": [
      "[✓] Rear Trunk Lid Lift Supports to Volkswagen Beetle Convertible Only | Suspensia | ASIN: B0C75WP31W | Price: $48.92 | Rating: N/A | Reviews: N/A\n"
     ]
    },
    {
     "name": "stderr",
     "output_type": "stream",
     "text": [
      "Waiting 35 seconds for additional tokens\n",
      "\n",
      "\n",
      "\u001b[A\u001b[A\n",
      "\n",
      "100%|██████████| 1/1 [00:03<00:00,  3.32s/it]\n"
     ]
    },
    {
     "name": "stdout",
     "output_type": "stream",
     "text": [
      "[✓] Front Hood Lift Supports Fits Mercedes Benz Model Years Below | ARANA | ASIN: B08CV97X67 | Price: $22.99 | Rating: 4.5 | Reviews: 7712\n"
     ]
    },
    {
     "name": "stderr",
     "output_type": "stream",
     "text": [
      "\n",
      "\n",
      "\u001b[A\u001b[AWaiting 60 seconds for additional tokens\n",
      "\n",
      "\n",
      "100%|██████████| 1/1 [01:03<00:00, 63.55s/it]\n"
     ]
    },
    {
     "name": "stdout",
     "output_type": "stream",
     "text": [
      "[✓] Front Hood Lift Supports Fits Mercedes Benz Model Years Below | Suspensia | ASIN: B0C75WP31W | Price: $48.92 | Rating: N/A | Reviews: N/A\n"
     ]
    },
    {
     "name": "stderr",
     "output_type": "stream",
     "text": [
      "\n",
      "\n",
      "\u001b[A\u001b[A\n",
      "\n",
      "100%|██████████| 1/1 [00:02<00:00,  2.89s/it]\n"
     ]
    },
    {
     "name": "stdout",
     "output_type": "stream",
     "text": [
      "[✓] Trunk Lid Lift Support to Oldsmobile Toronado to Cadillac Eldorado to Buick Riviera | ARANA | ASIN: B07CGKD9XP | Price: $19.59 | Rating: 4.5 | Reviews: 7721\n"
     ]
    },
    {
     "name": "stderr",
     "output_type": "stream",
     "text": [
      "Waiting 40 seconds for additional tokens\n",
      "\n",
      "\n",
      "\u001b[A\u001b[A\n",
      "\n",
      "100%|██████████| 1/1 [00:02<00:00,  2.39s/it]\n"
     ]
    },
    {
     "name": "stdout",
     "output_type": "stream",
     "text": [
      "[✓] Trunk Lid Lift Support to Oldsmobile Toronado to Cadillac Eldorado to Buick Riviera | Suspensia | ASIN: B0C75WP31W | Price: $48.92 | Rating: N/A | Reviews: N/A\n"
     ]
    },
    {
     "name": "stderr",
     "output_type": "stream",
     "text": [
      "\n",
      "\n",
      "\u001b[A\u001b[AWaiting 59 seconds for additional tokens\n",
      "\n",
      "\n",
      "100%|██████████| 1/1 [01:01<00:00, 61.82s/it]\n"
     ]
    },
    {
     "name": "stdout",
     "output_type": "stream",
     "text": [
      "[✓] Trunk Lid Lift Supports Compatible With: To Bmw Z3 E36 Convertible w/Metal End Fittings | ARANA | ASIN: B08CV97X67 | Price: $22.99 | Rating: 4.5 | Reviews: 7712\n"
     ]
    },
    {
     "name": "stderr",
     "output_type": "stream",
     "text": [
      "\n",
      "\n",
      "\u001b[A\u001b[A\n",
      "\n",
      "100%|██████████| 1/1 [00:01<00:00,  1.88s/it]\n"
     ]
    },
    {
     "name": "stdout",
     "output_type": "stream",
     "text": [
      "[✓] Trunk Lid Lift Supports Compatible With: To Bmw Z3 E36 Convertible w/Metal End Fittings | Suspensia | ASIN: B0C75WP31W | Price: $48.92 | Rating: N/A | Reviews: N/A\n"
     ]
    },
    {
     "name": "stderr",
     "output_type": "stream",
     "text": [
      "Waiting 36 seconds for additional tokens\n",
      "\n",
      "\n",
      "\u001b[A\u001b[A\n",
      "\n",
      "100%|██████████| 1/1 [00:02<00:00,  2.11s/it]\n"
     ]
    },
    {
     "name": "stdout",
     "output_type": "stream",
     "text": [
      "[✓] Front Trunk Lift Supports To Porsche To Porsche Boxster | ARANA | ASIN: B08CV97X67 | Price: $22.99 | Rating: 4.5 | Reviews: 7712\n"
     ]
    },
    {
     "name": "stderr",
     "output_type": "stream",
     "text": [
      "\n",
      "\n",
      "\u001b[A\u001b[AWaiting 60 seconds for additional tokens\n",
      "\n",
      "\n",
      "100%|██████████| 1/1 [01:02<00:00, 62.37s/it]\n"
     ]
    },
    {
     "name": "stdout",
     "output_type": "stream",
     "text": [
      "[✓] Front Trunk Lift Supports To Porsche To Porsche Boxster | Suspensia | ASIN: B0C75WP31W | Price: $48.92 | Rating: N/A | Reviews: N/A\n"
     ]
    },
    {
     "name": "stderr",
     "output_type": "stream",
     "text": [
      "\n",
      "\n",
      "\u001b[A\u001b[A\n",
      "\n",
      "100%|██████████| 1/1 [00:01<00:00,  1.92s/it]\n"
     ]
    },
    {
     "name": "stdout",
     "output_type": "stream",
     "text": [
      "[✓] Rear Dropgate Lift Supports Fits Chevrolet Gmc Yukon Model Years Below | ARANA | ASIN: B07CGKD9XP | Price: $19.59 | Rating: 4.5 | Reviews: 7721\n"
     ]
    },
    {
     "name": "stderr",
     "output_type": "stream",
     "text": [
      "Waiting 36 seconds for additional tokens\n",
      "\n",
      "\n",
      "\u001b[A\u001b[A\n",
      "\n",
      "100%|██████████| 1/1 [00:02<00:00,  2.81s/it]\n"
     ]
    },
    {
     "name": "stdout",
     "output_type": "stream",
     "text": [
      "[✓] Rear Dropgate Lift Supports Fits Chevrolet Gmc Yukon Model Years Below | Suspensia | ASIN: B0C75WP31W | Price: $48.92 | Rating: N/A | Reviews: N/A\n"
     ]
    },
    {
     "name": "stderr",
     "output_type": "stream",
     "text": [
      "\n",
      "\n",
      "\u001b[A\u001b[AWaiting 58 seconds for additional tokens\n",
      "\n",
      "\n",
      "100%|██████████| 1/1 [01:01<00:00, 61.41s/it]\n"
     ]
    },
    {
     "name": "stdout",
     "output_type": "stream",
     "text": [
      "[✓] Trunk Lift Supports To Chrysler Crossfire | ARANA | ASIN: B07CGKD9XP | Price: $19.59 | Rating: 4.5 | Reviews: 7721\n"
     ]
    },
    {
     "name": "stderr",
     "output_type": "stream",
     "text": [
      "\n",
      "\n",
      "\u001b[A\u001b[A\n",
      "\n",
      "100%|██████████| 1/1 [00:01<00:00,  1.78s/it]\n"
     ]
    },
    {
     "name": "stdout",
     "output_type": "stream",
     "text": [
      "[✓] Trunk Lift Supports To Chrysler Crossfire | Suspensia | ASIN: B0C75WP31W | Price: $48.92 | Rating: N/A | Reviews: N/A\n"
     ]
    },
    {
     "name": "stderr",
     "output_type": "stream",
     "text": [
      "\n",
      "\n",
      "\u001b[A\u001b[AWaiting 63 seconds for additional tokens\n",
      "\n",
      "\n",
      "100%|██████████| 1/1 [01:07<00:00, 67.45s/it]\n"
     ]
    },
    {
     "name": "stdout",
     "output_type": "stream",
     "text": [
      "[✓] Trunk Lid Lift Supports To Nissan Sentra | ARANA | ASIN: B07CGKD9XP | Price: $19.59 | Rating: 4.5 | Reviews: 7721\n"
     ]
    },
    {
     "name": "stderr",
     "output_type": "stream",
     "text": [
      "\n",
      "\n",
      "\u001b[A\u001b[AWaiting 34 seconds for additional tokens\n",
      "\n",
      "\n",
      "100%|██████████| 1/1 [00:37<00:00, 37.15s/it]\n"
     ]
    },
    {
     "name": "stdout",
     "output_type": "stream",
     "text": [
      "[✓] Trunk Lid Lift Supports To Nissan Sentra | Suspensia | ASIN: B0C75WP31W | Price: $48.92 | Rating: N/A | Reviews: N/A\n"
     ]
    },
    {
     "name": "stderr",
     "output_type": "stream",
     "text": [
      "\n",
      "\n",
      "\u001b[A\u001b[A\n",
      "\n",
      "100%|██████████| 1/1 [00:02<00:00,  2.83s/it]\n"
     ]
    },
    {
     "name": "stdout",
     "output_type": "stream",
     "text": [
      "[✓] Rear Trunk Lid Lift Supports To Pontiac Gto | ARANA | ASIN: B08CV97X67 | Price: $22.99 | Rating: 4.5 | Reviews: 7712\n"
     ]
    },
    {
     "name": "stderr",
     "output_type": "stream",
     "text": [
      "Waiting 40 seconds for additional tokens\n",
      "\n",
      "\n",
      "\u001b[A\u001b[A\n",
      "\n",
      "100%|██████████| 1/1 [00:01<00:00,  1.88s/it]\n"
     ]
    },
    {
     "name": "stdout",
     "output_type": "stream",
     "text": [
      "[✓] Rear Trunk Lid Lift Supports To Pontiac Gto | Suspensia | ASIN: B0C75WP31W | Price: $48.92 | Rating: N/A | Reviews: N/A\n"
     ]
    },
    {
     "name": "stderr",
     "output_type": "stream",
     "text": [
      "\n",
      "\n",
      "\u001b[A\u001b[AWaiting 59 seconds for additional tokens\n",
      "\n",
      "\n",
      "100%|██████████| 1/1 [01:01<00:00, 61.90s/it]\n"
     ]
    },
    {
     "name": "stdout",
     "output_type": "stream",
     "text": [
      "[✓] Front Hood Lift Supports To Ford Explorer Sport Trac | ARANA | ASIN: B08CV97X67 | Price: $22.99 | Rating: 4.5 | Reviews: 7712\n"
     ]
    },
    {
     "name": "stderr",
     "output_type": "stream",
     "text": [
      "\n",
      "\n",
      "\u001b[A\u001b[A\n",
      "\n",
      "100%|██████████| 1/1 [00:01<00:00,  1.83s/it]\n"
     ]
    },
    {
     "name": "stdout",
     "output_type": "stream",
     "text": [
      "[✓] Front Hood Lift Supports To Ford Explorer Sport Trac | Suspensia | ASIN: B0C75WP31W | Price: $48.92 | Rating: N/A | Reviews: N/A\n"
     ]
    },
    {
     "name": "stderr",
     "output_type": "stream",
     "text": [
      "Waiting 36 seconds for additional tokens\n",
      "\n",
      "\n",
      "\u001b[A\u001b[A\n",
      "\n",
      "100%|██████████| 1/1 [00:01<00:00,  1.85s/it]\n"
     ]
    },
    {
     "name": "stdout",
     "output_type": "stream",
     "text": [
      "[✓] Rear Liftgate Hatch Lift Supports To Porsche Cayenne With Power Only | ARANA | ASIN: B08CV97X67 | Price: $22.99 | Rating: 4.5 | Reviews: 7712\n"
     ]
    },
    {
     "name": "stderr",
     "output_type": "stream",
     "text": [
      "\n",
      "\n",
      "\u001b[A\u001b[AWaiting 60 seconds for additional tokens\n",
      "\n",
      "\n",
      "100%|██████████| 1/1 [01:02<00:00, 62.38s/it]\n"
     ]
    },
    {
     "name": "stdout",
     "output_type": "stream",
     "text": [
      "[✓] Rear Liftgate Hatch Lift Supports To Porsche Cayenne With Power Only | Suspensia | ASIN: B0C75WP31W | Price: $48.92 | Rating: N/A | Reviews: N/A\n"
     ]
    },
    {
     "name": "stderr",
     "output_type": "stream",
     "text": [
      "\n",
      "\n",
      "\u001b[A\u001b[A\n",
      "\n",
      "100%|██████████| 1/1 [00:02<00:00,  2.07s/it]\n"
     ]
    },
    {
     "name": "stdout",
     "output_type": "stream",
     "text": [
      "[✓] Original Lift Strut Extended Length Inch Force Lbs Direct Replacement for SG406008 Replaces Universal Gas Prop Spring Strut for RV Bed Tonneau Cover Storage Box | ARANA | ASIN: B08CV97X67 | Price: $22.99 | Rating: 4.5 | Reviews: 7712\n"
     ]
    },
    {
     "name": "stderr",
     "output_type": "stream",
     "text": [
      "\n",
      "\n",
      "\u001b[A\u001b[AWaiting 64 seconds for additional tokens\n",
      "\n",
      "\n",
      "100%|██████████| 1/1 [01:06<00:00, 66.20s/it]\n"
     ]
    },
    {
     "name": "stdout",
     "output_type": "stream",
     "text": [
      "[✓] Original Lift Strut Extended Length Inch Force Lbs Direct Replacement for SG406008 Replaces Universal Gas Prop Spring Strut for RV Bed Tonneau Cover Storage Box | Suspensia | ASIN: B0C75WP31W | Price: $48.92 | Rating: N/A | Reviews: N/A\n"
     ]
    },
    {
     "name": "stderr",
     "output_type": "stream",
     "text": [
      "\n",
      "\n",
      "\u001b[A\u001b[AWaiting 32 seconds for additional tokens\n",
      "\n",
      "\n",
      "100%|██████████| 1/1 [00:34<00:00, 34.62s/it]\n"
     ]
    },
    {
     "name": "stdout",
     "output_type": "stream",
     "text": [
      "[✓] Rear Trunk Lift Supports To Volkswagen Jetta A3 | ARANA | ASIN: B08CV97X67 | Price: $22.99 | Rating: 4.5 | Reviews: 7712\n"
     ]
    },
    {
     "name": "stderr",
     "output_type": "stream",
     "text": [
      "\n",
      "\n",
      "\u001b[A\u001b[A\n",
      "\n",
      "100%|██████████| 1/1 [00:01<00:00,  1.83s/it]\n"
     ]
    },
    {
     "name": "stdout",
     "output_type": "stream",
     "text": [
      "[✓] Rear Trunk Lift Supports To Volkswagen Jetta A3 | Suspensia | ASIN: B0C75WP31W | Price: $48.92 | Rating: N/A | Reviews: N/A\n"
     ]
    },
    {
     "name": "stderr",
     "output_type": "stream",
     "text": [
      "\n",
      "\n",
      "\u001b[A\u001b[AWaiting 64 seconds for additional tokens\n",
      "\n",
      "\n",
      "100%|██████████| 1/1 [01:06<00:00, 66.66s/it]\n"
     ]
    },
    {
     "name": "stdout",
     "output_type": "stream",
     "text": [
      "[✓] Top Deck Lid Lift Supports to Chevrolet Corvette W O Power Top | ARANA | ASIN: B08CV97X67 | Price: $22.99 | Rating: 4.5 | Reviews: 7712\n"
     ]
    },
    {
     "name": "stderr",
     "output_type": "stream",
     "text": [
      "\n",
      "\n",
      "\u001b[A\u001b[AWaiting 31 seconds for additional tokens\n",
      "\n",
      "\n",
      "100%|██████████| 1/1 [00:34<00:00, 34.58s/it]\n"
     ]
    },
    {
     "name": "stdout",
     "output_type": "stream",
     "text": [
      "[✓] Top Deck Lid Lift Supports to Chevrolet Corvette W O Power Top | Suspensia | ASIN: B0C75WP31W | Price: $48.92 | Rating: N/A | Reviews: N/A\n"
     ]
    },
    {
     "name": "stderr",
     "output_type": "stream",
     "text": [
      "\n",
      "\n",
      "\u001b[A\u001b[A\n",
      "\n",
      "100%|██████████| 1/1 [00:02<00:00,  2.55s/it]\n"
     ]
    },
    {
     "name": "stdout",
     "output_type": "stream",
     "text": [
      "[✓] Storage Lift Supports To Bmw X5 E70 To Bmw X5 F15 To Bmw X6 E71 To Bmw X6 E72 | ARANA | ASIN: B08CV97X67 | Price: $22.99 | Rating: 4.5 | Reviews: 7712\n"
     ]
    },
    {
     "name": "stderr",
     "output_type": "stream",
     "text": [
      "\n",
      "\n",
      "\u001b[A\u001b[AWaiting 68 seconds for additional tokens\n",
      "\n",
      "\n",
      "100%|██████████| 1/1 [01:11<00:00, 71.12s/it]\n"
     ]
    },
    {
     "name": "stdout",
     "output_type": "stream",
     "text": [
      "[✓] Storage Lift Supports To Bmw X5 E70 To Bmw X5 F15 To Bmw X6 E71 To Bmw X6 E72 | Suspensia | ASIN: B0C75WP31W | Price: $48.92 | Rating: N/A | Reviews: N/A\n"
     ]
    },
    {
     "name": "stderr",
     "output_type": "stream",
     "text": [
      "\n",
      "\n",
      "\u001b[A\u001b[AWaiting 32 seconds for additional tokens\n",
      "\n",
      "\n",
      "100%|██████████| 1/1 [00:34<00:00, 34.52s/it]\n"
     ]
    },
    {
     "name": "stdout",
     "output_type": "stream",
     "text": [
      "[✓] Trunk Lid Lift Supports Mercedes Benz 300Ce W124 To Mercedes Benz E320 W124 | ARANA | ASIN: B08CV97X67 | Price: $22.99 | Rating: 4.5 | Reviews: 7712\n"
     ]
    },
    {
     "name": "stderr",
     "output_type": "stream",
     "text": [
      "\n",
      "\n",
      "\u001b[A\u001b[A\n",
      "\n",
      "100%|██████████| 1/1 [00:01<00:00,  1.98s/it]\n"
     ]
    },
    {
     "name": "stdout",
     "output_type": "stream",
     "text": [
      "[✓] Trunk Lid Lift Supports Mercedes Benz 300Ce W124 To Mercedes Benz E320 W124 | Suspensia | ASIN: B0C75WP31W | Price: $48.92 | Rating: N/A | Reviews: N/A\n"
     ]
    },
    {
     "name": "stderr",
     "output_type": "stream",
     "text": [
      "\n",
      "\n",
      "\u001b[A\u001b[AWaiting 64 seconds for additional tokens\n",
      "\n",
      "\n",
      "100%|██████████| 1/1 [01:06<00:00, 66.82s/it]\n"
     ]
    },
    {
     "name": "stdout",
     "output_type": "stream",
     "text": [
      "[✓] Hood Lift Supports To Jeep Commander Xk | ARANA | ASIN: B08CV97X67 | Price: $22.99 | Rating: 4.5 | Reviews: 7712\n"
     ]
    },
    {
     "name": "stderr",
     "output_type": "stream",
     "text": [
      "\n",
      "\n",
      "\u001b[A\u001b[AWaiting 31 seconds for additional tokens\n",
      "\n",
      "\n",
      "100%|██████████| 1/1 [00:33<00:00, 33.54s/it]\n"
     ]
    },
    {
     "name": "stdout",
     "output_type": "stream",
     "text": [
      "[✓] Hood Lift Supports To Jeep Commander Xk | Suspensia | ASIN: B0C75WP31W | Price: $48.92 | Rating: N/A | Reviews: N/A\n"
     ]
    },
    {
     "name": "stderr",
     "output_type": "stream",
     "text": [
      "\n",
      "\n",
      "\u001b[A\u001b[A\n",
      "\n",
      "100%|██████████| 1/1 [00:01<00:00,  1.93s/it]\n"
     ]
    },
    {
     "name": "stdout",
     "output_type": "stream",
     "text": [
      "[✓] Trunk Lid Lift Supports Fits Mercedes Benz Up to VIN #F018805 Model Years Below | ARANA | ASIN: B08CV97X67 | Price: $22.99 | Rating: 4.5 | Reviews: 7712\n"
     ]
    },
    {
     "name": "stderr",
     "output_type": "stream",
     "text": [
      "\n",
      "\n",
      "\u001b[A\u001b[AWaiting 64 seconds for additional tokens\n",
      "\n",
      "\n",
      "100%|██████████| 1/1 [01:06<00:00, 66.52s/it]\n"
     ]
    },
    {
     "name": "stdout",
     "output_type": "stream",
     "text": [
      "[✓] Trunk Lid Lift Supports Fits Mercedes Benz Up to VIN #F018805 Model Years Below | Suspensia | ASIN: B0C75WP31W | Price: $48.92 | Rating: N/A | Reviews: N/A\n"
     ]
    },
    {
     "name": "stderr",
     "output_type": "stream",
     "text": [
      "\n",
      "\n",
      "\u001b[A\u001b[AWaiting 32 seconds for additional tokens\n",
      "\n",
      "\n",
      "100%|██████████| 1/1 [00:34<00:00, 34.31s/it]\n"
     ]
    },
    {
     "name": "stdout",
     "output_type": "stream",
     "text": [
      "[✓] Trunk Lid Lift Supports Fits to Infiniti G35 w/o Spoiler | ARANA | ASIN: B08CV97X67 | Price: $22.99 | Rating: 4.5 | Reviews: 7712\n"
     ]
    },
    {
     "name": "stderr",
     "output_type": "stream",
     "text": [
      "\n",
      "\n",
      "\u001b[A\u001b[A\n",
      "\n",
      "100%|██████████| 1/1 [00:01<00:00,  1.84s/it]\n"
     ]
    },
    {
     "name": "stdout",
     "output_type": "stream",
     "text": [
      "[✓] Trunk Lid Lift Supports Fits to Infiniti G35 w/o Spoiler | Suspensia | ASIN: B0C75WP31W | Price: $48.92 | Rating: N/A | Reviews: N/A\n"
     ]
    },
    {
     "name": "stderr",
     "output_type": "stream",
     "text": [
      "\n",
      "\n",
      "\u001b[A\u001b[AWaiting 64 seconds for additional tokens\n",
      "\n",
      "\n",
      "100%|██████████| 1/1 [01:07<00:00, 67.29s/it]\n"
     ]
    },
    {
     "name": "stdout",
     "output_type": "stream",
     "text": [
      "[✓] Rear Trunk Lift Supports Fits to Mazda Without Spoiler | ARANA | ASIN: B08CV97X67 | Price: $22.99 | Rating: 4.5 | Reviews: 7712\n"
     ]
    },
    {
     "name": "stderr",
     "output_type": "stream",
     "text": [
      "\n",
      "\n",
      "\u001b[A\u001b[AWaiting 33 seconds for additional tokens\n",
      "\n",
      "\n",
      "100%|██████████| 1/1 [00:36<00:00, 36.72s/it]\n"
     ]
    },
    {
     "name": "stdout",
     "output_type": "stream",
     "text": [
      "[✓] Rear Trunk Lift Supports Fits to Mazda Without Spoiler | Suspensia | ASIN: B0C75WP31W | Price: $48.92 | Rating: N/A | Reviews: N/A\n"
     ]
    },
    {
     "name": "stderr",
     "output_type": "stream",
     "text": [
      "\n",
      "\n",
      "\u001b[A\u001b[A\n",
      "\n",
      "100%|██████████| 1/1 [00:01<00:00,  1.97s/it]\n"
     ]
    },
    {
     "name": "stdout",
     "output_type": "stream",
     "text": [
      "[✓] Original Lift Strut Extended Length .Inch Force Lbs Direct Replacement for SG459023 Replaces Universal Gas Prop Spring Strut for RV Bed Tonneau Cover Storage Box | ARANA | ASIN: B08CV97X67 | Price: $22.99 | Rating: 4.5 | Reviews: 7712\n"
     ]
    },
    {
     "name": "stderr",
     "output_type": "stream",
     "text": [
      "\n",
      "\n",
      "\u001b[A\u001b[AWaiting 63 seconds for additional tokens\n",
      "\n",
      "\n",
      "100%|██████████| 1/1 [01:06<00:00, 66.58s/it]\n"
     ]
    },
    {
     "name": "stdout",
     "output_type": "stream",
     "text": [
      "[✓] Original Lift Strut Extended Length .Inch Force Lbs Direct Replacement for SG459023 Replaces Universal Gas Prop Spring Strut for RV Bed Tonneau Cover Storage Box | Suspensia | ASIN: B0C75WP31W | Price: $48.92 | Rating: N/A | Reviews: N/A\n"
     ]
    },
    {
     "name": "stderr",
     "output_type": "stream",
     "text": [
      "\n",
      "\n",
      "\u001b[A\u001b[AWaiting 33 seconds for additional tokens\n",
      "\n",
      "\n",
      "100%|██████████| 1/1 [00:41<00:00, 41.36s/it]\n"
     ]
    },
    {
     "name": "stdout",
     "output_type": "stream",
     "text": [
      "[✓] Original Lift Strut Extended Length .Inch Force Lbs Direct Replacement for SG459024 Replaces Universal Gas Prop Spring Strut for RV Bed Tonneau Cover Storage Box | ARANA | ASIN: B08CV97X67 | Price: $22.99 | Rating: 4.5 | Reviews: 7712\n"
     ]
    },
    {
     "name": "stderr",
     "output_type": "stream",
     "text": [
      "\n",
      "\n",
      "\u001b[A\u001b[A\n",
      "\n",
      "100%|██████████| 1/1 [00:02<00:00,  2.84s/it]\n"
     ]
    },
    {
     "name": "stdout",
     "output_type": "stream",
     "text": [
      "[✓] Original Lift Strut Extended Length .Inch Force Lbs Direct Replacement for SG459024 Replaces Universal Gas Prop Spring Strut for RV Bed Tonneau Cover Storage Box | Suspensia | ASIN: B0C75WP31W | Price: $48.92 | Rating: N/A | Reviews: N/A\n"
     ]
    },
    {
     "name": "stderr",
     "output_type": "stream",
     "text": [
      "\n",
      "\n",
      "\u001b[A\u001b[AWaiting 58 seconds for additional tokens\n",
      "\n",
      "\n",
      "100%|██████████| 1/1 [01:00<00:00, 60.45s/it]\n"
     ]
    },
    {
     "name": "stdout",
     "output_type": "stream",
     "text": [
      "[✓] Trunk Lid Lift Supports Fits to Volkswagen Jetta A4 / to Volkswagen Passat B5 | ARANA | ASIN: B08CV97X67 | Price: $22.99 | Rating: 4.5 | Reviews: 7712\n"
     ]
    },
    {
     "name": "stderr",
     "output_type": "stream",
     "text": [
      "\n",
      "\n",
      "\u001b[A\u001b[AWaiting 31 seconds for additional tokens\n",
      "\n",
      "\n",
      "100%|██████████| 1/1 [00:34<00:00, 34.15s/it]\n"
     ]
    },
    {
     "name": "stdout",
     "output_type": "stream",
     "text": [
      "[✓] Trunk Lid Lift Supports Fits to Volkswagen Jetta A4 / to Volkswagen Passat B5 | Suspensia | ASIN: B0C75WP31W | Price: $48.92 | Rating: N/A | Reviews: N/A\n"
     ]
    },
    {
     "name": "stderr",
     "output_type": "stream",
     "text": [
      "\n",
      "\n",
      "\u001b[A\u001b[A\n",
      "\n",
      "100%|██████████| 1/1 [00:02<00:00,  2.08s/it]\n"
     ]
    },
    {
     "name": "stdout",
     "output_type": "stream",
     "text": [
      "[✓] Rear Trunk Lid LIF Supports to Nissan Altima Coupe Only | ARANA | ASIN: B08CV97X67 | Price: $22.99 | Rating: 4.5 | Reviews: 7712\n"
     ]
    },
    {
     "name": "stderr",
     "output_type": "stream",
     "text": [
      "\n",
      "\n",
      "\u001b[A\u001b[AWaiting 63 seconds for additional tokens\n",
      "\n",
      "\n",
      "100%|██████████| 1/1 [01:06<00:00, 66.00s/it]\n"
     ]
    },
    {
     "name": "stdout",
     "output_type": "stream",
     "text": [
      "[✓] Rear Trunk Lid LIF Supports to Nissan Altima Coupe Only | Suspensia | ASIN: B0C75WP31W | Price: $48.92 | Rating: N/A | Reviews: N/A\n"
     ]
    },
    {
     "name": "stderr",
     "output_type": "stream",
     "text": [
      "\n",
      "\n",
      "\u001b[A\u001b[A\n",
      "\n",
      "100%|██████████| 1/1 [00:02<00:00,  2.30s/it]\n"
     ]
    },
    {
     "name": "stdout",
     "output_type": "stream",
     "text": [
      "[✓] Rear Trunk Lift Supports Compatible With To Infiniti G37 & G37X / Infiniti G35 Sedan Only Without Spoiler | ARANA | ASIN: B08CV97X67 | Price: $22.99 | Rating: 4.5 | Reviews: 7712\n"
     ]
    },
    {
     "name": "stderr",
     "output_type": "stream",
     "text": [
      "Waiting 35 seconds for additional tokens\n",
      "\n",
      "\n",
      "\u001b[A\u001b[A\n",
      "\n",
      "100%|██████████| 1/1 [00:01<00:00,  1.80s/it]\n"
     ]
    },
    {
     "name": "stdout",
     "output_type": "stream",
     "text": [
      "[✓] Rear Trunk Lift Supports Compatible With To Infiniti G37 & G37X / Infiniti G35 Sedan Only Without Spoiler | Suspensia | ASIN: B0C75WP31W | Price: $48.92 | Rating: N/A | Reviews: N/A\n"
     ]
    },
    {
     "name": "stderr",
     "output_type": "stream",
     "text": [
      "\n",
      "\n",
      "\u001b[A\u001b[AWaiting 60 seconds for additional tokens\n",
      "\n",
      "\n",
      "100%|██████████| 1/1 [01:03<00:00, 63.27s/it]\n"
     ]
    },
    {
     "name": "stdout",
     "output_type": "stream",
     "text": [
      "[✓] Rear Trunk Lift Supports To Infiniti G37 Coupe Only | ARANA | ASIN: B08CV97X67 | Price: $22.99 | Rating: 4.5 | Reviews: 7712\n"
     ]
    },
    {
     "name": "stderr",
     "output_type": "stream",
     "text": [
      "\n",
      "\n",
      "\u001b[A\u001b[A\n",
      "\n",
      "100%|██████████| 1/1 [00:04<00:00,  4.78s/it]\n"
     ]
    },
    {
     "name": "stdout",
     "output_type": "stream",
     "text": [
      "[✓] Rear Trunk Lift Supports To Infiniti G37 Coupe Only | Suspensia | ASIN: B0C75WP31W | Price: $48.92 | Rating: N/A | Reviews: N/A\n"
     ]
    },
    {
     "name": "stderr",
     "output_type": "stream",
     "text": [
      "Waiting 37 seconds for additional tokens\n",
      "\n",
      "\n",
      "\u001b[A\u001b[A\n",
      "\n",
      "100%|██████████| 1/1 [00:01<00:00,  1.95s/it]\n"
     ]
    },
    {
     "name": "stdout",
     "output_type": "stream",
     "text": [
      "[✓] Trunk Lid Lift Supports Compatible With Chevrolet Impala and Chevrolet Monte Carlo Model Years Below | ARANA | ASIN: B0D4YSRHJT | Price: $41.99 | Rating: 4.5 | Reviews: 7687\n"
     ]
    },
    {
     "name": "stderr",
     "output_type": "stream",
     "text": [
      "\n",
      "\n",
      "\u001b[A\u001b[AWaiting 59 seconds for additional tokens\n",
      "\n",
      "\n",
      "100%|██████████| 1/1 [01:02<00:00, 62.22s/it]\n"
     ]
    },
    {
     "name": "stdout",
     "output_type": "stream",
     "text": [
      "[✓] Trunk Lid Lift Supports Compatible With Chevrolet Impala and Chevrolet Monte Carlo Model Years Below | Suspensia | ASIN: B0C75WP31W | Price: $48.92 | Rating: N/A | Reviews: N/A\n"
     ]
    },
    {
     "name": "stderr",
     "output_type": "stream",
     "text": [
      "\n",
      "\n",
      "\u001b[A\u001b[A\n",
      "\n",
      "100%|██████████| 1/1 [00:02<00:00,  2.44s/it]\n"
     ]
    },
    {
     "name": "stdout",
     "output_type": "stream",
     "text": [
      "[✓] Front Hood Lift Supports To Volvo V70 To Volvo Xc70 To Volvo S80 | ARANA | ASIN: B0D1FYJ9CY | Price: $22.99 | Rating: 4.5 | Reviews: 7721\n"
     ]
    },
    {
     "name": "stderr",
     "output_type": "stream",
     "text": [
      "Waiting 38 seconds for additional tokens\n",
      "\n",
      "\n",
      "\u001b[A\u001b[A\n",
      "\n",
      "100%|██████████| 1/1 [00:01<00:00,  1.87s/it]\n"
     ]
    },
    {
     "name": "stdout",
     "output_type": "stream",
     "text": [
      "[✓] Front Hood Lift Supports To Volvo V70 To Volvo Xc70 To Volvo S80 | Suspensia | ASIN: B0C75WP31W | Price: $48.92 | Rating: N/A | Reviews: N/A\n"
     ]
    },
    {
     "name": "stderr",
     "output_type": "stream",
     "text": [
      "\n",
      "\n",
      "\u001b[A\u001b[AWaiting 60 seconds for additional tokens\n",
      "\n",
      "\n",
      "100%|██████████| 1/1 [01:03<00:00, 63.27s/it]\n"
     ]
    },
    {
     "name": "stdout",
     "output_type": "stream",
     "text": [
      "[✓] Front Hood Lift Supports Fits to Land Rover Range Rover Excluding Lr3 | ARANA | ASIN: B0B7MZPF7Z | Price: $19.99 | Rating: 4.5 | Reviews: 7708\n"
     ]
    },
    {
     "name": "stderr",
     "output_type": "stream",
     "text": [
      "\n",
      "\n",
      "\u001b[A\u001b[AWaiting 32 seconds for additional tokens\n",
      "\n",
      "\n",
      "100%|██████████| 1/1 [00:35<00:00, 35.20s/it]\n"
     ]
    },
    {
     "name": "stdout",
     "output_type": "stream",
     "text": [
      "[✓] Front Hood Lift Supports Fits to Land Rover Range Rover Excluding Lr3 | Suspensia | ASIN: B0C75WP31W | Price: $48.92 | Rating: N/A | Reviews: N/A\n"
     ]
    },
    {
     "name": "stderr",
     "output_type": "stream",
     "text": [
      "\n",
      "\n",
      "\u001b[A\u001b[A\n",
      "\n",
      "100%|██████████| 1/1 [00:02<00:00,  2.52s/it]\n"
     ]
    },
    {
     "name": "stdout",
     "output_type": "stream",
     "text": [
      "[✓] Rear Trunk Lid Lift Supports To Ford Fusion W Spoiler To Lincoln Mkz To Mercury Milan | ARANA | ASIN: B0D2HP5WM8 | Price: $41.99 | Rating: 4.5 | Reviews: 7725\n"
     ]
    },
    {
     "name": "stderr",
     "output_type": "stream",
     "text": [
      "\n",
      "\n",
      "\u001b[A\u001b[AWaiting 65 seconds for additional tokens\n",
      "\n",
      "\n",
      "100%|██████████| 1/1 [01:08<00:00, 68.07s/it]\n"
     ]
    },
    {
     "name": "stdout",
     "output_type": "stream",
     "text": [
      "[✓] Rear Trunk Lid Lift Supports To Ford Fusion W Spoiler To Lincoln Mkz To Mercury Milan | Suspensia | ASIN: B0C75WP31W | Price: $48.92 | Rating: N/A | Reviews: N/A\n"
     ]
    },
    {
     "name": "stderr",
     "output_type": "stream",
     "text": [
      "\n",
      "\n",
      "\u001b[A\u001b[AWaiting 31 seconds for additional tokens\n",
      "\n",
      "\n",
      "100%|██████████| 1/1 [00:34<00:00, 34.72s/it]\n"
     ]
    },
    {
     "name": "stdout",
     "output_type": "stream",
     "text": [
      "[✓] Trunk Lid Lift Supports To Bmw 650I E64 Convertible | ARANA | ASIN: B0D2LKY5QD | Price: $40.99 | Rating: 4.5 | Reviews: 7721\n"
     ]
    },
    {
     "name": "stderr",
     "output_type": "stream",
     "text": [
      "\n",
      "\n",
      "\u001b[A\u001b[A\n",
      "\n",
      "100%|██████████| 1/1 [00:02<00:00,  2.23s/it]\n"
     ]
    },
    {
     "name": "stdout",
     "output_type": "stream",
     "text": [
      "[✓] Trunk Lid Lift Supports To Bmw 650I E64 Convertible | Suspensia | ASIN: B0C75WP31W | Price: $48.92 | Rating: N/A | Reviews: N/A\n"
     ]
    },
    {
     "name": "stderr",
     "output_type": "stream",
     "text": [
      "\n",
      "\n",
      "\u001b[A\u001b[AWaiting 66 seconds for additional tokens\n",
      "\n",
      "\n",
      "100%|██████████| 1/1 [01:09<00:00, 69.22s/it]\n"
     ]
    },
    {
     "name": "stdout",
     "output_type": "stream",
     "text": [
      "[✓] Rear Trunk Lid Lift Supports to Fiat Convertible Only | ARANA | ASIN: B0D4YSRHJT | Price: $41.99 | Rating: 4.5 | Reviews: 7687\n"
     ]
    },
    {
     "name": "stderr",
     "output_type": "stream",
     "text": [
      "\n",
      "\n",
      "\u001b[A\u001b[AWaiting 31 seconds for additional tokens\n",
      "\n",
      "\n",
      "100%|██████████| 1/1 [00:34<00:00, 34.08s/it]\n"
     ]
    },
    {
     "name": "stdout",
     "output_type": "stream",
     "text": [
      "[✓] Rear Trunk Lid Lift Supports to Fiat Convertible Only | Suspensia | ASIN: B0C75WP31W | Price: $48.92 | Rating: N/A | Reviews: N/A\n"
     ]
    },
    {
     "name": "stderr",
     "output_type": "stream",
     "text": [
      "\n",
      "\n",
      "\u001b[A\u001b[A\n",
      "\n",
      "100%|██████████| 1/1 [00:01<00:00,  1.75s/it]\n"
     ]
    },
    {
     "name": "stdout",
     "output_type": "stream",
     "text": [
      "[✓] Front Hood Lift Supports Fits Mini Cooper Countryman and Mini Cooper Paceman Model Years Below | ARANA | ASIN: B0D4YSRHJT | Price: $41.99 | Rating: 4.5 | Reviews: 7687\n"
     ]
    },
    {
     "name": "stderr",
     "output_type": "stream",
     "text": [
      "\n",
      "\n",
      "\u001b[A\u001b[AWaiting 63 seconds for additional tokens\n",
      "\n",
      "\n",
      "100%|██████████| 1/1 [01:05<00:00, 65.41s/it]\n"
     ]
    },
    {
     "name": "stdout",
     "output_type": "stream",
     "text": [
      "[✓] Front Hood Lift Supports Fits Mini Cooper Countryman and Mini Cooper Paceman Model Years Below | Suspensia | ASIN: B0C75WP31W | Price: $48.92 | Rating: N/A | Reviews: N/A\n"
     ]
    },
    {
     "name": "stderr",
     "output_type": "stream",
     "text": [
      "\n",
      "\n",
      "\u001b[A\u001b[A\n",
      "\n",
      "100%|██████████| 1/1 [00:01<00:00,  1.91s/it]\n"
     ]
    },
    {
     "name": "stdout",
     "output_type": "stream",
     "text": [
      "[✓] Trunk Lid Lift Support Ford Taurus | ARANA | ASIN: B0D4YSRHJT | Price: $41.99 | Rating: 4.5 | Reviews: 7687\n"
     ]
    },
    {
     "name": "stderr",
     "output_type": "stream",
     "text": [
      "Waiting 33 seconds for additional tokens\n",
      "\n",
      "\n",
      "\u001b[A\u001b[A\n",
      "\n",
      "100%|██████████| 1/1 [00:01<00:00,  1.92s/it]\n"
     ]
    },
    {
     "name": "stdout",
     "output_type": "stream",
     "text": [
      "[✓] Trunk Lid Lift Support Ford Taurus | Suspensia | ASIN: B0C75WP31W | Price: $48.92 | Rating: N/A | Reviews: N/A\n"
     ]
    },
    {
     "name": "stderr",
     "output_type": "stream",
     "text": [
      "\n",
      "\n",
      "\u001b[A\u001b[AWaiting 60 seconds for additional tokens\n",
      "\n",
      "\n",
      "100%|██████████| 1/1 [01:02<00:00, 62.21s/it]\n"
     ]
    },
    {
     "name": "stdout",
     "output_type": "stream",
     "text": [
      "[✓] Rear Trunk Lid Lift Supports To BMW Z4 E85 | ARANA | ASIN: B0D4YSRHJT | Price: $41.99 | Rating: 4.5 | Reviews: 7687\n"
     ]
    },
    {
     "name": "stderr",
     "output_type": "stream",
     "text": [
      "\n",
      "\n",
      "\u001b[A\u001b[A\n",
      "\n",
      "100%|██████████| 1/1 [00:01<00:00,  1.83s/it]\n"
     ]
    },
    {
     "name": "stdout",
     "output_type": "stream",
     "text": [
      "[✓] Rear Trunk Lid Lift Supports To BMW Z4 E85 | Suspensia | ASIN: B0C75WP31W | Price: $48.92 | Rating: N/A | Reviews: N/A\n"
     ]
    },
    {
     "name": "stderr",
     "output_type": "stream",
     "text": [
      "\n",
      "\n",
      "\u001b[A\u001b[AWaiting 61 seconds for additional tokens\n",
      "\n",
      "\n",
      "100%|██████████| 1/1 [01:03<00:00, 63.28s/it]\n"
     ]
    },
    {
     "name": "stdout",
     "output_type": "stream",
     "text": [
      "[✓] Front Hood Lift Supports To BMW X3 To BMW X4 | ARANA | ASIN: B0D4YSRHJT | Price: $41.99 | Rating: 4.5 | Reviews: 7687\n"
     ]
    },
    {
     "name": "stderr",
     "output_type": "stream",
     "text": [
      "\n",
      "\n",
      "\u001b[A\u001b[AWaiting 28 seconds for additional tokens\n",
      "\n",
      "\n",
      "100%|██████████| 1/1 [00:31<00:00, 31.60s/it]\n"
     ]
    },
    {
     "name": "stdout",
     "output_type": "stream",
     "text": [
      "[✓] Front Hood Lift Supports To BMW X3 To BMW X4 | Suspensia | ASIN: B0C75WP31W | Price: $48.92 | Rating: N/A | Reviews: N/A\n"
     ]
    },
    {
     "name": "stderr",
     "output_type": "stream",
     "text": [
      "\n",
      "\n",
      "\u001b[A\u001b[A\n",
      "\n",
      "100%|██████████| 1/1 [00:01<00:00,  1.78s/it]\n"
     ]
    },
    {
     "name": "stdout",
     "output_type": "stream",
     "text": [
      "[✓] Front Hood Lift Supports To Dodge Viper Srt | ARANA | ASIN: B0D4YSRHJT | Price: $41.99 | Rating: 4.5 | Reviews: 7687\n"
     ]
    },
    {
     "name": "stderr",
     "output_type": "stream",
     "text": [
      "\n",
      "\n",
      "\u001b[A\u001b[AWaiting 61 seconds for additional tokens\n",
      "\n",
      "\n",
      "100%|██████████| 1/1 [01:04<00:00, 64.05s/it]\n"
     ]
    },
    {
     "name": "stdout",
     "output_type": "stream",
     "text": [
      "[✓] Front Hood Lift Supports To Dodge Viper Srt | Suspensia | ASIN: B0C75WP31W | Price: $48.92 | Rating: N/A | Reviews: N/A\n"
     ]
    },
    {
     "name": "stderr",
     "output_type": "stream",
     "text": [
      "\n",
      "\n",
      "\u001b[A\u001b[AWaiting 33 seconds for additional tokens\n",
      "\n",
      "\n",
      "100%|██████████| 1/1 [00:36<00:00, 36.71s/it]\n"
     ]
    },
    {
     "name": "stdout",
     "output_type": "stream",
     "text": [
      "[✓] Trunk Lid Lift Supports to BMW 750Il & & 740I & 740Il | ARANA | ASIN: B0D4YSRHJT | Price: $41.99 | Rating: 4.5 | Reviews: 7687\n"
     ]
    },
    {
     "name": "stderr",
     "output_type": "stream",
     "text": [
      "\n",
      "\n",
      "\u001b[A\u001b[A\n",
      "\n",
      "100%|██████████| 1/1 [00:01<00:00,  1.80s/it]\n"
     ]
    },
    {
     "name": "stdout",
     "output_type": "stream",
     "text": [
      "[✓] Trunk Lid Lift Supports to BMW 750Il & & 740I & 740Il | Suspensia | ASIN: B0C75WP31W | Price: $48.92 | Rating: N/A | Reviews: N/A\n"
     ]
    },
    {
     "name": "stderr",
     "output_type": "stream",
     "text": [
      "\n",
      "\n",
      "\u001b[A\u001b[AWaiting 63 seconds for additional tokens\n",
      "\n",
      "\n",
      "100%|██████████| 1/1 [01:07<00:00, 67.09s/it]\n"
     ]
    },
    {
     "name": "stdout",
     "output_type": "stream",
     "text": [
      "[✓] Trunk Lid Lift Supports to Kia Optima to Hyundai Sonata | ARANA | ASIN: B0D4YSRHJT | Price: $41.99 | Rating: 4.5 | Reviews: 7687\n"
     ]
    },
    {
     "name": "stderr",
     "output_type": "stream",
     "text": [
      "\n",
      "\n",
      "\u001b[A\u001b[A\n",
      "\n",
      "100%|██████████| 1/1 [00:03<00:00,  3.41s/it]\n"
     ]
    },
    {
     "name": "stdout",
     "output_type": "stream",
     "text": [
      "[✓] Trunk Lid Lift Supports to Kia Optima to Hyundai Sonata | Suspensia | ASIN: B0C75WP31W | Price: $48.92 | Rating: N/A | Reviews: N/A\n"
     ]
    },
    {
     "name": "stderr",
     "output_type": "stream",
     "text": [
      "Waiting 30 seconds for additional tokens\n",
      "\n",
      "\n",
      "\u001b[A\u001b[A\n",
      "\n",
      "100%|██████████| 1/1 [00:01<00:00,  1.82s/it]\n"
     ]
    },
    {
     "name": "stdout",
     "output_type": "stream",
     "text": [
      "[✓] Truck Cap Gas Prop Strut Lift Support Replaces C16 Inches Extended 40Lbs | ARANA | ASIN: B0D4YSRHJT | Price: $41.99 | Rating: 4.5 | Reviews: 7687\n"
     ]
    },
    {
     "name": "stderr",
     "output_type": "stream",
     "text": [
      "\n",
      "\n",
      "\u001b[A\u001b[AWaiting 56 seconds for additional tokens\n",
      "\n",
      "\n",
      "100%|██████████| 1/1 [00:59<00:00, 59.36s/it]\n"
     ]
    },
    {
     "name": "stdout",
     "output_type": "stream",
     "text": [
      "[✓] Truck Cap Gas Prop Strut Lift Support Replaces C16 Inches Extended 40Lbs | Suspensia | ASIN: B0C75WP31W | Price: $48.92 | Rating: N/A | Reviews: N/A\n"
     ]
    },
    {
     "name": "stderr",
     "output_type": "stream",
     "text": [
      "\n",
      "\n",
      "\u001b[A\u001b[A\n",
      "\n",
      "100%|██████████| 1/1 [00:02<00:00,  2.17s/it]\n"
     ]
    },
    {
     "name": "stdout",
     "output_type": "stream",
     "text": [
      "[✓] Front Hood Lift Supports To Dodge Challenger | ARANA | ASIN: B0D4YSRHJT | Price: $41.99 | Rating: 4.5 | Reviews: 7687\n"
     ]
    },
    {
     "name": "stderr",
     "output_type": "stream",
     "text": [
      "\n",
      "\n",
      "\u001b[A\u001b[AWaiting 60 seconds for additional tokens\n",
      "\n",
      "\n",
      "100%|██████████| 1/1 [01:03<00:00, 63.42s/it]\n"
     ]
    },
    {
     "name": "stdout",
     "output_type": "stream",
     "text": [
      "[✓] Front Hood Lift Supports To Dodge Challenger | Suspensia | ASIN: B0C75WP31W | Price: $48.92 | Rating: N/A | Reviews: N/A\n"
     ]
    },
    {
     "name": "stderr",
     "output_type": "stream",
     "text": [
      "\n",
      "\n",
      "\u001b[A\u001b[AWaiting 34 seconds for additional tokens\n",
      "\n",
      "\n",
      "100%|██████████| 1/1 [00:37<00:00, 37.35s/it]\n"
     ]
    },
    {
     "name": "stdout",
     "output_type": "stream",
     "text": [
      "[✓] Original Lift Strut Extended Length .Inch Force Lbs Direct Replacement for SG459026 Replaces Universal Gas Prop Spring Strut for RV Bed Tonneau Cover Storage Box | ARANA | ASIN: B0D4YSRHJT | Price: $41.99 | Rating: 4.5 | Reviews: 7687\n"
     ]
    },
    {
     "name": "stderr",
     "output_type": "stream",
     "text": [
      "\n",
      "\n",
      "\u001b[A\u001b[A\n",
      "\n",
      "100%|██████████| 1/1 [00:01<00:00,  1.81s/it]\n"
     ]
    },
    {
     "name": "stdout",
     "output_type": "stream",
     "text": [
      "[✓] Original Lift Strut Extended Length .Inch Force Lbs Direct Replacement for SG459026 Replaces Universal Gas Prop Spring Strut for RV Bed Tonneau Cover Storage Box | Suspensia | ASIN: B0C75WP31W | Price: $48.92 | Rating: N/A | Reviews: N/A\n"
     ]
    },
    {
     "name": "stderr",
     "output_type": "stream",
     "text": [
      "\n",
      "\n",
      "\u001b[A\u001b[AWaiting 63 seconds for additional tokens\n",
      "\n",
      "\n",
      "100%|██████████| 1/1 [01:07<00:00, 67.67s/it]\n"
     ]
    },
    {
     "name": "stdout",
     "output_type": "stream",
     "text": [
      "[✓] Trunk Lid Lift Supports To Cadillac Cts Sedan Only | ARANA | ASIN: B0D4YSRHJT | Price: $41.99 | Rating: 4.5 | Reviews: 7687\n"
     ]
    },
    {
     "name": "stderr",
     "output_type": "stream",
     "text": [
      "\n",
      "\n",
      "\u001b[A\u001b[AWaiting 26 seconds for additional tokens\n",
      "\n",
      "\n",
      "100%|██████████| 1/1 [00:29<00:00, 29.34s/it]\n"
     ]
    },
    {
     "name": "stdout",
     "output_type": "stream",
     "text": [
      "[✓] Trunk Lid Lift Supports To Cadillac Cts Sedan Only | Suspensia | ASIN: B0C75WP31W | Price: $48.92 | Rating: N/A | Reviews: N/A\n"
     ]
    },
    {
     "name": "stderr",
     "output_type": "stream",
     "text": [
      "\n",
      "\n",
      "\u001b[A\u001b[A\n",
      "\n",
      "100%|██████████| 1/1 [00:01<00:00,  1.82s/it]\n"
     ]
    },
    {
     "name": "stdout",
     "output_type": "stream",
     "text": [
      "[✓] Front Hood Lift Supports Fits To Audi Sq5 To Audi Q5 | ARANA | ASIN: B0D4YSRHJT | Price: $41.99 | Rating: 4.5 | Reviews: 7687\n"
     ]
    },
    {
     "name": "stderr",
     "output_type": "stream",
     "text": [
      "\n",
      "\n",
      "\u001b[A\u001b[AWaiting 60 seconds for additional tokens\n",
      "\n",
      "\n",
      "100%|██████████| 1/1 [01:03<00:00, 63.53s/it]\n"
     ]
    },
    {
     "name": "stdout",
     "output_type": "stream",
     "text": [
      "[✓] Front Hood Lift Supports Fits To Audi Sq5 To Audi Q5 | Suspensia | ASIN: B0C75WP31W | Price: $48.92 | Rating: N/A | Reviews: N/A\n"
     ]
    },
    {
     "name": "stderr",
     "output_type": "stream",
     "text": [
      "\n",
      "\n",
      "\u001b[A\u001b[A\n",
      "\n",
      "100%|██████████| 1/1 [00:02<00:00,  2.00s/it]\n"
     ]
    },
    {
     "name": "stdout",
     "output_type": "stream",
     "text": [
      "[✓] Front Hood Lift Supports To Porsche | ARANA | ASIN: B0D4YSRHJT | Price: $41.99 | Rating: 4.5 | Reviews: 7687\n"
     ]
    },
    {
     "name": "stderr",
     "output_type": "stream",
     "text": [
      "\n",
      "\n",
      "\u001b[A\u001b[AWaiting 60 seconds for additional tokens\n",
      "\n",
      "\n",
      "100%|██████████| 1/1 [01:03<00:00, 63.23s/it]\n"
     ]
    },
    {
     "name": "stdout",
     "output_type": "stream",
     "text": [
      "[✓] Front Hood Lift Supports To Porsche | Suspensia | ASIN: B0C75WP31W | Price: $48.92 | Rating: N/A | Reviews: N/A\n"
     ]
    },
    {
     "name": "stderr",
     "output_type": "stream",
     "text": [
      "\n",
      "\n",
      "\u001b[A\u001b[AWaiting 31 seconds for additional tokens\n",
      "\n",
      "\n",
      "100%|██████████| 1/1 [00:33<00:00, 33.33s/it]\n"
     ]
    },
    {
     "name": "stdout",
     "output_type": "stream",
     "text": [
      "[✓] Hood Lift Supports To Land Rover Discovery Sport | ARANA | ASIN: B0D4YSRHJT | Price: $41.99 | Rating: 4.5 | Reviews: 7687\n"
     ]
    },
    {
     "name": "stderr",
     "output_type": "stream",
     "text": [
      "\n",
      "\n",
      "\u001b[A\u001b[A\n",
      "\n",
      "100%|██████████| 1/1 [00:02<00:00,  2.08s/it]\n"
     ]
    },
    {
     "name": "stdout",
     "output_type": "stream",
     "text": [
      "[✓] Hood Lift Supports To Land Rover Discovery Sport | Suspensia | ASIN: B0C75WP31W | Price: $48.92 | Rating: N/A | Reviews: N/A\n"
     ]
    },
    {
     "name": "stderr",
     "output_type": "stream",
     "text": [
      "\n",
      "\n",
      "\u001b[A\u001b[AWaiting 61 seconds for additional tokens\n",
      "\n",
      "\n",
      "100%|██████████| 1/1 [01:04<00:00, 64.33s/it]\n"
     ]
    },
    {
     "name": "stdout",
     "output_type": "stream",
     "text": [
      "[✓] Rear Trunk Lift Supports Compatible with to Volkswagen Passat North American Models Only | ARANA | ASIN: B0D4YSRHJT | Price: $41.99 | Rating: 4.5 | Reviews: 7687\n"
     ]
    },
    {
     "name": "stderr",
     "output_type": "stream",
     "text": [
      "\n",
      "\n",
      "\u001b[A\u001b[AWaiting 30 seconds for additional tokens\n",
      "\n",
      "\n",
      "100%|██████████| 1/1 [00:33<00:00, 33.73s/it]\n"
     ]
    },
    {
     "name": "stdout",
     "output_type": "stream",
     "text": [
      "[✓] Rear Trunk Lift Supports Compatible with to Volkswagen Passat North American Models Only | Suspensia | ASIN: B0C75WP31W | Price: $48.92 | Rating: N/A | Reviews: N/A\n"
     ]
    },
    {
     "name": "stderr",
     "output_type": "stream",
     "text": [
      "\n",
      "\n",
      "\u001b[A\u001b[A\n",
      "\n",
      "100%|██████████| 1/1 [00:02<00:00,  2.17s/it]\n"
     ]
    },
    {
     "name": "stdout",
     "output_type": "stream",
     "text": [
      "[✓] Front Hood Lift Supports To BMW 520I F10 To 528I F10 To 530I To 535D To 535I 550I To 640I 650I | ARANA | ASIN: B0D4YSRHJT | Price: $41.99 | Rating: 4.5 | Reviews: 7687\n"
     ]
    },
    {
     "name": "stderr",
     "output_type": "stream",
     "text": [
      "\n",
      "\n",
      "\u001b[A\u001b[AWaiting 63 seconds for additional tokens\n",
      "\n",
      "\n",
      "100%|██████████| 1/1 [01:05<00:00, 65.45s/it]\n"
     ]
    },
    {
     "name": "stdout",
     "output_type": "stream",
     "text": [
      "[✓] Front Hood Lift Supports To BMW 520I F10 To 528I F10 To 530I To 535D To 535I 550I To 640I 650I | Suspensia | ASIN: B0C75WP31W | Price: $48.92 | Rating: N/A | Reviews: N/A\n"
     ]
    },
    {
     "name": "stderr",
     "output_type": "stream",
     "text": [
      "\n",
      "\n",
      "\u001b[A\u001b[AWaiting 32 seconds for additional tokens\n",
      "\n",
      "\n",
      "100%|██████████| 1/1 [00:34<00:00, 34.22s/it]\n"
     ]
    },
    {
     "name": "stdout",
     "output_type": "stream",
     "text": [
      "[✓] Front Hood Lift Supports To Dodge Charger To Dodge Magnum To Chrysler To Chrysler Touring Includes Hardware Kit | ARANA | ASIN: B0D4YSRHJT | Price: $41.99 | Rating: 4.5 | Reviews: 7687\n"
     ]
    },
    {
     "name": "stderr",
     "output_type": "stream",
     "text": [
      "\n",
      "\n",
      "\u001b[A\u001b[A\n",
      "\n",
      "100%|██████████| 1/1 [00:01<00:00,  1.86s/it]\n"
     ]
    },
    {
     "name": "stdout",
     "output_type": "stream",
     "text": [
      "[✓] Front Hood Lift Supports To Dodge Charger To Dodge Magnum To Chrysler To Chrysler Touring Includes Hardware Kit | Suspensia | ASIN: B0C75WP31W | Price: $48.92 | Rating: N/A | Reviews: N/A\n"
     ]
    },
    {
     "name": "stderr",
     "output_type": "stream",
     "text": [
      "\n",
      "\n",
      "\u001b[A\u001b[AWaiting 61 seconds for additional tokens\n",
      "\n",
      "\n",
      "100%|██████████| 1/1 [01:03<00:00, 63.65s/it]\n"
     ]
    },
    {
     "name": "stdout",
     "output_type": "stream",
     "text": [
      "[✓] Hood Lift Supports Compatible With: Dodge Charger Lx To Dodge Magnum Chrysler Touring Lx | ARANA | ASIN: B0D4YSRHJT | Price: $41.99 | Rating: 4.5 | Reviews: 7687\n"
     ]
    },
    {
     "name": "stderr",
     "output_type": "stream",
     "text": [
      "\n",
      "\n",
      "\u001b[A\u001b[A\n",
      "\n",
      "100%|██████████| 1/1 [00:01<00:00,  1.93s/it]\n"
     ]
    },
    {
     "name": "stdout",
     "output_type": "stream",
     "text": [
      "[✓] Hood Lift Supports Compatible With: Dodge Charger Lx To Dodge Magnum Chrysler Touring Lx | Suspensia | ASIN: B0C75WP31W | Price: $48.92 | Rating: N/A | Reviews: N/A\n"
     ]
    },
    {
     "name": "stderr",
     "output_type": "stream",
     "text": [
      "\n",
      "\n",
      "\u001b[A\u001b[AWaiting 61 seconds for additional tokens\n",
      "\n",
      "\n",
      "100%|██████████| 1/1 [01:04<00:00, 64.48s/it]\n"
     ]
    },
    {
     "name": "stdout",
     "output_type": "stream",
     "text": [
      "[✓] Rear Engine Lid Lift Supports for Porsche GT3 Turbo Black | ARANA | ASIN: B0D4YSRHJT | Price: $41.99 | Rating: 4.5 | Reviews: 7687\n"
     ]
    },
    {
     "name": "stderr",
     "output_type": "stream",
     "text": [
      "\n",
      "\n",
      "\u001b[A\u001b[AWaiting 30 seconds for additional tokens\n",
      "\n",
      "\n",
      "100%|██████████| 1/1 [00:34<00:00, 34.46s/it]\n"
     ]
    },
    {
     "name": "stdout",
     "output_type": "stream",
     "text": [
      "[✓] Rear Engine Lid Lift Supports for Porsche GT3 Turbo Black | Suspensia | ASIN: B0C75WP31W | Price: $48.92 | Rating: N/A | Reviews: N/A\n"
     ]
    },
    {
     "name": "stderr",
     "output_type": "stream",
     "text": [
      "\n",
      "\n",
      "\u001b[A\u001b[A\n",
      "\n",
      "100%|██████████| 1/1 [00:01<00:00,  1.99s/it]\n"
     ]
    },
    {
     "name": "stdout",
     "output_type": "stream",
     "text": [
      "[✓] Hood Lift Supports Fits BMW Series Model Information and Years Below | ARANA | ASIN: B0D4YSRHJT | Price: $41.99 | Rating: 4.5 | Reviews: 7687\n"
     ]
    },
    {
     "name": "stderr",
     "output_type": "stream",
     "text": [
      "\n",
      "\n",
      "\u001b[A\u001b[AWaiting 60 seconds for additional tokens\n",
      "\n",
      "\n",
      "100%|██████████| 1/1 [01:02<00:00, 62.60s/it]\n"
     ]
    },
    {
     "name": "stdout",
     "output_type": "stream",
     "text": [
      "[✓] Hood Lift Supports Fits BMW Series Model Information and Years Below | Suspensia | ASIN: B0C75WP31W | Price: $48.92 | Rating: N/A | Reviews: N/A\n"
     ]
    },
    {
     "name": "stderr",
     "output_type": "stream",
     "text": [
      "\n",
      "\n",
      "\u001b[A\u001b[AWaiting 32 seconds for additional tokens\n",
      "\n",
      "\n",
      "100%|██████████| 1/1 [00:34<00:00, 34.56s/it]\n"
     ]
    },
    {
     "name": "stdout",
     "output_type": "stream",
     "text": [
      "[✓] Rear Liftgate Lift Supports to Toyota Verso | ARANA | ASIN: B0D4YSRHJT | Price: $41.99 | Rating: 4.5 | Reviews: 7687\n"
     ]
    },
    {
     "name": "stderr",
     "output_type": "stream",
     "text": [
      "\n",
      "\n",
      "\u001b[A\u001b[A\n",
      "\n",
      "100%|██████████| 1/1 [00:03<00:00,  3.14s/it]\n"
     ]
    },
    {
     "name": "stdout",
     "output_type": "stream",
     "text": [
      "[✓] Rear Liftgate Lift Supports to Toyota Verso | Suspensia | ASIN: B0C75WP31W | Price: $48.92 | Rating: N/A | Reviews: N/A\n"
     ]
    },
    {
     "name": "stderr",
     "output_type": "stream",
     "text": [
      "\n",
      "\n",
      "\u001b[A\u001b[AWaiting 58 seconds for additional tokens\n",
      "\n",
      "\n",
      "100%|██████████| 1/1 [01:01<00:00, 61.44s/it]\n"
     ]
    },
    {
     "name": "stdout",
     "output_type": "stream",
     "text": [
      "[✓] Trunk Lid Lift Supports To Plymouth Breeze To Dodge Stratus With Spoiler To Chrysler Cirrus | ARANA | ASIN: B0D4YSRHJT | Price: $41.99 | Rating: 4.5 | Reviews: 7687\n"
     ]
    },
    {
     "name": "stderr",
     "output_type": "stream",
     "text": [
      "\n",
      "\n",
      "\u001b[A\u001b[A\n",
      "\n",
      "100%|██████████| 1/1 [00:01<00:00,  1.94s/it]\n"
     ]
    },
    {
     "name": "stdout",
     "output_type": "stream",
     "text": [
      "[✓] Trunk Lid Lift Supports To Plymouth Breeze To Dodge Stratus With Spoiler To Chrysler Cirrus | Suspensia | ASIN: B0C75WP31W | Price: $48.92 | Rating: N/A | Reviews: N/A\n"
     ]
    },
    {
     "name": "stderr",
     "output_type": "stream",
     "text": [
      "Waiting 32 seconds for additional tokens\n",
      "\n",
      "\n",
      "\u001b[A\u001b[A\n",
      "\n",
      "100%|██████████| 1/1 [00:02<00:00,  2.52s/it]\n"
     ]
    },
    {
     "name": "stdout",
     "output_type": "stream",
     "text": [
      "[✓] Rear Trunk Lid Lift Supports To Lexus Gs To Lexus Gs To Lexus Gs To Gs H To Gs | ARANA | ASIN: B0D4YSRHJT | Price: $41.99 | Rating: 4.5 | Reviews: 7687\n"
     ]
    },
    {
     "name": "stderr",
     "output_type": "stream",
     "text": [
      "\n",
      "\n",
      "\u001b[A\u001b[AWaiting 56 seconds for additional tokens\n",
      "\n",
      "\n",
      "100%|██████████| 1/1 [00:58<00:00, 59.00s/it]\n"
     ]
    },
    {
     "name": "stdout",
     "output_type": "stream",
     "text": [
      "[✓] Rear Trunk Lid Lift Supports To Lexus Gs To Lexus Gs To Lexus Gs To Gs H To Gs | Suspensia | ASIN: B0C75WP31W | Price: $48.92 | Rating: N/A | Reviews: N/A\n"
     ]
    },
    {
     "name": "stderr",
     "output_type": "stream",
     "text": [
      "\n",
      "\n",
      "\u001b[A\u001b[A\n",
      "\n",
      "100%|██████████| 1/1 [00:02<00:00,  2.06s/it]\n"
     ]
    },
    {
     "name": "stdout",
     "output_type": "stream",
     "text": [
      "[✓] Trunk Lid Lift Supports Fits to Saab Convertible | ARANA | ASIN: B0D4YSRHJT | Price: $41.99 | Rating: 4.5 | Reviews: 7687\n"
     ]
    },
    {
     "name": "stderr",
     "output_type": "stream",
     "text": [
      "\n",
      "\n",
      "\u001b[A\u001b[AWaiting 59 seconds for additional tokens\n",
      "\n",
      "\n",
      "100%|██████████| 1/1 [01:03<00:00, 63.01s/it]\n"
     ]
    },
    {
     "name": "stdout",
     "output_type": "stream",
     "text": [
      "[✓] Trunk Lid Lift Supports Fits to Saab Convertible | Suspensia | ASIN: B0C75WP31W | Price: $48.92 | Rating: N/A | Reviews: N/A\n"
     ]
    },
    {
     "name": "stderr",
     "output_type": "stream",
     "text": [
      "\n",
      "\n",
      "\u001b[A\u001b[AWaiting 33 seconds for additional tokens\n",
      "\n",
      "\n",
      "100%|██████████| 1/1 [00:43<00:00, 43.65s/it]\n"
     ]
    },
    {
     "name": "stdout",
     "output_type": "stream",
     "text": [
      "[✓] Rear Trunk Lid Lift Supports To Cadillac Sts | ARANA | ASIN: B0D4YSRHJT | Price: $41.99 | Rating: 4.5 | Reviews: 7687\n"
     ]
    },
    {
     "name": "stderr",
     "output_type": "stream",
     "text": [
      "\n",
      "\n",
      "\u001b[A\u001b[A\n",
      "\n",
      "100%|██████████| 1/1 [00:01<00:00,  1.90s/it]\n"
     ]
    },
    {
     "name": "stdout",
     "output_type": "stream",
     "text": [
      "[✓] Rear Trunk Lid Lift Supports To Cadillac Sts | Suspensia | ASIN: B0C75WP31W | Price: $48.92 | Rating: N/A | Reviews: N/A\n"
     ]
    },
    {
     "name": "stderr",
     "output_type": "stream",
     "text": [
      "\n",
      "\n",
      "\u001b[A\u001b[AWaiting 55 seconds for additional tokens\n",
      "\n",
      "\n",
      "100%|██████████| 1/1 [00:58<00:00, 58.23s/it]\n"
     ]
    },
    {
     "name": "stdout",
     "output_type": "stream",
     "text": [
      "[✓] Trunk Lid Lift Supports Fits to Buick Century to Buick Regal to Oldsmobile Intrigue Sedan Without Spoiler | ARANA | ASIN: B0D4YSRHJT | Price: $41.99 | Rating: 4.5 | Reviews: 7687\n"
     ]
    },
    {
     "name": "stderr",
     "output_type": "stream",
     "text": [
      "\n",
      "\n",
      "\u001b[A\u001b[AWaiting 28 seconds for additional tokens\n",
      "\n",
      "\n",
      "100%|██████████| 1/1 [00:31<00:00, 31.09s/it]"
     ]
    },
    {
     "name": "stdout",
     "output_type": "stream",
     "text": [
      "[✓] Trunk Lid Lift Supports Fits to Buick Century to Buick Regal to Oldsmobile Intrigue Sedan Without Spoiler | Suspensia | ASIN: B0C75WP31W | Price: $48.92 | Rating: N/A | Reviews: N/A\n"
     ]
    },
    {
     "name": "stderr",
     "output_type": "stream",
     "text": [
      "\n"
     ]
    }
   ],
   "source": [
    "third = fetch_products_from_queries(queries.iloc[10:90], allowed_brands)"
   ]
  },
  {
   "cell_type": "code",
   "execution_count": 73,
   "id": "ed7f8fc7",
   "metadata": {},
   "outputs": [],
   "source": [
    "third.to_csv(\"products3.csv\", index=False)"
   ]
  },
  {
   "cell_type": "code",
   "execution_count": null,
   "id": "3838e40d",
   "metadata": {},
   "outputs": [
    {
     "name": "stderr",
     "output_type": "stream",
     "text": [
      "100%|██████████| 1/1 [00:02<00:00,  2.17s/it]\n"
     ]
    },
    {
     "name": "stdout",
     "output_type": "stream",
     "text": [
      "[✓] Front Hood Lift Supports Land Rover Range Rover | ARANA | ASIN: B0BN6382CS | Price: $38.99 | Rating: 4.5 | Reviews: 7725\n"
     ]
    },
    {
     "name": "stderr",
     "output_type": "stream",
     "text": [
      "100%|██████████| 1/1 [00:01<00:00,  1.51s/it]\n"
     ]
    },
    {
     "name": "stdout",
     "output_type": "stream",
     "text": [
      "[✓] Front Hood Lift Supports Land Rover Range Rover | Suspensia | ASIN: B0C75TMPV1 | Price: $48.90 | Rating: 5.0 | Reviews: 1\n"
     ]
    },
    {
     "name": "stderr",
     "output_type": "stream",
     "text": [
      "100%|██████████| 1/1 [00:01<00:00,  1.14s/it]\n"
     ]
    },
    {
     "name": "stdout",
     "output_type": "stream",
     "text": [
      "[✓] Rear Trunk Lid Lift Supports Mini Cooper Convertible Roadster Model | ARANA | ASIN: B0BN6382CS | Price: $38.99 | Rating: 4.5 | Reviews: 7725\n"
     ]
    },
    {
     "name": "stderr",
     "output_type": "stream",
     "text": [
      "100%|██████████| 1/1 [00:00<00:00,  1.05it/s]\n"
     ]
    },
    {
     "name": "stdout",
     "output_type": "stream",
     "text": [
      "[✓] Rear Trunk Lid Lift Supports Mini Cooper Convertible Roadster Model | Suspensia | ASIN: B0C75TMPV1 | Price: $48.90 | Rating: 5.0 | Reviews: 1\n"
     ]
    },
    {
     "name": "stderr",
     "output_type": "stream",
     "text": [
      "100%|██████████| 1/1 [00:01<00:00,  1.62s/it]\n"
     ]
    },
    {
     "name": "stdout",
     "output_type": "stream",
     "text": [
      "[✓] Original Lift Strut Extended Length .Inch Force Lbs Direct Replacement for SG371007 Replaces Universal Gas Prop Spring Strut for RV Bed Tonneau Cover Storage Box | ARANA | ASIN: B098K2B82X | Price: $30.99 | Rating: 4.5 | Reviews: 7721\n"
     ]
    },
    {
     "name": "stderr",
     "output_type": "stream",
     "text": [
      "100%|██████████| 1/1 [00:00<00:00,  1.34it/s]\n"
     ]
    },
    {
     "name": "stdout",
     "output_type": "stream",
     "text": [
      "[✓] Original Lift Strut Extended Length .Inch Force Lbs Direct Replacement for SG371007 Replaces Universal Gas Prop Spring Strut for RV Bed Tonneau Cover Storage Box | Suspensia | ASIN: B0C75TMPV1 | Price: $48.90 | Rating: 5.0 | Reviews: 1\n"
     ]
    },
    {
     "name": "stderr",
     "output_type": "stream",
     "text": [
      "100%|██████████| 1/1 [00:02<00:00,  2.27s/it]\n"
     ]
    },
    {
     "name": "stdout",
     "output_type": "stream",
     "text": [
      "[✓] Hood Lift Supports to Ford Explorer Excluding Sport Trac | ARANA | ASIN: B0D4YTCBPL | Price: $38.99 | Rating: 4.5 | Reviews: 7712\n"
     ]
    },
    {
     "name": "stderr",
     "output_type": "stream",
     "text": [
      "100%|██████████| 1/1 [00:02<00:00,  2.15s/it]\n"
     ]
    },
    {
     "name": "stdout",
     "output_type": "stream",
     "text": [
      "[✓] Hood Lift Supports to Ford Explorer Excluding Sport Trac | Suspensia | ASIN: B0C75WP31W | Price: $48.92 | Rating: N/A | Reviews: N/A\n"
     ]
    },
    {
     "name": "stderr",
     "output_type": "stream",
     "text": [
      "100%|██████████| 1/1 [00:01<00:00,  1.81s/it]\n"
     ]
    },
    {
     "name": "stdout",
     "output_type": "stream",
     "text": [
      "[✓] Trunk Lid Lift Supports To Lincoln Town Car | ARANA | ASIN: B07CGNQCCJ | Price: $23.99 | Rating: 4.5 | Reviews: 7727\n"
     ]
    },
    {
     "name": "stderr",
     "output_type": "stream",
     "text": [
      "100%|██████████| 1/1 [00:00<00:00,  1.34it/s]\n"
     ]
    },
    {
     "name": "stdout",
     "output_type": "stream",
     "text": [
      "[✓] Trunk Lid Lift Supports To Lincoln Town Car | Suspensia | ASIN: B0C75WP31W | Price: $48.92 | Rating: N/A | Reviews: N/A\n"
     ]
    },
    {
     "name": "stderr",
     "output_type": "stream",
     "text": [
      "100%|██████████| 1/1 [00:00<00:00,  1.15it/s]\n"
     ]
    },
    {
     "name": "stdout",
     "output_type": "stream",
     "text": [
      "[✓] Front Hood Lift Supports for Jaguar XJ8 XJR Vanden Plas Super V8 Black | ARANA | ASIN: B07CGNQCCJ | Price: $23.99 | Rating: 4.5 | Reviews: 7727\n"
     ]
    },
    {
     "name": "stderr",
     "output_type": "stream",
     "text": [
      "100%|██████████| 1/1 [00:00<00:00,  1.64it/s]\n"
     ]
    },
    {
     "name": "stdout",
     "output_type": "stream",
     "text": [
      "[✓] Front Hood Lift Supports for Jaguar XJ8 XJR Vanden Plas Super V8 Black | Suspensia | ASIN: B0C75WP31W | Price: $48.92 | Rating: N/A | Reviews: N/A\n"
     ]
    },
    {
     "name": "stderr",
     "output_type": "stream",
     "text": [
      "100%|██████████| 1/1 [00:01<00:00,  1.67s/it]\n"
     ]
    },
    {
     "name": "stdout",
     "output_type": "stream",
     "text": [
      "[✓] Hood Lift Supports To Ford Expedition For Replacement Steel Hoods Only | ARANA | ASIN: B088H61TWZ | Price: $14.99 | Rating: 4.5 | Reviews: 7721\n"
     ]
    },
    {
     "name": "stderr",
     "output_type": "stream",
     "text": [
      "100%|██████████| 1/1 [00:00<00:00,  1.52it/s]\n"
     ]
    },
    {
     "name": "stdout",
     "output_type": "stream",
     "text": [
      "[✓] Hood Lift Supports To Ford Expedition For Replacement Steel Hoods Only | Suspensia | ASIN: B0C75WP31W | Price: $48.92 | Rating: N/A | Reviews: N/A\n"
     ]
    },
    {
     "name": "stderr",
     "output_type": "stream",
     "text": [
      "100%|██████████| 1/1 [00:00<00:00,  1.36it/s]\n"
     ]
    },
    {
     "name": "stdout",
     "output_type": "stream",
     "text": [
      "[✓] Rear Trunk Lid Lift Supports to Jaguar Xf to Jaguar Xfr | ARANA | ASIN: B088H61TWZ | Price: $14.99 | Rating: 4.5 | Reviews: 7721\n"
     ]
    },
    {
     "name": "stderr",
     "output_type": "stream",
     "text": [
      "100%|██████████| 1/1 [00:02<00:00,  2.13s/it]\n"
     ]
    },
    {
     "name": "stdout",
     "output_type": "stream",
     "text": [
      "[✓] Rear Trunk Lid Lift Supports to Jaguar Xf to Jaguar Xfr | Suspensia | ASIN: B0C75WP31W | Price: $48.92 | Rating: N/A | Reviews: N/A\n"
     ]
    },
    {
     "name": "stderr",
     "output_type": "stream",
     "text": [
      "100%|██████████| 1/1 [00:01<00:00,  1.85s/it]\n"
     ]
    },
    {
     "name": "stdout",
     "output_type": "stream",
     "text": [
      "[✓] Front Hood Lift Supports to BMW X1 | ARANA | ASIN: B0C33PJ3C8 | Price: $23.99 | Rating: 4.5 | Reviews: 7721\n"
     ]
    },
    {
     "name": "stderr",
     "output_type": "stream",
     "text": [
      "100%|██████████| 1/1 [00:01<00:00,  1.12s/it]\n"
     ]
    },
    {
     "name": "stdout",
     "output_type": "stream",
     "text": [
      "[✓] Front Hood Lift Supports to BMW X1 | Suspensia | ASIN: B0C75WP31W | Price: $48.92 | Rating: N/A | Reviews: N/A\n"
     ]
    },
    {
     "name": "stderr",
     "output_type": "stream",
     "text": [
      "100%|██████████| 1/1 [00:00<00:00,  1.55it/s]\n"
     ]
    },
    {
     "name": "stdout",
     "output_type": "stream",
     "text": [
      "[✓] Front Hood Lift Supports Fits Ford Explorer/Explorer Sport Trac/Mercury Mountaineer Model Years Below | ARANA | ASIN: B0C33PJ3C8 | Price: $23.99 | Rating: 4.5 | Reviews: 7721\n"
     ]
    },
    {
     "name": "stderr",
     "output_type": "stream",
     "text": [
      "100%|██████████| 1/1 [00:00<00:00,  1.30it/s]\n"
     ]
    },
    {
     "name": "stdout",
     "output_type": "stream",
     "text": [
      "[✓] Front Hood Lift Supports Fits Ford Explorer/Explorer Sport Trac/Mercury Mountaineer Model Years Below | Suspensia | ASIN: B0C75WP31W | Price: $48.92 | Rating: N/A | Reviews: N/A\n"
     ]
    },
    {
     "name": "stderr",
     "output_type": "stream",
     "text": [
      "100%|██████████| 1/1 [00:02<00:00,  2.93s/it]\n"
     ]
    },
    {
     "name": "stdout",
     "output_type": "stream",
     "text": [
      "[✓] Front Hood Lift Supports to Ford Expedition to Ford F to Ford F W Aftermarket Steel Hood | ARANA | ASIN: B0D7VS524Y | Price: $21.99 | Rating: 4.5 | Reviews: 7721\n"
     ]
    },
    {
     "name": "stderr",
     "output_type": "stream",
     "text": [
      "100%|██████████| 1/1 [00:00<00:00,  1.44it/s]\n"
     ]
    },
    {
     "name": "stdout",
     "output_type": "stream",
     "text": [
      "[✓] Front Hood Lift Supports to Ford Expedition to Ford F to Ford F W Aftermarket Steel Hood | Suspensia | ASIN: B0C75WP31W | Price: $48.92 | Rating: N/A | Reviews: N/A\n"
     ]
    },
    {
     "name": "stderr",
     "output_type": "stream",
     "text": [
      "100%|██████████| 1/1 [00:00<00:00,  1.88it/s]\n"
     ]
    },
    {
     "name": "stdout",
     "output_type": "stream",
     "text": [
      "[✓] Hood Lift Supports To Ford F 10Th Gen To Ford Expedition To Ford F 10Th Gen None Super Duty .Inches Ext | ARANA | ASIN: B0D7VS524Y | Price: $21.99 | Rating: 4.5 | Reviews: 7721\n"
     ]
    },
    {
     "name": "stderr",
     "output_type": "stream",
     "text": [
      "100%|██████████| 1/1 [00:00<00:00,  1.38it/s]\n"
     ]
    },
    {
     "name": "stdout",
     "output_type": "stream",
     "text": [
      "[✓] Hood Lift Supports To Ford F 10Th Gen To Ford Expedition To Ford F 10Th Gen None Super Duty .Inches Ext | Suspensia | ASIN: B0C75WP31W | Price: $48.92 | Rating: N/A | Reviews: N/A\n"
     ]
    },
    {
     "name": "stderr",
     "output_type": "stream",
     "text": [
      "100%|██████████| 1/1 [00:01<00:00,  1.48s/it]\n"
     ]
    },
    {
     "name": "stdout",
     "output_type": "stream",
     "text": [
      "[✓] Trunk Lid Lift Supports To Dodge Avenger W Spoiler | ARANA | ASIN: B0B4P5VH7Y | Price: $39.99 | Rating: 4.5 | Reviews: 7725\n"
     ]
    },
    {
     "name": "stderr",
     "output_type": "stream",
     "text": [
      "100%|██████████| 1/1 [00:00<00:00,  1.65it/s]\n"
     ]
    },
    {
     "name": "stdout",
     "output_type": "stream",
     "text": [
      "[✓] Trunk Lid Lift Supports To Dodge Avenger W Spoiler | Suspensia | ASIN: B0C75WP31W | Price: $48.92 | Rating: N/A | Reviews: N/A\n"
     ]
    },
    {
     "name": "stderr",
     "output_type": "stream",
     "text": [
      "100%|██████████| 1/1 [00:00<00:00,  1.42it/s]\n"
     ]
    },
    {
     "name": "stdout",
     "output_type": "stream",
     "text": [
      "[✓] Hood Lift Support To Jeep Grand Cherokee | ARANA | ASIN: B0B4P5VH7Y | Price: $39.99 | Rating: 4.5 | Reviews: 7725\n"
     ]
    },
    {
     "name": "stderr",
     "output_type": "stream",
     "text": [
      "100%|██████████| 1/1 [00:00<00:00,  1.55it/s]\n"
     ]
    },
    {
     "name": "stdout",
     "output_type": "stream",
     "text": [
      "[✓] Hood Lift Support To Jeep Grand Cherokee | Suspensia | ASIN: B0C75WP31W | Price: $48.92 | Rating: N/A | Reviews: N/A\n"
     ]
    },
    {
     "name": "stderr",
     "output_type": "stream",
     "text": [
      "100%|██████████| 1/1 [00:00<00:00,  1.57it/s]\n"
     ]
    },
    {
     "name": "stdout",
     "output_type": "stream",
     "text": [
      "[✓] Trunk Lid Lift Supports Bmw Series Model Years Below | ARANA | ASIN: B0B4P5VH7Y | Price: $39.99 | Rating: 4.5 | Reviews: 7725\n"
     ]
    },
    {
     "name": "stderr",
     "output_type": "stream",
     "text": [
      "100%|██████████| 1/1 [00:00<00:00,  1.59it/s]\n"
     ]
    },
    {
     "name": "stdout",
     "output_type": "stream",
     "text": [
      "[✓] Trunk Lid Lift Supports Bmw Series Model Years Below | Suspensia | ASIN: B0C75WP31W | Price: $48.92 | Rating: N/A | Reviews: N/A\n"
     ]
    },
    {
     "name": "stderr",
     "output_type": "stream",
     "text": [
      "100%|██████████| 1/1 [00:03<00:00,  3.03s/it]\n"
     ]
    },
    {
     "name": "stdout",
     "output_type": "stream",
     "text": [
      "[✓] Trunk Lid Lift Supports Fits to Dodge Avenger Without Spoiler | ARANA | ASIN: B0D2HJ2JDH | Price: $49.99 | Rating: 4.5 | Reviews: 7721\n"
     ]
    },
    {
     "name": "stderr",
     "output_type": "stream",
     "text": [
      "100%|██████████| 1/1 [00:00<00:00,  1.46it/s]\n"
     ]
    },
    {
     "name": "stdout",
     "output_type": "stream",
     "text": [
      "[✓] Trunk Lid Lift Supports Fits to Dodge Avenger Without Spoiler | Suspensia | ASIN: B0C75WP31W | Price: $48.92 | Rating: N/A | Reviews: N/A\n"
     ]
    },
    {
     "name": "stderr",
     "output_type": "stream",
     "text": [
      "100%|██████████| 1/1 [00:01<00:00,  1.54s/it]\n"
     ]
    },
    {
     "name": "stdout",
     "output_type": "stream",
     "text": [
      "[✓] Trunk Lid Lift Supports to Pontiac Firebird Convertible to Chevrolet Camaro Convertible | ARANA | ASIN: B0D7VK2XG5 | Price: $39.99 | Rating: 4.5 | Reviews: 7721\n"
     ]
    },
    {
     "name": "stderr",
     "output_type": "stream",
     "text": [
      "100%|██████████| 1/1 [00:00<00:00,  1.17it/s]\n"
     ]
    },
    {
     "name": "stdout",
     "output_type": "stream",
     "text": [
      "[✓] Trunk Lid Lift Supports to Pontiac Firebird Convertible to Chevrolet Camaro Convertible | Suspensia | ASIN: B0C75WP31W | Price: $48.92 | Rating: N/A | Reviews: N/A\n"
     ]
    },
    {
     "name": "stderr",
     "output_type": "stream",
     "text": [
      "100%|██████████| 1/1 [00:00<00:00,  1.20it/s]\n"
     ]
    },
    {
     "name": "stdout",
     "output_type": "stream",
     "text": [
      "[✓] Back Glass Lift Supports To Kia Sorento | ARANA | ASIN: B0D7VK2XG5 | Price: $39.99 | Rating: 4.5 | Reviews: 7721\n"
     ]
    },
    {
     "name": "stderr",
     "output_type": "stream",
     "text": [
      "100%|██████████| 1/1 [00:00<00:00,  1.41it/s]\n"
     ]
    },
    {
     "name": "stdout",
     "output_type": "stream",
     "text": [
      "[✓] Back Glass Lift Supports To Kia Sorento | Suspensia | ASIN: B0C75WP31W | Price: $48.92 | Rating: N/A | Reviews: N/A\n"
     ]
    },
    {
     "name": "stderr",
     "output_type": "stream",
     "text": [
      "100%|██████████| 1/1 [00:00<00:00,  1.73it/s]\n"
     ]
    },
    {
     "name": "stdout",
     "output_type": "stream",
     "text": [
      "[✓] Liftgate Lift Supports To Ford Excursion 4Wd | ARANA | ASIN: B0D7VK2XG5 | Price: $39.99 | Rating: 4.5 | Reviews: 7721\n"
     ]
    },
    {
     "name": "stderr",
     "output_type": "stream",
     "text": [
      "100%|██████████| 1/1 [00:00<00:00,  1.61it/s]\n"
     ]
    },
    {
     "name": "stdout",
     "output_type": "stream",
     "text": [
      "[✓] Liftgate Lift Supports To Ford Excursion 4Wd | Suspensia | ASIN: B0C75WP31W | Price: $48.92 | Rating: N/A | Reviews: N/A\n"
     ]
    },
    {
     "name": "stderr",
     "output_type": "stream",
     "text": [
      "100%|██████████| 1/1 [00:00<00:00,  1.87it/s]\n"
     ]
    },
    {
     "name": "stdout",
     "output_type": "stream",
     "text": [
      "[✓] Front Hood Lift Supports to Acura Tl | ARANA | ASIN: B0D7VK2XG5 | Price: $39.99 | Rating: 4.5 | Reviews: 7721\n"
     ]
    },
    {
     "name": "stderr",
     "output_type": "stream",
     "text": [
      "100%|██████████| 1/1 [00:00<00:00,  1.38it/s]\n"
     ]
    },
    {
     "name": "stdout",
     "output_type": "stream",
     "text": [
      "[✓] Front Hood Lift Supports to Acura Tl | Suspensia | ASIN: B0C75WP31W | Price: $48.92 | Rating: N/A | Reviews: N/A\n"
     ]
    },
    {
     "name": "stderr",
     "output_type": "stream",
     "text": [
      "100%|██████████| 1/1 [00:01<00:00,  2.00s/it]\n"
     ]
    },
    {
     "name": "stdout",
     "output_type": "stream",
     "text": [
      "[✓] Hood Lift Supports To Acura Tl | ARANA | ASIN: B08CNGT5Z7 | Price: $32.99 | Rating: 4.5 | Reviews: 7721\n"
     ]
    },
    {
     "name": "stderr",
     "output_type": "stream",
     "text": [
      "100%|██████████| 1/1 [00:02<00:00,  2.11s/it]\n"
     ]
    },
    {
     "name": "stdout",
     "output_type": "stream",
     "text": [
      "[✓] Hood Lift Supports To Acura Tl | Suspensia | ASIN: B0C75WP31W | Price: $48.92 | Rating: N/A | Reviews: N/A\n"
     ]
    },
    {
     "name": "stderr",
     "output_type": "stream",
     "text": [
      "100%|██████████| 1/1 [00:01<00:00,  1.77s/it]\n"
     ]
    },
    {
     "name": "stdout",
     "output_type": "stream",
     "text": [
      "[✓] Original Lift Strut Extended Length .Inch Force Lbs Direct Replacement for SG459028 Replaces Universal Gas Prop Spring Strut for RV Bed Tonneau Cover Storage Box | ARANA | ASIN: B08CNGT5Z7 | Price: $32.99 | Rating: 4.5 | Reviews: 7721\n"
     ]
    },
    {
     "name": "stderr",
     "output_type": "stream",
     "text": [
      "100%|██████████| 1/1 [00:00<00:00,  1.18it/s]\n"
     ]
    },
    {
     "name": "stdout",
     "output_type": "stream",
     "text": [
      "[✓] Original Lift Strut Extended Length .Inch Force Lbs Direct Replacement for SG459028 Replaces Universal Gas Prop Spring Strut for RV Bed Tonneau Cover Storage Box | Suspensia | ASIN: B0C75WP31W | Price: $48.92 | Rating: N/A | Reviews: N/A\n"
     ]
    },
    {
     "name": "stderr",
     "output_type": "stream",
     "text": [
      "100%|██████████| 1/1 [00:02<00:00,  2.73s/it]\n"
     ]
    },
    {
     "name": "stdout",
     "output_type": "stream",
     "text": [
      "[✓] Hatch Lift Supports To Mitsubishi Eclipse Gs Gt Rs With Wiper Or Spoiler | ARANA | ASIN: B08CV97X67 | Price: $22.99 | Rating: 4.5 | Reviews: 7712\n"
     ]
    },
    {
     "name": "stderr",
     "output_type": "stream",
     "text": [
      "100%|██████████| 1/1 [00:00<00:00,  1.62it/s]\n"
     ]
    },
    {
     "name": "stdout",
     "output_type": "stream",
     "text": [
      "[✓] Hatch Lift Supports To Mitsubishi Eclipse Gs Gt Rs With Wiper Or Spoiler | Suspensia | ASIN: B0C75WP31W | Price: $48.92 | Rating: N/A | Reviews: N/A\n"
     ]
    },
    {
     "name": "stderr",
     "output_type": "stream",
     "text": [
      "100%|██████████| 1/1 [00:00<00:00,  1.18it/s]\n"
     ]
    },
    {
     "name": "stdout",
     "output_type": "stream",
     "text": [
      "[✓] Hood Lift Supports To Toyota Camry / To Lexus Es300 | ARANA | ASIN: B08CV97X67 | Price: $22.99 | Rating: 4.5 | Reviews: 7712\n"
     ]
    },
    {
     "name": "stderr",
     "output_type": "stream",
     "text": [
      "100%|██████████| 1/1 [00:00<00:00,  1.45it/s]\n"
     ]
    },
    {
     "name": "stdout",
     "output_type": "stream",
     "text": [
      "[✓] Hood Lift Supports To Toyota Camry / To Lexus Es300 | Suspensia | ASIN: B0C75WP31W | Price: $48.92 | Rating: N/A | Reviews: N/A\n"
     ]
    },
    {
     "name": "stderr",
     "output_type": "stream",
     "text": [
      "100%|██████████| 1/1 [00:01<00:00,  1.30s/it]\n"
     ]
    },
    {
     "name": "stdout",
     "output_type": "stream",
     "text": [
      "[✓] Front Hood Lift Supports to Ford F | ARANA | ASIN: B0D2HP5WM8 | Price: $41.99 | Rating: 4.5 | Reviews: 7725\n"
     ]
    },
    {
     "name": "stderr",
     "output_type": "stream",
     "text": [
      "100%|██████████| 1/1 [00:00<00:00,  1.57it/s]\n"
     ]
    },
    {
     "name": "stdout",
     "output_type": "stream",
     "text": [
      "[✓] Front Hood Lift Supports to Ford F | Suspensia | ASIN: B0C75WP31W | Price: $48.92 | Rating: N/A | Reviews: N/A\n"
     ]
    },
    {
     "name": "stderr",
     "output_type": "stream",
     "text": [
      "100%|██████████| 1/1 [00:00<00:00,  1.61it/s]\n"
     ]
    },
    {
     "name": "stdout",
     "output_type": "stream",
     "text": [
      "[✓] Front Hood Lift Supports Fits to Nissan Titan XD | ARANA | ASIN: B0D2HP5WM8 | Price: $41.99 | Rating: 4.5 | Reviews: 7725\n"
     ]
    },
    {
     "name": "stderr",
     "output_type": "stream",
     "text": [
      "100%|██████████| 1/1 [00:00<00:00,  1.59it/s]\n"
     ]
    },
    {
     "name": "stdout",
     "output_type": "stream",
     "text": [
      "[✓] Front Hood Lift Supports Fits to Nissan Titan XD | Suspensia | ASIN: B0C75WP31W | Price: $48.92 | Rating: N/A | Reviews: N/A\n"
     ]
    },
    {
     "name": "stderr",
     "output_type": "stream",
     "text": [
      "100%|██████████| 1/1 [00:01<00:00,  1.84s/it]\n"
     ]
    },
    {
     "name": "stdout",
     "output_type": "stream",
     "text": [
      "[✓] Trunk Lift Supports Lexus Is250 Is350 CONVERTIBLE | ARANA | ASIN: B0D4YT7QCQ | Price: $35.99 | Rating: 4.5 | Reviews: 7713\n"
     ]
    },
    {
     "name": "stderr",
     "output_type": "stream",
     "text": [
      "100%|██████████| 1/1 [00:00<00:00,  1.32it/s]\n"
     ]
    },
    {
     "name": "stdout",
     "output_type": "stream",
     "text": [
      "[✓] Trunk Lift Supports Lexus Is250 Is350 CONVERTIBLE | Suspensia | ASIN: B0C75WP31W | Price: $48.92 | Rating: N/A | Reviews: N/A\n"
     ]
    },
    {
     "name": "stderr",
     "output_type": "stream",
     "text": [
      "100%|██████████| 1/1 [00:00<00:00,  1.56it/s]\n"
     ]
    },
    {
     "name": "stdout",
     "output_type": "stream",
     "text": [
      "[✓] Rear Liftgate Lift Supports Compatible With: To Nissan Leaf Without Brackets | ARANA | ASIN: B0D4YT7QCQ | Price: $35.99 | Rating: 4.5 | Reviews: 7713\n"
     ]
    },
    {
     "name": "stderr",
     "output_type": "stream",
     "text": [
      "100%|██████████| 1/1 [00:00<00:00,  1.36it/s]\n"
     ]
    },
    {
     "name": "stdout",
     "output_type": "stream",
     "text": [
      "[✓] Rear Liftgate Lift Supports Compatible With: To Nissan Leaf Without Brackets | Suspensia | ASIN: B0C75WP31W | Price: $48.92 | Rating: N/A | Reviews: N/A\n"
     ]
    },
    {
     "name": "stderr",
     "output_type": "stream",
     "text": [
      "100%|██████████| 1/1 [00:01<00:00,  1.53s/it]\n"
     ]
    },
    {
     "name": "stdout",
     "output_type": "stream",
     "text": [
      "[✓] Hood Lift Supports Compatible With: Buick Envision | ARANA | ASIN: B08SQWND4Z | Price: $23.99 | Rating: 4.5 | Reviews: 7725\n"
     ]
    },
    {
     "name": "stderr",
     "output_type": "stream",
     "text": [
      "100%|██████████| 1/1 [00:02<00:00,  2.12s/it]\n"
     ]
    },
    {
     "name": "stdout",
     "output_type": "stream",
     "text": [
      "[✓] Hood Lift Supports Compatible With: Buick Envision | Suspensia | ASIN: B0C75WP31W | Price: $48.92 | Rating: N/A | Reviews: N/A\n"
     ]
    },
    {
     "name": "stderr",
     "output_type": "stream",
     "text": [
      "100%|██████████| 1/1 [00:01<00:00,  1.53s/it]\n"
     ]
    },
    {
     "name": "stdout",
     "output_type": "stream",
     "text": [
      "[✓] Front Hood Lift Supports Fits to Nissan Murano | ARANA | ASIN: B0D1G4JSD5 | Price: $19.99 | Rating: 4.5 | Reviews: 7725\n"
     ]
    },
    {
     "name": "stderr",
     "output_type": "stream",
     "text": [
      "100%|██████████| 1/1 [00:00<00:00,  1.57it/s]\n"
     ]
    },
    {
     "name": "stdout",
     "output_type": "stream",
     "text": [
      "[✓] Front Hood Lift Supports Fits to Nissan Murano | Suspensia | ASIN: B0C75WP31W | Price: $48.92 | Rating: N/A | Reviews: N/A\n"
     ]
    },
    {
     "name": "stderr",
     "output_type": "stream",
     "text": [
      "100%|██████████| 1/1 [00:00<00:00,  1.45it/s]\n"
     ]
    },
    {
     "name": "stdout",
     "output_type": "stream",
     "text": [
      "[✓] Hood Lift Supports To Jeep Cherokee | ARANA | ASIN: B0D1G4JSD5 | Price: $19.99 | Rating: 4.5 | Reviews: 7725\n"
     ]
    },
    {
     "name": "stderr",
     "output_type": "stream",
     "text": [
      "100%|██████████| 1/1 [00:00<00:00,  1.34it/s]\n"
     ]
    },
    {
     "name": "stdout",
     "output_type": "stream",
     "text": [
      "[✓] Hood Lift Supports To Jeep Cherokee | Suspensia | ASIN: B0C75WP31W | Price: $48.92 | Rating: N/A | Reviews: N/A\n"
     ]
    },
    {
     "name": "stderr",
     "output_type": "stream",
     "text": [
      "100%|██████████| 1/1 [00:00<00:00,  1.44it/s]\n"
     ]
    },
    {
     "name": "stdout",
     "output_type": "stream",
     "text": [
      "[✓] Gas Props Lid Lift Supports .Inches 25lbs | ARANA | ASIN: B0D1G4JSD5 | Price: $19.99 | Rating: 4.5 | Reviews: 7725\n"
     ]
    },
    {
     "name": "stderr",
     "output_type": "stream",
     "text": [
      "100%|██████████| 1/1 [00:00<00:00,  1.52it/s]\n"
     ]
    },
    {
     "name": "stdout",
     "output_type": "stream",
     "text": [
      "[✓] Gas Props Lid Lift Supports .Inches 25lbs | Suspensia | ASIN: B0C75WP31W | Price: $48.92 | Rating: N/A | Reviews: N/A\n"
     ]
    },
    {
     "name": "stderr",
     "output_type": "stream",
     "text": [
      "100%|██████████| 1/1 [00:01<00:00,  1.52s/it]\n"
     ]
    },
    {
     "name": "stdout",
     "output_type": "stream",
     "text": [
      "[✓] Hatch Lift Supports Compatible With Kia Picanto Kia Picanto | ARANA | ASIN: B07CGKD9XP | Price: $19.59 | Rating: 4.5 | Reviews: 7721\n"
     ]
    },
    {
     "name": "stderr",
     "output_type": "stream",
     "text": [
      "100%|██████████| 1/1 [00:00<00:00,  1.62it/s]\n"
     ]
    },
    {
     "name": "stdout",
     "output_type": "stream",
     "text": [
      "[✓] Hatch Lift Supports Compatible With Kia Picanto Kia Picanto | Suspensia | ASIN: B0C75WP31W | Price: $48.92 | Rating: N/A | Reviews: N/A\n"
     ]
    },
    {
     "name": "stderr",
     "output_type": "stream",
     "text": [
      "100%|██████████| 1/1 [00:00<00:00,  1.19it/s]\n"
     ]
    },
    {
     "name": "stdout",
     "output_type": "stream",
     "text": [
      "[✓] Front Hood Lift Supports To Infiniti Fx35 To Infiniti Fx45 | ARANA | ASIN: B07CGKD9XP | Price: $19.59 | Rating: 4.5 | Reviews: 7721\n"
     ]
    },
    {
     "name": "stderr",
     "output_type": "stream",
     "text": [
      "100%|██████████| 1/1 [00:00<00:00,  1.59it/s]\n"
     ]
    },
    {
     "name": "stdout",
     "output_type": "stream",
     "text": [
      "[✓] Front Hood Lift Supports To Infiniti Fx35 To Infiniti Fx45 | Suspensia | ASIN: B0C75WP31W | Price: $48.92 | Rating: N/A | Reviews: N/A\n"
     ]
    },
    {
     "name": "stderr",
     "output_type": "stream",
     "text": [
      "100%|██████████| 1/1 [00:00<00:00,  1.16it/s]\n"
     ]
    },
    {
     "name": "stdout",
     "output_type": "stream",
     "text": [
      "[✓] Hood Lift Support To Hyundai Sonata Only Hybrid | ARANA | ASIN: B07CGKD9XP | Price: $19.59 | Rating: 4.5 | Reviews: 7721\n"
     ]
    },
    {
     "name": "stderr",
     "output_type": "stream",
     "text": [
      "100%|██████████| 1/1 [00:00<00:00,  1.65it/s]\n"
     ]
    },
    {
     "name": "stdout",
     "output_type": "stream",
     "text": [
      "[✓] Hood Lift Support To Hyundai Sonata Only Hybrid | Suspensia | ASIN: B0C75WP31W | Price: $48.92 | Rating: N/A | Reviews: N/A\n"
     ]
    },
    {
     "name": "stderr",
     "output_type": "stream",
     "text": [
      "100%|██████████| 1/1 [00:01<00:00,  1.63s/it]\n"
     ]
    },
    {
     "name": "stdout",
     "output_type": "stream",
     "text": [
      "[✓] Front Hood Lift Supports Compatible with to Nissan 300Zx to Datsun 300Zx with Ball Cap End Fitting Swivel Only | ARANA | ASIN: B0BN674WNV | Price: $27.99 | Rating: 4.5 | Reviews: 7721\n"
     ]
    },
    {
     "name": "stderr",
     "output_type": "stream",
     "text": [
      "100%|██████████| 1/1 [00:00<00:00,  1.66it/s]\n"
     ]
    },
    {
     "name": "stdout",
     "output_type": "stream",
     "text": [
      "[✓] Front Hood Lift Supports Compatible with to Nissan 300Zx to Datsun 300Zx with Ball Cap End Fitting Swivel Only | Suspensia | ASIN: B0C75WP31W | Price: $48.92 | Rating: N/A | Reviews: N/A\n"
     ]
    },
    {
     "name": "stderr",
     "output_type": "stream",
     "text": [
      "100%|██████████| 1/1 [00:01<00:00,  1.81s/it]\n"
     ]
    },
    {
     "name": "stdout",
     "output_type": "stream",
     "text": [
      "[✓] Rear Hatch Lift Supports To Toyota Yaris | ARANA | ASIN: B0BN674WNV | Price: $27.99 | Rating: 4.5 | Reviews: 7721\n"
     ]
    },
    {
     "name": "stderr",
     "output_type": "stream",
     "text": [
      "100%|██████████| 1/1 [00:00<00:00,  1.05it/s]\n"
     ]
    },
    {
     "name": "stdout",
     "output_type": "stream",
     "text": [
      "[✓] Rear Hatch Lift Supports To Toyota Yaris | Suspensia | ASIN: B0C75WP31W | Price: $48.92 | Rating: N/A | Reviews: N/A\n"
     ]
    },
    {
     "name": "stderr",
     "output_type": "stream",
     "text": [
      "100%|██████████| 1/1 [00:02<00:00,  2.36s/it]\n"
     ]
    },
    {
     "name": "stdout",
     "output_type": "stream",
     "text": [
      "[✓] Original Lift Strut Extended Length .Inch Force Lbs Direct Replacement for SG306006 Replaces Universal Gas Prop Spring Strut for RV Bed Tonneau Cover Storage Box | ARANA | ASIN: B0869BQ72C | Price: $20.99 | Rating: 4.5 | Reviews: 7725\n"
     ]
    },
    {
     "name": "stderr",
     "output_type": "stream",
     "text": [
      "100%|██████████| 1/1 [00:01<00:00,  1.71s/it]\n"
     ]
    },
    {
     "name": "stdout",
     "output_type": "stream",
     "text": [
      "[✓] Original Lift Strut Extended Length .Inch Force Lbs Direct Replacement for SG306006 Replaces Universal Gas Prop Spring Strut for RV Bed Tonneau Cover Storage Box | Suspensia | ASIN: B0C75WP31W | Price: $48.92 | Rating: N/A | Reviews: N/A\n"
     ]
    },
    {
     "name": "stderr",
     "output_type": "stream",
     "text": [
      "100%|██████████| 1/1 [00:01<00:00,  1.69s/it]\n"
     ]
    },
    {
     "name": "stdout",
     "output_type": "stream",
     "text": [
      "[✓] Front Hood Lift Supports To Hummer H3 To Hummer H3T | ARANA | ASIN: B0869BQ72C | Price: $20.99 | Rating: 4.5 | Reviews: 7725\n"
     ]
    },
    {
     "name": "stderr",
     "output_type": "stream",
     "text": [
      "100%|██████████| 1/1 [00:00<00:00,  1.22it/s]\n"
     ]
    },
    {
     "name": "stdout",
     "output_type": "stream",
     "text": [
      "[✓] Front Hood Lift Supports To Hummer H3 To Hummer H3T | Suspensia | ASIN: B0C75WP31W | Price: $48.92 | Rating: N/A | Reviews: N/A\n"
     ]
    },
    {
     "name": "stderr",
     "output_type": "stream",
     "text": [
      "100%|██████████| 1/1 [00:02<00:00,  2.43s/it]\n"
     ]
    },
    {
     "name": "stdout",
     "output_type": "stream",
     "text": [
      "[✓] Original Lift Strut Extended Length Inch Force Lbs Direct Replacement for SG459030 Replaces Universal Gas Prop Spring Strut for RV Bed Tonneau Cover Storage Box | ARANA | ASIN: B0869BQ72C | Price: $20.99 | Rating: 4.5 | Reviews: 7725\n"
     ]
    },
    {
     "name": "stderr",
     "output_type": "stream",
     "text": [
      "100%|██████████| 1/1 [00:02<00:00,  2.41s/it]\n"
     ]
    },
    {
     "name": "stdout",
     "output_type": "stream",
     "text": [
      "[✓] Original Lift Strut Extended Length Inch Force Lbs Direct Replacement for SG459030 Replaces Universal Gas Prop Spring Strut for RV Bed Tonneau Cover Storage Box | Suspensia | ASIN: B0C75WP31W | Price: $48.92 | Rating: N/A | Reviews: N/A\n"
     ]
    },
    {
     "name": "stderr",
     "output_type": "stream",
     "text": [
      "100%|██████████| 1/1 [00:02<00:00,  2.69s/it]\n"
     ]
    },
    {
     "name": "stdout",
     "output_type": "stream",
     "text": [
      "[✓] Front Hood Lift Supports Bmw Series See Model Years Below | ARANA | ASIN: B0BZCZGP24 | Price: $48.99 | Rating: 4.5 | Reviews: 7725\n"
     ]
    },
    {
     "name": "stderr",
     "output_type": "stream",
     "text": [
      "100%|██████████| 1/1 [00:00<00:00,  1.56it/s]\n"
     ]
    },
    {
     "name": "stdout",
     "output_type": "stream",
     "text": [
      "[✓] Front Hood Lift Supports Bmw Series See Model Years Below | Suspensia | ASIN: B0C75WP31W | Price: $48.92 | Rating: N/A | Reviews: N/A\n"
     ]
    },
    {
     "name": "stderr",
     "output_type": "stream",
     "text": [
      "100%|██████████| 1/1 [00:00<00:00,  1.40it/s]\n"
     ]
    },
    {
     "name": "stdout",
     "output_type": "stream",
     "text": [
      "[✓] Front Hood Lift Supports to Audi A8 Quattro | ARANA | ASIN: B0BZCZGP24 | Price: $48.99 | Rating: 4.5 | Reviews: 7725\n"
     ]
    },
    {
     "name": "stderr",
     "output_type": "stream",
     "text": [
      "100%|██████████| 1/1 [00:00<00:00,  1.45it/s]\n"
     ]
    },
    {
     "name": "stdout",
     "output_type": "stream",
     "text": [
      "[✓] Front Hood Lift Supports to Audi A8 Quattro | Suspensia | ASIN: B0C75WP31W | Price: $48.92 | Rating: N/A | Reviews: N/A\n"
     ]
    },
    {
     "name": "stderr",
     "output_type": "stream",
     "text": [
      "100%|██████████| 1/1 [00:01<00:00,  1.60s/it]\n"
     ]
    },
    {
     "name": "stdout",
     "output_type": "stream",
     "text": [
      "[✓] Hood Lift Supports To Acura Tl To Acura Cl | ARANA | ASIN: B0D2HNTFC7 | Price: $40.99 | Rating: 4.5 | Reviews: 7712\n"
     ]
    },
    {
     "name": "stderr",
     "output_type": "stream",
     "text": [
      "100%|██████████| 1/1 [00:00<00:00,  1.55it/s]\n"
     ]
    },
    {
     "name": "stdout",
     "output_type": "stream",
     "text": [
      "[✓] Hood Lift Supports To Acura Tl To Acura Cl | Suspensia | ASIN: B0C75WP31W | Price: $48.92 | Rating: N/A | Reviews: N/A\n"
     ]
    },
    {
     "name": "stderr",
     "output_type": "stream",
     "text": [
      "100%|██████████| 1/1 [00:00<00:00,  1.66it/s]\n"
     ]
    },
    {
     "name": "stdout",
     "output_type": "stream",
     "text": [
      "[✓] Gas Props Lid Lift Supports Inches 26Lb | ARANA | ASIN: B0D2HNTFC7 | Price: $40.99 | Rating: 4.5 | Reviews: 7712\n"
     ]
    },
    {
     "name": "stderr",
     "output_type": "stream",
     "text": [
      "100%|██████████| 1/1 [00:00<00:00,  1.31it/s]\n"
     ]
    },
    {
     "name": "stdout",
     "output_type": "stream",
     "text": [
      "[✓] Gas Props Lid Lift Supports Inches 26Lb | Suspensia | ASIN: B0C75WP31W | Price: $48.92 | Rating: N/A | Reviews: N/A\n"
     ]
    },
    {
     "name": "stderr",
     "output_type": "stream",
     "text": [
      "100%|██████████| 1/1 [00:00<00:00,  1.61it/s]\n"
     ]
    },
    {
     "name": "stdout",
     "output_type": "stream",
     "text": [
      "[✓] Back Glass Lift Supports to Jeep Grand Cherokee | ARANA | ASIN: B0D2HNTFC7 | Price: $40.99 | Rating: 4.5 | Reviews: 7712\n"
     ]
    },
    {
     "name": "stderr",
     "output_type": "stream",
     "text": [
      "100%|██████████| 1/1 [00:00<00:00,  1.64it/s]\n"
     ]
    },
    {
     "name": "stdout",
     "output_type": "stream",
     "text": [
      "[✓] Back Glass Lift Supports to Jeep Grand Cherokee | Suspensia | ASIN: B0C75WP31W | Price: $48.92 | Rating: N/A | Reviews: N/A\n"
     ]
    },
    {
     "name": "stderr",
     "output_type": "stream",
     "text": [
      "100%|██████████| 1/1 [00:01<00:00,  1.96s/it]\n"
     ]
    },
    {
     "name": "stdout",
     "output_type": "stream",
     "text": [
      "[✓] Hood Lift Supports To Nissan Maxima | ARANA | ASIN: B0D2HNTFC7 | Price: $40.99 | Rating: 4.5 | Reviews: 7712\n"
     ]
    },
    {
     "name": "stderr",
     "output_type": "stream",
     "text": [
      "100%|██████████| 1/1 [00:00<00:00,  1.31it/s]\n"
     ]
    },
    {
     "name": "stdout",
     "output_type": "stream",
     "text": [
      "[✓] Hood Lift Supports To Nissan Maxima | Suspensia | ASIN: B0C75WP31W | Price: $48.92 | Rating: N/A | Reviews: N/A\n"
     ]
    },
    {
     "name": "stderr",
     "output_type": "stream",
     "text": [
      "100%|██████████| 1/1 [00:00<00:00,  1.58it/s]\n"
     ]
    },
    {
     "name": "stdout",
     "output_type": "stream",
     "text": [
      "[✓] Rear Hatch Trunk Lift Supports To Hyundai Veloster | ARANA | ASIN: B0D2HNTFC7 | Price: $40.99 | Rating: 4.5 | Reviews: 7712\n"
     ]
    },
    {
     "name": "stderr",
     "output_type": "stream",
     "text": [
      "100%|██████████| 1/1 [00:00<00:00,  1.28it/s]\n"
     ]
    },
    {
     "name": "stdout",
     "output_type": "stream",
     "text": [
      "[✓] Rear Hatch Trunk Lift Supports To Hyundai Veloster | Suspensia | ASIN: B0C75WP31W | Price: $48.92 | Rating: N/A | Reviews: N/A\n"
     ]
    },
    {
     "name": "stderr",
     "output_type": "stream",
     "text": [
      "100%|██████████| 1/1 [00:00<00:00,  1.46it/s]\n"
     ]
    },
    {
     "name": "stdout",
     "output_type": "stream",
     "text": [
      "[✓] Rear Hatch Lift Supports Fits To Chevrolet Aveo To Chevrolet Aveo5 | ARANA | ASIN: B0D2HNTFC7 | Price: $40.99 | Rating: 4.5 | Reviews: 7712\n"
     ]
    },
    {
     "name": "stderr",
     "output_type": "stream",
     "text": [
      "100%|██████████| 1/1 [00:00<00:00,  1.24it/s]\n"
     ]
    },
    {
     "name": "stdout",
     "output_type": "stream",
     "text": [
      "[✓] Rear Hatch Lift Supports Fits To Chevrolet Aveo To Chevrolet Aveo5 | Suspensia | ASIN: B0C75WP31W | Price: $48.92 | Rating: N/A | Reviews: N/A\n"
     ]
    },
    {
     "name": "stderr",
     "output_type": "stream",
     "text": [
      "100%|██████████| 1/1 [00:00<00:00,  1.34it/s]\n"
     ]
    },
    {
     "name": "stdout",
     "output_type": "stream",
     "text": [
      "[✓] Front Hood Lift Supports Compatible With: To Infiniti M35H / To Infiniti M37 and Infiniti M56 / To Infiniti Q70 / To Infiniti Q70L | ARANA | ASIN: B0D2HNTFC7 | Price: $40.99 | Rating: 4.5 | Reviews: 7712\n"
     ]
    },
    {
     "name": "stderr",
     "output_type": "stream",
     "text": [
      "100%|██████████| 1/1 [00:00<00:00,  1.55it/s]\n"
     ]
    },
    {
     "name": "stdout",
     "output_type": "stream",
     "text": [
      "[✓] Front Hood Lift Supports Compatible With: To Infiniti M35H / To Infiniti M37 and Infiniti M56 / To Infiniti Q70 / To Infiniti Q70L | Suspensia | ASIN: B0C75WP31W | Price: $48.92 | Rating: N/A | Reviews: N/A\n"
     ]
    },
    {
     "name": "stderr",
     "output_type": "stream",
     "text": [
      "100%|██████████| 1/1 [00:01<00:00,  1.31s/it]\n"
     ]
    },
    {
     "name": "stdout",
     "output_type": "stream",
     "text": [
      "[✓] Front Hood Lift Supports Fits To Ford F | ARANA | ASIN: B0D2HNTFC7 | Price: $40.99 | Rating: 4.5 | Reviews: 7712\n"
     ]
    },
    {
     "name": "stderr",
     "output_type": "stream",
     "text": [
      "100%|██████████| 1/1 [00:01<00:00,  1.10s/it]\n"
     ]
    },
    {
     "name": "stdout",
     "output_type": "stream",
     "text": [
      "[✓] Front Hood Lift Supports Fits To Ford F | Suspensia | ASIN: B0C75WP31W | Price: $48.92 | Rating: N/A | Reviews: N/A\n"
     ]
    },
    {
     "name": "stderr",
     "output_type": "stream",
     "text": [
      "100%|██████████| 1/1 [00:00<00:00,  1.56it/s]\n"
     ]
    },
    {
     "name": "stdout",
     "output_type": "stream",
     "text": [
      "[✓] Hood Lift Supports Fits To Kia Carnival / To Kia Sedona | ARANA | ASIN: B0D2HNTFC7 | Price: $40.99 | Rating: 4.5 | Reviews: 7712\n"
     ]
    },
    {
     "name": "stderr",
     "output_type": "stream",
     "text": [
      "100%|██████████| 1/1 [00:00<00:00,  1.59it/s]\n"
     ]
    },
    {
     "name": "stdout",
     "output_type": "stream",
     "text": [
      "[✓] Hood Lift Supports Fits To Kia Carnival / To Kia Sedona | Suspensia | ASIN: B0C75WP31W | Price: $48.92 | Rating: N/A | Reviews: N/A\n"
     ]
    },
    {
     "name": "stderr",
     "output_type": "stream",
     "text": [
      "100%|██████████| 1/1 [00:01<00:00,  1.01s/it]\n"
     ]
    },
    {
     "name": "stdout",
     "output_type": "stream",
     "text": [
      "[✓] Rear Trunk Lid Lift Supports to Hyundai Azera | ARANA | ASIN: B0D2HNTFC7 | Price: $40.99 | Rating: 4.5 | Reviews: 7712\n"
     ]
    },
    {
     "name": "stderr",
     "output_type": "stream",
     "text": [
      "  0%|          | 0/1 [00:00<?, ?it/s]Waiting 206832 seconds for additional tokens\n"
     ]
    }
   ],
   "source": [
    "fourth = fetch_products_from_queries(queries.iloc[90:150], allowed_brands,dfname='Products4.csv')"
   ]
  },
  {
   "cell_type": "code",
   "execution_count": null,
   "id": "3e27271b",
   "metadata": {},
   "outputs": [
    {
     "name": "stderr",
     "output_type": "stream",
     "text": [
      "100%|██████████| 1/1 [00:01<00:00,  1.19s/it]\n"
     ]
    },
    {
     "name": "stdout",
     "output_type": "stream",
     "text": [
      "[✓] Hood Lift Supports Fits To Kia Carnival / To Kia Sedona | ARANA | ASIN: B0D2HNTFC7 | Price: $40.99 | Rating: 4.5 | Reviews: 7712\n"
     ]
    },
    {
     "name": "stderr",
     "output_type": "stream",
     "text": [
      "100%|██████████| 1/1 [00:02<00:00,  2.18s/it]\n"
     ]
    },
    {
     "name": "stdout",
     "output_type": "stream",
     "text": [
      "[✓] Hood Lift Supports Fits To Kia Carnival / To Kia Sedona | Suspensia | ASIN: B0C75WP31W | Price: $48.92 | Rating: N/A | Reviews: N/A\n"
     ]
    },
    {
     "name": "stderr",
     "output_type": "stream",
     "text": [
      "100%|██████████| 1/1 [00:00<00:00,  1.47it/s]\n"
     ]
    },
    {
     "name": "stdout",
     "output_type": "stream",
     "text": [
      "[✓] Rear Trunk Lid Lift Supports to Hyundai Azera | ARANA | ASIN: B0D2HNTFC7 | Price: $40.99 | Rating: 4.5 | Reviews: 7712\n"
     ]
    },
    {
     "name": "stderr",
     "output_type": "stream",
     "text": [
      "100%|██████████| 1/1 [00:00<00:00,  1.42it/s]\n"
     ]
    },
    {
     "name": "stdout",
     "output_type": "stream",
     "text": [
      "[✓] Rear Trunk Lid Lift Supports to Hyundai Azera | Suspensia | ASIN: B0C75WP31W | Price: $48.92 | Rating: N/A | Reviews: N/A\n"
     ]
    },
    {
     "name": "stderr",
     "output_type": "stream",
     "text": [
      "100%|██████████| 1/1 [00:00<00:00,  1.44it/s]\n"
     ]
    },
    {
     "name": "stdout",
     "output_type": "stream",
     "text": [
      "[✓] Trunk Lid Lift Supports to Mercedes Benz Sl500 to Sl55 Amg to Sl550 to Sl600 to Sl63 Amg to Sl65 Amg | ARANA | ASIN: B0D2HNTFC7 | Price: $40.99 | Rating: 4.5 | Reviews: 7712\n"
     ]
    },
    {
     "name": "stderr",
     "output_type": "stream",
     "text": [
      "100%|██████████| 1/1 [00:00<00:00,  1.50it/s]\n"
     ]
    },
    {
     "name": "stdout",
     "output_type": "stream",
     "text": [
      "[✓] Trunk Lid Lift Supports to Mercedes Benz Sl500 to Sl55 Amg to Sl550 to Sl600 to Sl63 Amg to Sl65 Amg | Suspensia | ASIN: B0C75WP31W | Price: $48.92 | Rating: N/A | Reviews: N/A\n"
     ]
    },
    {
     "name": "stderr",
     "output_type": "stream",
     "text": [
      "100%|██████████| 1/1 [00:00<00:00,  1.63it/s]\n"
     ]
    },
    {
     "name": "stdout",
     "output_type": "stream",
     "text": [
      "[✓] Front Hood Lift Supports To Ford F 11Th Gen .Inches Ext | ARANA | ASIN: B0D2HNTFC7 | Price: $40.99 | Rating: 4.5 | Reviews: 7712\n"
     ]
    },
    {
     "name": "stderr",
     "output_type": "stream",
     "text": [
      "100%|██████████| 1/1 [00:01<00:00,  1.71s/it]\n"
     ]
    },
    {
     "name": "stdout",
     "output_type": "stream",
     "text": [
      "[✓] Front Hood Lift Supports To Ford F 11Th Gen .Inches Ext | Suspensia | ASIN: B0C75WP31W | Price: $48.92 | Rating: N/A | Reviews: N/A\n"
     ]
    },
    {
     "name": "stderr",
     "output_type": "stream",
     "text": [
      "100%|██████████| 1/1 [00:00<00:00,  1.47it/s]\n"
     ]
    },
    {
     "name": "stdout",
     "output_type": "stream",
     "text": [
      "[✓] Hood Lift Supports to Land Rover Discovery to Land Rover Lr3 to Land Rover Lr4 to Land Rover Range Rover Sport | ARANA | ASIN: B0D2HNTFC7 | Price: $40.99 | Rating: 4.5 | Reviews: 7712\n"
     ]
    },
    {
     "name": "stderr",
     "output_type": "stream",
     "text": [
      "100%|██████████| 1/1 [00:00<00:00,  1.51it/s]\n"
     ]
    },
    {
     "name": "stdout",
     "output_type": "stream",
     "text": [
      "[✓] Hood Lift Supports to Land Rover Discovery to Land Rover Lr3 to Land Rover Lr4 to Land Rover Range Rover Sport | Suspensia | ASIN: B0C75WP31W | Price: $48.92 | Rating: N/A | Reviews: N/A\n"
     ]
    },
    {
     "name": "stderr",
     "output_type": "stream",
     "text": [
      "100%|██████████| 1/1 [00:00<00:00,  1.41it/s]\n"
     ]
    },
    {
     "name": "stdout",
     "output_type": "stream",
     "text": [
      "[✓] Hatch Trunk Lift Supports To Audi Tt With Spoiler | ARANA | ASIN: B0D2HNTFC7 | Price: $40.99 | Rating: 4.5 | Reviews: 7712\n"
     ]
    },
    {
     "name": "stderr",
     "output_type": "stream",
     "text": [
      "100%|██████████| 1/1 [00:00<00:00,  1.52it/s]\n"
     ]
    },
    {
     "name": "stdout",
     "output_type": "stream",
     "text": [
      "[✓] Hatch Trunk Lift Supports To Audi Tt With Spoiler | Suspensia | ASIN: B0C75WP31W | Price: $48.92 | Rating: N/A | Reviews: N/A\n"
     ]
    },
    {
     "name": "stderr",
     "output_type": "stream",
     "text": [
      "100%|██████████| 1/1 [00:00<00:00,  1.13it/s]\n"
     ]
    },
    {
     "name": "stdout",
     "output_type": "stream",
     "text": [
      "[✓] Liftgate Lift Supports to Land Rover Range Rover | ARANA | ASIN: B0D2HNTFC7 | Price: $40.99 | Rating: 4.5 | Reviews: 7712\n"
     ]
    },
    {
     "name": "stderr",
     "output_type": "stream",
     "text": [
      "100%|██████████| 1/1 [00:01<00:00,  1.97s/it]\n"
     ]
    },
    {
     "name": "stdout",
     "output_type": "stream",
     "text": [
      "[✓] Liftgate Lift Supports to Land Rover Range Rover | Suspensia | ASIN: B0C75WP31W | Price: $48.92 | Rating: N/A | Reviews: N/A\n"
     ]
    },
    {
     "name": "stderr",
     "output_type": "stream",
     "text": [
      "100%|██████████| 1/1 [00:00<00:00,  1.47it/s]\n"
     ]
    },
    {
     "name": "stdout",
     "output_type": "stream",
     "text": [
      "[✓] Hood Lift Supports Fits to Nissan Maxima | ARANA | ASIN: B0D2HNTFC7 | Price: $40.99 | Rating: 4.5 | Reviews: 7712\n"
     ]
    },
    {
     "name": "stderr",
     "output_type": "stream",
     "text": [
      "100%|██████████| 1/1 [00:00<00:00,  1.27it/s]\n"
     ]
    },
    {
     "name": "stdout",
     "output_type": "stream",
     "text": [
      "[✓] Hood Lift Supports Fits to Nissan Maxima | Suspensia | ASIN: B0C75WP31W | Price: $48.92 | Rating: N/A | Reviews: N/A\n"
     ]
    },
    {
     "name": "stderr",
     "output_type": "stream",
     "text": [
      "  0%|          | 0/1 [00:00<?, ?it/s]Waiting 206818 seconds for additional tokens\n"
     ]
    }
   ],
   "source": [
    "fifth = fetch_products_from_queries(queries.iloc[140:180], allowed_brands,dfname='Products5.csv')"
   ]
  },
  {
   "cell_type": "code",
   "execution_count": 8,
   "id": "a1634a11",
   "metadata": {},
   "outputs": [
    {
     "name": "stderr",
     "output_type": "stream",
     "text": [
      "100%|██████████| 1/1 [00:03<00:00,  3.21s/it]\n"
     ]
    },
    {
     "name": "stdout",
     "output_type": "stream",
     "text": [
      "[✓] Hood Lift Supports to Land Rover Discovery to Land Rover Lr3 to Land Rover Lr4 to Land Rover Range Rover Sport | ARANA | ASIN: B0D2HNTFC7 | Price: $40.99 | Rating: 4.5 | Reviews: 7712\n"
     ]
    },
    {
     "name": "stderr",
     "output_type": "stream",
     "text": [
      "100%|██████████| 1/1 [00:01<00:00,  1.59s/it]\n"
     ]
    },
    {
     "name": "stdout",
     "output_type": "stream",
     "text": [
      "[✓] Hood Lift Supports to Land Rover Discovery to Land Rover Lr3 to Land Rover Lr4 to Land Rover Range Rover Sport | Suspensia | ASIN: B0C75WP31W | Price: $48.92 | Rating: N/A | Reviews: N/A\n"
     ]
    },
    {
     "name": "stderr",
     "output_type": "stream",
     "text": [
      "100%|██████████| 1/1 [00:01<00:00,  1.65s/it]\n"
     ]
    },
    {
     "name": "stdout",
     "output_type": "stream",
     "text": [
      "[✓] Hatch Trunk Lift Supports To Audi Tt With Spoiler | ARANA | ASIN: B0B7MZPF7Z | Price: $19.99 | Rating: 4.5 | Reviews: 7708\n"
     ]
    },
    {
     "name": "stderr",
     "output_type": "stream",
     "text": [
      "100%|██████████| 1/1 [00:01<00:00,  1.47s/it]\n"
     ]
    },
    {
     "name": "stdout",
     "output_type": "stream",
     "text": [
      "[✓] Hatch Trunk Lift Supports To Audi Tt With Spoiler | Suspensia | ASIN: B0C75WP31W | Price: $48.92 | Rating: N/A | Reviews: N/A\n"
     ]
    },
    {
     "name": "stderr",
     "output_type": "stream",
     "text": [
      "100%|██████████| 1/1 [00:00<00:00,  1.48it/s]\n"
     ]
    },
    {
     "name": "stdout",
     "output_type": "stream",
     "text": [
      "[✓] Liftgate Lift Supports to Land Rover Range Rover | ARANA | ASIN: B0B7MZPF7Z | Price: $19.99 | Rating: 4.5 | Reviews: 7708\n"
     ]
    },
    {
     "name": "stderr",
     "output_type": "stream",
     "text": [
      "100%|██████████| 1/1 [00:00<00:00,  1.15it/s]\n"
     ]
    },
    {
     "name": "stdout",
     "output_type": "stream",
     "text": [
      "[✓] Liftgate Lift Supports to Land Rover Range Rover | Suspensia | ASIN: B0C75WP31W | Price: $48.92 | Rating: N/A | Reviews: N/A\n"
     ]
    },
    {
     "name": "stderr",
     "output_type": "stream",
     "text": [
      "100%|██████████| 1/1 [00:01<00:00,  1.99s/it]\n"
     ]
    },
    {
     "name": "stdout",
     "output_type": "stream",
     "text": [
      "[✓] Hood Lift Supports Fits to Nissan Maxima | ARANA | ASIN: B08698QYFV | Price: $29.99 | Rating: 4.5 | Reviews: 7727\n"
     ]
    },
    {
     "name": "stderr",
     "output_type": "stream",
     "text": [
      "100%|██████████| 1/1 [00:00<00:00,  1.36it/s]\n"
     ]
    },
    {
     "name": "stdout",
     "output_type": "stream",
     "text": [
      "[✓] Hood Lift Supports Fits to Nissan Maxima | Suspensia | ASIN: B0C75WP31W | Price: $48.92 | Rating: N/A | Reviews: N/A\n"
     ]
    },
    {
     "name": "stderr",
     "output_type": "stream",
     "text": [
      "100%|██████████| 1/1 [00:00<00:00,  1.12it/s]\n"
     ]
    },
    {
     "name": "stdout",
     "output_type": "stream",
     "text": [
      "[✓] Rear Window Glass Lift Supports Fits To Jeep Commander | ARANA | ASIN: B08698QYFV | Price: $29.99 | Rating: 4.5 | Reviews: 7727\n"
     ]
    },
    {
     "name": "stderr",
     "output_type": "stream",
     "text": [
      "100%|██████████| 1/1 [00:00<00:00,  1.44it/s]\n"
     ]
    },
    {
     "name": "stdout",
     "output_type": "stream",
     "text": [
      "[✓] Rear Window Glass Lift Supports Fits To Jeep Commander | Suspensia | ASIN: B0C75WP31W | Price: $48.92 | Rating: N/A | Reviews: N/A\n"
     ]
    },
    {
     "name": "stderr",
     "output_type": "stream",
     "text": [
      "100%|██████████| 1/1 [00:01<00:00,  1.27s/it]\n"
     ]
    },
    {
     "name": "stdout",
     "output_type": "stream",
     "text": [
      "[✓] Liftgate Lift Supports to Toyota Land Cruiser Fj62 | ARANA | ASIN: B09NRGBVHN | Price: $22.99 | Rating: 4.5 | Reviews: 7725\n"
     ]
    },
    {
     "name": "stderr",
     "output_type": "stream",
     "text": [
      "100%|██████████| 1/1 [00:00<00:00,  1.44it/s]\n"
     ]
    },
    {
     "name": "stdout",
     "output_type": "stream",
     "text": [
      "[✓] Liftgate Lift Supports to Toyota Land Cruiser Fj62 | Suspensia | ASIN: B0C75WP31W | Price: $48.92 | Rating: N/A | Reviews: N/A\n"
     ]
    },
    {
     "name": "stderr",
     "output_type": "stream",
     "text": [
      "100%|██████████| 1/1 [00:00<00:00,  1.26it/s]\n"
     ]
    },
    {
     "name": "stdout",
     "output_type": "stream",
     "text": [
      "[✓] Original Lift Strut Extended Length .Inch Force Lbs Direct Replacement for SG359037 Replaces Universal Gas Prop Spring Strut for RV Bed Tonneau Cover Storage Box | ARANA | ASIN: B09NRGBVHN | Price: $22.99 | Rating: 4.5 | Reviews: 7725\n"
     ]
    },
    {
     "name": "stderr",
     "output_type": "stream",
     "text": [
      "100%|██████████| 1/1 [00:00<00:00,  1.31it/s]\n"
     ]
    },
    {
     "name": "stdout",
     "output_type": "stream",
     "text": [
      "[✓] Original Lift Strut Extended Length .Inch Force Lbs Direct Replacement for SG359037 Replaces Universal Gas Prop Spring Strut for RV Bed Tonneau Cover Storage Box | Suspensia | ASIN: B0C75WP31W | Price: $48.92 | Rating: N/A | Reviews: N/A\n"
     ]
    },
    {
     "name": "stderr",
     "output_type": "stream",
     "text": [
      "100%|██████████| 1/1 [00:01<00:00,  1.18s/it]\n"
     ]
    },
    {
     "name": "stdout",
     "output_type": "stream",
     "text": [
      "[✓] Hood Lift Supports To Lexus Lx450 To Toyota Land Cruiser | ARANA | ASIN: B07CGNQCCJ | Price: $23.99 | Rating: 4.5 | Reviews: 7727\n"
     ]
    },
    {
     "name": "stderr",
     "output_type": "stream",
     "text": [
      "100%|██████████| 1/1 [00:01<00:00,  1.87s/it]\n"
     ]
    },
    {
     "name": "stdout",
     "output_type": "stream",
     "text": [
      "[✓] Hood Lift Supports To Lexus Lx450 To Toyota Land Cruiser | Suspensia | ASIN: B0C75WP31W | Price: $48.92 | Rating: N/A | Reviews: N/A\n"
     ]
    },
    {
     "name": "stderr",
     "output_type": "stream",
     "text": [
      "100%|██████████| 1/1 [00:03<00:00,  3.01s/it]\n"
     ]
    },
    {
     "name": "stdout",
     "output_type": "stream",
     "text": [
      "[✓] Hood Lift Supports Buick Lesabre Park Avenue Cadillac Deville Cadillac Fleetwood Brougham Oldsmobile Delta & Lss & Ninety Eight & Regency Pontiac Bonneville | ARANA | ASIN: B07CGNQCCJ | Price: $23.99 | Rating: 4.5 | Reviews: 7727\n"
     ]
    },
    {
     "name": "stderr",
     "output_type": "stream",
     "text": [
      "100%|██████████| 1/1 [00:03<00:00,  3.44s/it]\n"
     ]
    },
    {
     "name": "stdout",
     "output_type": "stream",
     "text": [
      "[✓] Hood Lift Supports Buick Lesabre Park Avenue Cadillac Deville Cadillac Fleetwood Brougham Oldsmobile Delta & Lss & Ninety Eight & Regency Pontiac Bonneville | Suspensia | ASIN: B0C75WP31W | Price: $48.92 | Rating: N/A | Reviews: N/A\n"
     ]
    },
    {
     "name": "stderr",
     "output_type": "stream",
     "text": [
      "100%|██████████| 1/1 [00:03<00:00,  3.28s/it]\n"
     ]
    },
    {
     "name": "stdout",
     "output_type": "stream",
     "text": [
      "[✓] Rear Trunk Lid Lift Supports To Dodge Viper | ARANA | ASIN: B0B28NWD3G | Price: $21.99 | Rating: 4.5 | Reviews: 7721\n"
     ]
    },
    {
     "name": "stderr",
     "output_type": "stream",
     "text": [
      "100%|██████████| 1/1 [00:01<00:00,  1.00s/it]\n"
     ]
    },
    {
     "name": "stdout",
     "output_type": "stream",
     "text": [
      "[✓] Rear Trunk Lid Lift Supports To Dodge Viper | Suspensia | ASIN: B0C75WP31W | Price: $48.92 | Rating: N/A | Reviews: N/A\n"
     ]
    },
    {
     "name": "stderr",
     "output_type": "stream",
     "text": [
      "100%|██████████| 1/1 [00:00<00:00,  1.12it/s]\n"
     ]
    },
    {
     "name": "stdout",
     "output_type": "stream",
     "text": [
      "[✓] Liftgate Lift Supports Fits To Jeep Patriot Without Speakers | ARANA | ASIN: B0B28NWD3G | Price: $21.99 | Rating: 4.5 | Reviews: 7721\n"
     ]
    },
    {
     "name": "stderr",
     "output_type": "stream",
     "text": [
      "100%|██████████| 1/1 [00:00<00:00,  1.11it/s]\n"
     ]
    },
    {
     "name": "stdout",
     "output_type": "stream",
     "text": [
      "[✓] Liftgate Lift Supports Fits To Jeep Patriot Without Speakers | Suspensia | ASIN: B0C75WP31W | Price: $48.92 | Rating: N/A | Reviews: N/A\n"
     ]
    },
    {
     "name": "stderr",
     "output_type": "stream",
     "text": [
      "100%|██████████| 1/1 [00:02<00:00,  2.72s/it]\n"
     ]
    },
    {
     "name": "stdout",
     "output_type": "stream",
     "text": [
      "[✓] Front Hood Lift Supports to Acura Tsx | ARANA | ASIN: B08CNGT5Z7 | Price: $32.99 | Rating: 4.5 | Reviews: 7721\n"
     ]
    },
    {
     "name": "stderr",
     "output_type": "stream",
     "text": [
      "100%|██████████| 1/1 [00:00<00:00,  1.28it/s]\n"
     ]
    },
    {
     "name": "stdout",
     "output_type": "stream",
     "text": [
      "[✓] Front Hood Lift Supports to Acura Tsx | Suspensia | ASIN: B0C75WP31W | Price: $48.92 | Rating: N/A | Reviews: N/A\n"
     ]
    },
    {
     "name": "stderr",
     "output_type": "stream",
     "text": [
      "100%|██████████| 1/1 [00:01<00:00,  1.72s/it]\n"
     ]
    },
    {
     "name": "stdout",
     "output_type": "stream",
     "text": [
      "[✓] Front Hood Lift Supports to Lexus Gs300 to Gs400 to Gs430 | ARANA | ASIN: B09MMTZPB8 | Price: $35.99 | Rating: 4.5 | Reviews: 7725\n"
     ]
    },
    {
     "name": "stderr",
     "output_type": "stream",
     "text": [
      "100%|██████████| 1/1 [00:00<00:00,  1.67it/s]\n"
     ]
    },
    {
     "name": "stdout",
     "output_type": "stream",
     "text": [
      "[✓] Front Hood Lift Supports to Lexus Gs300 to Gs400 to Gs430 | Suspensia | ASIN: B0C75WP31W | Price: $48.92 | Rating: N/A | Reviews: N/A\n"
     ]
    },
    {
     "name": "stderr",
     "output_type": "stream",
     "text": [
      "100%|██████████| 1/1 [00:00<00:00,  1.43it/s]\n"
     ]
    },
    {
     "name": "stdout",
     "output_type": "stream",
     "text": [
      "[✓] Rear Trunk Lid Lift Supports to BMW 320I & 328I to 320I & 328I Xdrive to 325I to 328D & 328D Xdrive to 335I | ARANA | ASIN: B09MMTZPB8 | Price: $35.99 | Rating: 4.5 | Reviews: 7725\n"
     ]
    },
    {
     "name": "stderr",
     "output_type": "stream",
     "text": [
      "100%|██████████| 1/1 [00:00<00:00,  1.65it/s]\n"
     ]
    },
    {
     "name": "stdout",
     "output_type": "stream",
     "text": [
      "[✓] Rear Trunk Lid Lift Supports to BMW 320I & 328I to 320I & 328I Xdrive to 325I to 328D & 328D Xdrive to 335I | Suspensia | ASIN: B0C75WP31W | Price: $48.92 | Rating: N/A | Reviews: N/A\n"
     ]
    },
    {
     "name": "stderr",
     "output_type": "stream",
     "text": [
      "100%|██████████| 1/1 [00:01<00:00,  1.70s/it]\n"
     ]
    },
    {
     "name": "stdout",
     "output_type": "stream",
     "text": [
      "[✓] Liftgate Lift Supports Compatible With: AMC Concord Amc Eagle Station Wagon Amc Eagle WO Spoiler | ARANA | ASIN: B07CGKD9XP | Price: $19.59 | Rating: 4.5 | Reviews: 7721\n"
     ]
    },
    {
     "name": "stderr",
     "output_type": "stream",
     "text": [
      "100%|██████████| 1/1 [00:00<00:00,  1.25it/s]\n"
     ]
    },
    {
     "name": "stdout",
     "output_type": "stream",
     "text": [
      "[✓] Liftgate Lift Supports Compatible With: AMC Concord Amc Eagle Station Wagon Amc Eagle WO Spoiler | Suspensia | ASIN: B0C75WP31W | Price: $48.92 | Rating: N/A | Reviews: N/A\n"
     ]
    },
    {
     "name": "stderr",
     "output_type": "stream",
     "text": [
      "100%|██████████| 1/1 [00:01<00:00,  1.01s/it]\n"
     ]
    },
    {
     "name": "stdout",
     "output_type": "stream",
     "text": [
      "[✓] Hatch Lift Supports Fits With Spoiler To Dodge Omni / To Plymouth Horizon / To Dodge Charger | ARANA | ASIN: B07CGKD9XP | Price: $19.59 | Rating: 4.5 | Reviews: 7721\n"
     ]
    },
    {
     "name": "stderr",
     "output_type": "stream",
     "text": [
      "100%|██████████| 1/1 [00:01<00:00,  1.66s/it]\n"
     ]
    },
    {
     "name": "stdout",
     "output_type": "stream",
     "text": [
      "[✓] Hatch Lift Supports Fits With Spoiler To Dodge Omni / To Plymouth Horizon / To Dodge Charger | Suspensia | ASIN: B0C75WP31W | Price: $48.92 | Rating: N/A | Reviews: N/A\n"
     ]
    },
    {
     "name": "stderr",
     "output_type": "stream",
     "text": [
      "100%|██████████| 1/1 [00:01<00:00,  1.66s/it]\n"
     ]
    },
    {
     "name": "stdout",
     "output_type": "stream",
     "text": [
      "[✓] Rear Hatch Trunk Lift Supports Replaces to Scion TC Door Coupe Without Wiper No Brackets | ARANA | ASIN: B08CV97X67 | Price: $22.99 | Rating: 4.5 | Reviews: 7712\n"
     ]
    },
    {
     "name": "stderr",
     "output_type": "stream",
     "text": [
      "100%|██████████| 1/1 [00:00<00:00,  1.54it/s]\n"
     ]
    },
    {
     "name": "stdout",
     "output_type": "stream",
     "text": [
      "[✓] Rear Hatch Trunk Lift Supports Replaces to Scion TC Door Coupe Without Wiper No Brackets | Suspensia | ASIN: B0C75WP31W | Price: $48.92 | Rating: N/A | Reviews: N/A\n"
     ]
    },
    {
     "name": "stderr",
     "output_type": "stream",
     "text": [
      "100%|██████████| 1/1 [00:00<00:00,  1.30it/s]\n"
     ]
    },
    {
     "name": "stdout",
     "output_type": "stream",
     "text": [
      "[✓] Trunk Lift Support X350 X358 Fits Jaguar | ARANA | ASIN: B08CV97X67 | Price: $22.99 | Rating: 4.5 | Reviews: 7712\n"
     ]
    },
    {
     "name": "stderr",
     "output_type": "stream",
     "text": [
      "100%|██████████| 1/1 [00:00<00:00,  1.47it/s]\n"
     ]
    },
    {
     "name": "stdout",
     "output_type": "stream",
     "text": [
      "[✓] Trunk Lift Support X350 X358 Fits Jaguar | Suspensia | ASIN: B0C75WP31W | Price: $48.92 | Rating: N/A | Reviews: N/A\n"
     ]
    },
    {
     "name": "stderr",
     "output_type": "stream",
     "text": [
      "100%|██████████| 1/1 [00:01<00:00,  1.90s/it]\n"
     ]
    },
    {
     "name": "stdout",
     "output_type": "stream",
     "text": [
      "[✓] Rear Hatch Lift Supports To Mitsubishi Eclipse Coupe Special Edition With Spoiler | ARANA | ASIN: B07CGKD9XP | Price: $19.59 | Rating: 4.5 | Reviews: 7721\n"
     ]
    },
    {
     "name": "stderr",
     "output_type": "stream",
     "text": [
      "100%|██████████| 1/1 [00:00<00:00,  1.39it/s]\n"
     ]
    },
    {
     "name": "stdout",
     "output_type": "stream",
     "text": [
      "[✓] Rear Hatch Lift Supports To Mitsubishi Eclipse Coupe Special Edition With Spoiler | Suspensia | ASIN: B0C75WP31W | Price: $48.92 | Rating: N/A | Reviews: N/A\n"
     ]
    },
    {
     "name": "stderr",
     "output_type": "stream",
     "text": [
      "100%|██████████| 1/1 [00:00<00:00,  1.10it/s]\n"
     ]
    },
    {
     "name": "stdout",
     "output_type": "stream",
     "text": [
      "[✓] Original Lift Strut Extended Length .Inch Force lbs Direct Replacement for SG359010 Replaces Universal Gas Prop Spring Strut for RV Bed Tonneau Cover Storage Box | ARANA | ASIN: B07CGKD9XP | Price: $19.59 | Rating: 4.5 | Reviews: 7721\n"
     ]
    },
    {
     "name": "stderr",
     "output_type": "stream",
     "text": [
      "100%|██████████| 1/1 [00:01<00:00,  1.30s/it]\n"
     ]
    },
    {
     "name": "stdout",
     "output_type": "stream",
     "text": [
      "[✓] Original Lift Strut Extended Length .Inch Force lbs Direct Replacement for SG359010 Replaces Universal Gas Prop Spring Strut for RV Bed Tonneau Cover Storage Box | Suspensia | ASIN: B0C75WP31W | Price: $48.92 | Rating: N/A | Reviews: N/A\n"
     ]
    },
    {
     "name": "stderr",
     "output_type": "stream",
     "text": [
      "100%|██████████| 1/1 [00:00<00:00,  1.29it/s]\n"
     ]
    },
    {
     "name": "stdout",
     "output_type": "stream",
     "text": [
      "[✓] Original Lift Strut Extended Length .Inch Force lbs Direct Replacement for SG359012 Replaces Universal Gas Prop Spring Strut for RV Bed Tonneau Cover Storage Box | ARANA | ASIN: B07CGKD9XP | Price: $19.59 | Rating: 4.5 | Reviews: 7721\n"
     ]
    },
    {
     "name": "stderr",
     "output_type": "stream",
     "text": [
      "100%|██████████| 1/1 [00:01<00:00,  1.41s/it]\n"
     ]
    },
    {
     "name": "stdout",
     "output_type": "stream",
     "text": [
      "[✓] Original Lift Strut Extended Length .Inch Force lbs Direct Replacement for SG359012 Replaces Universal Gas Prop Spring Strut for RV Bed Tonneau Cover Storage Box | Suspensia | ASIN: B0C75WP31W | Price: $48.92 | Rating: N/A | Reviews: N/A\n"
     ]
    },
    {
     "name": "stderr",
     "output_type": "stream",
     "text": [
      "100%|██████████| 1/1 [00:01<00:00,  1.04s/it]\n"
     ]
    },
    {
     "name": "stdout",
     "output_type": "stream",
     "text": [
      "[✓] Hatch Trunk Lift Supports To Scion Tc | ARANA | ASIN: B07CGKD9XP | Price: $19.59 | Rating: 4.5 | Reviews: 7721\n"
     ]
    },
    {
     "name": "stderr",
     "output_type": "stream",
     "text": [
      "100%|██████████| 1/1 [00:00<00:00,  1.64it/s]\n"
     ]
    },
    {
     "name": "stdout",
     "output_type": "stream",
     "text": [
      "[✓] Hatch Trunk Lift Supports To Scion Tc | Suspensia | ASIN: B0C75WP31W | Price: $48.92 | Rating: N/A | Reviews: N/A\n"
     ]
    },
    {
     "name": "stderr",
     "output_type": "stream",
     "text": [
      "100%|██████████| 1/1 [00:00<00:00,  1.35it/s]\n"
     ]
    },
    {
     "name": "stdout",
     "output_type": "stream",
     "text": [
      "[✓] Rear Tailgate Hatch Trunk Lift Supports Compatible With: To Dodge Magnum Lx Door Station Wagon | ARANA | ASIN: B07CGKD9XP | Price: $19.59 | Rating: 4.5 | Reviews: 7721\n"
     ]
    },
    {
     "name": "stderr",
     "output_type": "stream",
     "text": [
      "100%|██████████| 1/1 [00:02<00:00,  2.15s/it]\n"
     ]
    },
    {
     "name": "stdout",
     "output_type": "stream",
     "text": [
      "[✓] Rear Tailgate Hatch Trunk Lift Supports Compatible With: To Dodge Magnum Lx Door Station Wagon | Suspensia | ASIN: B0C75WP31W | Price: $48.92 | Rating: N/A | Reviews: N/A\n"
     ]
    },
    {
     "name": "stderr",
     "output_type": "stream",
     "text": [
      "100%|██████████| 1/1 [00:00<00:00,  1.27it/s]\n"
     ]
    },
    {
     "name": "stdout",
     "output_type": "stream",
     "text": [
      "[✓] Rear Glass Lift Supports Mercury Mountaineer to Ford Explorer Excluding Sport Model | ARANA | ASIN: B08CV97X67 | Price: $22.99 | Rating: 4.5 | Reviews: 7712\n"
     ]
    },
    {
     "name": "stderr",
     "output_type": "stream",
     "text": [
      "100%|██████████| 1/1 [00:00<00:00,  1.27it/s]\n"
     ]
    },
    {
     "name": "stdout",
     "output_type": "stream",
     "text": [
      "[✓] Rear Glass Lift Supports Mercury Mountaineer to Ford Explorer Excluding Sport Model | Suspensia | ASIN: B0C75WP31W | Price: $48.92 | Rating: N/A | Reviews: N/A\n"
     ]
    },
    {
     "name": "stderr",
     "output_type": "stream",
     "text": [
      "100%|██████████| 1/1 [00:03<00:00,  3.99s/it]\n"
     ]
    },
    {
     "name": "stdout",
     "output_type": "stream",
     "text": [
      "[✓] Hatch Lift Supports to Acura Rsx | ARANA | ASIN: B08CV97X67 | Price: $22.99 | Rating: 4.5 | Reviews: 7712\n"
     ]
    },
    {
     "name": "stderr",
     "output_type": "stream",
     "text": [
      "100%|██████████| 1/1 [00:00<00:00,  1.37it/s]\n"
     ]
    },
    {
     "name": "stdout",
     "output_type": "stream",
     "text": [
      "[✓] Hatch Lift Supports to Acura Rsx | Suspensia | ASIN: B0C75WP31W | Price: $48.92 | Rating: N/A | Reviews: N/A\n"
     ]
    },
    {
     "name": "stderr",
     "output_type": "stream",
     "text": [
      "100%|██████████| 1/1 [00:00<00:00,  1.08it/s]\n"
     ]
    },
    {
     "name": "stdout",
     "output_type": "stream",
     "text": [
      "[✓] Rear Window Lift Supports to Mitsubishi Endeavor | ARANA | ASIN: B08CV97X67 | Price: $22.99 | Rating: 4.5 | Reviews: 7712\n"
     ]
    },
    {
     "name": "stderr",
     "output_type": "stream",
     "text": [
      "100%|██████████| 1/1 [00:00<00:00,  1.31it/s]\n"
     ]
    },
    {
     "name": "stdout",
     "output_type": "stream",
     "text": [
      "[✓] Rear Window Lift Supports to Mitsubishi Endeavor | Suspensia | ASIN: B0C75WP31W | Price: $48.92 | Rating: N/A | Reviews: N/A\n"
     ]
    },
    {
     "name": "stderr",
     "output_type": "stream",
     "text": [
      "100%|██████████| 1/1 [00:00<00:00,  1.24it/s]\n"
     ]
    },
    {
     "name": "stdout",
     "output_type": "stream",
     "text": [
      "[✓] Camper Shell Truck Window Glass Pickup Cab Leer are Snugtop Camper Topper Canopy Door Lift Supports .Inches Lbs. 249N Replacement for C16 | ARANA | ASIN: B08CV97X67 | Price: $22.99 | Rating: 4.5 | Reviews: 7712\n"
     ]
    },
    {
     "name": "stderr",
     "output_type": "stream",
     "text": [
      "100%|██████████| 1/1 [00:00<00:00,  1.38it/s]\n"
     ]
    },
    {
     "name": "stdout",
     "output_type": "stream",
     "text": [
      "[✓] Camper Shell Truck Window Glass Pickup Cab Leer are Snugtop Camper Topper Canopy Door Lift Supports .Inches Lbs. 249N Replacement for C16 | Suspensia | ASIN: B0C75WP31W | Price: $48.92 | Rating: N/A | Reviews: N/A\n"
     ]
    },
    {
     "name": "stderr",
     "output_type": "stream",
     "text": [
      "100%|██████████| 1/1 [00:01<00:00,  1.01s/it]\n"
     ]
    },
    {
     "name": "stdout",
     "output_type": "stream",
     "text": [
      "[✓] Universal Lift Supports .Inches Extended 70Lb Force Replaces C16 | ARANA | ASIN: B08CV97X67 | Price: $22.99 | Rating: 4.5 | Reviews: 7712\n"
     ]
    },
    {
     "name": "stderr",
     "output_type": "stream",
     "text": [
      "100%|██████████| 1/1 [00:00<00:00,  1.48it/s]\n"
     ]
    },
    {
     "name": "stdout",
     "output_type": "stream",
     "text": [
      "[✓] Universal Lift Supports .Inches Extended 70Lb Force Replaces C16 | Suspensia | ASIN: B0C75WP31W | Price: $48.92 | Rating: N/A | Reviews: N/A\n"
     ]
    },
    {
     "name": "stderr",
     "output_type": "stream",
     "text": [
      "100%|██████████| 1/1 [00:00<00:00,  1.11it/s]\n"
     ]
    },
    {
     "name": "stdout",
     "output_type": "stream",
     "text": [
      "[✓] Rear Hatch Lift Supports Fits to Scion TC Coupe Model Force: 778N | ARANA | ASIN: B08CV97X67 | Price: $22.99 | Rating: 4.5 | Reviews: 7712\n"
     ]
    },
    {
     "name": "stderr",
     "output_type": "stream",
     "text": [
      "100%|██████████| 1/1 [00:00<00:00,  1.54it/s]\n"
     ]
    },
    {
     "name": "stdout",
     "output_type": "stream",
     "text": [
      "[✓] Rear Hatch Lift Supports Fits to Scion TC Coupe Model Force: 778N | Suspensia | ASIN: B0C75WP31W | Price: $48.92 | Rating: N/A | Reviews: N/A\n"
     ]
    },
    {
     "name": "stderr",
     "output_type": "stream",
     "text": [
      "100%|██████████| 1/1 [00:00<00:00,  1.22it/s]\n"
     ]
    },
    {
     "name": "stdout",
     "output_type": "stream",
     "text": [
      "[✓] Front Hood Lift Supports to Toyota Land Cruiser to Lexus Lx470 | ARANA | ASIN: B08CV97X67 | Price: $22.99 | Rating: 4.5 | Reviews: 7712\n"
     ]
    },
    {
     "name": "stderr",
     "output_type": "stream",
     "text": [
      "100%|██████████| 1/1 [00:00<00:00,  1.38it/s]\n"
     ]
    },
    {
     "name": "stdout",
     "output_type": "stream",
     "text": [
      "[✓] Front Hood Lift Supports to Toyota Land Cruiser to Lexus Lx470 | Suspensia | ASIN: B0C75WP31W | Price: $48.92 | Rating: N/A | Reviews: N/A\n"
     ]
    },
    {
     "name": "stderr",
     "output_type": "stream",
     "text": [
      "100%|██████████| 1/1 [00:00<00:00,  1.06it/s]\n"
     ]
    },
    {
     "name": "stdout",
     "output_type": "stream",
     "text": [
      "[✓] Rear Liftgate Lift Support to Mazda Cx Without Power Liftgate Supplied Without Brackets | ARANA | ASIN: B08CV97X67 | Price: $22.99 | Rating: 4.5 | Reviews: 7712\n"
     ]
    },
    {
     "name": "stderr",
     "output_type": "stream",
     "text": [
      "100%|██████████| 1/1 [00:00<00:00,  1.30it/s]\n"
     ]
    },
    {
     "name": "stdout",
     "output_type": "stream",
     "text": [
      "[✓] Rear Liftgate Lift Support to Mazda Cx Without Power Liftgate Supplied Without Brackets | Suspensia | ASIN: B0C75WP31W | Price: $48.92 | Rating: N/A | Reviews: N/A\n"
     ]
    },
    {
     "name": "stderr",
     "output_type": "stream",
     "text": [
      "100%|██████████| 1/1 [00:01<00:00,  1.05s/it]\n"
     ]
    },
    {
     "name": "stdout",
     "output_type": "stream",
     "text": [
      "[✓] Rear Window Lift Supports to Jeep Liberty | ARANA | ASIN: B08CV97X67 | Price: $22.99 | Rating: 4.5 | Reviews: 7712\n"
     ]
    },
    {
     "name": "stderr",
     "output_type": "stream",
     "text": [
      "100%|██████████| 1/1 [00:00<00:00,  1.40it/s]\n"
     ]
    },
    {
     "name": "stdout",
     "output_type": "stream",
     "text": [
      "[✓] Rear Window Lift Supports to Jeep Liberty | Suspensia | ASIN: B0C75WP31W | Price: $48.92 | Rating: N/A | Reviews: N/A\n"
     ]
    },
    {
     "name": "stderr",
     "output_type": "stream",
     "text": [
      "100%|██████████| 1/1 [00:01<00:00,  1.09s/it]\n"
     ]
    },
    {
     "name": "stdout",
     "output_type": "stream",
     "text": [
      "[✓] Rear Hatch Glass Lift Supports Fits To Smart Fortwo | ARANA | ASIN: B08CV97X67 | Price: $22.99 | Rating: 4.5 | Reviews: 7712\n"
     ]
    },
    {
     "name": "stderr",
     "output_type": "stream",
     "text": [
      "100%|██████████| 1/1 [00:00<00:00,  1.54it/s]\n"
     ]
    },
    {
     "name": "stdout",
     "output_type": "stream",
     "text": [
      "[✓] Rear Hatch Glass Lift Supports Fits To Smart Fortwo | Suspensia | ASIN: B0C75WP31W | Price: $48.92 | Rating: N/A | Reviews: N/A\n"
     ]
    },
    {
     "name": "stderr",
     "output_type": "stream",
     "text": [
      "100%|██████████| 1/1 [00:00<00:00,  1.13it/s]\n"
     ]
    },
    {
     "name": "stdout",
     "output_type": "stream",
     "text": [
      "[✓] Front Hood Lift Supports To Lincoln Aviator | ARANA | ASIN: B08CV97X67 | Price: $22.99 | Rating: 4.5 | Reviews: 7712\n"
     ]
    },
    {
     "name": "stderr",
     "output_type": "stream",
     "text": [
      "100%|██████████| 1/1 [00:00<00:00,  1.04it/s]\n"
     ]
    },
    {
     "name": "stdout",
     "output_type": "stream",
     "text": [
      "[✓] Front Hood Lift Supports To Lincoln Aviator | Suspensia | ASIN: B0C75WP31W | Price: $48.92 | Rating: N/A | Reviews: N/A\n"
     ]
    },
    {
     "name": "stderr",
     "output_type": "stream",
     "text": [
      "100%|██████████| 1/1 [00:00<00:00,  1.06it/s]\n"
     ]
    },
    {
     "name": "stdout",
     "output_type": "stream",
     "text": [
      "[✓] Rear Hatch Lift Supports To Dodge Shadow To Plymouth Sundance With Spoiler | ARANA | ASIN: B08CV97X67 | Price: $22.99 | Rating: 4.5 | Reviews: 7712\n"
     ]
    },
    {
     "name": "stderr",
     "output_type": "stream",
     "text": [
      "100%|██████████| 1/1 [00:00<00:00,  1.38it/s]\n"
     ]
    },
    {
     "name": "stdout",
     "output_type": "stream",
     "text": [
      "[✓] Rear Hatch Lift Supports To Dodge Shadow To Plymouth Sundance With Spoiler | Suspensia | ASIN: B0C75WP31W | Price: $48.92 | Rating: N/A | Reviews: N/A\n"
     ]
    },
    {
     "name": "stderr",
     "output_type": "stream",
     "text": [
      "100%|██████████| 1/1 [00:00<00:00,  1.14it/s]\n"
     ]
    },
    {
     "name": "stdout",
     "output_type": "stream",
     "text": [
      "[✓] Front Hood Lift Supports To Hyundai Santa Fe | ARANA | ASIN: B08CV97X67 | Price: $22.99 | Rating: 4.5 | Reviews: 7712\n"
     ]
    },
    {
     "name": "stderr",
     "output_type": "stream",
     "text": [
      "100%|██████████| 1/1 [00:00<00:00,  1.03it/s]\n"
     ]
    },
    {
     "name": "stdout",
     "output_type": "stream",
     "text": [
      "[✓] Front Hood Lift Supports To Hyundai Santa Fe | Suspensia | ASIN: B0C75WP31W | Price: $48.92 | Rating: N/A | Reviews: N/A\n"
     ]
    }
   ],
   "source": [
    "sixth = fetch_products_from_queries(queries.iloc[144:180], allowed_brands,dfname='Products6.csv')"
   ]
  },
  {
   "cell_type": "code",
   "execution_count": null,
   "id": "f49c1863",
   "metadata": {},
   "outputs": [
    {
     "name": "stderr",
     "output_type": "stream",
     "text": [
      "100%|██████████| 1/1 [00:00<00:00,  1.00it/s]\n"
     ]
    },
    {
     "name": "stdout",
     "output_type": "stream",
     "text": [
      "[✓] Rear Window Glass Lift Supports .\" Doors Only With Rear Drop Gate Only Replaces: To Gmc Jimmy To Chevrolet Blazer | ARANA | ASIN: B08CV97X67 | Price: $22.99 | Rating: 4.5 | Reviews: 7712\n"
     ]
    },
    {
     "name": "stderr",
     "output_type": "stream",
     "text": [
      "100%|██████████| 1/1 [00:02<00:00,  2.87s/it]\n"
     ]
    },
    {
     "name": "stdout",
     "output_type": "stream",
     "text": [
      "[✓] Rear Window Glass Lift Supports .\" Doors Only With Rear Drop Gate Only Replaces: To Gmc Jimmy To Chevrolet Blazer | Suspensia | ASIN: B0C75WP31W | Price: $48.92 | Rating: N/A | Reviews: N/A\n"
     ]
    },
    {
     "name": "stderr",
     "output_type": "stream",
     "text": [
      "100%|██████████| 1/1 [00:01<00:00,  1.55s/it]\n"
     ]
    },
    {
     "name": "stdout",
     "output_type": "stream",
     "text": [
      "[✓] Back Glass Lift Supports Extended Length is .in Model Years Below | ARANA | ASIN: B08CV97X67 | Price: $22.99 | Rating: 4.5 | Reviews: 7712\n"
     ]
    },
    {
     "name": "stderr",
     "output_type": "stream",
     "text": [
      "100%|██████████| 1/1 [00:00<00:00,  1.18it/s]\n"
     ]
    },
    {
     "name": "stdout",
     "output_type": "stream",
     "text": [
      "[✓] Back Glass Lift Supports Extended Length is .in Model Years Below | Suspensia | ASIN: B0C75WP31W | Price: $48.92 | Rating: N/A | Reviews: N/A\n"
     ]
    },
    {
     "name": "stderr",
     "output_type": "stream",
     "text": [
      "100%|██████████| 1/1 [00:00<00:00,  1.26it/s]\n"
     ]
    },
    {
     "name": "stdout",
     "output_type": "stream",
     "text": [
      "[✓] Rear Window Lift Supports Dropgate Model Only To Chevrolet Suburban To Chevrolet Tahoe To Gmc Yukon With Rear Defrosters | ARANA | ASIN: B08CV97X67 | Price: $22.99 | Rating: 4.5 | Reviews: 7712\n"
     ]
    },
    {
     "name": "stderr",
     "output_type": "stream",
     "text": [
      "100%|██████████| 1/1 [00:01<00:00,  1.52s/it]\n"
     ]
    },
    {
     "name": "stdout",
     "output_type": "stream",
     "text": [
      "[✓] Rear Window Lift Supports Dropgate Model Only To Chevrolet Suburban To Chevrolet Tahoe To Gmc Yukon With Rear Defrosters | Suspensia | ASIN: B0C75WP31W | Price: $48.92 | Rating: N/A | Reviews: N/A\n"
     ]
    },
    {
     "name": "stderr",
     "output_type": "stream",
     "text": [
      "100%|██████████| 1/1 [00:01<00:00,  1.59s/it]\n"
     ]
    },
    {
     "name": "stdout",
     "output_type": "stream",
     "text": [
      "[✓] Rear Hatch Lift Supports Fits To Toyota Prius Without Wiper | ARANA | ASIN: B07CGKD9XP | Price: $19.59 | Rating: 4.5 | Reviews: 7721\n"
     ]
    },
    {
     "name": "stderr",
     "output_type": "stream",
     "text": [
      "100%|██████████| 1/1 [00:00<00:00,  1.39it/s]\n"
     ]
    },
    {
     "name": "stdout",
     "output_type": "stream",
     "text": [
      "[✓] Rear Hatch Lift Supports Fits To Toyota Prius Without Wiper | Suspensia | ASIN: B0C75WP31W | Price: $48.92 | Rating: N/A | Reviews: N/A\n"
     ]
    },
    {
     "name": "stderr",
     "output_type": "stream",
     "text": [
      "100%|██████████| 1/1 [00:00<00:00,  1.11it/s]\n"
     ]
    },
    {
     "name": "stdout",
     "output_type": "stream",
     "text": [
      "[✓] Liftgate Lift Support | ARANA | ASIN: B08CV97X67 | Price: $22.99 | Rating: 4.5 | Reviews: 7712\n"
     ]
    },
    {
     "name": "stderr",
     "output_type": "stream",
     "text": [
      "100%|██████████| 1/1 [00:00<00:00,  1.66it/s]\n"
     ]
    },
    {
     "name": "stdout",
     "output_type": "stream",
     "text": [
      "[✓] Liftgate Lift Support | Suspensia | ASIN: B0C75WP31W | Price: $48.92 | Rating: N/A | Reviews: N/A\n"
     ]
    },
    {
     "name": "stderr",
     "output_type": "stream",
     "text": [
      "100%|██████████| 1/1 [00:00<00:00,  1.09it/s]\n"
     ]
    },
    {
     "name": "stdout",
     "output_type": "stream",
     "text": [
      "[✓] Rear Liftgate Lift Supports To Toyota Matrix | ARANA | ASIN: B08CV97X67 | Price: $22.99 | Rating: 4.5 | Reviews: 7712\n"
     ]
    },
    {
     "name": "stderr",
     "output_type": "stream",
     "text": [
      "100%|██████████| 1/1 [00:00<00:00,  1.48it/s]\n"
     ]
    },
    {
     "name": "stdout",
     "output_type": "stream",
     "text": [
      "[✓] Rear Liftgate Lift Supports To Toyota Matrix | Suspensia | ASIN: B0C75WP31W | Price: $48.92 | Rating: N/A | Reviews: N/A\n"
     ]
    },
    {
     "name": "stderr",
     "output_type": "stream",
     "text": [
      "100%|██████████| 1/1 [00:01<00:00,  1.74s/it]\n"
     ]
    },
    {
     "name": "stdout",
     "output_type": "stream",
     "text": [
      "[✓] Liftgate Lift Supports Fits To Hyundai Santa Fe | ARANA | ASIN: B08CV97X67 | Price: $22.99 | Rating: 4.5 | Reviews: 7712\n"
     ]
    },
    {
     "name": "stderr",
     "output_type": "stream",
     "text": [
      "100%|██████████| 1/1 [00:02<00:00,  2.37s/it]\n"
     ]
    },
    {
     "name": "stdout",
     "output_type": "stream",
     "text": [
      "[✓] Liftgate Lift Supports Fits To Hyundai Santa Fe | Suspensia | ASIN: B0C75WP31W | Price: $48.92 | Rating: N/A | Reviews: N/A\n"
     ]
    },
    {
     "name": "stderr",
     "output_type": "stream",
     "text": [
      "100%|██████████| 1/1 [00:00<00:00,  1.28it/s]\n"
     ]
    },
    {
     "name": "stdout",
     "output_type": "stream",
     "text": [
      "[✓] Hatch Lift Supports Mazda Cx | ARANA | ASIN: B08CV97X67 | Price: $22.99 | Rating: 4.5 | Reviews: 7712\n"
     ]
    },
    {
     "name": "stderr",
     "output_type": "stream",
     "text": [
      "100%|██████████| 1/1 [00:01<00:00,  1.36s/it]\n"
     ]
    },
    {
     "name": "stdout",
     "output_type": "stream",
     "text": [
      "[✓] Hatch Lift Supports Mazda Cx | Suspensia | ASIN: B0C75WP31W | Price: $48.92 | Rating: N/A | Reviews: N/A\n"
     ]
    },
    {
     "name": "stderr",
     "output_type": "stream",
     "text": [
      "100%|██████████| 1/1 [00:01<00:00,  1.03s/it]\n"
     ]
    },
    {
     "name": "stdout",
     "output_type": "stream",
     "text": [
      "[✓] Rear Hatch Lift Supports to Suzuki Reno | ARANA | ASIN: B08CV97X67 | Price: $22.99 | Rating: 4.5 | Reviews: 7712\n"
     ]
    },
    {
     "name": "stderr",
     "output_type": "stream",
     "text": [
      "100%|██████████| 1/1 [00:00<00:00,  1.37it/s]\n"
     ]
    },
    {
     "name": "stdout",
     "output_type": "stream",
     "text": [
      "[✓] Rear Hatch Lift Supports to Suzuki Reno | Suspensia | ASIN: B0C75WP31W | Price: $48.92 | Rating: N/A | Reviews: N/A\n"
     ]
    },
    {
     "name": "stderr",
     "output_type": "stream",
     "text": [
      "100%|██████████| 1/1 [00:00<00:00,  1.33it/s]\n"
     ]
    },
    {
     "name": "stdout",
     "output_type": "stream",
     "text": [
      "[✓] Front Hood Lift Supports Compatible with: to Honda Accord Doors | ARANA | ASIN: B08CV97X67 | Price: $22.99 | Rating: 4.5 | Reviews: 7712\n"
     ]
    },
    {
     "name": "stderr",
     "output_type": "stream",
     "text": [
      "100%|██████████| 1/1 [00:01<00:00,  1.20s/it]\n"
     ]
    },
    {
     "name": "stdout",
     "output_type": "stream",
     "text": [
      "[✓] Front Hood Lift Supports Compatible with: to Honda Accord Doors | Suspensia | ASIN: B0C75WP31W | Price: $48.92 | Rating: N/A | Reviews: N/A\n"
     ]
    },
    {
     "name": "stderr",
     "output_type": "stream",
     "text": [
      "100%|██████████| 1/1 [00:00<00:00,  1.08it/s]\n"
     ]
    },
    {
     "name": "stdout",
     "output_type": "stream",
     "text": [
      "[✓] Front Hood Lift Supports to Kia Sorento | ARANA | ASIN: B08CV97X67 | Price: $22.99 | Rating: 4.5 | Reviews: 7712\n"
     ]
    },
    {
     "name": "stderr",
     "output_type": "stream",
     "text": [
      "100%|██████████| 1/1 [00:00<00:00,  1.43it/s]\n"
     ]
    },
    {
     "name": "stdout",
     "output_type": "stream",
     "text": [
      "[✓] Front Hood Lift Supports to Kia Sorento | Suspensia | ASIN: B0C75WP31W | Price: $48.92 | Rating: N/A | Reviews: N/A\n"
     ]
    },
    {
     "name": "stderr",
     "output_type": "stream",
     "text": [
      "100%|██████████| 1/1 [00:00<00:00,  1.06it/s]\n"
     ]
    },
    {
     "name": "stdout",
     "output_type": "stream",
     "text": [
      "[✓] Rear Gate Lift Supports Hyundai Santa Fe | ARANA | ASIN: B08CV97X67 | Price: $22.99 | Rating: 4.5 | Reviews: 7712\n"
     ]
    },
    {
     "name": "stderr",
     "output_type": "stream",
     "text": [
      "100%|██████████| 1/1 [00:00<00:00,  1.39it/s]\n"
     ]
    },
    {
     "name": "stdout",
     "output_type": "stream",
     "text": [
      "[✓] Rear Gate Lift Supports Hyundai Santa Fe | Suspensia | ASIN: B0C75WP31W | Price: $48.92 | Rating: N/A | Reviews: N/A\n"
     ]
    },
    {
     "name": "stderr",
     "output_type": "stream",
     "text": [
      "100%|██████████| 1/1 [00:00<00:00,  1.22it/s]\n"
     ]
    },
    {
     "name": "stdout",
     "output_type": "stream",
     "text": [
      "[✓] Rear Gate Lift Supports Hyundai Santa Fe | ARANA | ASIN: B08CV97X67 | Price: $22.99 | Rating: 4.5 | Reviews: 7712\n"
     ]
    },
    {
     "name": "stderr",
     "output_type": "stream",
     "text": [
      "100%|██████████| 1/1 [00:00<00:00,  1.65it/s]\n"
     ]
    },
    {
     "name": "stdout",
     "output_type": "stream",
     "text": [
      "[✓] Rear Gate Lift Supports Hyundai Santa Fe | Suspensia | ASIN: B0C75WP31W | Price: $48.92 | Rating: N/A | Reviews: N/A\n"
     ]
    },
    {
     "name": "stderr",
     "output_type": "stream",
     "text": [
      "  0%|          | 0/1 [00:00<?, ?it/s]Waiting 47 seconds for additional tokens\n",
      "100%|██████████| 1/1 [00:48<00:00, 48.10s/it]\n"
     ]
    },
    {
     "name": "stdout",
     "output_type": "stream",
     "text": [
      "[✓] Rear Window Lift Supports to Lexus Gx460 to Toyota Land Cruiser Prado | ARANA | ASIN: B08CV97X67 | Price: $22.99 | Rating: 4.5 | Reviews: 7712\n"
     ]
    },
    {
     "name": "stderr",
     "output_type": "stream",
     "text": [
      "  0%|          | 0/1 [00:00<?, ?it/s]Waiting 34 seconds for additional tokens\n",
      "100%|██████████| 1/1 [00:35<00:00, 35.29s/it]\n"
     ]
    },
    {
     "name": "stdout",
     "output_type": "stream",
     "text": [
      "[✓] Rear Window Lift Supports to Lexus Gx460 to Toyota Land Cruiser Prado | Suspensia | ASIN: B0C75WP31W | Price: $48.92 | Rating: N/A | Reviews: N/A\n"
     ]
    },
    {
     "name": "stderr",
     "output_type": "stream",
     "text": [
      "100%|██████████| 1/1 [00:02<00:00,  2.25s/it]\n"
     ]
    },
    {
     "name": "stdout",
     "output_type": "stream",
     "text": [
      "[✓] Liftgate Lift Supports To Toyota Land Cruiser Includes Mounting Brackets | ARANA | ASIN: B08CV97X67 | Price: $22.99 | Rating: 4.5 | Reviews: 7712\n"
     ]
    },
    {
     "name": "stderr",
     "output_type": "stream",
     "text": [
      "  0%|          | 0/1 [00:00<?, ?it/s]Waiting 67 seconds for additional tokens\n",
      "100%|██████████| 1/1 [01:08<00:00, 68.25s/it]\n"
     ]
    },
    {
     "name": "stdout",
     "output_type": "stream",
     "text": [
      "[✓] Liftgate Lift Supports To Toyota Land Cruiser Includes Mounting Brackets | Suspensia | ASIN: B0C75WP31W | Price: $48.92 | Rating: N/A | Reviews: N/A\n"
     ]
    },
    {
     "name": "stderr",
     "output_type": "stream",
     "text": [
      "  0%|          | 0/1 [00:00<?, ?it/s]Waiting 30 seconds for additional tokens\n",
      "100%|██████████| 1/1 [00:31<00:00, 31.03s/it]\n"
     ]
    },
    {
     "name": "stdout",
     "output_type": "stream",
     "text": [
      "[✓] Rear Window Glass Lift Supports To Ford Expedition To Lincoln Navigator | ARANA | ASIN: B08CV97X67 | Price: $22.99 | Rating: 4.5 | Reviews: 7712\n"
     ]
    },
    {
     "name": "stderr",
     "output_type": "stream",
     "text": [
      "100%|██████████| 1/1 [00:01<00:00,  1.28s/it]\n"
     ]
    },
    {
     "name": "stdout",
     "output_type": "stream",
     "text": [
      "[✓] Rear Window Glass Lift Supports To Ford Expedition To Lincoln Navigator | Suspensia | ASIN: B0C75WP31W | Price: $48.92 | Rating: N/A | Reviews: N/A\n"
     ]
    },
    {
     "name": "stderr",
     "output_type": "stream",
     "text": [
      "  0%|          | 0/1 [00:00<?, ?it/s]Waiting 63 seconds for additional tokens\n",
      "100%|██████████| 1/1 [01:04<00:00, 64.51s/it]\n"
     ]
    },
    {
     "name": "stdout",
     "output_type": "stream",
     "text": [
      "[✓] Rear Liftgate Lift Supports Compatible With: To Infiniti Qx56 To Infiniti Qx80 | ARANA | ASIN: B08CV97X67 | Price: $22.99 | Rating: 4.5 | Reviews: 7712\n"
     ]
    },
    {
     "name": "stderr",
     "output_type": "stream",
     "text": [
      "  0%|          | 0/1 [00:00<?, ?it/s]Waiting 32 seconds for additional tokens\n",
      "100%|██████████| 1/1 [00:33<00:00, 33.76s/it]\n"
     ]
    },
    {
     "name": "stdout",
     "output_type": "stream",
     "text": [
      "[✓] Rear Liftgate Lift Supports Compatible With: To Infiniti Qx56 To Infiniti Qx80 | Suspensia | ASIN: B0C75WP31W | Price: $48.92 | Rating: N/A | Reviews: N/A\n"
     ]
    },
    {
     "name": "stderr",
     "output_type": "stream",
     "text": [
      "100%|██████████| 1/1 [00:01<00:00,  1.25s/it]\n"
     ]
    },
    {
     "name": "stdout",
     "output_type": "stream",
     "text": [
      "[✓] Rear Liftgate Lift Supports Fits To Jeep Grand Cherokee | ARANA | ASIN: B08CV97X67 | Price: $22.99 | Rating: 4.5 | Reviews: 7712\n"
     ]
    },
    {
     "name": "stderr",
     "output_type": "stream",
     "text": [
      "  0%|          | 0/1 [00:00<?, ?it/s]Waiting 62 seconds for additional tokens\n",
      "100%|██████████| 1/1 [01:03<00:00, 63.65s/it]\n"
     ]
    },
    {
     "name": "stdout",
     "output_type": "stream",
     "text": [
      "[✓] Rear Liftgate Lift Supports Fits To Jeep Grand Cherokee | Suspensia | ASIN: B0C75WP31W | Price: $48.92 | Rating: N/A | Reviews: N/A\n"
     ]
    },
    {
     "name": "stderr",
     "output_type": "stream",
     "text": [
      "  0%|          | 0/1 [00:00<?, ?it/s]Waiting 33 seconds for additional tokens\n",
      "100%|██████████| 1/1 [00:34<00:00, 34.55s/it]\n"
     ]
    },
    {
     "name": "stdout",
     "output_type": "stream",
     "text": [
      "[✓] Rear Hatch Trunk Lift Supports to Chevrolet Chevy to Chevrolet Corsa | ARANA | ASIN: B08CV97X67 | Price: $22.99 | Rating: 4.5 | Reviews: 7712\n"
     ]
    },
    {
     "name": "stderr",
     "output_type": "stream",
     "text": [
      "100%|██████████| 1/1 [00:00<00:00,  1.09it/s]\n"
     ]
    },
    {
     "name": "stdout",
     "output_type": "stream",
     "text": [
      "[✓] Rear Hatch Trunk Lift Supports to Chevrolet Chevy to Chevrolet Corsa | Suspensia | ASIN: B0C75WP31W | Price: $48.92 | Rating: N/A | Reviews: N/A\n"
     ]
    },
    {
     "name": "stderr",
     "output_type": "stream",
     "text": [
      "  0%|          | 0/1 [00:00<?, ?it/s]Waiting 65 seconds for additional tokens\n",
      "100%|██████████| 1/1 [01:07<00:00, 67.19s/it]\n"
     ]
    },
    {
     "name": "stdout",
     "output_type": "stream",
     "text": [
      "[✓] Rear Window Glass Lift Supports Pontiac Solstice | ARANA | ASIN: B08CV97X67 | Price: $22.99 | Rating: 4.5 | Reviews: 7712\n"
     ]
    },
    {
     "name": "stderr",
     "output_type": "stream",
     "text": [
      "  0%|          | 0/1 [00:00<?, ?it/s]Waiting 33 seconds for additional tokens\n",
      "100%|██████████| 1/1 [00:34<00:00, 34.33s/it]\n"
     ]
    },
    {
     "name": "stdout",
     "output_type": "stream",
     "text": [
      "[✓] Rear Window Glass Lift Supports Pontiac Solstice | Suspensia | ASIN: B0C75WP31W | Price: $48.92 | Rating: N/A | Reviews: N/A\n"
     ]
    },
    {
     "name": "stderr",
     "output_type": "stream",
     "text": [
      "100%|██████████| 1/1 [00:00<00:00,  1.38it/s]\n"
     ]
    },
    {
     "name": "stdout",
     "output_type": "stream",
     "text": [
      "[✓] Rear Liftgate Lift Supports Fits: To Lexus Lx570 With Power Liftgate | ARANA | ASIN: B08CV97X67 | Price: $22.99 | Rating: 4.5 | Reviews: 7712\n"
     ]
    },
    {
     "name": "stderr",
     "output_type": "stream",
     "text": [
      "  0%|          | 0/1 [00:00<?, ?it/s]Waiting 64 seconds for additional tokens\n",
      "100%|██████████| 1/1 [01:05<00:00, 65.07s/it]\n"
     ]
    },
    {
     "name": "stdout",
     "output_type": "stream",
     "text": [
      "[✓] Rear Liftgate Lift Supports Fits: To Lexus Lx570 With Power Liftgate | Suspensia | ASIN: B0C75WP31W | Price: $48.92 | Rating: N/A | Reviews: N/A\n"
     ]
    },
    {
     "name": "stderr",
     "output_type": "stream",
     "text": [
      "  0%|          | 0/1 [00:00<?, ?it/s]Waiting 30 seconds for additional tokens\n",
      "100%|██████████| 1/1 [00:31<00:00, 31.98s/it]\n"
     ]
    },
    {
     "name": "stdout",
     "output_type": "stream",
     "text": [
      "[✓] Rear Liftgate Lift Supports Fits to Toyota Land Cruiser with Spoiler | ARANA | ASIN: B08CV97X67 | Price: $22.99 | Rating: 4.5 | Reviews: 7712\n"
     ]
    },
    {
     "name": "stderr",
     "output_type": "stream",
     "text": [
      "100%|██████████| 1/1 [00:01<00:00,  1.69s/it]\n"
     ]
    },
    {
     "name": "stdout",
     "output_type": "stream",
     "text": [
      "[✓] Rear Liftgate Lift Supports Fits to Toyota Land Cruiser with Spoiler | Suspensia | ASIN: B0C75WP31W | Price: $48.92 | Rating: N/A | Reviews: N/A\n"
     ]
    },
    {
     "name": "stderr",
     "output_type": "stream",
     "text": [
      "  0%|          | 0/1 [00:00<?, ?it/s]Waiting 60 seconds for additional tokens\n",
      "100%|██████████| 1/1 [01:03<00:00, 63.47s/it]\n"
     ]
    },
    {
     "name": "stdout",
     "output_type": "stream",
     "text": [
      "[✓] Rear Window Glass Lift Supports To Nissan Pathfinder | ARANA | ASIN: B08CV97X67 | Price: $22.99 | Rating: 4.5 | Reviews: 7712\n"
     ]
    },
    {
     "name": "stderr",
     "output_type": "stream",
     "text": [
      "  0%|          | 0/1 [00:00<?, ?it/s]Waiting 32 seconds for additional tokens\n",
      "100%|██████████| 1/1 [00:35<00:00, 35.48s/it]\n"
     ]
    },
    {
     "name": "stdout",
     "output_type": "stream",
     "text": [
      "[✓] Rear Window Glass Lift Supports To Nissan Pathfinder | Suspensia | ASIN: B0C75WP31W | Price: $48.92 | Rating: N/A | Reviews: N/A\n"
     ]
    },
    {
     "name": "stderr",
     "output_type": "stream",
     "text": [
      "100%|██████████| 1/1 [00:02<00:00,  2.56s/it]\n"
     ]
    },
    {
     "name": "stdout",
     "output_type": "stream",
     "text": [
      "[✓] Hatch Lift Supports Replaces Audi TT | ARANA | ASIN: B08CV97X67 | Price: $22.99 | Rating: 4.5 | Reviews: 7712\n"
     ]
    },
    {
     "name": "stderr",
     "output_type": "stream",
     "text": [
      "  0%|          | 0/1 [00:00<?, ?it/s]Waiting 65 seconds for additional tokens\n",
      "100%|██████████| 1/1 [01:07<00:00, 67.00s/it]\n"
     ]
    },
    {
     "name": "stdout",
     "output_type": "stream",
     "text": [
      "[✓] Hatch Lift Supports Replaces Audi TT | Suspensia | ASIN: B0C75WP31W | Price: $48.92 | Rating: N/A | Reviews: N/A\n"
     ]
    },
    {
     "name": "stderr",
     "output_type": "stream",
     "text": [
      "  0%|          | 0/1 [00:00<?, ?it/s]Waiting 30 seconds for additional tokens\n",
      "100%|██████████| 1/1 [00:34<00:00, 34.03s/it]\n"
     ]
    },
    {
     "name": "stdout",
     "output_type": "stream",
     "text": [
      "[✓] Liftgate Lift Supports Fits To Volvo Xc90 | ARANA | ASIN: B08CV97X67 | Price: $22.99 | Rating: 4.5 | Reviews: 7712\n"
     ]
    },
    {
     "name": "stderr",
     "output_type": "stream",
     "text": [
      "100%|██████████| 1/1 [00:00<00:00,  1.67it/s]\n"
     ]
    },
    {
     "name": "stdout",
     "output_type": "stream",
     "text": [
      "[✓] Liftgate Lift Supports Fits To Volvo Xc90 | Suspensia | ASIN: B0C75WP31W | Price: $48.92 | Rating: N/A | Reviews: N/A\n"
     ]
    },
    {
     "name": "stderr",
     "output_type": "stream",
     "text": [
      "  0%|          | 0/1 [00:00<?, ?it/s]Waiting 62 seconds for additional tokens\n",
      "100%|██████████| 1/1 [01:02<00:00, 62.81s/it]\n"
     ]
    },
    {
     "name": "stdout",
     "output_type": "stream",
     "text": [
      "[✓] Back Glass Lift Supports to Ford Explorer to Mercury Mountaineer | ARANA | ASIN: B08CV97X67 | Price: $22.99 | Rating: 4.5 | Reviews: 7712\n"
     ]
    },
    {
     "name": "stderr",
     "output_type": "stream",
     "text": [
      "  0%|          | 0/1 [00:00<?, ?it/s]Waiting 31 seconds for additional tokens\n",
      "100%|██████████| 1/1 [00:32<00:00, 32.27s/it]\n"
     ]
    },
    {
     "name": "stdout",
     "output_type": "stream",
     "text": [
      "[✓] Back Glass Lift Supports to Ford Explorer to Mercury Mountaineer | Suspensia | ASIN: B0C75WP31W | Price: $48.92 | Rating: N/A | Reviews: N/A\n"
     ]
    },
    {
     "name": "stderr",
     "output_type": "stream",
     "text": [
      "100%|██████████| 1/1 [00:02<00:00,  2.62s/it]\n"
     ]
    },
    {
     "name": "stdout",
     "output_type": "stream",
     "text": [
      "[✓] Rear Liftgate Lift Supports Replacement For: To Infiniti Fx35 To Infiniti Fx50 | ARANA | ASIN: B0D2LKY5QD | Price: $40.99 | Rating: 4.5 | Reviews: 7721\n"
     ]
    },
    {
     "name": "stderr",
     "output_type": "stream",
     "text": [
      "  0%|          | 0/1 [00:00<?, ?it/s]Waiting 65 seconds for additional tokens\n",
      "100%|██████████| 1/1 [01:07<00:00, 67.10s/it]\n"
     ]
    },
    {
     "name": "stdout",
     "output_type": "stream",
     "text": [
      "[✓] Rear Liftgate Lift Supports Replacement For: To Infiniti Fx35 To Infiniti Fx50 | Suspensia | ASIN: B0C75WP31W | Price: $48.92 | Rating: N/A | Reviews: N/A\n"
     ]
    },
    {
     "name": "stderr",
     "output_type": "stream",
     "text": [
      "  0%|          | 0/1 [00:00<?, ?it/s]Waiting 33 seconds for additional tokens\n",
      "100%|██████████| 1/1 [00:34<00:00, 34.45s/it]\n"
     ]
    },
    {
     "name": "stdout",
     "output_type": "stream",
     "text": [
      "[✓] Hood Lift Supports to Jaguar Vanden Plas to Jaguar Xj12 to Jaguar Xj6 to Jaguar Xj8 to Jaguar XJR | ARANA | ASIN: B0D2HP5WM8 | Price: $41.99 | Rating: 4.5 | Reviews: 7725\n"
     ]
    },
    {
     "name": "stderr",
     "output_type": "stream",
     "text": [
      "100%|██████████| 1/1 [00:00<00:00,  1.61it/s]\n"
     ]
    },
    {
     "name": "stdout",
     "output_type": "stream",
     "text": [
      "[✓] Hood Lift Supports to Jaguar Vanden Plas to Jaguar Xj12 to Jaguar Xj6 to Jaguar Xj8 to Jaguar XJR | Suspensia | ASIN: B0C75WP31W | Price: $48.92 | Rating: N/A | Reviews: N/A\n"
     ]
    },
    {
     "name": "stderr",
     "output_type": "stream",
     "text": [
      "  0%|          | 0/1 [00:00<?, ?it/s]Waiting 66 seconds for additional tokens\n",
      "100%|██████████| 1/1 [01:09<00:00, 69.40s/it]\n"
     ]
    },
    {
     "name": "stdout",
     "output_type": "stream",
     "text": [
      "[✓] Original Lift Strut Extended Length .Inch Force Lbs Direct Replacement for SG359030 Replaces Universal Gas Prop Spring Strut for RV Bed Tonneau Cover Storage Box | ARANA | ASIN: B0D1FYJ9CY | Price: $22.99 | Rating: 4.5 | Reviews: 7727\n"
     ]
    },
    {
     "name": "stderr",
     "output_type": "stream",
     "text": [
      "  0%|          | 0/1 [00:00<?, ?it/s]Waiting 34 seconds for additional tokens\n",
      "100%|██████████| 1/1 [00:35<00:00, 35.97s/it]\n"
     ]
    },
    {
     "name": "stdout",
     "output_type": "stream",
     "text": [
      "[✓] Original Lift Strut Extended Length .Inch Force Lbs Direct Replacement for SG359030 Replaces Universal Gas Prop Spring Strut for RV Bed Tonneau Cover Storage Box | Suspensia | ASIN: B0C75WP31W | Price: $48.92 | Rating: N/A | Reviews: N/A\n"
     ]
    },
    {
     "name": "stderr",
     "output_type": "stream",
     "text": [
      "100%|██████████| 1/1 [00:01<00:00,  1.47s/it]\n"
     ]
    },
    {
     "name": "stdout",
     "output_type": "stream",
     "text": [
      "[✓] Front Hood Lift Support To Pontiac Torrent Suzuki Xl | ARANA | ASIN: B0BN674WNV | Price: $27.99 | Rating: 4.5 | Reviews: 7721\n"
     ]
    },
    {
     "name": "stderr",
     "output_type": "stream",
     "text": [
      "  0%|          | 0/1 [00:00<?, ?it/s]Waiting 65 seconds for additional tokens\n",
      "100%|██████████| 1/1 [01:06<00:00, 66.36s/it]\n"
     ]
    },
    {
     "name": "stdout",
     "output_type": "stream",
     "text": [
      "[✓] Front Hood Lift Support To Pontiac Torrent Suzuki Xl | Suspensia | ASIN: B0C75WP31W | Price: $48.92 | Rating: N/A | Reviews: N/A\n"
     ]
    },
    {
     "name": "stderr",
     "output_type": "stream",
     "text": [
      "  0%|          | 0/1 [00:00<?, ?it/s]Waiting 30 seconds for additional tokens\n",
      "100%|██████████| 1/1 [00:33<00:00, 33.26s/it]\n"
     ]
    },
    {
     "name": "stdout",
     "output_type": "stream",
     "text": [
      "[✓] Liftgate Lift Supports Fits Audi Models OE# 4B9827552J Model Years Below | ARANA | ASIN: B098K2B82X | Price: $30.99 | Rating: 4.5 | Reviews: 7727\n"
     ]
    },
    {
     "name": "stderr",
     "output_type": "stream",
     "text": [
      "100%|██████████| 1/1 [00:01<00:00,  1.80s/it]\n"
     ]
    },
    {
     "name": "stdout",
     "output_type": "stream",
     "text": [
      "[✓] Liftgate Lift Supports Fits Audi Models OE# 4B9827552J Model Years Below | Suspensia | ASIN: B0C75WP31W | Price: $48.92 | Rating: N/A | Reviews: N/A\n"
     ]
    },
    {
     "name": "stderr",
     "output_type": "stream",
     "text": [
      "  0%|          | 0/1 [00:00<?, ?it/s]Waiting 64 seconds for additional tokens\n",
      "100%|██████████| 1/1 [01:06<00:00, 66.20s/it]\n"
     ]
    },
    {
     "name": "stdout",
     "output_type": "stream",
     "text": [
      "[✓] Rear Window Lift Supports Fits To Nissan Pathfinder To Infiniti Qx4 | ARANA | ASIN: B098K2B82X | Price: $30.99 | Rating: 4.5 | Reviews: 7727\n"
     ]
    },
    {
     "name": "stderr",
     "output_type": "stream",
     "text": [
      "  0%|          | 0/1 [00:00<?, ?it/s]Waiting 32 seconds for additional tokens\n",
      "100%|██████████| 1/1 [00:33<00:00, 33.84s/it]\n"
     ]
    },
    {
     "name": "stdout",
     "output_type": "stream",
     "text": [
      "[✓] Rear Window Lift Supports Fits To Nissan Pathfinder To Infiniti Qx4 | Suspensia | ASIN: B0C75WP31W | Price: $48.92 | Rating: N/A | Reviews: N/A\n"
     ]
    },
    {
     "name": "stderr",
     "output_type": "stream",
     "text": [
      "100%|██████████| 1/1 [00:00<00:00,  1.01it/s]\n"
     ]
    },
    {
     "name": "stdout",
     "output_type": "stream",
     "text": [
      "[✓] Rear Trunk Lid Lift Supports to Volvo C30 | ARANA | ASIN: B0BN6382CS | Price: $38.99 | Rating: 4.5 | Reviews: 7725\n"
     ]
    },
    {
     "name": "stderr",
     "output_type": "stream",
     "text": [
      "  0%|          | 0/1 [00:00<?, ?it/s]Waiting 64 seconds for additional tokens\n"
     ]
    },
    {
     "ename": "ReadTimeout",
     "evalue": "HTTPSConnectionPool(host='api.keepa.com', port=443): Read timed out. (read timeout=10.0)",
     "output_type": "error",
     "traceback": [
      "\u001b[1;31m---------------------------------------------------------------------------\u001b[0m",
      "\u001b[1;31mtimeout\u001b[0m                                   Traceback (most recent call last)",
      "File \u001b[1;32mc:\\Users\\amrar\\AppData\\Local\\Programs\\Python\\Python38\\lib\\site-packages\\urllib3\\connectionpool.py:536\u001b[0m, in \u001b[0;36mHTTPConnectionPool._make_request\u001b[1;34m(self, conn, method, url, body, headers, retries, timeout, chunked, response_conn, preload_content, decode_content, enforce_content_length)\u001b[0m\n\u001b[0;32m    535\u001b[0m \u001b[38;5;28;01mtry\u001b[39;00m:\n\u001b[1;32m--> 536\u001b[0m     response \u001b[38;5;241m=\u001b[39m \u001b[43mconn\u001b[49m\u001b[38;5;241;43m.\u001b[39;49m\u001b[43mgetresponse\u001b[49m\u001b[43m(\u001b[49m\u001b[43m)\u001b[49m\n\u001b[0;32m    537\u001b[0m \u001b[38;5;28;01mexcept\u001b[39;00m (BaseSSLError, \u001b[38;5;167;01mOSError\u001b[39;00m) \u001b[38;5;28;01mas\u001b[39;00m e:\n",
      "File \u001b[1;32mc:\\Users\\amrar\\AppData\\Local\\Programs\\Python\\Python38\\lib\\site-packages\\urllib3\\connection.py:507\u001b[0m, in \u001b[0;36mHTTPConnection.getresponse\u001b[1;34m(self)\u001b[0m\n\u001b[0;32m    506\u001b[0m \u001b[38;5;66;03m# Get the response from http.client.HTTPConnection\u001b[39;00m\n\u001b[1;32m--> 507\u001b[0m httplib_response \u001b[38;5;241m=\u001b[39m \u001b[38;5;28;43msuper\u001b[39;49m\u001b[43m(\u001b[49m\u001b[43m)\u001b[49m\u001b[38;5;241;43m.\u001b[39;49m\u001b[43mgetresponse\u001b[49m\u001b[43m(\u001b[49m\u001b[43m)\u001b[49m\n\u001b[0;32m    509\u001b[0m \u001b[38;5;28;01mtry\u001b[39;00m:\n",
      "File \u001b[1;32mc:\\Users\\amrar\\AppData\\Local\\Programs\\Python\\Python38\\lib\\http\\client.py:1322\u001b[0m, in \u001b[0;36mHTTPConnection.getresponse\u001b[1;34m(self)\u001b[0m\n\u001b[0;32m   1321\u001b[0m \u001b[38;5;28;01mtry\u001b[39;00m:\n\u001b[1;32m-> 1322\u001b[0m     \u001b[43mresponse\u001b[49m\u001b[38;5;241;43m.\u001b[39;49m\u001b[43mbegin\u001b[49m\u001b[43m(\u001b[49m\u001b[43m)\u001b[49m\n\u001b[0;32m   1323\u001b[0m \u001b[38;5;28;01mexcept\u001b[39;00m \u001b[38;5;167;01mConnectionError\u001b[39;00m:\n",
      "File \u001b[1;32mc:\\Users\\amrar\\AppData\\Local\\Programs\\Python\\Python38\\lib\\http\\client.py:303\u001b[0m, in \u001b[0;36mHTTPResponse.begin\u001b[1;34m(self)\u001b[0m\n\u001b[0;32m    302\u001b[0m \u001b[38;5;28;01mwhile\u001b[39;00m \u001b[38;5;28;01mTrue\u001b[39;00m:\n\u001b[1;32m--> 303\u001b[0m     version, status, reason \u001b[38;5;241m=\u001b[39m \u001b[38;5;28;43mself\u001b[39;49m\u001b[38;5;241;43m.\u001b[39;49m\u001b[43m_read_status\u001b[49m\u001b[43m(\u001b[49m\u001b[43m)\u001b[49m\n\u001b[0;32m    304\u001b[0m     \u001b[38;5;28;01mif\u001b[39;00m status \u001b[38;5;241m!=\u001b[39m CONTINUE:\n",
      "File \u001b[1;32mc:\\Users\\amrar\\AppData\\Local\\Programs\\Python\\Python38\\lib\\http\\client.py:264\u001b[0m, in \u001b[0;36mHTTPResponse._read_status\u001b[1;34m(self)\u001b[0m\n\u001b[0;32m    263\u001b[0m \u001b[38;5;28;01mdef\u001b[39;00m\u001b[38;5;250m \u001b[39m\u001b[38;5;21m_read_status\u001b[39m(\u001b[38;5;28mself\u001b[39m):\n\u001b[1;32m--> 264\u001b[0m     line \u001b[38;5;241m=\u001b[39m \u001b[38;5;28mstr\u001b[39m(\u001b[38;5;28;43mself\u001b[39;49m\u001b[38;5;241;43m.\u001b[39;49m\u001b[43mfp\u001b[49m\u001b[38;5;241;43m.\u001b[39;49m\u001b[43mreadline\u001b[49m\u001b[43m(\u001b[49m\u001b[43m_MAXLINE\u001b[49m\u001b[43m \u001b[49m\u001b[38;5;241;43m+\u001b[39;49m\u001b[43m \u001b[49m\u001b[38;5;241;43m1\u001b[39;49m\u001b[43m)\u001b[49m, \u001b[38;5;124m\"\u001b[39m\u001b[38;5;124miso-8859-1\u001b[39m\u001b[38;5;124m\"\u001b[39m)\n\u001b[0;32m    265\u001b[0m     \u001b[38;5;28;01mif\u001b[39;00m \u001b[38;5;28mlen\u001b[39m(line) \u001b[38;5;241m>\u001b[39m _MAXLINE:\n",
      "File \u001b[1;32mc:\\Users\\amrar\\AppData\\Local\\Programs\\Python\\Python38\\lib\\socket.py:669\u001b[0m, in \u001b[0;36mSocketIO.readinto\u001b[1;34m(self, b)\u001b[0m\n\u001b[0;32m    668\u001b[0m \u001b[38;5;28;01mtry\u001b[39;00m:\n\u001b[1;32m--> 669\u001b[0m     \u001b[38;5;28;01mreturn\u001b[39;00m \u001b[38;5;28;43mself\u001b[39;49m\u001b[38;5;241;43m.\u001b[39;49m\u001b[43m_sock\u001b[49m\u001b[38;5;241;43m.\u001b[39;49m\u001b[43mrecv_into\u001b[49m\u001b[43m(\u001b[49m\u001b[43mb\u001b[49m\u001b[43m)\u001b[49m\n\u001b[0;32m    670\u001b[0m \u001b[38;5;28;01mexcept\u001b[39;00m timeout:\n",
      "File \u001b[1;32mc:\\Users\\amrar\\AppData\\Local\\Programs\\Python\\Python38\\lib\\ssl.py:1241\u001b[0m, in \u001b[0;36mSSLSocket.recv_into\u001b[1;34m(self, buffer, nbytes, flags)\u001b[0m\n\u001b[0;32m   1238\u001b[0m         \u001b[38;5;28;01mraise\u001b[39;00m \u001b[38;5;167;01mValueError\u001b[39;00m(\n\u001b[0;32m   1239\u001b[0m           \u001b[38;5;124m\"\u001b[39m\u001b[38;5;124mnon-zero flags not allowed in calls to recv_into() on \u001b[39m\u001b[38;5;132;01m%s\u001b[39;00m\u001b[38;5;124m\"\u001b[39m \u001b[38;5;241m%\u001b[39m\n\u001b[0;32m   1240\u001b[0m           \u001b[38;5;28mself\u001b[39m\u001b[38;5;241m.\u001b[39m\u001b[38;5;18m__class__\u001b[39m)\n\u001b[1;32m-> 1241\u001b[0m     \u001b[38;5;28;01mreturn\u001b[39;00m \u001b[38;5;28;43mself\u001b[39;49m\u001b[38;5;241;43m.\u001b[39;49m\u001b[43mread\u001b[49m\u001b[43m(\u001b[49m\u001b[43mnbytes\u001b[49m\u001b[43m,\u001b[49m\u001b[43m \u001b[49m\u001b[43mbuffer\u001b[49m\u001b[43m)\u001b[49m\n\u001b[0;32m   1242\u001b[0m \u001b[38;5;28;01melse\u001b[39;00m:\n",
      "File \u001b[1;32mc:\\Users\\amrar\\AppData\\Local\\Programs\\Python\\Python38\\lib\\ssl.py:1099\u001b[0m, in \u001b[0;36mSSLSocket.read\u001b[1;34m(self, len, buffer)\u001b[0m\n\u001b[0;32m   1098\u001b[0m \u001b[38;5;28;01mif\u001b[39;00m buffer \u001b[38;5;129;01mis\u001b[39;00m \u001b[38;5;129;01mnot\u001b[39;00m \u001b[38;5;28;01mNone\u001b[39;00m:\n\u001b[1;32m-> 1099\u001b[0m     \u001b[38;5;28;01mreturn\u001b[39;00m \u001b[38;5;28;43mself\u001b[39;49m\u001b[38;5;241;43m.\u001b[39;49m\u001b[43m_sslobj\u001b[49m\u001b[38;5;241;43m.\u001b[39;49m\u001b[43mread\u001b[49m\u001b[43m(\u001b[49m\u001b[38;5;28;43mlen\u001b[39;49m\u001b[43m,\u001b[49m\u001b[43m \u001b[49m\u001b[43mbuffer\u001b[49m\u001b[43m)\u001b[49m\n\u001b[0;32m   1100\u001b[0m \u001b[38;5;28;01melse\u001b[39;00m:\n",
      "\u001b[1;31mtimeout\u001b[0m: The read operation timed out",
      "\nThe above exception was the direct cause of the following exception:\n",
      "\u001b[1;31mReadTimeoutError\u001b[0m                          Traceback (most recent call last)",
      "File \u001b[1;32mc:\\Users\\amrar\\AppData\\Local\\Programs\\Python\\Python38\\lib\\site-packages\\requests\\adapters.py:667\u001b[0m, in \u001b[0;36mHTTPAdapter.send\u001b[1;34m(self, request, stream, timeout, verify, cert, proxies)\u001b[0m\n\u001b[0;32m    666\u001b[0m \u001b[38;5;28;01mtry\u001b[39;00m:\n\u001b[1;32m--> 667\u001b[0m     resp \u001b[38;5;241m=\u001b[39m \u001b[43mconn\u001b[49m\u001b[38;5;241;43m.\u001b[39;49m\u001b[43murlopen\u001b[49m\u001b[43m(\u001b[49m\n\u001b[0;32m    668\u001b[0m \u001b[43m        \u001b[49m\u001b[43mmethod\u001b[49m\u001b[38;5;241;43m=\u001b[39;49m\u001b[43mrequest\u001b[49m\u001b[38;5;241;43m.\u001b[39;49m\u001b[43mmethod\u001b[49m\u001b[43m,\u001b[49m\n\u001b[0;32m    669\u001b[0m \u001b[43m        \u001b[49m\u001b[43murl\u001b[49m\u001b[38;5;241;43m=\u001b[39;49m\u001b[43murl\u001b[49m\u001b[43m,\u001b[49m\n\u001b[0;32m    670\u001b[0m \u001b[43m        \u001b[49m\u001b[43mbody\u001b[49m\u001b[38;5;241;43m=\u001b[39;49m\u001b[43mrequest\u001b[49m\u001b[38;5;241;43m.\u001b[39;49m\u001b[43mbody\u001b[49m\u001b[43m,\u001b[49m\n\u001b[0;32m    671\u001b[0m \u001b[43m        \u001b[49m\u001b[43mheaders\u001b[49m\u001b[38;5;241;43m=\u001b[39;49m\u001b[43mrequest\u001b[49m\u001b[38;5;241;43m.\u001b[39;49m\u001b[43mheaders\u001b[49m\u001b[43m,\u001b[49m\n\u001b[0;32m    672\u001b[0m \u001b[43m        \u001b[49m\u001b[43mredirect\u001b[49m\u001b[38;5;241;43m=\u001b[39;49m\u001b[38;5;28;43;01mFalse\u001b[39;49;00m\u001b[43m,\u001b[49m\n\u001b[0;32m    673\u001b[0m \u001b[43m        \u001b[49m\u001b[43massert_same_host\u001b[49m\u001b[38;5;241;43m=\u001b[39;49m\u001b[38;5;28;43;01mFalse\u001b[39;49;00m\u001b[43m,\u001b[49m\n\u001b[0;32m    674\u001b[0m \u001b[43m        \u001b[49m\u001b[43mpreload_content\u001b[49m\u001b[38;5;241;43m=\u001b[39;49m\u001b[38;5;28;43;01mFalse\u001b[39;49;00m\u001b[43m,\u001b[49m\n\u001b[0;32m    675\u001b[0m \u001b[43m        \u001b[49m\u001b[43mdecode_content\u001b[49m\u001b[38;5;241;43m=\u001b[39;49m\u001b[38;5;28;43;01mFalse\u001b[39;49;00m\u001b[43m,\u001b[49m\n\u001b[0;32m    676\u001b[0m \u001b[43m        \u001b[49m\u001b[43mretries\u001b[49m\u001b[38;5;241;43m=\u001b[39;49m\u001b[38;5;28;43mself\u001b[39;49m\u001b[38;5;241;43m.\u001b[39;49m\u001b[43mmax_retries\u001b[49m\u001b[43m,\u001b[49m\n\u001b[0;32m    677\u001b[0m \u001b[43m        \u001b[49m\u001b[43mtimeout\u001b[49m\u001b[38;5;241;43m=\u001b[39;49m\u001b[43mtimeout\u001b[49m\u001b[43m,\u001b[49m\n\u001b[0;32m    678\u001b[0m \u001b[43m        \u001b[49m\u001b[43mchunked\u001b[49m\u001b[38;5;241;43m=\u001b[39;49m\u001b[43mchunked\u001b[49m\u001b[43m,\u001b[49m\n\u001b[0;32m    679\u001b[0m \u001b[43m    \u001b[49m\u001b[43m)\u001b[49m\n\u001b[0;32m    681\u001b[0m \u001b[38;5;28;01mexcept\u001b[39;00m (ProtocolError, \u001b[38;5;167;01mOSError\u001b[39;00m) \u001b[38;5;28;01mas\u001b[39;00m err:\n",
      "File \u001b[1;32mc:\\Users\\amrar\\AppData\\Local\\Programs\\Python\\Python38\\lib\\site-packages\\urllib3\\connectionpool.py:843\u001b[0m, in \u001b[0;36mHTTPConnectionPool.urlopen\u001b[1;34m(self, method, url, body, headers, retries, redirect, assert_same_host, timeout, pool_timeout, release_conn, chunked, body_pos, preload_content, decode_content, **response_kw)\u001b[0m\n\u001b[0;32m    841\u001b[0m     new_e \u001b[38;5;241m=\u001b[39m ProtocolError(\u001b[38;5;124m\"\u001b[39m\u001b[38;5;124mConnection aborted.\u001b[39m\u001b[38;5;124m\"\u001b[39m, new_e)\n\u001b[1;32m--> 843\u001b[0m retries \u001b[38;5;241m=\u001b[39m \u001b[43mretries\u001b[49m\u001b[38;5;241;43m.\u001b[39;49m\u001b[43mincrement\u001b[49m\u001b[43m(\u001b[49m\n\u001b[0;32m    844\u001b[0m \u001b[43m    \u001b[49m\u001b[43mmethod\u001b[49m\u001b[43m,\u001b[49m\u001b[43m \u001b[49m\u001b[43murl\u001b[49m\u001b[43m,\u001b[49m\u001b[43m \u001b[49m\u001b[43merror\u001b[49m\u001b[38;5;241;43m=\u001b[39;49m\u001b[43mnew_e\u001b[49m\u001b[43m,\u001b[49m\u001b[43m \u001b[49m\u001b[43m_pool\u001b[49m\u001b[38;5;241;43m=\u001b[39;49m\u001b[38;5;28;43mself\u001b[39;49m\u001b[43m,\u001b[49m\u001b[43m \u001b[49m\u001b[43m_stacktrace\u001b[49m\u001b[38;5;241;43m=\u001b[39;49m\u001b[43msys\u001b[49m\u001b[38;5;241;43m.\u001b[39;49m\u001b[43mexc_info\u001b[49m\u001b[43m(\u001b[49m\u001b[43m)\u001b[49m\u001b[43m[\u001b[49m\u001b[38;5;241;43m2\u001b[39;49m\u001b[43m]\u001b[49m\n\u001b[0;32m    845\u001b[0m \u001b[43m\u001b[49m\u001b[43m)\u001b[49m\n\u001b[0;32m    846\u001b[0m retries\u001b[38;5;241m.\u001b[39msleep()\n",
      "File \u001b[1;32mc:\\Users\\amrar\\AppData\\Local\\Programs\\Python\\Python38\\lib\\site-packages\\urllib3\\util\\retry.py:474\u001b[0m, in \u001b[0;36mRetry.increment\u001b[1;34m(self, method, url, response, error, _pool, _stacktrace)\u001b[0m\n\u001b[0;32m    473\u001b[0m \u001b[38;5;28;01mif\u001b[39;00m read \u001b[38;5;129;01mis\u001b[39;00m \u001b[38;5;28;01mFalse\u001b[39;00m \u001b[38;5;129;01mor\u001b[39;00m method \u001b[38;5;129;01mis\u001b[39;00m \u001b[38;5;28;01mNone\u001b[39;00m \u001b[38;5;129;01mor\u001b[39;00m \u001b[38;5;129;01mnot\u001b[39;00m \u001b[38;5;28mself\u001b[39m\u001b[38;5;241m.\u001b[39m_is_method_retryable(method):\n\u001b[1;32m--> 474\u001b[0m     \u001b[38;5;28;01mraise\u001b[39;00m \u001b[43mreraise\u001b[49m\u001b[43m(\u001b[49m\u001b[38;5;28;43mtype\u001b[39;49m\u001b[43m(\u001b[49m\u001b[43merror\u001b[49m\u001b[43m)\u001b[49m\u001b[43m,\u001b[49m\u001b[43m \u001b[49m\u001b[43merror\u001b[49m\u001b[43m,\u001b[49m\u001b[43m \u001b[49m\u001b[43m_stacktrace\u001b[49m\u001b[43m)\u001b[49m\n\u001b[0;32m    475\u001b[0m \u001b[38;5;28;01melif\u001b[39;00m read \u001b[38;5;129;01mis\u001b[39;00m \u001b[38;5;129;01mnot\u001b[39;00m \u001b[38;5;28;01mNone\u001b[39;00m:\n",
      "File \u001b[1;32mc:\\Users\\amrar\\AppData\\Local\\Programs\\Python\\Python38\\lib\\site-packages\\urllib3\\util\\util.py:39\u001b[0m, in \u001b[0;36mreraise\u001b[1;34m(tp, value, tb)\u001b[0m\n\u001b[0;32m     38\u001b[0m         \u001b[38;5;28;01mraise\u001b[39;00m value\u001b[38;5;241m.\u001b[39mwith_traceback(tb)\n\u001b[1;32m---> 39\u001b[0m     \u001b[38;5;28;01mraise\u001b[39;00m value\n\u001b[0;32m     40\u001b[0m \u001b[38;5;28;01mfinally\u001b[39;00m:\n",
      "File \u001b[1;32mc:\\Users\\amrar\\AppData\\Local\\Programs\\Python\\Python38\\lib\\site-packages\\urllib3\\connectionpool.py:789\u001b[0m, in \u001b[0;36mHTTPConnectionPool.urlopen\u001b[1;34m(self, method, url, body, headers, retries, redirect, assert_same_host, timeout, pool_timeout, release_conn, chunked, body_pos, preload_content, decode_content, **response_kw)\u001b[0m\n\u001b[0;32m    788\u001b[0m \u001b[38;5;66;03m# Make the request on the HTTPConnection object\u001b[39;00m\n\u001b[1;32m--> 789\u001b[0m response \u001b[38;5;241m=\u001b[39m \u001b[38;5;28;43mself\u001b[39;49m\u001b[38;5;241;43m.\u001b[39;49m\u001b[43m_make_request\u001b[49m\u001b[43m(\u001b[49m\n\u001b[0;32m    790\u001b[0m \u001b[43m    \u001b[49m\u001b[43mconn\u001b[49m\u001b[43m,\u001b[49m\n\u001b[0;32m    791\u001b[0m \u001b[43m    \u001b[49m\u001b[43mmethod\u001b[49m\u001b[43m,\u001b[49m\n\u001b[0;32m    792\u001b[0m \u001b[43m    \u001b[49m\u001b[43murl\u001b[49m\u001b[43m,\u001b[49m\n\u001b[0;32m    793\u001b[0m \u001b[43m    \u001b[49m\u001b[43mtimeout\u001b[49m\u001b[38;5;241;43m=\u001b[39;49m\u001b[43mtimeout_obj\u001b[49m\u001b[43m,\u001b[49m\n\u001b[0;32m    794\u001b[0m \u001b[43m    \u001b[49m\u001b[43mbody\u001b[49m\u001b[38;5;241;43m=\u001b[39;49m\u001b[43mbody\u001b[49m\u001b[43m,\u001b[49m\n\u001b[0;32m    795\u001b[0m \u001b[43m    \u001b[49m\u001b[43mheaders\u001b[49m\u001b[38;5;241;43m=\u001b[39;49m\u001b[43mheaders\u001b[49m\u001b[43m,\u001b[49m\n\u001b[0;32m    796\u001b[0m \u001b[43m    \u001b[49m\u001b[43mchunked\u001b[49m\u001b[38;5;241;43m=\u001b[39;49m\u001b[43mchunked\u001b[49m\u001b[43m,\u001b[49m\n\u001b[0;32m    797\u001b[0m \u001b[43m    \u001b[49m\u001b[43mretries\u001b[49m\u001b[38;5;241;43m=\u001b[39;49m\u001b[43mretries\u001b[49m\u001b[43m,\u001b[49m\n\u001b[0;32m    798\u001b[0m \u001b[43m    \u001b[49m\u001b[43mresponse_conn\u001b[49m\u001b[38;5;241;43m=\u001b[39;49m\u001b[43mresponse_conn\u001b[49m\u001b[43m,\u001b[49m\n\u001b[0;32m    799\u001b[0m \u001b[43m    \u001b[49m\u001b[43mpreload_content\u001b[49m\u001b[38;5;241;43m=\u001b[39;49m\u001b[43mpreload_content\u001b[49m\u001b[43m,\u001b[49m\n\u001b[0;32m    800\u001b[0m \u001b[43m    \u001b[49m\u001b[43mdecode_content\u001b[49m\u001b[38;5;241;43m=\u001b[39;49m\u001b[43mdecode_content\u001b[49m\u001b[43m,\u001b[49m\n\u001b[0;32m    801\u001b[0m \u001b[43m    \u001b[49m\u001b[38;5;241;43m*\u001b[39;49m\u001b[38;5;241;43m*\u001b[39;49m\u001b[43mresponse_kw\u001b[49m\u001b[43m,\u001b[49m\n\u001b[0;32m    802\u001b[0m \u001b[43m\u001b[49m\u001b[43m)\u001b[49m\n\u001b[0;32m    804\u001b[0m \u001b[38;5;66;03m# Everything went great!\u001b[39;00m\n",
      "File \u001b[1;32mc:\\Users\\amrar\\AppData\\Local\\Programs\\Python\\Python38\\lib\\site-packages\\urllib3\\connectionpool.py:538\u001b[0m, in \u001b[0;36mHTTPConnectionPool._make_request\u001b[1;34m(self, conn, method, url, body, headers, retries, timeout, chunked, response_conn, preload_content, decode_content, enforce_content_length)\u001b[0m\n\u001b[0;32m    537\u001b[0m \u001b[38;5;28;01mexcept\u001b[39;00m (BaseSSLError, \u001b[38;5;167;01mOSError\u001b[39;00m) \u001b[38;5;28;01mas\u001b[39;00m e:\n\u001b[1;32m--> 538\u001b[0m     \u001b[38;5;28;43mself\u001b[39;49m\u001b[38;5;241;43m.\u001b[39;49m\u001b[43m_raise_timeout\u001b[49m\u001b[43m(\u001b[49m\u001b[43merr\u001b[49m\u001b[38;5;241;43m=\u001b[39;49m\u001b[43me\u001b[49m\u001b[43m,\u001b[49m\u001b[43m \u001b[49m\u001b[43murl\u001b[49m\u001b[38;5;241;43m=\u001b[39;49m\u001b[43murl\u001b[49m\u001b[43m,\u001b[49m\u001b[43m \u001b[49m\u001b[43mtimeout_value\u001b[49m\u001b[38;5;241;43m=\u001b[39;49m\u001b[43mread_timeout\u001b[49m\u001b[43m)\u001b[49m\n\u001b[0;32m    539\u001b[0m     \u001b[38;5;28;01mraise\u001b[39;00m\n",
      "File \u001b[1;32mc:\\Users\\amrar\\AppData\\Local\\Programs\\Python\\Python38\\lib\\site-packages\\urllib3\\connectionpool.py:369\u001b[0m, in \u001b[0;36mHTTPConnectionPool._raise_timeout\u001b[1;34m(self, err, url, timeout_value)\u001b[0m\n\u001b[0;32m    368\u001b[0m \u001b[38;5;28;01mif\u001b[39;00m \u001b[38;5;28misinstance\u001b[39m(err, SocketTimeout):\n\u001b[1;32m--> 369\u001b[0m     \u001b[38;5;28;01mraise\u001b[39;00m ReadTimeoutError(\n\u001b[0;32m    370\u001b[0m         \u001b[38;5;28mself\u001b[39m, url, \u001b[38;5;124mf\u001b[39m\u001b[38;5;124m\"\u001b[39m\u001b[38;5;124mRead timed out. (read timeout=\u001b[39m\u001b[38;5;132;01m{\u001b[39;00mtimeout_value\u001b[38;5;132;01m}\u001b[39;00m\u001b[38;5;124m)\u001b[39m\u001b[38;5;124m\"\u001b[39m\n\u001b[0;32m    371\u001b[0m     ) \u001b[38;5;28;01mfrom\u001b[39;00m\u001b[38;5;250m \u001b[39m\u001b[38;5;21;01merr\u001b[39;00m\n\u001b[0;32m    373\u001b[0m \u001b[38;5;66;03m# See the above comment about EAGAIN in Python 3.\u001b[39;00m\n",
      "\u001b[1;31mReadTimeoutError\u001b[0m: HTTPSConnectionPool(host='api.keepa.com', port=443): Read timed out. (read timeout=10.0)",
      "\nDuring handling of the above exception, another exception occurred:\n",
      "\u001b[1;31mReadTimeout\u001b[0m                               Traceback (most recent call last)",
      "Cell \u001b[1;32mIn[9], line 1\u001b[0m\n\u001b[1;32m----> 1\u001b[0m sixth \u001b[38;5;241m=\u001b[39m \u001b[43mfetch_products_from_queries\u001b[49m\u001b[43m(\u001b[49m\u001b[43mqueries\u001b[49m\u001b[38;5;241;43m.\u001b[39;49m\u001b[43miloc\u001b[49m\u001b[43m[\u001b[49m\u001b[38;5;241;43m180\u001b[39;49m\u001b[43m:\u001b[49m\u001b[43m]\u001b[49m\u001b[43m,\u001b[49m\u001b[43m \u001b[49m\u001b[43mallowed_brands\u001b[49m\u001b[43m,\u001b[49m\u001b[43mdfname\u001b[49m\u001b[38;5;241;43m=\u001b[39;49m\u001b[38;5;124;43m'\u001b[39;49m\u001b[38;5;124;43mProducts7.csv\u001b[39;49m\u001b[38;5;124;43m'\u001b[39;49m\u001b[43m)\u001b[49m\n",
      "Cell \u001b[1;32mIn[6], line 29\u001b[0m, in \u001b[0;36mfetch_products_from_queries\u001b[1;34m(query_series, allowed_brands, dfname, max_per_minute)\u001b[0m\n\u001b[0;32m     26\u001b[0m asin \u001b[38;5;241m=\u001b[39m asin_list[\u001b[38;5;241m0\u001b[39m]\n\u001b[0;32m     27\u001b[0m time\u001b[38;5;241m.\u001b[39msleep(\u001b[38;5;241m4\u001b[39m)  \u001b[38;5;66;03m# 🕒 Throttle per brand request\u001b[39;00m\n\u001b[1;32m---> 29\u001b[0m raw_products \u001b[38;5;241m=\u001b[39m \u001b[43mapi\u001b[49m\u001b[38;5;241;43m.\u001b[39;49m\u001b[43mquery\u001b[49m\u001b[43m(\u001b[49m\n\u001b[0;32m     30\u001b[0m \u001b[43m    \u001b[49m\u001b[43m[\u001b[49m\u001b[43masin\u001b[49m\u001b[43m]\u001b[49m\u001b[43m,\u001b[49m\n\u001b[0;32m     31\u001b[0m \u001b[43m    \u001b[49m\u001b[43mrating\u001b[49m\u001b[38;5;241;43m=\u001b[39;49m\u001b[38;5;28;43;01mTrue\u001b[39;49;00m\u001b[43m,\u001b[49m\n\u001b[0;32m     32\u001b[0m \u001b[43m    \u001b[49m\u001b[43mbuybox\u001b[49m\u001b[38;5;241;43m=\u001b[39;49m\u001b[38;5;28;43;01mFalse\u001b[39;49;00m\u001b[43m,\u001b[49m\n\u001b[0;32m     33\u001b[0m \u001b[43m    \u001b[49m\u001b[43mupdate\u001b[49m\u001b[38;5;241;43m=\u001b[39;49m\u001b[38;5;28;43;01mFalse\u001b[39;49;00m\u001b[43m,\u001b[49m\n\u001b[0;32m     34\u001b[0m \u001b[43m    \u001b[49m\u001b[43mhistory\u001b[49m\u001b[38;5;241;43m=\u001b[39;49m\u001b[38;5;28;43;01mTrue\u001b[39;49;00m\u001b[43m,\u001b[49m\n\u001b[0;32m     35\u001b[0m \u001b[43m\u001b[49m\u001b[43m)\u001b[49m\n\u001b[0;32m     37\u001b[0m product \u001b[38;5;241m=\u001b[39m raw_products[\u001b[38;5;241m0\u001b[39m] \u001b[38;5;28;01mif\u001b[39;00m raw_products \u001b[38;5;129;01mand\u001b[39;00m \u001b[38;5;28misinstance\u001b[39m(raw_products[\u001b[38;5;241m0\u001b[39m], \u001b[38;5;28mdict\u001b[39m) \u001b[38;5;28;01melse\u001b[39;00m \u001b[38;5;28;01mNone\u001b[39;00m\n\u001b[0;32m     38\u001b[0m \u001b[38;5;28;01mif\u001b[39;00m \u001b[38;5;129;01mnot\u001b[39;00m product:\n",
      "File \u001b[1;32mc:\\Users\\amrar\\AppData\\Local\\Programs\\Python\\Python38\\lib\\site-packages\\keepa\\interface.py:875\u001b[0m, in \u001b[0;36mKeepa.query\u001b[1;34m(self, items, stats, domain, history, offers, update, to_datetime, rating, out_of_stock_as_nan, stock, product_code_is_asin, progress_bar, buybox, wait, days, only_live_offers, raw)\u001b[0m\n\u001b[0;32m    873\u001b[0m \u001b[38;5;66;03m# request from keepa and increment current position\u001b[39;00m\n\u001b[0;32m    874\u001b[0m item_request \u001b[38;5;241m=\u001b[39m items[idx : idx \u001b[38;5;241m+\u001b[39m nrequest]  \u001b[38;5;66;03m# noqa: E203\u001b[39;00m\n\u001b[1;32m--> 875\u001b[0m response \u001b[38;5;241m=\u001b[39m \u001b[38;5;28;43mself\u001b[39;49m\u001b[38;5;241;43m.\u001b[39;49m\u001b[43m_product_query\u001b[49m\u001b[43m(\u001b[49m\n\u001b[0;32m    876\u001b[0m \u001b[43m    \u001b[49m\u001b[43mitem_request\u001b[49m\u001b[43m,\u001b[49m\n\u001b[0;32m    877\u001b[0m \u001b[43m    \u001b[49m\u001b[43mproduct_code_is_asin\u001b[49m\u001b[43m,\u001b[49m\n\u001b[0;32m    878\u001b[0m \u001b[43m    \u001b[49m\u001b[43mstats\u001b[49m\u001b[38;5;241;43m=\u001b[39;49m\u001b[43mstats\u001b[49m\u001b[43m,\u001b[49m\n\u001b[0;32m    879\u001b[0m \u001b[43m    \u001b[49m\u001b[43mdomain\u001b[49m\u001b[38;5;241;43m=\u001b[39;49m\u001b[43mdomain\u001b[49m\u001b[43m,\u001b[49m\n\u001b[0;32m    880\u001b[0m \u001b[43m    \u001b[49m\u001b[43mstock\u001b[49m\u001b[38;5;241;43m=\u001b[39;49m\u001b[43mstock\u001b[49m\u001b[43m,\u001b[49m\n\u001b[0;32m    881\u001b[0m \u001b[43m    \u001b[49m\u001b[43moffers\u001b[49m\u001b[38;5;241;43m=\u001b[39;49m\u001b[43moffers\u001b[49m\u001b[43m,\u001b[49m\n\u001b[0;32m    882\u001b[0m \u001b[43m    \u001b[49m\u001b[43mupdate\u001b[49m\u001b[38;5;241;43m=\u001b[39;49m\u001b[43mupdate\u001b[49m\u001b[43m,\u001b[49m\n\u001b[0;32m    883\u001b[0m \u001b[43m    \u001b[49m\u001b[43mhistory\u001b[49m\u001b[38;5;241;43m=\u001b[39;49m\u001b[43mhistory\u001b[49m\u001b[43m,\u001b[49m\n\u001b[0;32m    884\u001b[0m \u001b[43m    \u001b[49m\u001b[43mrating\u001b[49m\u001b[38;5;241;43m=\u001b[39;49m\u001b[43mrating\u001b[49m\u001b[43m,\u001b[49m\n\u001b[0;32m    885\u001b[0m \u001b[43m    \u001b[49m\u001b[43mto_datetime\u001b[49m\u001b[38;5;241;43m=\u001b[39;49m\u001b[43mto_datetime\u001b[49m\u001b[43m,\u001b[49m\n\u001b[0;32m    886\u001b[0m \u001b[43m    \u001b[49m\u001b[43mout_of_stock_as_nan\u001b[49m\u001b[38;5;241;43m=\u001b[39;49m\u001b[43mout_of_stock_as_nan\u001b[49m\u001b[43m,\u001b[49m\n\u001b[0;32m    887\u001b[0m \u001b[43m    \u001b[49m\u001b[43mbuybox\u001b[49m\u001b[38;5;241;43m=\u001b[39;49m\u001b[43mbuybox\u001b[49m\u001b[43m,\u001b[49m\n\u001b[0;32m    888\u001b[0m \u001b[43m    \u001b[49m\u001b[43mwait\u001b[49m\u001b[38;5;241;43m=\u001b[39;49m\u001b[43mwait\u001b[49m\u001b[43m,\u001b[49m\n\u001b[0;32m    889\u001b[0m \u001b[43m    \u001b[49m\u001b[43mdays\u001b[49m\u001b[38;5;241;43m=\u001b[39;49m\u001b[43mdays\u001b[49m\u001b[43m,\u001b[49m\n\u001b[0;32m    890\u001b[0m \u001b[43m    \u001b[49m\u001b[43monly_live_offers\u001b[49m\u001b[38;5;241;43m=\u001b[39;49m\u001b[43monly_live_offers\u001b[49m\u001b[43m,\u001b[49m\n\u001b[0;32m    891\u001b[0m \u001b[43m    \u001b[49m\u001b[43mraw\u001b[49m\u001b[38;5;241;43m=\u001b[39;49m\u001b[43mraw\u001b[49m\u001b[43m,\u001b[49m\n\u001b[0;32m    892\u001b[0m \u001b[43m\u001b[49m\u001b[43m)\u001b[49m\n\u001b[0;32m    893\u001b[0m idx \u001b[38;5;241m+\u001b[39m\u001b[38;5;241m=\u001b[39m nrequest\n\u001b[0;32m    894\u001b[0m \u001b[38;5;28;01mif\u001b[39;00m raw:\n",
      "File \u001b[1;32mc:\\Users\\amrar\\AppData\\Local\\Programs\\Python\\Python38\\lib\\site-packages\\keepa\\interface.py:1008\u001b[0m, in \u001b[0;36mKeepa._product_query\u001b[1;34m(self, items, product_code_is_asin, **kwargs)\u001b[0m\n\u001b[0;32m   1006\u001b[0m kwargs\u001b[38;5;241m.\u001b[39mpop(\u001b[38;5;124m\"\u001b[39m\u001b[38;5;124mwait\u001b[39m\u001b[38;5;124m\"\u001b[39m, \u001b[38;5;28;01mNone\u001b[39;00m)\n\u001b[0;32m   1007\u001b[0m raw_response \u001b[38;5;241m=\u001b[39m kwargs\u001b[38;5;241m.\u001b[39mpop(\u001b[38;5;124m\"\u001b[39m\u001b[38;5;124mraw\u001b[39m\u001b[38;5;124m\"\u001b[39m, \u001b[38;5;28;01mFalse\u001b[39;00m)\n\u001b[1;32m-> 1008\u001b[0m response \u001b[38;5;241m=\u001b[39m \u001b[38;5;28;43mself\u001b[39;49m\u001b[38;5;241;43m.\u001b[39;49m\u001b[43m_request\u001b[49m\u001b[43m(\u001b[49m\u001b[38;5;124;43m\"\u001b[39;49m\u001b[38;5;124;43mproduct\u001b[39;49m\u001b[38;5;124;43m\"\u001b[39;49m\u001b[43m,\u001b[49m\u001b[43m \u001b[49m\u001b[43mkwargs\u001b[49m\u001b[43m,\u001b[49m\u001b[43m \u001b[49m\u001b[43mwait\u001b[49m\u001b[38;5;241;43m=\u001b[39;49m\u001b[43mwait\u001b[49m\u001b[43m,\u001b[49m\u001b[43m \u001b[49m\u001b[43mraw_response\u001b[49m\u001b[38;5;241;43m=\u001b[39;49m\u001b[43mraw_response\u001b[49m\u001b[43m)\u001b[49m\n\u001b[0;32m   1010\u001b[0m \u001b[38;5;28;01mif\u001b[39;00m kwargs[\u001b[38;5;124m\"\u001b[39m\u001b[38;5;124mhistory\u001b[39m\u001b[38;5;124m\"\u001b[39m] \u001b[38;5;129;01mand\u001b[39;00m \u001b[38;5;129;01mnot\u001b[39;00m raw_response:\n\u001b[0;32m   1011\u001b[0m     \u001b[38;5;28;01mfor\u001b[39;00m product \u001b[38;5;129;01min\u001b[39;00m response[\u001b[38;5;124m\"\u001b[39m\u001b[38;5;124mproducts\u001b[39m\u001b[38;5;124m\"\u001b[39m]:\n",
      "File \u001b[1;32mc:\\Users\\amrar\\AppData\\Local\\Programs\\Python\\Python38\\lib\\site-packages\\keepa\\interface.py:1595\u001b[0m, in \u001b[0;36mKeepa._request\u001b[1;34m(self, request_type, payload, wait, raw_response)\u001b[0m\n\u001b[0;32m   1592\u001b[0m     \u001b[38;5;28mself\u001b[39m\u001b[38;5;241m.\u001b[39mwait_for_tokens()\n\u001b[0;32m   1594\u001b[0m \u001b[38;5;28;01mwhile\u001b[39;00m \u001b[38;5;28;01mTrue\u001b[39;00m:\n\u001b[1;32m-> 1595\u001b[0m     raw \u001b[38;5;241m=\u001b[39m \u001b[43mrequests\u001b[49m\u001b[38;5;241;43m.\u001b[39;49m\u001b[43mget\u001b[49m\u001b[43m(\u001b[49m\n\u001b[0;32m   1596\u001b[0m \u001b[43m        \u001b[49m\u001b[38;5;124;43mf\u001b[39;49m\u001b[38;5;124;43m\"\u001b[39;49m\u001b[38;5;124;43mhttps://api.keepa.com/\u001b[39;49m\u001b[38;5;132;43;01m{\u001b[39;49;00m\u001b[43mrequest_type\u001b[49m\u001b[38;5;132;43;01m}\u001b[39;49;00m\u001b[38;5;124;43m/?\u001b[39;49m\u001b[38;5;124;43m\"\u001b[39;49m\u001b[43m,\u001b[49m\n\u001b[0;32m   1597\u001b[0m \u001b[43m        \u001b[49m\u001b[43mpayload\u001b[49m\u001b[43m,\u001b[49m\n\u001b[0;32m   1598\u001b[0m \u001b[43m        \u001b[49m\u001b[43mtimeout\u001b[49m\u001b[38;5;241;43m=\u001b[39;49m\u001b[38;5;28;43mself\u001b[39;49m\u001b[38;5;241;43m.\u001b[39;49m\u001b[43m_timeout\u001b[49m\u001b[43m,\u001b[49m\n\u001b[0;32m   1599\u001b[0m \u001b[43m    \u001b[49m\u001b[43m)\u001b[49m\n\u001b[0;32m   1600\u001b[0m     status_code \u001b[38;5;241m=\u001b[39m \u001b[38;5;28mstr\u001b[39m(raw\u001b[38;5;241m.\u001b[39mstatus_code)\n\u001b[0;32m   1601\u001b[0m     \u001b[38;5;28;01mif\u001b[39;00m status_code \u001b[38;5;241m!=\u001b[39m \u001b[38;5;124m\"\u001b[39m\u001b[38;5;124m200\u001b[39m\u001b[38;5;124m\"\u001b[39m:\n",
      "File \u001b[1;32mc:\\Users\\amrar\\AppData\\Local\\Programs\\Python\\Python38\\lib\\site-packages\\requests\\api.py:73\u001b[0m, in \u001b[0;36mget\u001b[1;34m(url, params, **kwargs)\u001b[0m\n\u001b[0;32m     62\u001b[0m \u001b[38;5;28;01mdef\u001b[39;00m\u001b[38;5;250m \u001b[39m\u001b[38;5;21mget\u001b[39m(url, params\u001b[38;5;241m=\u001b[39m\u001b[38;5;28;01mNone\u001b[39;00m, \u001b[38;5;241m*\u001b[39m\u001b[38;5;241m*\u001b[39mkwargs):\n\u001b[0;32m     63\u001b[0m \u001b[38;5;250m    \u001b[39m\u001b[38;5;124mr\u001b[39m\u001b[38;5;124;03m\"\"\"Sends a GET request.\u001b[39;00m\n\u001b[0;32m     64\u001b[0m \n\u001b[0;32m     65\u001b[0m \u001b[38;5;124;03m    :param url: URL for the new :class:`Request` object.\u001b[39;00m\n\u001b[1;32m   (...)\u001b[0m\n\u001b[0;32m     70\u001b[0m \u001b[38;5;124;03m    :rtype: requests.Response\u001b[39;00m\n\u001b[0;32m     71\u001b[0m \u001b[38;5;124;03m    \"\"\"\u001b[39;00m\n\u001b[1;32m---> 73\u001b[0m     \u001b[38;5;28;01mreturn\u001b[39;00m \u001b[43mrequest\u001b[49m\u001b[43m(\u001b[49m\u001b[38;5;124;43m\"\u001b[39;49m\u001b[38;5;124;43mget\u001b[39;49m\u001b[38;5;124;43m\"\u001b[39;49m\u001b[43m,\u001b[49m\u001b[43m \u001b[49m\u001b[43murl\u001b[49m\u001b[43m,\u001b[49m\u001b[43m \u001b[49m\u001b[43mparams\u001b[49m\u001b[38;5;241;43m=\u001b[39;49m\u001b[43mparams\u001b[49m\u001b[43m,\u001b[49m\u001b[43m \u001b[49m\u001b[38;5;241;43m*\u001b[39;49m\u001b[38;5;241;43m*\u001b[39;49m\u001b[43mkwargs\u001b[49m\u001b[43m)\u001b[49m\n",
      "File \u001b[1;32mc:\\Users\\amrar\\AppData\\Local\\Programs\\Python\\Python38\\lib\\site-packages\\requests\\api.py:59\u001b[0m, in \u001b[0;36mrequest\u001b[1;34m(method, url, **kwargs)\u001b[0m\n\u001b[0;32m     55\u001b[0m \u001b[38;5;66;03m# By using the 'with' statement we are sure the session is closed, thus we\u001b[39;00m\n\u001b[0;32m     56\u001b[0m \u001b[38;5;66;03m# avoid leaving sockets open which can trigger a ResourceWarning in some\u001b[39;00m\n\u001b[0;32m     57\u001b[0m \u001b[38;5;66;03m# cases, and look like a memory leak in others.\u001b[39;00m\n\u001b[0;32m     58\u001b[0m \u001b[38;5;28;01mwith\u001b[39;00m sessions\u001b[38;5;241m.\u001b[39mSession() \u001b[38;5;28;01mas\u001b[39;00m session:\n\u001b[1;32m---> 59\u001b[0m     \u001b[38;5;28;01mreturn\u001b[39;00m \u001b[43msession\u001b[49m\u001b[38;5;241;43m.\u001b[39;49m\u001b[43mrequest\u001b[49m\u001b[43m(\u001b[49m\u001b[43mmethod\u001b[49m\u001b[38;5;241;43m=\u001b[39;49m\u001b[43mmethod\u001b[49m\u001b[43m,\u001b[49m\u001b[43m \u001b[49m\u001b[43murl\u001b[49m\u001b[38;5;241;43m=\u001b[39;49m\u001b[43murl\u001b[49m\u001b[43m,\u001b[49m\u001b[43m \u001b[49m\u001b[38;5;241;43m*\u001b[39;49m\u001b[38;5;241;43m*\u001b[39;49m\u001b[43mkwargs\u001b[49m\u001b[43m)\u001b[49m\n",
      "File \u001b[1;32mc:\\Users\\amrar\\AppData\\Local\\Programs\\Python\\Python38\\lib\\site-packages\\requests\\sessions.py:589\u001b[0m, in \u001b[0;36mSession.request\u001b[1;34m(self, method, url, params, data, headers, cookies, files, auth, timeout, allow_redirects, proxies, hooks, stream, verify, cert, json)\u001b[0m\n\u001b[0;32m    584\u001b[0m send_kwargs \u001b[38;5;241m=\u001b[39m {\n\u001b[0;32m    585\u001b[0m     \u001b[38;5;124m\"\u001b[39m\u001b[38;5;124mtimeout\u001b[39m\u001b[38;5;124m\"\u001b[39m: timeout,\n\u001b[0;32m    586\u001b[0m     \u001b[38;5;124m\"\u001b[39m\u001b[38;5;124mallow_redirects\u001b[39m\u001b[38;5;124m\"\u001b[39m: allow_redirects,\n\u001b[0;32m    587\u001b[0m }\n\u001b[0;32m    588\u001b[0m send_kwargs\u001b[38;5;241m.\u001b[39mupdate(settings)\n\u001b[1;32m--> 589\u001b[0m resp \u001b[38;5;241m=\u001b[39m \u001b[38;5;28;43mself\u001b[39;49m\u001b[38;5;241;43m.\u001b[39;49m\u001b[43msend\u001b[49m\u001b[43m(\u001b[49m\u001b[43mprep\u001b[49m\u001b[43m,\u001b[49m\u001b[43m \u001b[49m\u001b[38;5;241;43m*\u001b[39;49m\u001b[38;5;241;43m*\u001b[39;49m\u001b[43msend_kwargs\u001b[49m\u001b[43m)\u001b[49m\n\u001b[0;32m    591\u001b[0m \u001b[38;5;28;01mreturn\u001b[39;00m resp\n",
      "File \u001b[1;32mc:\\Users\\amrar\\AppData\\Local\\Programs\\Python\\Python38\\lib\\site-packages\\requests\\sessions.py:703\u001b[0m, in \u001b[0;36mSession.send\u001b[1;34m(self, request, **kwargs)\u001b[0m\n\u001b[0;32m    700\u001b[0m start \u001b[38;5;241m=\u001b[39m preferred_clock()\n\u001b[0;32m    702\u001b[0m \u001b[38;5;66;03m# Send the request\u001b[39;00m\n\u001b[1;32m--> 703\u001b[0m r \u001b[38;5;241m=\u001b[39m \u001b[43madapter\u001b[49m\u001b[38;5;241;43m.\u001b[39;49m\u001b[43msend\u001b[49m\u001b[43m(\u001b[49m\u001b[43mrequest\u001b[49m\u001b[43m,\u001b[49m\u001b[43m \u001b[49m\u001b[38;5;241;43m*\u001b[39;49m\u001b[38;5;241;43m*\u001b[39;49m\u001b[43mkwargs\u001b[49m\u001b[43m)\u001b[49m\n\u001b[0;32m    705\u001b[0m \u001b[38;5;66;03m# Total elapsed time of the request (approximately)\u001b[39;00m\n\u001b[0;32m    706\u001b[0m elapsed \u001b[38;5;241m=\u001b[39m preferred_clock() \u001b[38;5;241m-\u001b[39m start\n",
      "File \u001b[1;32mc:\\Users\\amrar\\AppData\\Local\\Programs\\Python\\Python38\\lib\\site-packages\\requests\\adapters.py:713\u001b[0m, in \u001b[0;36mHTTPAdapter.send\u001b[1;34m(self, request, stream, timeout, verify, cert, proxies)\u001b[0m\n\u001b[0;32m    711\u001b[0m     \u001b[38;5;28;01mraise\u001b[39;00m SSLError(e, request\u001b[38;5;241m=\u001b[39mrequest)\n\u001b[0;32m    712\u001b[0m \u001b[38;5;28;01melif\u001b[39;00m \u001b[38;5;28misinstance\u001b[39m(e, ReadTimeoutError):\n\u001b[1;32m--> 713\u001b[0m     \u001b[38;5;28;01mraise\u001b[39;00m ReadTimeout(e, request\u001b[38;5;241m=\u001b[39mrequest)\n\u001b[0;32m    714\u001b[0m \u001b[38;5;28;01melif\u001b[39;00m \u001b[38;5;28misinstance\u001b[39m(e, _InvalidHeader):\n\u001b[0;32m    715\u001b[0m     \u001b[38;5;28;01mraise\u001b[39;00m InvalidHeader(e, request\u001b[38;5;241m=\u001b[39mrequest)\n",
      "\u001b[1;31mReadTimeout\u001b[0m: HTTPSConnectionPool(host='api.keepa.com', port=443): Read timed out. (read timeout=10.0)"
     ]
    }
   ],
   "source": [
    "sixth = fetch_products_from_queries(queries.iloc[180:], allowed_brands,dfname='Products7.csv')"
   ]
  },
  {
   "cell_type": "code",
   "execution_count": null,
   "id": "70b7e040",
   "metadata": {},
   "outputs": [
    {
     "name": "stderr",
     "output_type": "stream",
     "text": [
      "100%|██████████| 1/1 [00:02<00:00,  2.11s/it]\n"
     ]
    },
    {
     "name": "stdout",
     "output_type": "stream",
     "text": [
      "[✓] Rear Trunk Lid Lift Supports to Volvo C30 | ARANA | ASIN: B0BN6382CS | Price: $38.99 | Rating: 4.5 | Reviews: 7725\n"
     ]
    },
    {
     "name": "stderr",
     "output_type": "stream",
     "text": [
      "100%|██████████| 1/1 [00:01<00:00,  1.68s/it]\n"
     ]
    },
    {
     "name": "stdout",
     "output_type": "stream",
     "text": [
      "[✓] Rear Trunk Lid Lift Supports to Volvo C30 | Suspensia | ASIN: B0C75WP31W | Price: $48.92 | Rating: N/A | Reviews: N/A\n"
     ]
    },
    {
     "name": "stderr",
     "output_type": "stream",
     "text": [
      "100%|██████████| 1/1 [00:00<00:00,  1.27it/s]\n"
     ]
    },
    {
     "name": "stdout",
     "output_type": "stream",
     "text": [
      "[✓] Back Glass Lift Supports To Gmc Jimmy Or Door Liftgate Model To Oldsmobile Bravada To Chevrolet Blazer Liftgate Models Only | ARANA | ASIN: B0BWHYJ37N | Price: $29.99 | Rating: 4.5 | Reviews: 7712\n"
     ]
    },
    {
     "name": "stderr",
     "output_type": "stream",
     "text": [
      "100%|██████████| 1/1 [00:00<00:00,  1.37it/s]\n"
     ]
    },
    {
     "name": "stdout",
     "output_type": "stream",
     "text": [
      "[✓] Back Glass Lift Supports To Gmc Jimmy Or Door Liftgate Model To Oldsmobile Bravada To Chevrolet Blazer Liftgate Models Only | Suspensia | ASIN: B0C75WP31W | Price: $48.92 | Rating: N/A | Reviews: N/A\n"
     ]
    },
    {
     "name": "stderr",
     "output_type": "stream",
     "text": [
      "100%|██████████| 1/1 [00:01<00:00,  1.89s/it]\n"
     ]
    },
    {
     "name": "stdout",
     "output_type": "stream",
     "text": [
      "[✓] Rear Gate Hatch Lift Supports to Dodge Caliber Without Speakers | ARANA | ASIN: B0BWHYJ37N | Price: $29.99 | Rating: 4.5 | Reviews: 7712\n"
     ]
    },
    {
     "name": "stderr",
     "output_type": "stream",
     "text": [
      "100%|██████████| 1/1 [00:00<00:00,  1.38it/s]\n"
     ]
    },
    {
     "name": "stdout",
     "output_type": "stream",
     "text": [
      "[✓] Rear Gate Hatch Lift Supports to Dodge Caliber Without Speakers | Suspensia | ASIN: B0C75WP31W | Price: $48.92 | Rating: N/A | Reviews: N/A\n"
     ]
    },
    {
     "name": "stderr",
     "output_type": "stream",
     "text": [
      "100%|██████████| 1/1 [00:02<00:00,  2.13s/it]\n"
     ]
    },
    {
     "name": "stdout",
     "output_type": "stream",
     "text": [
      "[✓] Rear Hatch Lift Supports To Chevrolet Sonic | ARANA | ASIN: B0D4YTCBPL | Price: $38.99 | Rating: 4.5 | Reviews: 7712\n"
     ]
    },
    {
     "name": "stderr",
     "output_type": "stream",
     "text": [
      "100%|██████████| 1/1 [00:00<00:00,  1.04it/s]\n"
     ]
    },
    {
     "name": "stdout",
     "output_type": "stream",
     "text": [
      "[✓] Rear Hatch Lift Supports To Chevrolet Sonic | Suspensia | ASIN: B0C75WP31W | Price: $48.92 | Rating: N/A | Reviews: N/A\n"
     ]
    },
    {
     "name": "stderr",
     "output_type": "stream",
     "text": [
      "100%|██████████| 1/1 [00:00<00:00,  1.49it/s]\n"
     ]
    },
    {
     "name": "stdout",
     "output_type": "stream",
     "text": [
      "[✓] Front Hood Lift Supports To Pontiac Solstice To Saturn Sky | ARANA | ASIN: B0D4YTCBPL | Price: $38.99 | Rating: 4.5 | Reviews: 7712\n"
     ]
    },
    {
     "name": "stderr",
     "output_type": "stream",
     "text": [
      "100%|██████████| 1/1 [00:00<00:00,  1.44it/s]\n"
     ]
    },
    {
     "name": "stdout",
     "output_type": "stream",
     "text": [
      "[✓] Front Hood Lift Supports To Pontiac Solstice To Saturn Sky | Suspensia | ASIN: B0C75WP31W | Price: $48.92 | Rating: N/A | Reviews: N/A\n"
     ]
    },
    {
     "name": "stderr",
     "output_type": "stream",
     "text": [
      "100%|██████████| 1/1 [00:01<00:00,  1.88s/it]\n"
     ]
    },
    {
     "name": "stdout",
     "output_type": "stream",
     "text": [
      "[✓] Rear Hatch Lift Supports to Toyota Corolla Hatchback | ARANA | ASIN: B09MLFD378 | Price: $27.99 | Rating: 4.5 | Reviews: 7727\n"
     ]
    },
    {
     "name": "stderr",
     "output_type": "stream",
     "text": [
      "100%|██████████| 1/1 [00:00<00:00,  1.60it/s]\n"
     ]
    },
    {
     "name": "stdout",
     "output_type": "stream",
     "text": [
      "[✓] Rear Hatch Lift Supports to Toyota Corolla Hatchback | Suspensia | ASIN: B0C75WP31W | Price: $48.92 | Rating: N/A | Reviews: N/A\n"
     ]
    },
    {
     "name": "stderr",
     "output_type": "stream",
     "text": [
      "Waiting 51 seconds for additional tokens\n",
      "100%|██████████| 1/1 [00:55<00:00, 55.36s/it]\n"
     ]
    },
    {
     "name": "stdout",
     "output_type": "stream",
     "text": [
      "[✓] Rear Hatch Lift Supports To Kia Rio5 | ARANA | ASIN: B0C33PJ3C8 | Price: $23.99 | Rating: 4.5 | Reviews: 7721\n"
     ]
    },
    {
     "name": "stderr",
     "output_type": "stream",
     "text": [
      "100%|██████████| 1/1 [00:00<00:00,  1.11it/s]\n"
     ]
    },
    {
     "name": "stdout",
     "output_type": "stream",
     "text": [
      "[✓] Rear Hatch Lift Supports To Kia Rio5 | Suspensia | ASIN: B0C75WP31W | Price: $48.92 | Rating: N/A | Reviews: N/A\n"
     ]
    },
    {
     "name": "stderr",
     "output_type": "stream",
     "text": [
      "Waiting 63 seconds for additional tokens\n",
      "100%|██████████| 1/1 [01:04<00:00, 64.19s/it]\n"
     ]
    },
    {
     "name": "stdout",
     "output_type": "stream",
     "text": [
      "[✓] Rear Trunk Lift Supports To Audi A6 Quattro Wagon Models With Power Gate | ARANA | ASIN: B09874JJR2 | Price: N/A | Rating: N/A | Reviews: N/A\n"
     ]
    },
    {
     "name": "stderr",
     "output_type": "stream",
     "text": [
      "Waiting 36 seconds for additional tokens\n",
      "100%|██████████| 1/1 [00:37<00:00, 37.06s/it]\n"
     ]
    },
    {
     "name": "stdout",
     "output_type": "stream",
     "text": [
      "[✓] Rear Trunk Lift Supports To Audi A6 Quattro Wagon Models With Power Gate | Suspensia | ASIN: B0C75WP31W | Price: $48.92 | Rating: N/A | Reviews: N/A\n"
     ]
    },
    {
     "name": "stderr",
     "output_type": "stream",
     "text": [
      "100%|██████████| 1/1 [00:01<00:00,  1.38s/it]\n"
     ]
    },
    {
     "name": "stdout",
     "output_type": "stream",
     "text": [
      "[✓] Rear Gate Lift Supports Compatible With To Hyundai Tucson | ARANA | ASIN: B0D7VS524Y | Price: $21.99 | Rating: 4.5 | Reviews: 7721\n"
     ]
    },
    {
     "name": "stderr",
     "output_type": "stream",
     "text": [
      "Waiting 38 seconds for additional tokens\n",
      "100%|██████████| 1/1 [00:01<00:00,  1.33s/it]\n"
     ]
    },
    {
     "name": "stdout",
     "output_type": "stream",
     "text": [
      "[✓] Rear Gate Lift Supports Compatible With To Hyundai Tucson | Suspensia | ASIN: B0C75WP31W | Price: $48.92 | Rating: N/A | Reviews: N/A\n"
     ]
    },
    {
     "name": "stderr",
     "output_type": "stream",
     "text": [
      "Waiting 59 seconds for additional tokens\n",
      "100%|██████████| 1/1 [01:00<00:00, 60.36s/it]\n"
     ]
    },
    {
     "name": "stdout",
     "output_type": "stream",
     "text": [
      "[✓] Liftgate Lift Supports Replaces Nissan Pathfinder | ARANA | ASIN: B0D4YT7QCQ | Price: $35.99 | Rating: 4.5 | Reviews: 7713\n"
     ]
    },
    {
     "name": "stderr",
     "output_type": "stream",
     "text": [
      "100%|██████████| 1/1 [00:00<00:00,  1.50it/s]\n"
     ]
    },
    {
     "name": "stdout",
     "output_type": "stream",
     "text": [
      "[✓] Liftgate Lift Supports Replaces Nissan Pathfinder | Suspensia | ASIN: B0C75WP31W | Price: $48.92 | Rating: N/A | Reviews: N/A\n"
     ]
    },
    {
     "name": "stderr",
     "output_type": "stream",
     "text": [
      "Waiting 36 seconds for additional tokens\n",
      "100%|██████████| 1/1 [00:01<00:00,  1.79s/it]\n"
     ]
    },
    {
     "name": "stdout",
     "output_type": "stream",
     "text": [
      "[✓] Rear Hatch Tailgate Lift Supports Fits TOYOTA PRIUS TOYOTA PRIUS PLUG IN | ARANA | ASIN: B0B28PQZKJ | Price: $32.99 | Rating: 4.5 | Reviews: 7727\n"
     ]
    },
    {
     "name": "stderr",
     "output_type": "stream",
     "text": [
      "Waiting 58 seconds for additional tokens\n",
      "100%|██████████| 1/1 [01:01<00:00, 61.04s/it]\n"
     ]
    },
    {
     "name": "stdout",
     "output_type": "stream",
     "text": [
      "[✓] Rear Hatch Tailgate Lift Supports Fits TOYOTA PRIUS TOYOTA PRIUS PLUG IN | Suspensia | ASIN: B0C75WP31W | Price: $48.92 | Rating: N/A | Reviews: N/A\n"
     ]
    },
    {
     "name": "stderr",
     "output_type": "stream",
     "text": [
      "100%|██████████| 1/1 [00:01<00:00,  1.43s/it]\n"
     ]
    },
    {
     "name": "stdout",
     "output_type": "stream",
     "text": [
      "[✓] Rear Liftgate Lift Supports To Mitsubishi Outlander | ARANA | ASIN: B0D4YT7QCQ | Price: $35.99 | Rating: 4.5 | Reviews: 7713\n"
     ]
    },
    {
     "name": "stderr",
     "output_type": "stream",
     "text": [
      "Waiting 36 seconds for additional tokens\n",
      "100%|██████████| 1/1 [00:00<00:00,  1.11it/s]\n"
     ]
    },
    {
     "name": "stdout",
     "output_type": "stream",
     "text": [
      "[✓] Rear Liftgate Lift Supports To Mitsubishi Outlander | Suspensia | ASIN: B0C75WP31W | Price: $48.92 | Rating: N/A | Reviews: N/A\n"
     ]
    },
    {
     "name": "stderr",
     "output_type": "stream",
     "text": [
      "Waiting 57 seconds for additional tokens\n",
      "100%|██████████| 1/1 [01:00<00:00, 60.31s/it]\n"
     ]
    },
    {
     "name": "stdout",
     "output_type": "stream",
     "text": [
      "[✓] Liftgate Lift Supports To Mitsubishi Outlander | ARANA | ASIN: B07C7WSNRJ | Price: $26.99 | Rating: 4.5 | Reviews: 7727\n"
     ]
    },
    {
     "name": "stderr",
     "output_type": "stream",
     "text": [
      "100%|██████████| 1/1 [00:00<00:00,  1.05it/s]\n"
     ]
    },
    {
     "name": "stdout",
     "output_type": "stream",
     "text": [
      "[✓] Liftgate Lift Supports To Mitsubishi Outlander | Suspensia | ASIN: B0C75WP31W | Price: $48.92 | Rating: N/A | Reviews: N/A\n"
     ]
    },
    {
     "name": "stderr",
     "output_type": "stream",
     "text": [
      "Waiting 36 seconds for additional tokens\n",
      "100%|██████████| 1/1 [00:01<00:00,  1.29s/it]\n"
     ]
    },
    {
     "name": "stdout",
     "output_type": "stream",
     "text": [
      "[✓] Rear Hatch Lift Supports to Audi A3 with Spoiler to Audi A3 Quattro with Spoiler Door Models Only | ARANA | ASIN: B07C7RYJRJ | Price: $25.99 | Rating: 4.5 | Reviews: 7725\n"
     ]
    },
    {
     "name": "stderr",
     "output_type": "stream",
     "text": [
      "Waiting 63 seconds for additional tokens\n",
      "100%|██████████| 1/1 [01:04<00:00, 64.32s/it]\n"
     ]
    },
    {
     "name": "stdout",
     "output_type": "stream",
     "text": [
      "[✓] Rear Hatch Lift Supports to Audi A3 with Spoiler to Audi A3 Quattro with Spoiler Door Models Only | Suspensia | ASIN: B0C75WP31W | Price: $48.92 | Rating: N/A | Reviews: N/A\n"
     ]
    },
    {
     "name": "stderr",
     "output_type": "stream",
     "text": [
      "Waiting 32 seconds for additional tokens\n",
      "100%|██████████| 1/1 [00:33<00:00, 33.66s/it]\n"
     ]
    },
    {
     "name": "stdout",
     "output_type": "stream",
     "text": [
      "[✓] Rear Liftgate Lift Supports To Suzuki Esteem To Suzuki Baleno | ARANA | ASIN: B0B4P5VH7Y | Price: $39.99 | Rating: 4.5 | Reviews: 7725\n"
     ]
    },
    {
     "name": "stderr",
     "output_type": "stream",
     "text": [
      "100%|██████████| 1/1 [00:00<00:00,  1.26it/s]\n"
     ]
    },
    {
     "name": "stdout",
     "output_type": "stream",
     "text": [
      "[✓] Rear Liftgate Lift Supports To Suzuki Esteem To Suzuki Baleno | Suspensia | ASIN: B0C75WP31W | Price: $48.92 | Rating: N/A | Reviews: N/A\n"
     ]
    },
    {
     "name": "stderr",
     "output_type": "stream",
     "text": [
      "Waiting 65 seconds for additional tokens\n",
      "100%|██████████| 1/1 [01:06<00:00, 66.37s/it]\n"
     ]
    },
    {
     "name": "stdout",
     "output_type": "stream",
     "text": [
      "[✓] Rear Liftgate Lift Supports To Jeep Renegade | ARANA | ASIN: B0B4P5VH7Y | Price: $39.99 | Rating: 4.5 | Reviews: 7725\n"
     ]
    },
    {
     "name": "stderr",
     "output_type": "stream",
     "text": [
      "Waiting 33 seconds for additional tokens\n",
      "100%|██████████| 1/1 [00:34<00:00, 34.94s/it]\n"
     ]
    },
    {
     "name": "stdout",
     "output_type": "stream",
     "text": [
      "[✓] Rear Liftgate Lift Supports To Jeep Renegade | Suspensia | ASIN: B0C75WP31W | Price: $48.92 | Rating: N/A | Reviews: N/A\n"
     ]
    },
    {
     "name": "stderr",
     "output_type": "stream",
     "text": [
      "100%|██████████| 1/1 [00:05<00:00,  5.24s/it]\n"
     ]
    },
    {
     "name": "stdout",
     "output_type": "stream",
     "text": [
      "[✓] Front Hood Lift Supports to Jaguar S Type | ARANA | ASIN: B0D2HJ2JDH | Price: $49.99 | Rating: 4.5 | Reviews: 7721\n"
     ]
    },
    {
     "name": "stderr",
     "output_type": "stream",
     "text": [
      "Waiting 62 seconds for additional tokens\n",
      "100%|██████████| 1/1 [01:03<00:00, 63.18s/it]\n"
     ]
    },
    {
     "name": "stdout",
     "output_type": "stream",
     "text": [
      "[✓] Front Hood Lift Supports to Jaguar S Type | Suspensia | ASIN: B0C75WP31W | Price: $48.92 | Rating: N/A | Reviews: N/A\n"
     ]
    },
    {
     "name": "stderr",
     "output_type": "stream",
     "text": [
      "Waiting 30 seconds for additional tokens\n",
      "100%|██████████| 1/1 [00:32<00:00, 32.29s/it]\n"
     ]
    },
    {
     "name": "stdout",
     "output_type": "stream",
     "text": [
      "[✓] Front Hood Lift Supports To Saab | ARANA | ASIN: B0D7VK2XG5 | Price: $39.99 | Rating: 4.5 | Reviews: 7721\n"
     ]
    },
    {
     "name": "stderr",
     "output_type": "stream",
     "text": [
      "100%|██████████| 1/1 [00:01<00:00,  1.92s/it]\n"
     ]
    },
    {
     "name": "stdout",
     "output_type": "stream",
     "text": [
      "[✓] Front Hood Lift Supports To Saab | Suspensia | ASIN: B0C75WP31W | Price: $48.92 | Rating: N/A | Reviews: N/A\n"
     ]
    },
    {
     "name": "stderr",
     "output_type": "stream",
     "text": [
      "Waiting 68 seconds for additional tokens\n",
      "100%|██████████| 1/1 [01:09<00:00, 69.94s/it]\n"
     ]
    },
    {
     "name": "stdout",
     "output_type": "stream",
     "text": [
      "[✓] Rear Door Hatch Trunk Lift Supports To Mini Cooper Excluding Clubman | ARANA | ASIN: B08SQWND4Z | Price: $23.99 | Rating: 4.5 | Reviews: 7725\n"
     ]
    },
    {
     "name": "stderr",
     "output_type": "stream",
     "text": [
      "Waiting 36 seconds for additional tokens\n",
      "100%|██████████| 1/1 [00:36<00:00, 36.74s/it]\n"
     ]
    },
    {
     "name": "stdout",
     "output_type": "stream",
     "text": [
      "[✓] Rear Door Hatch Trunk Lift Supports To Mini Cooper Excluding Clubman | Suspensia | ASIN: B0C75WP31W | Price: $48.92 | Rating: N/A | Reviews: N/A\n"
     ]
    },
    {
     "name": "stderr",
     "output_type": "stream",
     "text": [
      "100%|██████████| 1/1 [00:03<00:00,  3.27s/it]\n"
     ]
    },
    {
     "name": "stdout",
     "output_type": "stream",
     "text": [
      "[✓] Rear Gate Trunk Lift Supports To Audi Q5 With Power Liftgate | ARANA | ASIN: B0BZCZGP24 | Price: $48.99 | Rating: 4.5 | Reviews: 7725\n"
     ]
    },
    {
     "name": "stderr",
     "output_type": "stream",
     "text": [
      "Waiting 64 seconds for additional tokens\n",
      "100%|██████████| 1/1 [01:05<00:00, 65.37s/it]\n"
     ]
    },
    {
     "name": "stdout",
     "output_type": "stream",
     "text": [
      "[✓] Rear Gate Trunk Lift Supports To Audi Q5 With Power Liftgate | Suspensia | ASIN: B0C75WP31W | Price: $48.92 | Rating: N/A | Reviews: N/A\n"
     ]
    },
    {
     "name": "stderr",
     "output_type": "stream",
     "text": [
      "Waiting 30 seconds for additional tokens\n",
      "100%|██████████| 1/1 [00:32<00:00, 32.92s/it]\n"
     ]
    },
    {
     "name": "stdout",
     "output_type": "stream",
     "text": [
      "[✓] Liftgate Lift Supports Audi Sq5 To Audi Q5 Without Power | ARANA | ASIN: B0C998WPXQ | Price: $37.99 | Rating: 4.5 | Reviews: 7712\n"
     ]
    },
    {
     "name": "stderr",
     "output_type": "stream",
     "text": [
      "100%|██████████| 1/1 [00:01<00:00,  1.14s/it]\n"
     ]
    },
    {
     "name": "stdout",
     "output_type": "stream",
     "text": [
      "[✓] Liftgate Lift Supports Audi Sq5 To Audi Q5 Without Power | Suspensia | ASIN: B0C75WP31W | Price: $48.92 | Rating: N/A | Reviews: N/A\n"
     ]
    },
    {
     "name": "stderr",
     "output_type": "stream",
     "text": [
      "Waiting 65 seconds for additional tokens\n",
      "100%|██████████| 1/1 [01:06<00:00, 66.66s/it]\n"
     ]
    },
    {
     "name": "stdout",
     "output_type": "stream",
     "text": [
      "[✓] Front Hood Lift Supports To Ford Taurus To Mercury Sable | ARANA | ASIN: B0C998WPXQ | Price: $37.99 | Rating: 4.5 | Reviews: 7712\n"
     ]
    },
    {
     "name": "stderr",
     "output_type": "stream",
     "text": [
      "Waiting 33 seconds for additional tokens\n",
      "100%|██████████| 1/1 [00:35<00:00, 35.43s/it]\n"
     ]
    },
    {
     "name": "stdout",
     "output_type": "stream",
     "text": [
      "[✓] Front Hood Lift Supports To Ford Taurus To Mercury Sable | Suspensia | ASIN: B0C75WP31W | Price: $48.92 | Rating: N/A | Reviews: N/A\n"
     ]
    },
    {
     "name": "stderr",
     "output_type": "stream",
     "text": [
      "100%|██████████| 1/1 [00:01<00:00,  1.40s/it]\n"
     ]
    },
    {
     "name": "stdout",
     "output_type": "stream",
     "text": [
      "[✓] Hatch Lift Supports Kia Forte | ARANA | ASIN: B08X65DVSX | Price: $35.99 | Rating: 4.5 | Reviews: 7727\n"
     ]
    },
    {
     "name": "stderr",
     "output_type": "stream",
     "text": [
      "Waiting 65 seconds for additional tokens\n",
      "100%|██████████| 1/1 [01:07<00:00, 67.48s/it]\n"
     ]
    },
    {
     "name": "stdout",
     "output_type": "stream",
     "text": [
      "[✓] Hatch Lift Supports Kia Forte | Suspensia | ASIN: B0C75WP31W | Price: $48.92 | Rating: N/A | Reviews: N/A\n"
     ]
    },
    {
     "name": "stderr",
     "output_type": "stream",
     "text": [
      "Waiting 32 seconds for additional tokens\n",
      "100%|██████████| 1/1 [00:34<00:00, 34.16s/it]\n"
     ]
    },
    {
     "name": "stdout",
     "output_type": "stream",
     "text": [
      "[✓] Front Hood Lift Supports to Kia Optima | ARANA | ASIN: B0D1G4JSD5 | Price: $19.99 | Rating: 4.5 | Reviews: 7725\n"
     ]
    },
    {
     "name": "stderr",
     "output_type": "stream",
     "text": [
      "100%|██████████| 1/1 [00:02<00:00,  2.01s/it]\n"
     ]
    },
    {
     "name": "stdout",
     "output_type": "stream",
     "text": [
      "[✓] Front Hood Lift Supports to Kia Optima | Suspensia | ASIN: B0C75WP31W | Price: $48.92 | Rating: N/A | Reviews: N/A\n"
     ]
    },
    {
     "name": "stderr",
     "output_type": "stream",
     "text": [
      "Waiting 63 seconds for additional tokens\n",
      "100%|██████████| 1/1 [01:03<00:00, 63.98s/it]\n"
     ]
    },
    {
     "name": "stdout",
     "output_type": "stream",
     "text": [
      "[✓] Liftgate Lift Supports to Toyota Venza | ARANA | ASIN: B0D1G4JSD5 | Price: $19.99 | Rating: 4.5 | Reviews: 7725\n"
     ]
    },
    {
     "name": "stderr",
     "output_type": "stream",
     "text": [
      "Waiting 33 seconds for additional tokens\n",
      "100%|██████████| 1/1 [00:34<00:00, 34.43s/it]\n"
     ]
    },
    {
     "name": "stdout",
     "output_type": "stream",
     "text": [
      "[✓] Liftgate Lift Supports to Toyota Venza | Suspensia | ASIN: B0C75WP31W | Price: $48.92 | Rating: N/A | Reviews: N/A\n"
     ]
    },
    {
     "name": "stderr",
     "output_type": "stream",
     "text": [
      "100%|██████████| 1/1 [00:01<00:00,  1.57s/it]\n"
     ]
    },
    {
     "name": "stdout",
     "output_type": "stream",
     "text": [
      "[✓] Rear Liftgate Lift Supports to Audi A4 Allroad to Audi A4 Quattro with Power Liftgate | ARANA | ASIN: B0D2HNTFC7 | Price: $40.99 | Rating: 4.5 | Reviews: 7712\n"
     ]
    },
    {
     "name": "stderr",
     "output_type": "stream",
     "text": [
      "Waiting 66 seconds for additional tokens\n",
      "100%|██████████| 1/1 [01:09<00:00, 69.10s/it]\n"
     ]
    },
    {
     "name": "stdout",
     "output_type": "stream",
     "text": [
      "[✓] Rear Liftgate Lift Supports to Audi A4 Allroad to Audi A4 Quattro with Power Liftgate | Suspensia | ASIN: B0C75WP31W | Price: $48.92 | Rating: N/A | Reviews: N/A\n"
     ]
    },
    {
     "name": "stderr",
     "output_type": "stream",
     "text": [
      "Waiting 28 seconds for additional tokens\n",
      "100%|██████████| 1/1 [00:30<00:00, 31.00s/it]\n"
     ]
    },
    {
     "name": "stdout",
     "output_type": "stream",
     "text": [
      "[✓] Hatch Lift Supports Saab With Spoiler Model Years Below | ARANA | ASIN: B0D7VQH838 | Price: $22.99 | Rating: 4.5 | Reviews: 7713\n"
     ]
    },
    {
     "name": "stderr",
     "output_type": "stream",
     "text": [
      "100%|██████████| 1/1 [00:02<00:00,  2.11s/it]\n"
     ]
    },
    {
     "name": "stdout",
     "output_type": "stream",
     "text": [
      "[✓] Hatch Lift Supports Saab With Spoiler Model Years Below | Suspensia | ASIN: B0C75WP31W | Price: $48.92 | Rating: N/A | Reviews: N/A\n"
     ]
    },
    {
     "name": "stderr",
     "output_type": "stream",
     "text": [
      "Waiting 64 seconds for additional tokens\n",
      "100%|██████████| 1/1 [01:05<00:00, 65.37s/it]\n"
     ]
    },
    {
     "name": "stdout",
     "output_type": "stream",
     "text": [
      "[✓] Front Hood Lift Supports to Ford Expedition Lincoln Navigator | ARANA | ASIN: B0D7VQH838 | Price: $22.99 | Rating: 4.5 | Reviews: 7713\n"
     ]
    },
    {
     "name": "stderr",
     "output_type": "stream",
     "text": [
      "Waiting 36 seconds for additional tokens\n",
      "100%|██████████| 1/1 [00:36<00:00, 36.65s/it]\n"
     ]
    },
    {
     "name": "stdout",
     "output_type": "stream",
     "text": [
      "[✓] Front Hood Lift Supports to Ford Expedition Lincoln Navigator | Suspensia | ASIN: B0C75WP31W | Price: $48.92 | Rating: N/A | Reviews: N/A\n"
     ]
    },
    {
     "name": "stderr",
     "output_type": "stream",
     "text": [
      "100%|██████████| 1/1 [00:02<00:00,  2.48s/it]\n"
     ]
    },
    {
     "name": "stdout",
     "output_type": "stream",
     "text": [
      "[✓] Rear Trunk Lift Supports Fits Mercedes Benz Model Years Below | ARANA | ASIN: B09MMTZPB8 | Price: $35.99 | Rating: 4.5 | Reviews: 7725\n"
     ]
    },
    {
     "name": "stderr",
     "output_type": "stream",
     "text": [
      "Waiting 37 seconds for additional tokens\n",
      "100%|██████████| 1/1 [00:01<00:00,  1.16s/it]\n"
     ]
    },
    {
     "name": "stdout",
     "output_type": "stream",
     "text": [
      "[✓] Rear Trunk Lift Supports Fits Mercedes Benz Model Years Below | Suspensia | ASIN: B0C75WP31W | Price: $48.92 | Rating: N/A | Reviews: N/A\n"
     ]
    },
    {
     "name": "stderr",
     "output_type": "stream",
     "text": [
      "Waiting 56 seconds for additional tokens\n",
      "100%|██████████| 1/1 [01:00<00:00, 60.19s/it]\n"
     ]
    },
    {
     "name": "stdout",
     "output_type": "stream",
     "text": [
      "[✓] Rear Hatch Lift Supports Ford Fairmont Granada Ltd Mustang W Spoiler Ford Mexic Fairmont Mercury Capri W O Spoiler Cougar Marquis Zephyr Plymouth Volare | ARANA | ASIN: B07CGKD9XP | Price: $19.59 | Rating: 4.5 | Reviews: 7721\n"
     ]
    },
    {
     "name": "stderr",
     "output_type": "stream",
     "text": [
      "100%|██████████| 1/1 [00:00<00:00,  1.18it/s]\n"
     ]
    },
    {
     "name": "stdout",
     "output_type": "stream",
     "text": [
      "[✓] Rear Hatch Lift Supports Ford Fairmont Granada Ltd Mustang W Spoiler Ford Mexic Fairmont Mercury Capri W O Spoiler Cougar Marquis Zephyr Plymouth Volare | Suspensia | ASIN: B0C75WP31W | Price: $48.92 | Rating: N/A | Reviews: N/A\n"
     ]
    },
    {
     "name": "stderr",
     "output_type": "stream",
     "text": [
      "Waiting 34 seconds for additional tokens\n",
      "100%|██████████| 1/1 [00:02<00:00,  2.02s/it]\n"
     ]
    },
    {
     "name": "stdout",
     "output_type": "stream",
     "text": [
      "[✓] Hood Lift Supports Bmw Series E24 Bmw 633Csi Coupe Bmw 635Csi Bmw Series E23 Bmw 733I Bmw 735I E23 | ARANA | ASIN: B08698QYFV | Price: $29.99 | Rating: 4.5 | Reviews: 7727\n"
     ]
    },
    {
     "name": "stderr",
     "output_type": "stream",
     "text": [
      "Waiting 63 seconds for additional tokens\n",
      "100%|██████████| 1/1 [01:04<00:00, 64.30s/it]\n"
     ]
    },
    {
     "name": "stdout",
     "output_type": "stream",
     "text": [
      "[✓] Hood Lift Supports Bmw Series E24 Bmw 633Csi Coupe Bmw 635Csi Bmw Series E23 Bmw 733I Bmw 735I E23 | Suspensia | ASIN: B0C75WP31W | Price: $48.92 | Rating: N/A | Reviews: N/A\n"
     ]
    },
    {
     "name": "stderr",
     "output_type": "stream",
     "text": [
      "100%|██████████| 1/1 [00:02<00:00,  2.47s/it]\n"
     ]
    },
    {
     "name": "stdout",
     "output_type": "stream",
     "text": [
      "[✓] Rear Glass Lift Support to Ford Expedition to Lincoln Navigator | ARANA | ASIN: B0B7MZPF7Z | Price: $19.99 | Rating: 4.5 | Reviews: 7708\n"
     ]
    },
    {
     "name": "stderr",
     "output_type": "stream",
     "text": [
      "Waiting 37 seconds for additional tokens\n",
      "100%|██████████| 1/1 [00:01<00:00,  1.38s/it]\n"
     ]
    },
    {
     "name": "stdout",
     "output_type": "stream",
     "text": [
      "[✓] Rear Glass Lift Support to Ford Expedition to Lincoln Navigator | Suspensia | ASIN: B0C75WP31W | Price: $48.92 | Rating: N/A | Reviews: N/A\n"
     ]
    },
    {
     "name": "stderr",
     "output_type": "stream",
     "text": [
      "Waiting 61 seconds for additional tokens\n",
      "100%|██████████| 1/1 [01:02<00:00, 63.00s/it]\n"
     ]
    },
    {
     "name": "stdout",
     "output_type": "stream",
     "text": [
      "[✓] Rear Liftgate Lift Supports to Gmc Terrain Without Power | ARANA | ASIN: B0869BQ72C | Price: $20.99 | Rating: 4.5 | Reviews: 7725\n"
     ]
    },
    {
     "name": "stderr",
     "output_type": "stream",
     "text": [
      "Waiting 35 seconds for additional tokens\n",
      "100%|██████████| 1/1 [00:37<00:00, 37.66s/it]\n"
     ]
    },
    {
     "name": "stdout",
     "output_type": "stream",
     "text": [
      "[✓] Rear Liftgate Lift Supports to Gmc Terrain Without Power | Suspensia | ASIN: B0C75WP31W | Price: $48.92 | Rating: N/A | Reviews: N/A\n"
     ]
    },
    {
     "name": "stderr",
     "output_type": "stream",
     "text": [
      "100%|██████████| 1/1 [00:01<00:00,  1.72s/it]\n"
     ]
    },
    {
     "name": "stdout",
     "output_type": "stream",
     "text": [
      "[✓] Trunk Lid Lift Supports to Buick Lacrosse | ARANA | ASIN: B0B28MT9LP | Price: $21.99 | Rating: 4.5 | Reviews: 7712\n"
     ]
    },
    {
     "name": "stderr",
     "output_type": "stream",
     "text": [
      "Waiting 64 seconds for additional tokens\n",
      "100%|██████████| 1/1 [01:05<00:00, 65.49s/it]\n"
     ]
    },
    {
     "name": "stdout",
     "output_type": "stream",
     "text": [
      "[✓] Trunk Lid Lift Supports to Buick Lacrosse | Suspensia | ASIN: B0C75WP31W | Price: $48.92 | Rating: N/A | Reviews: N/A\n"
     ]
    },
    {
     "name": "stderr",
     "output_type": "stream",
     "text": [
      "Waiting 30 seconds for additional tokens\n",
      "100%|██████████| 1/1 [00:32<00:00, 32.10s/it]\n"
     ]
    },
    {
     "name": "stdout",
     "output_type": "stream",
     "text": [
      "[✓] Hatch Lift Supports Replaces Volkswagen GOL Volkswagen Argentina GOL Volkswagen Brazil GOL Volkswagen Mexico GOL | ARANA | ASIN: B09NRGBVHN | Price: $22.99 | Rating: 4.5 | Reviews: 7725\n"
     ]
    },
    {
     "name": "stderr",
     "output_type": "stream",
     "text": [
      "100%|██████████| 1/1 [00:00<00:00,  1.22it/s]\n"
     ]
    },
    {
     "name": "stdout",
     "output_type": "stream",
     "text": [
      "[✓] Hatch Lift Supports Replaces Volkswagen GOL Volkswagen Argentina GOL Volkswagen Brazil GOL Volkswagen Mexico GOL | Suspensia | ASIN: B0C75WP31W | Price: $48.92 | Rating: N/A | Reviews: N/A\n"
     ]
    },
    {
     "name": "stderr",
     "output_type": "stream",
     "text": [
      "Waiting 65 seconds for additional tokens\n",
      "100%|██████████| 1/1 [01:06<00:00, 66.61s/it]\n"
     ]
    },
    {
     "name": "stdout",
     "output_type": "stream",
     "text": [
      "[✓] Rear Trunk Lift Support To Volkswagen Eos Convertible | ARANA | ASIN: B09NRGBVHN | Price: $22.99 | Rating: 4.5 | Reviews: 7725\n"
     ]
    },
    {
     "name": "stderr",
     "output_type": "stream",
     "text": [
      "Waiting 33 seconds for additional tokens\n",
      "100%|██████████| 1/1 [00:36<00:00, 36.01s/it]\n"
     ]
    },
    {
     "name": "stdout",
     "output_type": "stream",
     "text": [
      "[✓] Rear Trunk Lift Support To Volkswagen Eos Convertible | Suspensia | ASIN: B0C75WP31W | Price: $48.92 | Rating: N/A | Reviews: N/A\n"
     ]
    },
    {
     "name": "stderr",
     "output_type": "stream",
     "text": [
      "100%|██████████| 1/1 [00:01<00:00,  1.53s/it]\n"
     ]
    },
    {
     "name": "stdout",
     "output_type": "stream",
     "text": [
      "[✓] Front Hood Lift Support Fits Volkswagen Bora/Volkswagen Cabrio/Volkswagen Golf/Volkswagen Jetta/Audi A3 / Audi S3 | ARANA | ASIN: B07CGNQCCJ | Price: $23.99 | Rating: 4.5 | Reviews: 7727\n"
     ]
    },
    {
     "name": "stderr",
     "output_type": "stream",
     "text": [
      "Waiting 66 seconds for additional tokens\n",
      "100%|██████████| 1/1 [01:07<00:00, 67.31s/it]\n"
     ]
    },
    {
     "name": "stdout",
     "output_type": "stream",
     "text": [
      "[✓] Front Hood Lift Support Fits Volkswagen Bora/Volkswagen Cabrio/Volkswagen Golf/Volkswagen Jetta/Audi A3 / Audi S3 | Suspensia | ASIN: B0C75WP31W | Price: $48.92 | Rating: N/A | Reviews: N/A\n"
     ]
    },
    {
     "name": "stderr",
     "output_type": "stream",
     "text": [
      "Waiting 31 seconds for additional tokens\n",
      "100%|██████████| 1/1 [00:33<00:00, 33.40s/it]\n"
     ]
    },
    {
     "name": "stdout",
     "output_type": "stream",
     "text": [
      "[✓] Liftgate Lift Supports To Audi Q7 Manual Liftgate | ARANA | ASIN: B08CRCPLVH | Price: $26.99 | Rating: 4.5 | Reviews: 7725\n"
     ]
    },
    {
     "name": "stderr",
     "output_type": "stream",
     "text": [
      "100%|██████████| 1/1 [00:01<00:00,  1.42s/it]\n"
     ]
    },
    {
     "name": "stdout",
     "output_type": "stream",
     "text": [
      "[✓] Liftgate Lift Supports To Audi Q7 Manual Liftgate | Suspensia | ASIN: B0C75WP31W | Price: $48.92 | Rating: N/A | Reviews: N/A\n"
     ]
    },
    {
     "name": "stderr",
     "output_type": "stream",
     "text": [
      "Waiting 61 seconds for additional tokens\n",
      "100%|██████████| 1/1 [01:03<00:00, 63.74s/it]\n"
     ]
    },
    {
     "name": "stdout",
     "output_type": "stream",
     "text": [
      "[✓] Rear Liftgate Lift Supports To Jeep Compass With Power New Model | ARANA | ASIN: B08CRCPLVH | Price: $26.99 | Rating: 4.5 | Reviews: 7725\n"
     ]
    },
    {
     "name": "stderr",
     "output_type": "stream",
     "text": [
      "Waiting 35 seconds for additional tokens\n",
      "100%|██████████| 1/1 [00:36<00:00, 36.24s/it]\n"
     ]
    },
    {
     "name": "stdout",
     "output_type": "stream",
     "text": [
      "[✓] Rear Liftgate Lift Supports To Jeep Compass With Power New Model | Suspensia | ASIN: B0C75WP31W | Price: $48.92 | Rating: N/A | Reviews: N/A\n"
     ]
    },
    {
     "name": "stderr",
     "output_type": "stream",
     "text": [
      "100%|██████████| 1/1 [00:02<00:00,  2.38s/it]\n"
     ]
    },
    {
     "name": "stdout",
     "output_type": "stream",
     "text": [
      "[✓] Camper Shell Cap Topper Snugtop Tonneau Leer Cover Inches 60Lbs | ARANA | ASIN: B0B28NWD3G | Price: $21.99 | Rating: 4.5 | Reviews: 7721\n"
     ]
    },
    {
     "name": "stderr",
     "output_type": "stream",
     "text": [
      "Waiting 65 seconds for additional tokens\n",
      "100%|██████████| 1/1 [01:06<00:00, 66.48s/it]\n"
     ]
    },
    {
     "name": "stdout",
     "output_type": "stream",
     "text": [
      "[✓] Camper Shell Cap Topper Snugtop Tonneau Leer Cover Inches 60Lbs | Suspensia | ASIN: B0C75WP31W | Price: $48.92 | Rating: N/A | Reviews: N/A\n"
     ]
    },
    {
     "name": "stderr",
     "output_type": "stream",
     "text": [
      "Waiting 30 seconds for additional tokens\n",
      "100%|██████████| 1/1 [00:32<00:00, 32.88s/it]\n"
     ]
    },
    {
     "name": "stdout",
     "output_type": "stream",
     "text": [
      "[✓] Hatch Tailgate Lift Supports To Audi A6 & A6 Quattro Wagon Model Only | ARANA | ASIN: B0912Y58V2 | Price: $36.99 | Rating: 4.5 | Reviews: 7727\n"
     ]
    },
    {
     "name": "stderr",
     "output_type": "stream",
     "text": [
      "100%|██████████| 1/1 [00:01<00:00,  1.45s/it]\n"
     ]
    },
    {
     "name": "stdout",
     "output_type": "stream",
     "text": [
      "[✓] Hatch Tailgate Lift Supports To Audi A6 & A6 Quattro Wagon Model Only | Suspensia | ASIN: B0C75WP31W | Price: $48.92 | Rating: N/A | Reviews: N/A\n"
     ]
    },
    {
     "name": "stderr",
     "output_type": "stream",
     "text": [
      "Waiting 67 seconds for additional tokens\n",
      "100%|██████████| 1/1 [01:11<00:00, 71.08s/it]\n"
     ]
    },
    {
     "name": "stdout",
     "output_type": "stream",
     "text": [
      "[✓] Hood Lift Support | ARANA | ASIN: B0912Y58V2 | Price: $36.99 | Rating: 4.5 | Reviews: 7727\n"
     ]
    },
    {
     "name": "stderr",
     "output_type": "stream",
     "text": [
      "Waiting 30 seconds for additional tokens\n",
      "100%|██████████| 1/1 [00:31<00:00, 31.57s/it]\n"
     ]
    },
    {
     "name": "stdout",
     "output_type": "stream",
     "text": [
      "[✓] Hood Lift Support | Suspensia | ASIN: B0C75WP31W | Price: $48.92 | Rating: N/A | Reviews: N/A\n"
     ]
    },
    {
     "name": "stderr",
     "output_type": "stream",
     "text": [
      "100%|██████████| 1/1 [00:01<00:00,  1.28s/it]\n"
     ]
    },
    {
     "name": "stdout",
     "output_type": "stream",
     "text": [
      "[✓] Rear Lift Gate Lift Supports To Jeep Grand Cherokee | ARANA | ASIN: B09DG24HCL | Price: N/A | Rating: N/A | Reviews: N/A\n"
     ]
    },
    {
     "name": "stderr",
     "output_type": "stream",
     "text": [
      "Waiting 60 seconds for additional tokens\n",
      "100%|██████████| 1/1 [01:01<00:00, 61.71s/it]\n"
     ]
    },
    {
     "name": "stdout",
     "output_type": "stream",
     "text": [
      "[✓] Rear Lift Gate Lift Supports To Jeep Grand Cherokee | Suspensia | ASIN: B0C75WP31W | Price: $48.92 | Rating: N/A | Reviews: N/A\n"
     ]
    },
    {
     "name": "stderr",
     "output_type": "stream",
     "text": [
      "Waiting 29 seconds for additional tokens\n",
      "100%|██████████| 1/1 [00:30<00:00, 30.57s/it]\n"
     ]
    },
    {
     "name": "stdout",
     "output_type": "stream",
     "text": [
      "[✓] Rear Hatch Lift Supports Toyota Echo/Vitz/Yaris Black Without Brackets | ARANA | ASIN: B09DG24HCL | Price: N/A | Rating: N/A | Reviews: N/A\n"
     ]
    },
    {
     "name": "stderr",
     "output_type": "stream",
     "text": [
      "100%|██████████| 1/1 [00:00<00:00,  1.51it/s]\n"
     ]
    },
    {
     "name": "stdout",
     "output_type": "stream",
     "text": [
      "[✓] Rear Hatch Lift Supports Toyota Echo/Vitz/Yaris Black Without Brackets | Suspensia | ASIN: B0C75WP31W | Price: $48.92 | Rating: N/A | Reviews: N/A\n"
     ]
    },
    {
     "name": "stderr",
     "output_type": "stream",
     "text": [
      "Waiting 64 seconds for additional tokens\n",
      "100%|██████████| 1/1 [01:05<00:00, 65.54s/it]\n"
     ]
    },
    {
     "name": "stdout",
     "output_type": "stream",
     "text": [
      "[✓] Rear Gate Trunk Lift Supports To Cadillac Srx | ARANA | ASIN: B09DG24HCL | Price: N/A | Rating: N/A | Reviews: N/A\n"
     ]
    },
    {
     "name": "stderr",
     "output_type": "stream",
     "text": [
      "100%|██████████| 1/1 [00:02<00:00,  2.28s/it]\n"
     ]
    },
    {
     "name": "stdout",
     "output_type": "stream",
     "text": [
      "[✓] Rear Gate Trunk Lift Supports To Cadillac Srx | Suspensia | ASIN: B0C75WP31W | Price: $48.92 | Rating: N/A | Reviews: N/A\n"
     ]
    },
    {
     "name": "stderr",
     "output_type": "stream",
     "text": [
      "Waiting 33 seconds for additional tokens\n",
      "100%|██████████| 1/1 [00:01<00:00,  1.60s/it]\n"
     ]
    },
    {
     "name": "stdout",
     "output_type": "stream",
     "text": [
      "[✓] Front Hood Lift Supports To Jaguar Xjs | ARANA | ASIN: B09DG24HCL | Price: N/A | Rating: N/A | Reviews: N/A\n"
     ]
    },
    {
     "name": "stderr",
     "output_type": "stream",
     "text": [
      "Waiting 57 seconds for additional tokens\n",
      "100%|██████████| 1/1 [00:58<00:00, 58.93s/it]\n"
     ]
    },
    {
     "name": "stdout",
     "output_type": "stream",
     "text": [
      "[✓] Front Hood Lift Supports To Jaguar Xjs | Suspensia | ASIN: B0C75WP31W | Price: $48.92 | Rating: N/A | Reviews: N/A\n"
     ]
    },
    {
     "name": "stderr",
     "output_type": "stream",
     "text": [
      "100%|██████████| 1/1 [00:00<00:00,  1.30it/s]\n"
     ]
    },
    {
     "name": "stdout",
     "output_type": "stream",
     "text": [
      "[✓] Hatch Lift Supports To Kia Spectra5 Supplied Without Brackets | ARANA | ASIN: B09DG24HCL | Price: N/A | Rating: N/A | Reviews: N/A\n"
     ]
    },
    {
     "name": "stderr",
     "output_type": "stream",
     "text": [
      "Waiting 60 seconds for additional tokens\n",
      "100%|██████████| 1/1 [01:01<00:00, 61.38s/it]\n"
     ]
    },
    {
     "name": "stdout",
     "output_type": "stream",
     "text": [
      "[✓] Hatch Lift Supports To Kia Spectra5 Supplied Without Brackets | Suspensia | ASIN: B0C75WP31W | Price: $48.92 | Rating: N/A | Reviews: N/A\n"
     ]
    },
    {
     "name": "stderr",
     "output_type": "stream",
     "text": [
      "Waiting 29 seconds for additional tokens\n",
      "100%|██████████| 1/1 [00:31<00:00, 31.44s/it]\n"
     ]
    },
    {
     "name": "stdout",
     "output_type": "stream",
     "text": [
      "[✓] Rear Hatch Trunk Lift Supports To Toyota Prius C Submodel: Two Three Four | ARANA | ASIN: B09DG24HCL | Price: N/A | Rating: N/A | Reviews: N/A\n"
     ]
    },
    {
     "name": "stderr",
     "output_type": "stream",
     "text": [
      "100%|██████████| 1/1 [00:00<00:00,  1.31it/s]\n"
     ]
    },
    {
     "name": "stdout",
     "output_type": "stream",
     "text": [
      "[✓] Rear Hatch Trunk Lift Supports To Toyota Prius C Submodel: Two Three Four | Suspensia | ASIN: B0C75WP31W | Price: $48.92 | Rating: N/A | Reviews: N/A\n"
     ]
    },
    {
     "name": "stderr",
     "output_type": "stream",
     "text": [
      "Waiting 62 seconds for additional tokens\n",
      "100%|██████████| 1/1 [01:03<00:00, 63.82s/it]\n"
     ]
    },
    {
     "name": "stdout",
     "output_type": "stream",
     "text": [
      "[✓] Original Lift Strut Length .\" Force lbs Direct Replacement for SG325032 Replaces Universal Gas Prop Spring Strut for RV Bed Tonneau Cover and Storage Box | ARANA | ASIN: B09DG24HCL | Price: N/A | Rating: N/A | Reviews: N/A\n"
     ]
    },
    {
     "name": "stderr",
     "output_type": "stream",
     "text": [
      "Waiting 30 seconds for additional tokens\n",
      "100%|██████████| 1/1 [00:31<00:00, 31.03s/it]\n"
     ]
    },
    {
     "name": "stdout",
     "output_type": "stream",
     "text": [
      "[✓] Original Lift Strut Length .\" Force lbs Direct Replacement for SG325032 Replaces Universal Gas Prop Spring Strut for RV Bed Tonneau Cover and Storage Box | Suspensia | ASIN: B0C75WP31W | Price: $48.92 | Rating: N/A | Reviews: N/A\n"
     ]
    },
    {
     "name": "stderr",
     "output_type": "stream",
     "text": [
      "100%|██████████| 1/1 [00:01<00:00,  1.57s/it]\n"
     ]
    },
    {
     "name": "stdout",
     "output_type": "stream",
     "text": [
      "[✓] Liftgate Lift Supports Compatible With: To Nissan Murano | ARANA | ASIN: B09DG24HCL | Price: N/A | Rating: N/A | Reviews: N/A\n"
     ]
    },
    {
     "name": "stderr",
     "output_type": "stream",
     "text": [
      "Waiting 58 seconds for additional tokens\n",
      "100%|██████████| 1/1 [01:01<00:00, 61.86s/it]\n"
     ]
    },
    {
     "name": "stdout",
     "output_type": "stream",
     "text": [
      "[✓] Liftgate Lift Supports Compatible With: To Nissan Murano | Suspensia | ASIN: B0C75WP31W | Price: $48.92 | Rating: N/A | Reviews: N/A\n"
     ]
    },
    {
     "name": "stderr",
     "output_type": "stream",
     "text": [
      "100%|██████████| 1/1 [00:01<00:00,  1.35s/it]\n"
     ]
    },
    {
     "name": "stdout",
     "output_type": "stream",
     "text": [
      "[✓] Rear Liftgate Lift Supports Replacement For: To Toyota Highlander With Power Liftgate USA Built Models only | ARANA | ASIN: B09DG24HCL | Price: N/A | Rating: N/A | Reviews: N/A\n"
     ]
    },
    {
     "name": "stderr",
     "output_type": "stream",
     "text": [
      "Waiting 32 seconds for additional tokens\n",
      "100%|██████████| 1/1 [00:01<00:00,  1.66s/it]\n"
     ]
    },
    {
     "name": "stdout",
     "output_type": "stream",
     "text": [
      "[✓] Rear Liftgate Lift Supports Replacement For: To Toyota Highlander With Power Liftgate USA Built Models only | Suspensia | ASIN: B0C75WP31W | Price: $48.92 | Rating: N/A | Reviews: N/A\n"
     ]
    },
    {
     "name": "stderr",
     "output_type": "stream",
     "text": [
      "Waiting 56 seconds for additional tokens\n",
      "100%|██████████| 1/1 [00:56<00:00, 56.87s/it]\n"
     ]
    },
    {
     "name": "stdout",
     "output_type": "stream",
     "text": [
      "[✓] Liftgate Tailgate Lift Supports To Lexus Rx300 | ARANA | ASIN: B09DG24HCL | Price: N/A | Rating: N/A | Reviews: N/A\n"
     ]
    },
    {
     "name": "stderr",
     "output_type": "stream",
     "text": [
      "100%|██████████| 1/1 [00:01<00:00,  1.10s/it]\n"
     ]
    },
    {
     "name": "stdout",
     "output_type": "stream",
     "text": [
      "[✓] Liftgate Tailgate Lift Supports To Lexus Rx300 | Suspensia | ASIN: B0C75WP31W | Price: $48.92 | Rating: N/A | Reviews: N/A\n"
     ]
    },
    {
     "name": "stderr",
     "output_type": "stream",
     "text": [
      "Waiting 61 seconds for additional tokens\n",
      "100%|██████████| 1/1 [01:01<00:00, 61.64s/it]\n"
     ]
    },
    {
     "name": "stdout",
     "output_type": "stream",
     "text": [
      "[✓] Rear Gate Lift Supports To Scion Xb | ARANA | ASIN: B09DG24HCL | Price: N/A | Rating: N/A | Reviews: N/A\n"
     ]
    },
    {
     "name": "stderr",
     "output_type": "stream",
     "text": [
      "Waiting 30 seconds for additional tokens\n",
      "100%|██████████| 1/1 [00:32<00:00, 32.20s/it]\n"
     ]
    },
    {
     "name": "stdout",
     "output_type": "stream",
     "text": [
      "[✓] Rear Gate Lift Supports To Scion Xb | Suspensia | ASIN: B0C75WP31W | Price: $48.92 | Rating: N/A | Reviews: N/A\n"
     ]
    },
    {
     "name": "stderr",
     "output_type": "stream",
     "text": [
      "100%|██████████| 1/1 [00:01<00:00,  1.53s/it]\n"
     ]
    },
    {
     "name": "stdout",
     "output_type": "stream",
     "text": [
      "[✓] Liftgate Lift Supports To Chevrolet Trailblazer To Isuzu Ascender To Buick Rainier Gmc Envoy Fits Row Seats Only | ARANA | ASIN: B0BVB5847C | Price: $29.99 | Rating: 4.5 | Reviews: 7727\n"
     ]
    },
    {
     "name": "stderr",
     "output_type": "stream",
     "text": [
      "Waiting 65 seconds for additional tokens\n",
      "100%|██████████| 1/1 [01:06<00:00, 66.74s/it]\n"
     ]
    },
    {
     "name": "stdout",
     "output_type": "stream",
     "text": [
      "[✓] Liftgate Lift Supports To Chevrolet Trailblazer To Isuzu Ascender To Buick Rainier Gmc Envoy Fits Row Seats Only | Suspensia | ASIN: B0C75WP31W | Price: $48.92 | Rating: N/A | Reviews: N/A\n"
     ]
    },
    {
     "name": "stderr",
     "output_type": "stream",
     "text": [
      "Waiting 33 seconds for additional tokens\n",
      "100%|██████████| 1/1 [00:35<00:00, 35.93s/it]\n"
     ]
    },
    {
     "name": "stdout",
     "output_type": "stream",
     "text": [
      "[✓] Rear Trunk Lift Supports Fits Audi A1 Model Years Below | ARANA | ASIN: B08B3WR4Y7 | Price: $22.99 | Rating: 4.5 | Reviews: 7725\n"
     ]
    },
    {
     "name": "stderr",
     "output_type": "stream",
     "text": [
      "100%|██████████| 1/1 [00:00<00:00,  1.03it/s]\n"
     ]
    },
    {
     "name": "stdout",
     "output_type": "stream",
     "text": [
      "[✓] Rear Trunk Lift Supports Fits Audi A1 Model Years Below | Suspensia | ASIN: B0C75WP31W | Price: $48.92 | Rating: N/A | Reviews: N/A\n"
     ]
    },
    {
     "name": "stderr",
     "output_type": "stream",
     "text": [
      "Waiting 65 seconds for additional tokens\n",
      "100%|██████████| 1/1 [01:08<00:00, 68.65s/it]\n"
     ]
    },
    {
     "name": "stdout",
     "output_type": "stream",
     "text": [
      "[✓] Front Hood Lift Supports to Lexus Gs300 to Lexus Gs350 to Lexus Gs430 to Lexus Gs450H to Lexus Gs460 | ARANA | ASIN: B08CNGT5Z7 | Price: $32.99 | Rating: 4.5 | Reviews: 7721\n"
     ]
    },
    {
     "name": "stderr",
     "output_type": "stream",
     "text": [
      "Waiting 33 seconds for additional tokens\n",
      "100%|██████████| 1/1 [00:34<00:00, 34.16s/it]\n"
     ]
    },
    {
     "name": "stdout",
     "output_type": "stream",
     "text": [
      "[✓] Front Hood Lift Supports to Lexus Gs300 to Lexus Gs350 to Lexus Gs430 to Lexus Gs450H to Lexus Gs460 | Suspensia | ASIN: B0C75WP31W | Price: $48.92 | Rating: N/A | Reviews: N/A\n"
     ]
    },
    {
     "name": "stderr",
     "output_type": "stream",
     "text": [
      "100%|██████████| 1/1 [00:03<00:00,  3.70s/it]\n"
     ]
    },
    {
     "name": "stdout",
     "output_type": "stream",
     "text": [
      "[✓] Rear Liftgate Lift Supports To Volkswagen Tiguan Cab Wagon | ARANA | ASIN: B0D2HNTFC7 | Price: $40.99 | Rating: 4.5 | Reviews: 7712\n"
     ]
    },
    {
     "name": "stderr",
     "output_type": "stream",
     "text": [
      "Waiting 63 seconds for additional tokens\n",
      "100%|██████████| 1/1 [01:05<00:00, 65.43s/it]\n"
     ]
    },
    {
     "name": "stdout",
     "output_type": "stream",
     "text": [
      "[✓] Rear Liftgate Lift Supports To Volkswagen Tiguan Cab Wagon | Suspensia | ASIN: B0C75WP31W | Price: $48.92 | Rating: N/A | Reviews: N/A\n"
     ]
    },
    {
     "name": "stderr",
     "output_type": "stream",
     "text": [
      "Waiting 30 seconds for additional tokens\n",
      "100%|██████████| 1/1 [00:30<00:00, 30.52s/it]\n"
     ]
    },
    {
     "name": "stdout",
     "output_type": "stream",
     "text": [
      "[✓] Front Hood Lift Supports To Lexus Ls400 | ARANA | ASIN: B0D2HNTFC7 | Price: $40.99 | Rating: 4.5 | Reviews: 7712\n"
     ]
    },
    {
     "name": "stderr",
     "output_type": "stream",
     "text": [
      "100%|██████████| 1/1 [00:01<00:00,  1.21s/it]\n"
     ]
    },
    {
     "name": "stdout",
     "output_type": "stream",
     "text": [
      "[✓] Front Hood Lift Supports To Lexus Ls400 | Suspensia | ASIN: B0C75WP31W | Price: $48.92 | Rating: N/A | Reviews: N/A\n"
     ]
    },
    {
     "name": "stderr",
     "output_type": "stream",
     "text": [
      "Waiting 63 seconds for additional tokens\n",
      "100%|██████████| 1/1 [01:04<00:00, 64.15s/it]\n"
     ]
    },
    {
     "name": "stdout",
     "output_type": "stream",
     "text": [
      "[✓] Rear Liftgate Trunk Lift Supports Compatible With: TO NISSAN ROGUE | ARANA | ASIN: B0D2HNTFC7 | Price: $40.99 | Rating: 4.5 | Reviews: 7712\n"
     ]
    },
    {
     "name": "stderr",
     "output_type": "stream",
     "text": [
      "Waiting 34 seconds for additional tokens\n",
      "100%|██████████| 1/1 [00:35<00:00, 35.56s/it]\n"
     ]
    },
    {
     "name": "stdout",
     "output_type": "stream",
     "text": [
      "[✓] Rear Liftgate Trunk Lift Supports Compatible With: TO NISSAN ROGUE | Suspensia | ASIN: B0C75WP31W | Price: $48.92 | Rating: N/A | Reviews: N/A\n"
     ]
    },
    {
     "name": "stderr",
     "output_type": "stream",
     "text": [
      "100%|██████████| 1/1 [00:00<00:00,  1.12it/s]\n"
     ]
    },
    {
     "name": "stdout",
     "output_type": "stream",
     "text": [
      "[✓] Trunk Hatch Liftgate Lift Supports to Lexus Rx350 | ARANA | ASIN: B0D2HNTFC7 | Price: $40.99 | Rating: 4.5 | Reviews: 7712\n"
     ]
    },
    {
     "name": "stderr",
     "output_type": "stream",
     "text": [
      "Waiting 66 seconds for additional tokens\n",
      "100%|██████████| 1/1 [01:06<00:00, 66.93s/it]\n"
     ]
    },
    {
     "name": "stdout",
     "output_type": "stream",
     "text": [
      "[✓] Trunk Hatch Liftgate Lift Supports to Lexus Rx350 | Suspensia | ASIN: B0C75WP31W | Price: $48.92 | Rating: N/A | Reviews: N/A\n"
     ]
    },
    {
     "name": "stderr",
     "output_type": "stream",
     "text": [
      "Waiting 30 seconds for additional tokens\n",
      "100%|██████████| 1/1 [00:31<00:00, 31.97s/it]\n"
     ]
    },
    {
     "name": "stdout",
     "output_type": "stream",
     "text": [
      "[✓] Front Hood Lift Supports To Pontiac Gto | ARANA | ASIN: B0D2HNTFC7 | Price: $40.99 | Rating: 4.5 | Reviews: 7712\n"
     ]
    },
    {
     "name": "stderr",
     "output_type": "stream",
     "text": [
      "100%|██████████| 1/1 [00:01<00:00,  1.19s/it]\n"
     ]
    },
    {
     "name": "stdout",
     "output_type": "stream",
     "text": [
      "[✓] Front Hood Lift Supports To Pontiac Gto | Suspensia | ASIN: B0C75WP31W | Price: $48.92 | Rating: N/A | Reviews: N/A\n"
     ]
    },
    {
     "name": "stderr",
     "output_type": "stream",
     "text": [
      "Waiting 66 seconds for additional tokens\n",
      "100%|██████████| 1/1 [01:06<00:00, 66.86s/it]\n"
     ]
    },
    {
     "name": "stdout",
     "output_type": "stream",
     "text": [
      "[✓] Rear Side Door Panel Lift Supports to Gmc Savana to Chevrolet Express to Chevrolet Express & | ARANA | ASIN: B0D2HNTFC7 | Price: $40.99 | Rating: 4.5 | Reviews: 7712\n"
     ]
    },
    {
     "name": "stderr",
     "output_type": "stream",
     "text": [
      "Waiting 33 seconds for additional tokens\n",
      "100%|██████████| 1/1 [00:34<00:00, 34.57s/it]\n"
     ]
    },
    {
     "name": "stdout",
     "output_type": "stream",
     "text": [
      "[✓] Rear Side Door Panel Lift Supports to Gmc Savana to Chevrolet Express to Chevrolet Express & | Suspensia | ASIN: B0C75WP31W | Price: $48.92 | Rating: N/A | Reviews: N/A\n"
     ]
    },
    {
     "name": "stderr",
     "output_type": "stream",
     "text": [
      "100%|██████████| 1/1 [00:00<00:00,  1.50it/s]\n"
     ]
    },
    {
     "name": "stdout",
     "output_type": "stream",
     "text": [
      "[✓] Rear Liftgate Wagon Lift Supports Compatible With To Volkswagen Jetta Station Wagon Only | ARANA | ASIN: B0D2HNTFC7 | Price: $40.99 | Rating: 4.5 | Reviews: 7712\n"
     ]
    },
    {
     "name": "stderr",
     "output_type": "stream",
     "text": [
      "Waiting 64 seconds for additional tokens\n",
      "100%|██████████| 1/1 [01:06<00:00, 66.00s/it]\n"
     ]
    },
    {
     "name": "stdout",
     "output_type": "stream",
     "text": [
      "[✓] Rear Liftgate Wagon Lift Supports Compatible With To Volkswagen Jetta Station Wagon Only | Suspensia | ASIN: B0C75WP31W | Price: $48.92 | Rating: N/A | Reviews: N/A\n"
     ]
    },
    {
     "name": "stderr",
     "output_type": "stream",
     "text": [
      "Waiting 33 seconds for additional tokens\n",
      "100%|██████████| 1/1 [00:33<00:00, 33.47s/it]\n"
     ]
    },
    {
     "name": "stdout",
     "output_type": "stream",
     "text": [
      "[✓] Rear Hatch Lift Supports To Scion Xa | ARANA | ASIN: B0D2HNTFC7 | Price: $40.99 | Rating: 4.5 | Reviews: 7712\n"
     ]
    },
    {
     "name": "stderr",
     "output_type": "stream",
     "text": [
      "100%|██████████| 1/1 [00:00<00:00,  1.21it/s]\n"
     ]
    },
    {
     "name": "stdout",
     "output_type": "stream",
     "text": [
      "[✓] Rear Hatch Lift Supports To Scion Xa | Suspensia | ASIN: B0C75WP31W | Price: $48.92 | Rating: N/A | Reviews: N/A\n"
     ]
    },
    {
     "name": "stderr",
     "output_type": "stream",
     "text": [
      "Waiting 64 seconds for additional tokens\n",
      "100%|██████████| 1/1 [01:05<00:00, 65.20s/it]\n"
     ]
    },
    {
     "name": "stdout",
     "output_type": "stream",
     "text": [
      "[✓] Rear Gate Trunk Lift Supports Fits To Jeep Compass Without Speakers | ARANA | ASIN: B0D2HNTFC7 | Price: $40.99 | Rating: 4.5 | Reviews: 7712\n"
     ]
    },
    {
     "name": "stderr",
     "output_type": "stream",
     "text": [
      "Waiting 34 seconds for additional tokens\n",
      "100%|██████████| 1/1 [00:34<00:00, 34.52s/it]\n"
     ]
    },
    {
     "name": "stdout",
     "output_type": "stream",
     "text": [
      "[✓] Rear Gate Trunk Lift Supports Fits To Jeep Compass Without Speakers | Suspensia | ASIN: B0C75WP31W | Price: $48.92 | Rating: N/A | Reviews: N/A\n"
     ]
    },
    {
     "name": "stderr",
     "output_type": "stream",
     "text": [
      "100%|██████████| 1/1 [00:01<00:00,  1.39s/it]\n"
     ]
    },
    {
     "name": "stdout",
     "output_type": "stream",
     "text": [
      "[✓] Rear Liftgate Lift Supports To Nissan X Trail T30 | ARANA | ASIN: B0D2HNTFC7 | Price: $40.99 | Rating: 4.5 | Reviews: 7712\n"
     ]
    },
    {
     "name": "stderr",
     "output_type": "stream",
     "text": [
      "Waiting 67 seconds for additional tokens\n",
      "100%|██████████| 1/1 [01:07<00:00, 67.67s/it]\n"
     ]
    },
    {
     "name": "stdout",
     "output_type": "stream",
     "text": [
      "[✓] Rear Liftgate Lift Supports To Nissan X Trail T30 | Suspensia | ASIN: B0C75WP31W | Price: $48.92 | Rating: N/A | Reviews: N/A\n"
     ]
    },
    {
     "name": "stderr",
     "output_type": "stream",
     "text": [
      "Waiting 30 seconds for additional tokens\n",
      "100%|██████████| 1/1 [00:31<00:00, 31.48s/it]\n"
     ]
    },
    {
     "name": "stdout",
     "output_type": "stream",
     "text": [
      "[✓] Rear Gate Lift Supports Fits To Jeep Compass With Speakers | ARANA | ASIN: B0D2HNTFC7 | Price: $40.99 | Rating: 4.5 | Reviews: 7712\n"
     ]
    },
    {
     "name": "stderr",
     "output_type": "stream",
     "text": [
      "100%|██████████| 1/1 [00:00<00:00,  1.16it/s]\n"
     ]
    },
    {
     "name": "stdout",
     "output_type": "stream",
     "text": [
      "[✓] Rear Gate Lift Supports Fits To Jeep Compass With Speakers | Suspensia | ASIN: B0C75WP31W | Price: $48.92 | Rating: N/A | Reviews: N/A\n"
     ]
    },
    {
     "name": "stderr",
     "output_type": "stream",
     "text": [
      "Waiting 63 seconds for additional tokens\n",
      "100%|██████████| 1/1 [01:04<00:00, 64.35s/it]\n"
     ]
    },
    {
     "name": "stdout",
     "output_type": "stream",
     "text": [
      "[✓] Hatch Lift Supports To Hyundai Tiburon With Spoiler Base Gt Gs Se | ARANA | ASIN: B0D2HNTFC7 | Price: $40.99 | Rating: 4.5 | Reviews: 7712\n"
     ]
    },
    {
     "name": "stderr",
     "output_type": "stream",
     "text": [
      "Waiting 33 seconds for additional tokens\n",
      "100%|██████████| 1/1 [00:34<00:00, 34.24s/it]\n"
     ]
    },
    {
     "name": "stdout",
     "output_type": "stream",
     "text": [
      "[✓] Hatch Lift Supports To Hyundai Tiburon With Spoiler Base Gt Gs Se | Suspensia | ASIN: B0C75WP31W | Price: $48.92 | Rating: N/A | Reviews: N/A\n"
     ]
    },
    {
     "name": "stderr",
     "output_type": "stream",
     "text": [
      "100%|██████████| 1/1 [00:00<00:00,  1.47it/s]\n"
     ]
    },
    {
     "name": "stdout",
     "output_type": "stream",
     "text": [
      "[✓] Hatch Lift Supports To Hyundai Tiburon Without Spoiler To Hyundai Tiburon | ARANA | ASIN: B0D2HNTFC7 | Price: $40.99 | Rating: 4.5 | Reviews: 7712\n"
     ]
    },
    {
     "name": "stderr",
     "output_type": "stream",
     "text": [
      "Waiting 64 seconds for additional tokens\n",
      "100%|██████████| 1/1 [01:06<00:00, 66.38s/it]\n"
     ]
    },
    {
     "name": "stdout",
     "output_type": "stream",
     "text": [
      "[✓] Hatch Lift Supports To Hyundai Tiburon Without Spoiler To Hyundai Tiburon | Suspensia | ASIN: B0C75WP31W | Price: $48.92 | Rating: N/A | Reviews: N/A\n"
     ]
    },
    {
     "name": "stderr",
     "output_type": "stream",
     "text": [
      "Waiting 32 seconds for additional tokens\n",
      "100%|██████████| 1/1 [00:34<00:00, 34.34s/it]\n"
     ]
    },
    {
     "name": "stdout",
     "output_type": "stream",
     "text": [
      "[✓] Liftgate Lift Supports Compatible with to Dodge Nitro | ARANA | ASIN: B0D2HNTFC7 | Price: $40.99 | Rating: 4.5 | Reviews: 7712\n"
     ]
    },
    {
     "name": "stderr",
     "output_type": "stream",
     "text": [
      "100%|██████████| 1/1 [00:00<00:00,  1.54it/s]\n"
     ]
    },
    {
     "name": "stdout",
     "output_type": "stream",
     "text": [
      "[✓] Liftgate Lift Supports Compatible with to Dodge Nitro | Suspensia | ASIN: B0C75WP31W | Price: $48.92 | Rating: N/A | Reviews: N/A\n"
     ]
    },
    {
     "name": "stderr",
     "output_type": "stream",
     "text": [
      "Waiting 66 seconds for additional tokens\n",
      "100%|██████████| 1/1 [01:06<00:00, 66.76s/it]\n"
     ]
    },
    {
     "name": "stdout",
     "output_type": "stream",
     "text": [
      "[✓] Liftgate Lift Supports Compatible With: To Mitsubishi Outlander Up To Without Power | ARANA | ASIN: B0D2HNTFC7 | Price: $40.99 | Rating: 4.5 | Reviews: 7712\n"
     ]
    },
    {
     "name": "stderr",
     "output_type": "stream",
     "text": [
      "Waiting 34 seconds for additional tokens\n",
      "100%|██████████| 1/1 [00:34<00:00, 34.64s/it]\n"
     ]
    },
    {
     "name": "stdout",
     "output_type": "stream",
     "text": [
      "[✓] Liftgate Lift Supports Compatible With: To Mitsubishi Outlander Up To Without Power | Suspensia | ASIN: B0C75WP31W | Price: $48.92 | Rating: N/A | Reviews: N/A\n"
     ]
    },
    {
     "name": "stderr",
     "output_type": "stream",
     "text": [
      "100%|██████████| 1/1 [00:00<00:00,  1.58it/s]\n"
     ]
    },
    {
     "name": "stdout",
     "output_type": "stream",
     "text": [
      "[✓] Front Hood Lift Supports Chevrolet Colorado Gmc Canyon | ARANA | ASIN: B0D2HNTFC7 | Price: $40.99 | Rating: 4.5 | Reviews: 7712\n"
     ]
    },
    {
     "name": "stderr",
     "output_type": "stream",
     "text": [
      "Waiting 64 seconds for additional tokens\n",
      "100%|██████████| 1/1 [01:05<00:00, 65.10s/it]\n"
     ]
    },
    {
     "name": "stdout",
     "output_type": "stream",
     "text": [
      "[✓] Front Hood Lift Supports Chevrolet Colorado Gmc Canyon | Suspensia | ASIN: B0C75WP31W | Price: $48.92 | Rating: N/A | Reviews: N/A\n"
     ]
    },
    {
     "name": "stderr",
     "output_type": "stream",
     "text": [
      "100%|██████████| 1/1 [00:00<00:00,  1.44it/s]\n"
     ]
    },
    {
     "name": "stdout",
     "output_type": "stream",
     "text": [
      "[✓] Liftgate Lift Supports Fits to Saturn Outlook and to Gmc Acadia | ARANA | ASIN: B0D2HNTFC7 | Price: $40.99 | Rating: 4.5 | Reviews: 7712\n"
     ]
    },
    {
     "name": "stderr",
     "output_type": "stream",
     "text": [
      "Waiting 36 seconds for additional tokens\n",
      "100%|██████████| 1/1 [00:00<00:00,  1.47it/s]\n"
     ]
    },
    {
     "name": "stdout",
     "output_type": "stream",
     "text": [
      "[✓] Liftgate Lift Supports Fits to Saturn Outlook and to Gmc Acadia | Suspensia | ASIN: B0C75WP31W | Price: $48.92 | Rating: N/A | Reviews: N/A\n"
     ]
    },
    {
     "name": "stderr",
     "output_type": "stream",
     "text": [
      "Waiting 59 seconds for additional tokens\n",
      "100%|██████████| 1/1 [00:59<00:00, 59.73s/it]\n"
     ]
    },
    {
     "name": "stdout",
     "output_type": "stream",
     "text": [
      "[✓] Front Hood Lift Supports Fits Mercedes Benz C Class Model Years Below Original Protective Tube Must Be Reused | ARANA | ASIN: B0D2HNTFC7 | Price: $40.99 | Rating: 4.5 | Reviews: 7712\n"
     ]
    },
    {
     "name": "stderr",
     "output_type": "stream",
     "text": [
      "100%|██████████| 1/1 [00:00<00:00,  1.49it/s]\n"
     ]
    },
    {
     "name": "stdout",
     "output_type": "stream",
     "text": [
      "[✓] Front Hood Lift Supports Fits Mercedes Benz C Class Model Years Below Original Protective Tube Must Be Reused | Suspensia | ASIN: B0C75WP31W | Price: $48.92 | Rating: N/A | Reviews: N/A\n"
     ]
    },
    {
     "name": "stderr",
     "output_type": "stream",
     "text": [
      "Waiting 36 seconds for additional tokens\n",
      "100%|██████████| 1/1 [00:01<00:00,  1.15s/it]\n"
     ]
    },
    {
     "name": "stdout",
     "output_type": "stream",
     "text": [
      "[✓] Front Hood Lift Supports To Saab S Se & Turbo To Saab | ARANA | ASIN: B0D2HNTFC7 | Price: $40.99 | Rating: 4.5 | Reviews: 7712\n"
     ]
    },
    {
     "name": "stderr",
     "output_type": "stream",
     "text": [
      "Waiting 64 seconds for additional tokens\n",
      "100%|██████████| 1/1 [01:05<00:00, 65.93s/it]\n"
     ]
    },
    {
     "name": "stdout",
     "output_type": "stream",
     "text": [
      "[✓] Front Hood Lift Supports To Saab S Se & Turbo To Saab | Suspensia | ASIN: B0C75WP31W | Price: $48.92 | Rating: N/A | Reviews: N/A\n"
     ]
    },
    {
     "name": "stderr",
     "output_type": "stream",
     "text": [
      "100%|██████████| 1/1 [00:01<00:00,  1.08s/it]\n"
     ]
    },
    {
     "name": "stdout",
     "output_type": "stream",
     "text": [
      "[✓] Front Hood Lift Support To Lexus Ls400 Sedan | ARANA | ASIN: B0D7VQH838 | Price: $22.99 | Rating: 4.5 | Reviews: 7713\n"
     ]
    },
    {
     "name": "stderr",
     "output_type": "stream",
     "text": [
      "Waiting 41 seconds for additional tokens\n",
      "100%|██████████| 1/1 [00:00<00:00,  1.49it/s]\n"
     ]
    },
    {
     "name": "stdout",
     "output_type": "stream",
     "text": [
      "[✓] Front Hood Lift Support To Lexus Ls400 Sedan | Suspensia | ASIN: B0C75WP31W | Price: $48.92 | Rating: N/A | Reviews: N/A\n"
     ]
    },
    {
     "name": "stderr",
     "output_type": "stream",
     "text": [
      "Waiting 59 seconds for additional tokens\n",
      "100%|██████████| 1/1 [01:00<00:00, 60.81s/it]\n"
     ]
    },
    {
     "name": "stdout",
     "output_type": "stream",
     "text": [
      "[✓] Hatchback Lift Supports To Mazda Hatchback Only | ARANA | ASIN: B09MMTZPB8 | Price: $35.99 | Rating: 4.5 | Reviews: 7725\n"
     ]
    },
    {
     "name": "stderr",
     "output_type": "stream",
     "text": [
      "Waiting 35 seconds for additional tokens\n",
      "100%|██████████| 1/1 [00:36<00:00, 36.66s/it]\n"
     ]
    },
    {
     "name": "stdout",
     "output_type": "stream",
     "text": [
      "[✓] Hatchback Lift Supports To Mazda Hatchback Only | Suspensia | ASIN: B0C75WP31W | Price: $48.92 | Rating: N/A | Reviews: N/A\n"
     ]
    },
    {
     "name": "stderr",
     "output_type": "stream",
     "text": [
      "100%|██████████| 1/1 [00:01<00:00,  1.30s/it]\n"
     ]
    },
    {
     "name": "stdout",
     "output_type": "stream",
     "text": [
      "[✓] Rear Hatch Trunk Lift Supports To Audi A1 | ARANA | ASIN: B0D2LKY5QD | Price: $40.99 | Rating: 4.5 | Reviews: 7721\n"
     ]
    },
    {
     "name": "stderr",
     "output_type": "stream",
     "text": [
      "Waiting 65 seconds for additional tokens\n",
      "100%|██████████| 1/1 [01:06<00:00, 66.03s/it]\n"
     ]
    },
    {
     "name": "stdout",
     "output_type": "stream",
     "text": [
      "[✓] Rear Hatch Trunk Lift Supports To Audi A1 | Suspensia | ASIN: B0C75WP31W | Price: $48.92 | Rating: N/A | Reviews: N/A\n"
     ]
    },
    {
     "name": "stderr",
     "output_type": "stream",
     "text": [
      "Waiting 30 seconds for additional tokens\n",
      "100%|██████████| 1/1 [00:32<00:00, 32.76s/it]\n"
     ]
    },
    {
     "name": "stdout",
     "output_type": "stream",
     "text": [
      "[✓] Hatch Lift Supports Compatible With: To Honda Crx With Eyelet Mount On Tube Side | ARANA | ASIN: B08698QYFV | Price: $29.99 | Rating: 4.5 | Reviews: 7727\n"
     ]
    },
    {
     "name": "stderr",
     "output_type": "stream",
     "text": [
      "100%|██████████| 1/1 [00:00<00:00,  1.46it/s]\n"
     ]
    },
    {
     "name": "stdout",
     "output_type": "stream",
     "text": [
      "[✓] Hatch Lift Supports Compatible With: To Honda Crx With Eyelet Mount On Tube Side | Suspensia | ASIN: B0C75WP31W | Price: $48.92 | Rating: N/A | Reviews: N/A\n"
     ]
    },
    {
     "name": "stderr",
     "output_type": "stream",
     "text": [
      "Waiting 66 seconds for additional tokens\n",
      "100%|██████████| 1/1 [01:06<00:00, 66.91s/it]\n"
     ]
    },
    {
     "name": "stdout",
     "output_type": "stream",
     "text": [
      "[✓] Hood Lift Supports To Acura Mdx | ARANA | ASIN: B08698QYFV | Price: $29.99 | Rating: 4.5 | Reviews: 7727\n"
     ]
    },
    {
     "name": "stderr",
     "output_type": "stream",
     "text": [
      "Waiting 33 seconds for additional tokens\n",
      "100%|██████████| 1/1 [00:35<00:00, 35.25s/it]\n"
     ]
    },
    {
     "name": "stdout",
     "output_type": "stream",
     "text": [
      "[✓] Hood Lift Supports To Acura Mdx | Suspensia | ASIN: B0C75WP31W | Price: $48.92 | Rating: N/A | Reviews: N/A\n"
     ]
    },
    {
     "name": "stderr",
     "output_type": "stream",
     "text": [
      "100%|██████████| 1/1 [00:01<00:00,  1.40s/it]\n"
     ]
    },
    {
     "name": "stdout",
     "output_type": "stream",
     "text": [
      "[✓] Rear Liftgate Lift Supports Compatible With Land Rover Freelander and Land Rover Lr2 Model Years Below | ARANA | ASIN: B0B7MZPF7Z | Price: $19.99 | Rating: 4.5 | Reviews: 7708\n"
     ]
    },
    {
     "name": "stderr",
     "output_type": "stream",
     "text": [
      "Waiting 68 seconds for additional tokens\n",
      "100%|██████████| 1/1 [01:09<00:00, 69.95s/it]\n"
     ]
    },
    {
     "name": "stdout",
     "output_type": "stream",
     "text": [
      "[✓] Rear Liftgate Lift Supports Compatible With Land Rover Freelander and Land Rover Lr2 Model Years Below | Suspensia | ASIN: B0C75WP31W | Price: $48.92 | Rating: N/A | Reviews: N/A\n"
     ]
    },
    {
     "name": "stderr",
     "output_type": "stream",
     "text": [
      "Waiting 30 seconds for additional tokens\n",
      "100%|██████████| 1/1 [00:32<00:00, 32.22s/it]\n"
     ]
    },
    {
     "name": "stdout",
     "output_type": "stream",
     "text": [
      "[✓] Rear Liftgate Lift Supports Compatible With: To Honda Cr V With Fixed Window | ARANA | ASIN: B0BN674WNV | Price: $27.99 | Rating: 4.5 | Reviews: 7721\n"
     ]
    },
    {
     "name": "stderr",
     "output_type": "stream",
     "text": [
      "100%|██████████| 1/1 [00:00<00:00,  1.22it/s]\n"
     ]
    },
    {
     "name": "stdout",
     "output_type": "stream",
     "text": [
      "[✓] Rear Liftgate Lift Supports Compatible With: To Honda Cr V With Fixed Window | Suspensia | ASIN: B0C75WP31W | Price: $48.92 | Rating: N/A | Reviews: N/A\n"
     ]
    },
    {
     "name": "stderr",
     "output_type": "stream",
     "text": [
      "Waiting 65 seconds for additional tokens\n",
      "100%|██████████| 1/1 [01:06<00:00, 66.49s/it]\n"
     ]
    },
    {
     "name": "stdout",
     "output_type": "stream",
     "text": [
      "[✓] Hatch Lift Supports Replacement for: Chevrolet Cruze | ARANA | ASIN: B0BN674WNV | Price: $27.99 | Rating: 4.5 | Reviews: 7721\n"
     ]
    },
    {
     "name": "stderr",
     "output_type": "stream",
     "text": [
      "Waiting 34 seconds for additional tokens\n",
      "100%|██████████| 1/1 [00:34<00:00, 34.64s/it]\n"
     ]
    },
    {
     "name": "stdout",
     "output_type": "stream",
     "text": [
      "[✓] Hatch Lift Supports Replacement for: Chevrolet Cruze | Suspensia | ASIN: B0C75WP31W | Price: $48.92 | Rating: N/A | Reviews: N/A\n"
     ]
    },
    {
     "name": "stderr",
     "output_type": "stream",
     "text": [
      "100%|██████████| 1/1 [00:01<00:00,  1.26s/it]\n"
     ]
    },
    {
     "name": "stdout",
     "output_type": "stream",
     "text": [
      "[✓] Front Hood Lift Support To Pontiac Grand Prix 2Nd Design | ARANA | ASIN: B0BWHYJ37N | Price: $29.99 | Rating: 4.5 | Reviews: 7712\n"
     ]
    },
    {
     "name": "stderr",
     "output_type": "stream",
     "text": [
      "Waiting 65 seconds for additional tokens\n",
      "100%|██████████| 1/1 [01:06<00:00, 66.46s/it]\n"
     ]
    },
    {
     "name": "stdout",
     "output_type": "stream",
     "text": [
      "[✓] Front Hood Lift Support To Pontiac Grand Prix 2Nd Design | Suspensia | ASIN: B0C75WP31W | Price: $48.92 | Rating: N/A | Reviews: N/A\n"
     ]
    },
    {
     "name": "stderr",
     "output_type": "stream",
     "text": [
      "Waiting 33 seconds for additional tokens\n",
      "100%|██████████| 1/1 [00:35<00:00, 35.78s/it]\n"
     ]
    },
    {
     "name": "stdout",
     "output_type": "stream",
     "text": [
      "[✓] Trunk Lid Lift Supports Volvo Volvo Volvo Volvo Volvo Volvo Volvo V90 | ARANA | ASIN: B098K2B82X | Price: $30.99 | Rating: 4.5 | Reviews: 7727\n"
     ]
    },
    {
     "name": "stderr",
     "output_type": "stream",
     "text": [
      "100%|██████████| 1/1 [00:00<00:00,  1.49it/s]\n"
     ]
    },
    {
     "name": "stdout",
     "output_type": "stream",
     "text": [
      "[✓] Trunk Lid Lift Supports Volvo Volvo Volvo Volvo Volvo Volvo Volvo V90 | Suspensia | ASIN: B0C75WP31W | Price: $48.92 | Rating: N/A | Reviews: N/A\n"
     ]
    },
    {
     "name": "stderr",
     "output_type": "stream",
     "text": [
      "Waiting 65 seconds for additional tokens\n",
      "100%|██████████| 1/1 [01:06<00:00, 66.90s/it]\n"
     ]
    },
    {
     "name": "stdout",
     "output_type": "stream",
     "text": [
      "[✓] Rear Gate Lift Supports to Kia Sportage | ARANA | ASIN: B0B28MT9LP | Price: $21.99 | Rating: 4.5 | Reviews: 7712\n"
     ]
    },
    {
     "name": "stderr",
     "output_type": "stream",
     "text": [
      "Waiting 35 seconds for additional tokens\n",
      "100%|██████████| 1/1 [00:36<00:00, 36.47s/it]\n"
     ]
    },
    {
     "name": "stdout",
     "output_type": "stream",
     "text": [
      "[✓] Rear Gate Lift Supports to Kia Sportage | Suspensia | ASIN: B0C75WP31W | Price: $48.92 | Rating: N/A | Reviews: N/A\n"
     ]
    },
    {
     "name": "stderr",
     "output_type": "stream",
     "text": [
      "100%|██████████| 1/1 [00:01<00:00,  1.82s/it]\n"
     ]
    },
    {
     "name": "stdout",
     "output_type": "stream",
     "text": [
      "[✓] Rear Trunk Lid Lift Supports to Volvo S60 to S60 Cross Country | ARANA | ASIN: B0BN6382CS | Price: $38.99 | Rating: 4.5 | Reviews: 7725\n"
     ]
    },
    {
     "name": "stderr",
     "output_type": "stream",
     "text": [
      "Waiting 66 seconds for additional tokens\n",
      "100%|██████████| 1/1 [01:07<00:00, 67.07s/it]\n"
     ]
    },
    {
     "name": "stdout",
     "output_type": "stream",
     "text": [
      "[✓] Rear Trunk Lid Lift Supports to Volvo S60 to S60 Cross Country | Suspensia | ASIN: B0C75WP31W | Price: $48.92 | Rating: N/A | Reviews: N/A\n"
     ]
    },
    {
     "name": "stderr",
     "output_type": "stream",
     "text": [
      "Waiting 30 seconds for additional tokens\n",
      "100%|██████████| 1/1 [00:32<00:00, 32.62s/it]\n"
     ]
    },
    {
     "name": "stdout",
     "output_type": "stream",
     "text": [
      "[✓] Hatch Lift Supports Compatible With Toyota Prius w/Wiper | ARANA | ASIN: B08B3Y7Y7W | Price: $27.99 | Rating: 4.5 | Reviews: 7721\n"
     ]
    },
    {
     "name": "stderr",
     "output_type": "stream",
     "text": [
      "100%|██████████| 1/1 [00:01<00:00,  1.99s/it]\n"
     ]
    },
    {
     "name": "stdout",
     "output_type": "stream",
     "text": [
      "[✓] Hatch Lift Supports Compatible With Toyota Prius w/Wiper | Suspensia | ASIN: B0C75WP31W | Price: $48.92 | Rating: N/A | Reviews: N/A\n"
     ]
    },
    {
     "name": "stderr",
     "output_type": "stream",
     "text": [
      "Waiting 64 seconds for additional tokens\n",
      "100%|██████████| 1/1 [01:05<00:00, 65.29s/it]\n"
     ]
    },
    {
     "name": "stdout",
     "output_type": "stream",
     "text": [
      "[✓] Rear Liftgate Lift Supports Toyota Highlander Without Power and Without Fixed Window USA Built Models Only | ARANA | ASIN: B08B3Y7Y7W | Price: $27.99 | Rating: 4.5 | Reviews: 7721\n"
     ]
    },
    {
     "name": "stderr",
     "output_type": "stream",
     "text": [
      "Waiting 33 seconds for additional tokens\n",
      "100%|██████████| 1/1 [00:35<00:00, 35.13s/it]\n"
     ]
    },
    {
     "name": "stdout",
     "output_type": "stream",
     "text": [
      "[✓] Rear Liftgate Lift Supports Toyota Highlander Without Power and Without Fixed Window USA Built Models Only | Suspensia | ASIN: B0C75WP31W | Price: $48.92 | Rating: N/A | Reviews: N/A\n"
     ]
    },
    {
     "name": "stderr",
     "output_type": "stream",
     "text": [
      "100%|██████████| 1/1 [00:01<00:00,  1.24s/it]\n"
     ]
    },
    {
     "name": "stdout",
     "output_type": "stream",
     "text": [
      "[✓] Hatch Lift Supports Compatible With Nissan LEAF Nissan LEAF | ARANA | ASIN: B0D4YTCBPL | Price: $38.99 | Rating: 4.5 | Reviews: 7712\n"
     ]
    },
    {
     "name": "stderr",
     "output_type": "stream",
     "text": [
      "Waiting 40 seconds for additional tokens\n",
      "100%|██████████| 1/1 [00:01<00:00,  1.01s/it]\n"
     ]
    },
    {
     "name": "stdout",
     "output_type": "stream",
     "text": [
      "[✓] Hatch Lift Supports Compatible With Nissan LEAF Nissan LEAF | Suspensia | ASIN: B0C75WP31W | Price: $48.92 | Rating: N/A | Reviews: N/A\n"
     ]
    },
    {
     "name": "stderr",
     "output_type": "stream",
     "text": [
      "Waiting 57 seconds for additional tokens\n",
      "100%|██████████| 1/1 [01:00<00:00, 60.85s/it]\n"
     ]
    },
    {
     "name": "stdout",
     "output_type": "stream",
     "text": [
      "[✓] Rear Trunk Lid Lift Supports F10 BMW 520I 528I 528I Xdrive 530I 535D 535D Xdrive 535I 535I Xdrive 550I 535I Xdrive W Auto Pull Down | ARANA | ASIN: B09MLFD378 | Price: $27.99 | Rating: 4.5 | Reviews: 7727\n"
     ]
    },
    {
     "name": "stderr",
     "output_type": "stream",
     "text": [
      "100%|██████████| 1/1 [00:00<00:00,  1.41it/s]\n"
     ]
    },
    {
     "name": "stdout",
     "output_type": "stream",
     "text": [
      "[✓] Rear Trunk Lid Lift Supports F10 BMW 520I 528I 528I Xdrive 530I 535D 535D Xdrive 535I 535I Xdrive 550I 535I Xdrive W Auto Pull Down | Suspensia | ASIN: B0C75WP31W | Price: $48.92 | Rating: N/A | Reviews: N/A\n"
     ]
    },
    {
     "name": "stderr",
     "output_type": "stream",
     "text": [
      "Waiting 35 seconds for additional tokens\n",
      "100%|██████████| 1/1 [00:02<00:00,  2.77s/it]\n"
     ]
    },
    {
     "name": "stdout",
     "output_type": "stream",
     "text": [
      "[✓] Rear Liftgate Lift Supports To Kia Sedona Without Power | ARANA | ASIN: B0C33PJ3C8 | Price: $23.99 | Rating: 4.5 | Reviews: 7721\n"
     ]
    },
    {
     "name": "stderr",
     "output_type": "stream",
     "text": [
      "Waiting 62 seconds for additional tokens\n",
      "100%|██████████| 1/1 [01:02<00:00, 62.50s/it]\n"
     ]
    },
    {
     "name": "stdout",
     "output_type": "stream",
     "text": [
      "[✓] Rear Liftgate Lift Supports To Kia Sedona Without Power | Suspensia | ASIN: B0C75WP31W | Price: $48.92 | Rating: N/A | Reviews: N/A\n"
     ]
    },
    {
     "name": "stderr",
     "output_type": "stream",
     "text": [
      "100%|██████████| 1/1 [00:00<00:00,  1.06it/s]\n"
     ]
    },
    {
     "name": "stdout",
     "output_type": "stream",
     "text": [
      "[✓] Front Hood Lift Support to Pontiac Grand Prix to Chevrolet Monte Carlo 2Nd Design W Spoiler W Defroster | ARANA | ASIN: B09DG24HCL | Price: N/A | Rating: N/A | Reviews: N/A\n"
     ]
    },
    {
     "name": "stderr",
     "output_type": "stream",
     "text": [
      "Waiting 36 seconds for additional tokens\n",
      "100%|██████████| 1/1 [00:02<00:00,  2.77s/it]\n"
     ]
    },
    {
     "name": "stdout",
     "output_type": "stream",
     "text": [
      "[✓] Front Hood Lift Support to Pontiac Grand Prix to Chevrolet Monte Carlo 2Nd Design W Spoiler W Defroster | Suspensia | ASIN: B0C75WP31W | Price: $48.92 | Rating: N/A | Reviews: N/A\n"
     ]
    },
    {
     "name": "stderr",
     "output_type": "stream",
     "text": [
      "Waiting 60 seconds for additional tokens\n",
      "100%|██████████| 1/1 [01:00<00:00, 60.85s/it]\n"
     ]
    },
    {
     "name": "stdout",
     "output_type": "stream",
     "text": [
      "[✓] Rear Liftgate Lift Supports Nissan Pathfinder Sport Utility Manual Gate | ARANA | ASIN: B09DG24HCL | Price: N/A | Rating: N/A | Reviews: N/A\n"
     ]
    },
    {
     "name": "stderr",
     "output_type": "stream",
     "text": [
      "100%|██████████| 1/1 [00:00<00:00,  1.47it/s]\n"
     ]
    },
    {
     "name": "stdout",
     "output_type": "stream",
     "text": [
      "[✓] Rear Liftgate Lift Supports Nissan Pathfinder Sport Utility Manual Gate | Suspensia | ASIN: B0C75WP31W | Price: $48.92 | Rating: N/A | Reviews: N/A\n"
     ]
    },
    {
     "name": "stderr",
     "output_type": "stream",
     "text": [
      "Waiting 57 seconds for additional tokens\n",
      "100%|██████████| 1/1 [00:58<00:00, 58.32s/it]\n"
     ]
    },
    {
     "name": "stdout",
     "output_type": "stream",
     "text": [
      "[✓] Front & Center Side Panel Door Lift Supports To Chevrolet Express Gmc Savana To Chevrolet Express Gmc Savana | ARANA | ASIN: B09DG24HCL | Price: N/A | Rating: N/A | Reviews: N/A\n"
     ]
    },
    {
     "name": "stderr",
     "output_type": "stream",
     "text": [
      "Waiting 30 seconds for additional tokens\n",
      "100%|██████████| 1/1 [00:31<00:00, 31.27s/it]\n"
     ]
    },
    {
     "name": "stdout",
     "output_type": "stream",
     "text": [
      "[✓] Front & Center Side Panel Door Lift Supports To Chevrolet Express Gmc Savana To Chevrolet Express Gmc Savana | Suspensia | ASIN: B0C75WP31W | Price: $48.92 | Rating: N/A | Reviews: N/A\n"
     ]
    },
    {
     "name": "stderr",
     "output_type": "stream",
     "text": [
      "100%|██████████| 1/1 [00:00<00:00,  1.68it/s]\n"
     ]
    },
    {
     "name": "stdout",
     "output_type": "stream",
     "text": [
      "[✓] Liftgate Lift Supports Fits To Subaru Forester | ARANA | ASIN: B09DG24HCL | Price: N/A | Rating: N/A | Reviews: N/A\n"
     ]
    },
    {
     "name": "stderr",
     "output_type": "stream",
     "text": [
      "Waiting 61 seconds for additional tokens\n",
      "100%|██████████| 1/1 [01:02<00:00, 62.64s/it]\n"
     ]
    },
    {
     "name": "stdout",
     "output_type": "stream",
     "text": [
      "[✓] Liftgate Lift Supports Fits To Subaru Forester | Suspensia | ASIN: B0C75WP31W | Price: $48.92 | Rating: N/A | Reviews: N/A\n"
     ]
    },
    {
     "name": "stderr",
     "output_type": "stream",
     "text": [
      "Waiting 29 seconds for additional tokens\n",
      "100%|██████████| 1/1 [00:30<00:00, 30.63s/it]\n"
     ]
    },
    {
     "name": "stdout",
     "output_type": "stream",
     "text": [
      "[✓] Rear Trunk Lid Lift Supports to Lexus is F Lexus Is250 Lexus Is350 Sedan | ARANA | ASIN: B09DG24HCL | Price: N/A | Rating: N/A | Reviews: N/A\n"
     ]
    },
    {
     "name": "stderr",
     "output_type": "stream",
     "text": [
      "100%|██████████| 1/1 [00:00<00:00,  1.00it/s]\n"
     ]
    },
    {
     "name": "stdout",
     "output_type": "stream",
     "text": [
      "[✓] Rear Trunk Lid Lift Supports to Lexus is F Lexus Is250 Lexus Is350 Sedan | Suspensia | ASIN: B0C75WP31W | Price: $48.92 | Rating: N/A | Reviews: N/A\n"
     ]
    },
    {
     "name": "stderr",
     "output_type": "stream",
     "text": [
      "Waiting 60 seconds for additional tokens\n",
      "100%|██████████| 1/1 [01:00<00:00, 60.94s/it]\n"
     ]
    },
    {
     "name": "stdout",
     "output_type": "stream",
     "text": [
      "[✓] Rear Gate Lift Support To Toyota Sienna With Power Liftgate | ARANA | ASIN: B09DG24HCL | Price: N/A | Rating: N/A | Reviews: N/A\n"
     ]
    },
    {
     "name": "stderr",
     "output_type": "stream",
     "text": [
      "100%|██████████| 1/1 [00:01<00:00,  1.54s/it]\n"
     ]
    },
    {
     "name": "stdout",
     "output_type": "stream",
     "text": [
      "[✓] Rear Gate Lift Support To Toyota Sienna With Power Liftgate | Suspensia | ASIN: B0C75WP31W | Price: $48.92 | Rating: N/A | Reviews: N/A\n"
     ]
    },
    {
     "name": "stderr",
     "output_type": "stream",
     "text": [
      "Waiting 35 seconds for additional tokens\n",
      "100%|██████████| 1/1 [00:01<00:00,  1.15s/it]\n"
     ]
    },
    {
     "name": "stdout",
     "output_type": "stream",
     "text": [
      "[✓] Rear Liftgate Lift Supports To Lincoln Mkx | ARANA | ASIN: B09DG24HCL | Price: N/A | Rating: N/A | Reviews: N/A\n"
     ]
    },
    {
     "name": "stderr",
     "output_type": "stream",
     "text": [
      "Waiting 60 seconds for additional tokens\n",
      "100%|██████████| 1/1 [01:01<00:00, 61.06s/it]\n"
     ]
    },
    {
     "name": "stdout",
     "output_type": "stream",
     "text": [
      "[✓] Rear Liftgate Lift Supports To Lincoln Mkx | Suspensia | ASIN: B0C75WP31W | Price: $48.92 | Rating: N/A | Reviews: N/A\n"
     ]
    },
    {
     "name": "stderr",
     "output_type": "stream",
     "text": [
      "100%|██████████| 1/1 [00:03<00:00,  3.14s/it]\n"
     ]
    },
    {
     "name": "stdout",
     "output_type": "stream",
     "text": [
      "[✓] Rear Liftgate Lift Supports Compatible With To Acura Rdx Manual Liftgate | ARANA | ASIN: B09DG24HCL | Price: N/A | Rating: N/A | Reviews: N/A\n"
     ]
    },
    {
     "name": "stderr",
     "output_type": "stream",
     "text": [
      "Waiting 58 seconds for additional tokens\n",
      "100%|██████████| 1/1 [00:59<00:00, 59.84s/it]\n"
     ]
    },
    {
     "name": "stdout",
     "output_type": "stream",
     "text": [
      "[✓] Rear Liftgate Lift Supports Compatible With To Acura Rdx Manual Liftgate | Suspensia | ASIN: B0C75WP31W | Price: $48.92 | Rating: N/A | Reviews: N/A\n"
     ]
    },
    {
     "name": "stderr",
     "output_type": "stream",
     "text": [
      "Waiting 30 seconds for additional tokens\n",
      "100%|██████████| 1/1 [00:30<00:00, 30.95s/it]\n"
     ]
    },
    {
     "name": "stdout",
     "output_type": "stream",
     "text": [
      "[✓] Liftgate Lift Supports to Ford Escape to Mercury Mariner | ARANA | ASIN: B09DG24HCL | Price: N/A | Rating: N/A | Reviews: N/A\n"
     ]
    },
    {
     "name": "stderr",
     "output_type": "stream",
     "text": [
      "100%|██████████| 1/1 [00:01<00:00,  1.47s/it]\n"
     ]
    },
    {
     "name": "stdout",
     "output_type": "stream",
     "text": [
      "[✓] Liftgate Lift Supports to Ford Escape to Mercury Mariner | Suspensia | ASIN: B0C75WP31W | Price: $48.92 | Rating: N/A | Reviews: N/A\n"
     ]
    },
    {
     "name": "stderr",
     "output_type": "stream",
     "text": [
      "Waiting 60 seconds for additional tokens\n",
      "100%|██████████| 1/1 [01:01<00:00, 61.69s/it]\n"
     ]
    },
    {
     "name": "stdout",
     "output_type": "stream",
     "text": [
      "[✓] Rear Gate Trunk Lift Supports To Acura Rdx With Power Liftgate | ARANA | ASIN: B09DG24HCL | Price: N/A | Rating: N/A | Reviews: N/A\n"
     ]
    },
    {
     "name": "stderr",
     "output_type": "stream",
     "text": [
      "Waiting 32 seconds for additional tokens\n",
      "100%|██████████| 1/1 [00:35<00:00, 35.03s/it]\n"
     ]
    },
    {
     "name": "stdout",
     "output_type": "stream",
     "text": [
      "[✓] Rear Gate Trunk Lift Supports To Acura Rdx With Power Liftgate | Suspensia | ASIN: B0C75WP31W | Price: $48.92 | Rating: N/A | Reviews: N/A\n"
     ]
    },
    {
     "name": "stderr",
     "output_type": "stream",
     "text": [
      "100%|██████████| 1/1 [00:00<00:00,  1.87it/s]\n"
     ]
    },
    {
     "name": "stdout",
     "output_type": "stream",
     "text": [
      "[✓] Hatch Lift Support | ARANA | ASIN: B09DG24HCL | Price: N/A | Rating: N/A | Reviews: N/A\n"
     ]
    },
    {
     "name": "stderr",
     "output_type": "stream",
     "text": [
      "Waiting 62 seconds for additional tokens\n",
      "100%|██████████| 1/1 [01:03<00:00, 63.34s/it]\n"
     ]
    },
    {
     "name": "stdout",
     "output_type": "stream",
     "text": [
      "[✓] Hatch Lift Support | Suspensia | ASIN: B0C75WP31W | Price: $48.92 | Rating: N/A | Reviews: N/A\n"
     ]
    },
    {
     "name": "stderr",
     "output_type": "stream",
     "text": [
      "100%|██████████| 1/1 [00:00<00:00,  1.69it/s]\n"
     ]
    },
    {
     "name": "stdout",
     "output_type": "stream",
     "text": [
      "[✓] Trunk Lid Lift Support | ARANA | ASIN: B09DG24HCL | Price: N/A | Rating: N/A | Reviews: N/A\n"
     ]
    },
    {
     "name": "stderr",
     "output_type": "stream",
     "text": [
      "Waiting 33 seconds for additional tokens\n",
      "100%|██████████| 1/1 [00:00<00:00,  1.06it/s]\n"
     ]
    },
    {
     "name": "stdout",
     "output_type": "stream",
     "text": [
      "[✓] Trunk Lid Lift Support | Suspensia | ASIN: B0C75WP31W | Price: $48.92 | Rating: N/A | Reviews: N/A\n"
     ]
    },
    {
     "name": "stderr",
     "output_type": "stream",
     "text": [
      "Waiting 56 seconds for additional tokens\n",
      "100%|██████████| 1/1 [00:57<00:00, 57.39s/it]\n"
     ]
    },
    {
     "name": "stdout",
     "output_type": "stream",
     "text": [
      "[✓] Liftgate Lift Supports To Hyundai Veracruz | ARANA | ASIN: B09DG24HCL | Price: N/A | Rating: N/A | Reviews: N/A\n"
     ]
    },
    {
     "name": "stderr",
     "output_type": "stream",
     "text": [
      "100%|██████████| 1/1 [00:00<00:00,  1.14it/s]\n"
     ]
    },
    {
     "name": "stdout",
     "output_type": "stream",
     "text": [
      "[✓] Liftgate Lift Supports To Hyundai Veracruz | Suspensia | ASIN: B0C75WP31W | Price: $48.92 | Rating: N/A | Reviews: N/A\n"
     ]
    },
    {
     "name": "stderr",
     "output_type": "stream",
     "text": [
      "Waiting 61 seconds for additional tokens\n",
      "100%|██████████| 1/1 [01:02<00:00, 62.77s/it]\n"
     ]
    },
    {
     "name": "stdout",
     "output_type": "stream",
     "text": [
      "[✓] Rear Liftgate Hatch Door Lift Supports to Volvo Xc60 Without Power Liftgate | ARANA | ASIN: B09DG24HCL | Price: N/A | Rating: N/A | Reviews: N/A\n"
     ]
    },
    {
     "name": "stderr",
     "output_type": "stream",
     "text": [
      "Waiting 30 seconds for additional tokens\n",
      "100%|██████████| 1/1 [00:30<00:00, 30.61s/it]\n"
     ]
    },
    {
     "name": "stdout",
     "output_type": "stream",
     "text": [
      "[✓] Rear Liftgate Hatch Door Lift Supports to Volvo Xc60 Without Power Liftgate | Suspensia | ASIN: B0C75WP31W | Price: $48.92 | Rating: N/A | Reviews: N/A\n"
     ]
    },
    {
     "name": "stderr",
     "output_type": "stream",
     "text": [
      "100%|██████████| 1/1 [00:00<00:00,  1.87it/s]\n"
     ]
    },
    {
     "name": "stdout",
     "output_type": "stream",
     "text": [
      "[✓] Rear Liftgate Lift Supports Toyota Sienna W Speakers | ARANA | ASIN: B09DG24HCL | Price: N/A | Rating: N/A | Reviews: N/A\n"
     ]
    },
    {
     "name": "stderr",
     "output_type": "stream",
     "text": [
      "Waiting 61 seconds for additional tokens\n",
      "100%|██████████| 1/1 [01:02<00:00, 62.95s/it]\n"
     ]
    },
    {
     "name": "stdout",
     "output_type": "stream",
     "text": [
      "[✓] Rear Liftgate Lift Supports Toyota Sienna W Speakers | Suspensia | ASIN: B0C75WP31W | Price: $48.92 | Rating: N/A | Reviews: N/A\n"
     ]
    },
    {
     "name": "stderr",
     "output_type": "stream",
     "text": [
      "Waiting 31 seconds for additional tokens\n",
      "100%|██████████| 1/1 [00:33<00:00, 33.34s/it]\n"
     ]
    },
    {
     "name": "stdout",
     "output_type": "stream",
     "text": [
      "[✓] Liftgate Lift Supports To Ford Explorer | ARANA | ASIN: B09DG24HCL | Price: N/A | Rating: N/A | Reviews: N/A\n"
     ]
    },
    {
     "name": "stderr",
     "output_type": "stream",
     "text": [
      "100%|██████████| 1/1 [00:01<00:00,  1.27s/it]\n"
     ]
    },
    {
     "name": "stdout",
     "output_type": "stream",
     "text": [
      "[✓] Liftgate Lift Supports To Ford Explorer | Suspensia | ASIN: B0C75WP31W | Price: $48.92 | Rating: N/A | Reviews: N/A\n"
     ]
    },
    {
     "name": "stderr",
     "output_type": "stream",
     "text": [
      "Waiting 60 seconds for additional tokens\n",
      "100%|██████████| 1/1 [01:02<00:00, 62.23s/it]\n"
     ]
    },
    {
     "name": "stdout",
     "output_type": "stream",
     "text": [
      "[✓] Rear Liftgate Door Hatch Lift Supports to Volvo Xc60 with Power Liftgate | ARANA | ASIN: B09DG24HCL | Price: N/A | Rating: N/A | Reviews: N/A\n"
     ]
    },
    {
     "name": "stderr",
     "output_type": "stream",
     "text": [
      "100%|██████████| 1/1 [00:01<00:00,  1.01s/it]\n"
     ]
    },
    {
     "name": "stdout",
     "output_type": "stream",
     "text": [
      "[✓] Rear Liftgate Door Hatch Lift Supports to Volvo Xc60 with Power Liftgate | Suspensia | ASIN: B0C75WP31W | Price: $48.92 | Rating: N/A | Reviews: N/A\n"
     ]
    },
    {
     "name": "stderr",
     "output_type": "stream",
     "text": [
      "Waiting 34 seconds for additional tokens\n",
      "100%|██████████| 1/1 [00:00<00:00,  1.81it/s]\n"
     ]
    },
    {
     "name": "stdout",
     "output_type": "stream",
     "text": [
      "[✓] Liftgate Lift Supports Fits Mercedes Benz M Class W164 Manual Liftgate Model Years Below | ARANA | ASIN: B09DG24HCL | Price: N/A | Rating: N/A | Reviews: N/A\n"
     ]
    },
    {
     "name": "stderr",
     "output_type": "stream",
     "text": [
      "Waiting 58 seconds for additional tokens\n",
      "100%|██████████| 1/1 [00:59<00:00, 59.48s/it]\n"
     ]
    },
    {
     "name": "stdout",
     "output_type": "stream",
     "text": [
      "[✓] Liftgate Lift Supports Fits Mercedes Benz M Class W164 Manual Liftgate Model Years Below | Suspensia | ASIN: B0C75WP31W | Price: $48.92 | Rating: N/A | Reviews: N/A\n"
     ]
    },
    {
     "name": "stderr",
     "output_type": "stream",
     "text": [
      "100%|██████████| 1/1 [00:02<00:00,  2.35s/it]\n"
     ]
    },
    {
     "name": "stdout",
     "output_type": "stream",
     "text": [
      "[✓] Rear Liftgate Lift Supports To Lincoln Mkx | ARANA | ASIN: B09DG24HCL | Price: N/A | Rating: N/A | Reviews: N/A\n"
     ]
    },
    {
     "name": "stderr",
     "output_type": "stream",
     "text": [
      "Waiting 59 seconds for additional tokens\n",
      "100%|██████████| 1/1 [01:01<00:00, 61.23s/it]\n"
     ]
    },
    {
     "name": "stdout",
     "output_type": "stream",
     "text": [
      "[✓] Rear Liftgate Lift Supports To Lincoln Mkx | Suspensia | ASIN: B0C75WP31W | Price: $48.92 | Rating: N/A | Reviews: N/A\n"
     ]
    },
    {
     "name": "stderr",
     "output_type": "stream",
     "text": [
      "Waiting 32 seconds for additional tokens\n",
      "100%|██████████| 1/1 [00:33<00:00, 33.34s/it]\n"
     ]
    },
    {
     "name": "stdout",
     "output_type": "stream",
     "text": [
      "[✓] Liftgate Lift Supports To Jeep Cherokee Xj | ARANA | ASIN: B09DG24HCL | Price: N/A | Rating: N/A | Reviews: N/A\n"
     ]
    },
    {
     "name": "stderr",
     "output_type": "stream",
     "text": [
      "100%|██████████| 1/1 [00:00<00:00,  1.30it/s]\n"
     ]
    },
    {
     "name": "stdout",
     "output_type": "stream",
     "text": [
      "[✓] Liftgate Lift Supports To Jeep Cherokee Xj | Suspensia | ASIN: B0C75WP31W | Price: $48.92 | Rating: N/A | Reviews: N/A\n"
     ]
    },
    {
     "name": "stderr",
     "output_type": "stream",
     "text": [
      "Waiting 61 seconds for additional tokens\n",
      "100%|██████████| 1/1 [01:02<00:00, 62.34s/it]\n"
     ]
    },
    {
     "name": "stdout",
     "output_type": "stream",
     "text": [
      "[✓] Front Hood Lift Supports to Kia Sorento | ARANA | ASIN: B09DG24HCL | Price: N/A | Rating: N/A | Reviews: N/A\n"
     ]
    },
    {
     "name": "stderr",
     "output_type": "stream",
     "text": [
      "100%|██████████| 1/1 [00:00<00:00,  1.45it/s]\n"
     ]
    },
    {
     "name": "stdout",
     "output_type": "stream",
     "text": [
      "[✓] Front Hood Lift Supports to Kia Sorento | Suspensia | ASIN: B0C75WP31W | Price: $48.92 | Rating: N/A | Reviews: N/A\n"
     ]
    },
    {
     "name": "stderr",
     "output_type": "stream",
     "text": [
      "Waiting 33 seconds for additional tokens\n",
      "100%|██████████| 1/1 [00:00<00:00,  1.83it/s]\n"
     ]
    },
    {
     "name": "stdout",
     "output_type": "stream",
     "text": [
      "[✓] Rear Hatch Lift Supports to Saab Wagon to Saab to Saab All with Spoiler with Wiper | ARANA | ASIN: B09DG24HCL | Price: N/A | Rating: N/A | Reviews: N/A\n"
     ]
    },
    {
     "name": "stderr",
     "output_type": "stream",
     "text": [
      "Waiting 59 seconds for additional tokens\n",
      "100%|██████████| 1/1 [00:59<00:00, 59.92s/it]\n"
     ]
    },
    {
     "name": "stdout",
     "output_type": "stream",
     "text": [
      "[✓] Rear Hatch Lift Supports to Saab Wagon to Saab to Saab All with Spoiler with Wiper | Suspensia | ASIN: B0C75WP31W | Price: $48.92 | Rating: N/A | Reviews: N/A\n"
     ]
    },
    {
     "name": "stderr",
     "output_type": "stream",
     "text": [
      "100%|██████████| 1/1 [00:01<00:00,  1.15s/it]\n"
     ]
    },
    {
     "name": "stdout",
     "output_type": "stream",
     "text": [
      "[✓] Rear Liftgate Lift Supports Fits To Kia Sportage | ARANA | ASIN: B09DG24HCL | Price: N/A | Rating: N/A | Reviews: N/A\n"
     ]
    },
    {
     "name": "stderr",
     "output_type": "stream",
     "text": [
      "Waiting 63 seconds for additional tokens\n",
      "100%|██████████| 1/1 [01:04<00:00, 64.80s/it]\n"
     ]
    },
    {
     "name": "stdout",
     "output_type": "stream",
     "text": [
      "[✓] Rear Liftgate Lift Supports Fits To Kia Sportage | Suspensia | ASIN: B0C75WP31W | Price: $48.92 | Rating: N/A | Reviews: N/A\n"
     ]
    },
    {
     "name": "stderr",
     "output_type": "stream",
     "text": [
      "Waiting 30 seconds for additional tokens\n",
      "100%|██████████| 1/1 [00:30<00:00, 30.87s/it]\n"
     ]
    },
    {
     "name": "stdout",
     "output_type": "stream",
     "text": [
      "[✓] Front Hood Lift Supports to Acura Mdx | ARANA | ASIN: B09DG24HCL | Price: N/A | Rating: N/A | Reviews: N/A\n"
     ]
    },
    {
     "name": "stderr",
     "output_type": "stream",
     "text": [
      "100%|██████████| 1/1 [00:00<00:00,  1.42it/s]\n"
     ]
    },
    {
     "name": "stdout",
     "output_type": "stream",
     "text": [
      "[✓] Front Hood Lift Supports to Acura Mdx | Suspensia | ASIN: B0C75WP31W | Price: $48.92 | Rating: N/A | Reviews: N/A\n"
     ]
    },
    {
     "name": "stderr",
     "output_type": "stream",
     "text": [
      "Waiting 61 seconds for additional tokens\n",
      "100%|██████████| 1/1 [01:02<00:00, 62.02s/it]\n"
     ]
    },
    {
     "name": "stdout",
     "output_type": "stream",
     "text": [
      "[✓] Front Hood Lift Supports Lexus Ls600H Sedan Lexus Ls460 Sedan | ARANA | ASIN: B09DG24HCL | Price: N/A | Rating: N/A | Reviews: N/A\n"
     ]
    },
    {
     "name": "stderr",
     "output_type": "stream",
     "text": [
      "Waiting 30 seconds for additional tokens\n",
      "100%|██████████| 1/1 [00:32<00:00, 32.44s/it]\n"
     ]
    },
    {
     "name": "stdout",
     "output_type": "stream",
     "text": [
      "[✓] Front Hood Lift Supports Lexus Ls600H Sedan Lexus Ls460 Sedan | Suspensia | ASIN: B0C75WP31W | Price: $48.92 | Rating: N/A | Reviews: N/A\n"
     ]
    },
    {
     "name": "stderr",
     "output_type": "stream",
     "text": [
      "100%|██████████| 1/1 [00:00<00:00,  1.56it/s]\n"
     ]
    },
    {
     "name": "stdout",
     "output_type": "stream",
     "text": [
      "[✓] Rear Trunk Lid Lift Supports Compatible with: to Honda Hr V | ARANA | ASIN: B09DG24HCL | Price: N/A | Rating: N/A | Reviews: N/A\n"
     ]
    },
    {
     "name": "stderr",
     "output_type": "stream",
     "text": [
      "Waiting 62 seconds for additional tokens\n",
      "100%|██████████| 1/1 [01:03<00:00, 63.05s/it]\n"
     ]
    },
    {
     "name": "stdout",
     "output_type": "stream",
     "text": [
      "[✓] Rear Trunk Lid Lift Supports Compatible with: to Honda Hr V | Suspensia | ASIN: B0C75WP31W | Price: $48.92 | Rating: N/A | Reviews: N/A\n"
     ]
    },
    {
     "name": "stderr",
     "output_type": "stream",
     "text": [
      "100%|██████████| 1/1 [00:00<00:00,  1.13it/s]\n"
     ]
    },
    {
     "name": "stdout",
     "output_type": "stream",
     "text": [
      "[✓] Original Lift Strut Extended Length .Inch Force lbs Direct Replacement for SG329036 Replaces Universal Gas Prop Spring Strut for RV Bed Tonneau Cover Storage Box | ARANA | ASIN: B09DG24HCL | Price: N/A | Rating: N/A | Reviews: N/A\n"
     ]
    },
    {
     "name": "stderr",
     "output_type": "stream",
     "text": [
      "Waiting 31 seconds for additional tokens\n",
      "100%|██████████| 1/1 [00:00<00:00,  1.23it/s]\n"
     ]
    },
    {
     "name": "stdout",
     "output_type": "stream",
     "text": [
      "[✓] Original Lift Strut Extended Length .Inch Force lbs Direct Replacement for SG329036 Replaces Universal Gas Prop Spring Strut for RV Bed Tonneau Cover Storage Box | Suspensia | ASIN: B0C75WP31W | Price: $48.92 | Rating: N/A | Reviews: N/A\n"
     ]
    },
    {
     "name": "stderr",
     "output_type": "stream",
     "text": [
      "Waiting 58 seconds for additional tokens\n",
      "100%|██████████| 1/1 [00:59<00:00, 59.55s/it]\n"
     ]
    },
    {
     "name": "stdout",
     "output_type": "stream",
     "text": [
      "[✓] Liftgate Lift Supports to Ford Explorer XLT Sport | ARANA | ASIN: B09DG24HCL | Price: N/A | Rating: N/A | Reviews: N/A\n"
     ]
    },
    {
     "name": "stderr",
     "output_type": "stream",
     "text": [
      "100%|██████████| 1/1 [00:01<00:00,  1.19s/it]\n"
     ]
    },
    {
     "name": "stdout",
     "output_type": "stream",
     "text": [
      "[✓] Liftgate Lift Supports to Ford Explorer XLT Sport | Suspensia | ASIN: B0C75WP31W | Price: $48.92 | Rating: N/A | Reviews: N/A\n"
     ]
    },
    {
     "name": "stderr",
     "output_type": "stream",
     "text": [
      "Waiting 63 seconds for additional tokens\n",
      "100%|██████████| 1/1 [01:03<00:00, 63.68s/it]\n"
     ]
    },
    {
     "name": "stdout",
     "output_type": "stream",
     "text": [
      "[✓] Liftgate Lift Supports To Toyota Corolla Station Wagon Includes Brackets | ARANA | ASIN: B09DG24HCL | Price: N/A | Rating: N/A | Reviews: N/A\n"
     ]
    },
    {
     "name": "stderr",
     "output_type": "stream",
     "text": [
      "Waiting 31 seconds for additional tokens\n",
      "100%|██████████| 1/1 [00:32<00:00, 32.49s/it]\n"
     ]
    },
    {
     "name": "stdout",
     "output_type": "stream",
     "text": [
      "[✓] Liftgate Lift Supports To Toyota Corolla Station Wagon Includes Brackets | Suspensia | ASIN: B0C75WP31W | Price: $48.92 | Rating: N/A | Reviews: N/A\n"
     ]
    },
    {
     "name": "stderr",
     "output_type": "stream",
     "text": [
      "100%|██████████| 1/1 [00:00<00:00,  1.88it/s]\n"
     ]
    },
    {
     "name": "stdout",
     "output_type": "stream",
     "text": [
      "[✓] Liftgate Lift Supports Compatible With Toyota RAV4 Toyota RAV4 Prime w/Manual | ARANA | ASIN: B09DG24HCL | Price: N/A | Rating: N/A | Reviews: N/A\n"
     ]
    },
    {
     "name": "stderr",
     "output_type": "stream",
     "text": [
      "Waiting 58 seconds for additional tokens\n",
      "100%|██████████| 1/1 [01:03<00:00, 63.72s/it]\n"
     ]
    },
    {
     "name": "stdout",
     "output_type": "stream",
     "text": [
      "[✓] Liftgate Lift Supports Compatible With Toyota RAV4 Toyota RAV4 Prime w/Manual | Suspensia | ASIN: B0C75WP31W | Price: $48.92 | Rating: N/A | Reviews: N/A\n"
     ]
    },
    {
     "name": "stderr",
     "output_type": "stream",
     "text": [
      "Waiting 29 seconds for additional tokens\n",
      "100%|██████████| 1/1 [00:30<00:00, 30.10s/it]\n"
     ]
    },
    {
     "name": "stdout",
     "output_type": "stream",
     "text": [
      "[✓] Hatch Lift Supports Compatible With: To Honda Accord Door Hatchback Only | ARANA | ASIN: B09DG24HCL | Price: N/A | Rating: N/A | Reviews: N/A\n"
     ]
    },
    {
     "name": "stderr",
     "output_type": "stream",
     "text": [
      "100%|██████████| 1/1 [00:00<00:00,  1.14it/s]\n"
     ]
    },
    {
     "name": "stdout",
     "output_type": "stream",
     "text": [
      "[✓] Hatch Lift Supports Compatible With: To Honda Accord Door Hatchback Only | Suspensia | ASIN: B0C75WP31W | Price: $48.92 | Rating: N/A | Reviews: N/A\n"
     ]
    },
    {
     "name": "stderr",
     "output_type": "stream",
     "text": [
      "Waiting 61 seconds for additional tokens\n",
      "100%|██████████| 1/1 [01:02<00:00, 62.12s/it]\n"
     ]
    },
    {
     "name": "stdout",
     "output_type": "stream",
     "text": [
      "[✓] Liftgate Lift Supports To Acura Mdx | ARANA | ASIN: B09DG24HCL | Price: N/A | Rating: N/A | Reviews: N/A\n"
     ]
    },
    {
     "name": "stderr",
     "output_type": "stream",
     "text": [
      "100%|██████████| 1/1 [00:00<00:00,  1.19it/s]\n"
     ]
    },
    {
     "name": "stdout",
     "output_type": "stream",
     "text": [
      "[✓] Liftgate Lift Supports To Acura Mdx | Suspensia | ASIN: B0C75WP31W | Price: $48.92 | Rating: N/A | Reviews: N/A\n"
     ]
    },
    {
     "name": "stderr",
     "output_type": "stream",
     "text": [
      "Waiting 32 seconds for additional tokens\n",
      "100%|██████████| 1/1 [00:02<00:00,  2.29s/it]\n"
     ]
    },
    {
     "name": "stdout",
     "output_type": "stream",
     "text": [
      "[✓] Liftgate Lift Supports Hyundai Tucson W O Power | ARANA | ASIN: B09DG24HCL | Price: N/A | Rating: N/A | Reviews: N/A\n"
     ]
    },
    {
     "name": "stderr",
     "output_type": "stream",
     "text": [
      "Waiting 60 seconds for additional tokens\n",
      "100%|██████████| 1/1 [01:00<00:00, 60.69s/it]\n"
     ]
    },
    {
     "name": "stdout",
     "output_type": "stream",
     "text": [
      "[✓] Liftgate Lift Supports Hyundai Tucson W O Power | Suspensia | ASIN: B0C75WP31W | Price: $48.92 | Rating: N/A | Reviews: N/A\n"
     ]
    },
    {
     "name": "stderr",
     "output_type": "stream",
     "text": [
      "100%|██████████| 1/1 [00:00<00:00,  1.68it/s]\n"
     ]
    },
    {
     "name": "stdout",
     "output_type": "stream",
     "text": [
      "[✓] Hood Lift Supports Compatible With Lexus Ls460 Ls600H | ARANA | ASIN: B09DG24HCL | Price: N/A | Rating: N/A | Reviews: N/A\n"
     ]
    },
    {
     "name": "stderr",
     "output_type": "stream",
     "text": [
      "Waiting 60 seconds for additional tokens\n"
     ]
    },
    {
     "ename": "ConnectionError",
     "evalue": "HTTPSConnectionPool(host='api.keepa.com', port=443): Max retries exceeded with url: /token/?key=a1g603bd0m13rt71rksm50t36ane60qc8kvioi1ivo3b4sf1qkbj0net036tt6ql (Caused by NameResolutionError(\"<urllib3.connection.HTTPSConnection object at 0x000001D336EC9730>: Failed to resolve 'api.keepa.com' ([Errno 11001] getaddrinfo failed)\"))",
     "output_type": "error",
     "traceback": [
      "\u001b[1;31m---------------------------------------------------------------------------\u001b[0m",
      "\u001b[1;31mgaierror\u001b[0m                                  Traceback (most recent call last)",
      "File \u001b[1;32mc:\\Users\\amrar\\AppData\\Local\\Programs\\Python\\Python38\\lib\\site-packages\\urllib3\\connection.py:199\u001b[0m, in \u001b[0;36mHTTPConnection._new_conn\u001b[1;34m(self)\u001b[0m\n\u001b[0;32m    198\u001b[0m \u001b[38;5;28;01mtry\u001b[39;00m:\n\u001b[1;32m--> 199\u001b[0m     sock \u001b[38;5;241m=\u001b[39m \u001b[43mconnection\u001b[49m\u001b[38;5;241;43m.\u001b[39;49m\u001b[43mcreate_connection\u001b[49m\u001b[43m(\u001b[49m\n\u001b[0;32m    200\u001b[0m \u001b[43m        \u001b[49m\u001b[43m(\u001b[49m\u001b[38;5;28;43mself\u001b[39;49m\u001b[38;5;241;43m.\u001b[39;49m\u001b[43m_dns_host\u001b[49m\u001b[43m,\u001b[49m\u001b[43m \u001b[49m\u001b[38;5;28;43mself\u001b[39;49m\u001b[38;5;241;43m.\u001b[39;49m\u001b[43mport\u001b[49m\u001b[43m)\u001b[49m\u001b[43m,\u001b[49m\n\u001b[0;32m    201\u001b[0m \u001b[43m        \u001b[49m\u001b[38;5;28;43mself\u001b[39;49m\u001b[38;5;241;43m.\u001b[39;49m\u001b[43mtimeout\u001b[49m\u001b[43m,\u001b[49m\n\u001b[0;32m    202\u001b[0m \u001b[43m        \u001b[49m\u001b[43msource_address\u001b[49m\u001b[38;5;241;43m=\u001b[39;49m\u001b[38;5;28;43mself\u001b[39;49m\u001b[38;5;241;43m.\u001b[39;49m\u001b[43msource_address\u001b[49m\u001b[43m,\u001b[49m\n\u001b[0;32m    203\u001b[0m \u001b[43m        \u001b[49m\u001b[43msocket_options\u001b[49m\u001b[38;5;241;43m=\u001b[39;49m\u001b[38;5;28;43mself\u001b[39;49m\u001b[38;5;241;43m.\u001b[39;49m\u001b[43msocket_options\u001b[49m\u001b[43m,\u001b[49m\n\u001b[0;32m    204\u001b[0m \u001b[43m    \u001b[49m\u001b[43m)\u001b[49m\n\u001b[0;32m    205\u001b[0m \u001b[38;5;28;01mexcept\u001b[39;00m socket\u001b[38;5;241m.\u001b[39mgaierror \u001b[38;5;28;01mas\u001b[39;00m e:\n",
      "File \u001b[1;32mc:\\Users\\amrar\\AppData\\Local\\Programs\\Python\\Python38\\lib\\site-packages\\urllib3\\util\\connection.py:60\u001b[0m, in \u001b[0;36mcreate_connection\u001b[1;34m(address, timeout, source_address, socket_options)\u001b[0m\n\u001b[0;32m     58\u001b[0m     \u001b[38;5;28;01mraise\u001b[39;00m LocationParseError(\u001b[38;5;124mf\u001b[39m\u001b[38;5;124m\"\u001b[39m\u001b[38;5;124m'\u001b[39m\u001b[38;5;132;01m{\u001b[39;00mhost\u001b[38;5;132;01m}\u001b[39;00m\u001b[38;5;124m'\u001b[39m\u001b[38;5;124m, label empty or too long\u001b[39m\u001b[38;5;124m\"\u001b[39m) \u001b[38;5;28;01mfrom\u001b[39;00m\u001b[38;5;250m \u001b[39m\u001b[38;5;28;01mNone\u001b[39;00m\n\u001b[1;32m---> 60\u001b[0m \u001b[38;5;28;01mfor\u001b[39;00m res \u001b[38;5;129;01min\u001b[39;00m \u001b[43msocket\u001b[49m\u001b[38;5;241;43m.\u001b[39;49m\u001b[43mgetaddrinfo\u001b[49m\u001b[43m(\u001b[49m\u001b[43mhost\u001b[49m\u001b[43m,\u001b[49m\u001b[43m \u001b[49m\u001b[43mport\u001b[49m\u001b[43m,\u001b[49m\u001b[43m \u001b[49m\u001b[43mfamily\u001b[49m\u001b[43m,\u001b[49m\u001b[43m \u001b[49m\u001b[43msocket\u001b[49m\u001b[38;5;241;43m.\u001b[39;49m\u001b[43mSOCK_STREAM\u001b[49m\u001b[43m)\u001b[49m:\n\u001b[0;32m     61\u001b[0m     af, socktype, proto, canonname, sa \u001b[38;5;241m=\u001b[39m res\n",
      "File \u001b[1;32mc:\\Users\\amrar\\AppData\\Local\\Programs\\Python\\Python38\\lib\\socket.py:914\u001b[0m, in \u001b[0;36mgetaddrinfo\u001b[1;34m(host, port, family, type, proto, flags)\u001b[0m\n\u001b[0;32m    913\u001b[0m addrlist \u001b[38;5;241m=\u001b[39m []\n\u001b[1;32m--> 914\u001b[0m \u001b[38;5;28;01mfor\u001b[39;00m res \u001b[38;5;129;01min\u001b[39;00m \u001b[43m_socket\u001b[49m\u001b[38;5;241;43m.\u001b[39;49m\u001b[43mgetaddrinfo\u001b[49m\u001b[43m(\u001b[49m\u001b[43mhost\u001b[49m\u001b[43m,\u001b[49m\u001b[43m \u001b[49m\u001b[43mport\u001b[49m\u001b[43m,\u001b[49m\u001b[43m \u001b[49m\u001b[43mfamily\u001b[49m\u001b[43m,\u001b[49m\u001b[43m \u001b[49m\u001b[38;5;28;43mtype\u001b[39;49m\u001b[43m,\u001b[49m\u001b[43m \u001b[49m\u001b[43mproto\u001b[49m\u001b[43m,\u001b[49m\u001b[43m \u001b[49m\u001b[43mflags\u001b[49m\u001b[43m)\u001b[49m:\n\u001b[0;32m    915\u001b[0m     af, socktype, proto, canonname, sa \u001b[38;5;241m=\u001b[39m res\n",
      "\u001b[1;31mgaierror\u001b[0m: [Errno 11001] getaddrinfo failed",
      "\nThe above exception was the direct cause of the following exception:\n",
      "\u001b[1;31mNameResolutionError\u001b[0m                       Traceback (most recent call last)",
      "File \u001b[1;32mc:\\Users\\amrar\\AppData\\Local\\Programs\\Python\\Python38\\lib\\site-packages\\urllib3\\connectionpool.py:789\u001b[0m, in \u001b[0;36mHTTPConnectionPool.urlopen\u001b[1;34m(self, method, url, body, headers, retries, redirect, assert_same_host, timeout, pool_timeout, release_conn, chunked, body_pos, preload_content, decode_content, **response_kw)\u001b[0m\n\u001b[0;32m    788\u001b[0m \u001b[38;5;66;03m# Make the request on the HTTPConnection object\u001b[39;00m\n\u001b[1;32m--> 789\u001b[0m response \u001b[38;5;241m=\u001b[39m \u001b[38;5;28;43mself\u001b[39;49m\u001b[38;5;241;43m.\u001b[39;49m\u001b[43m_make_request\u001b[49m\u001b[43m(\u001b[49m\n\u001b[0;32m    790\u001b[0m \u001b[43m    \u001b[49m\u001b[43mconn\u001b[49m\u001b[43m,\u001b[49m\n\u001b[0;32m    791\u001b[0m \u001b[43m    \u001b[49m\u001b[43mmethod\u001b[49m\u001b[43m,\u001b[49m\n\u001b[0;32m    792\u001b[0m \u001b[43m    \u001b[49m\u001b[43murl\u001b[49m\u001b[43m,\u001b[49m\n\u001b[0;32m    793\u001b[0m \u001b[43m    \u001b[49m\u001b[43mtimeout\u001b[49m\u001b[38;5;241;43m=\u001b[39;49m\u001b[43mtimeout_obj\u001b[49m\u001b[43m,\u001b[49m\n\u001b[0;32m    794\u001b[0m \u001b[43m    \u001b[49m\u001b[43mbody\u001b[49m\u001b[38;5;241;43m=\u001b[39;49m\u001b[43mbody\u001b[49m\u001b[43m,\u001b[49m\n\u001b[0;32m    795\u001b[0m \u001b[43m    \u001b[49m\u001b[43mheaders\u001b[49m\u001b[38;5;241;43m=\u001b[39;49m\u001b[43mheaders\u001b[49m\u001b[43m,\u001b[49m\n\u001b[0;32m    796\u001b[0m \u001b[43m    \u001b[49m\u001b[43mchunked\u001b[49m\u001b[38;5;241;43m=\u001b[39;49m\u001b[43mchunked\u001b[49m\u001b[43m,\u001b[49m\n\u001b[0;32m    797\u001b[0m \u001b[43m    \u001b[49m\u001b[43mretries\u001b[49m\u001b[38;5;241;43m=\u001b[39;49m\u001b[43mretries\u001b[49m\u001b[43m,\u001b[49m\n\u001b[0;32m    798\u001b[0m \u001b[43m    \u001b[49m\u001b[43mresponse_conn\u001b[49m\u001b[38;5;241;43m=\u001b[39;49m\u001b[43mresponse_conn\u001b[49m\u001b[43m,\u001b[49m\n\u001b[0;32m    799\u001b[0m \u001b[43m    \u001b[49m\u001b[43mpreload_content\u001b[49m\u001b[38;5;241;43m=\u001b[39;49m\u001b[43mpreload_content\u001b[49m\u001b[43m,\u001b[49m\n\u001b[0;32m    800\u001b[0m \u001b[43m    \u001b[49m\u001b[43mdecode_content\u001b[49m\u001b[38;5;241;43m=\u001b[39;49m\u001b[43mdecode_content\u001b[49m\u001b[43m,\u001b[49m\n\u001b[0;32m    801\u001b[0m \u001b[43m    \u001b[49m\u001b[38;5;241;43m*\u001b[39;49m\u001b[38;5;241;43m*\u001b[39;49m\u001b[43mresponse_kw\u001b[49m\u001b[43m,\u001b[49m\n\u001b[0;32m    802\u001b[0m \u001b[43m\u001b[49m\u001b[43m)\u001b[49m\n\u001b[0;32m    804\u001b[0m \u001b[38;5;66;03m# Everything went great!\u001b[39;00m\n",
      "File \u001b[1;32mc:\\Users\\amrar\\AppData\\Local\\Programs\\Python\\Python38\\lib\\site-packages\\urllib3\\connectionpool.py:490\u001b[0m, in \u001b[0;36mHTTPConnectionPool._make_request\u001b[1;34m(self, conn, method, url, body, headers, retries, timeout, chunked, response_conn, preload_content, decode_content, enforce_content_length)\u001b[0m\n\u001b[0;32m    489\u001b[0m         new_e \u001b[38;5;241m=\u001b[39m _wrap_proxy_error(new_e, conn\u001b[38;5;241m.\u001b[39mproxy\u001b[38;5;241m.\u001b[39mscheme)\n\u001b[1;32m--> 490\u001b[0m     \u001b[38;5;28;01mraise\u001b[39;00m new_e\n\u001b[0;32m    492\u001b[0m \u001b[38;5;66;03m# conn.request() calls http.client.*.request, not the method in\u001b[39;00m\n\u001b[0;32m    493\u001b[0m \u001b[38;5;66;03m# urllib3.request. It also calls makefile (recv) on the socket.\u001b[39;00m\n",
      "File \u001b[1;32mc:\\Users\\amrar\\AppData\\Local\\Programs\\Python\\Python38\\lib\\site-packages\\urllib3\\connectionpool.py:466\u001b[0m, in \u001b[0;36mHTTPConnectionPool._make_request\u001b[1;34m(self, conn, method, url, body, headers, retries, timeout, chunked, response_conn, preload_content, decode_content, enforce_content_length)\u001b[0m\n\u001b[0;32m    465\u001b[0m \u001b[38;5;28;01mtry\u001b[39;00m:\n\u001b[1;32m--> 466\u001b[0m     \u001b[38;5;28;43mself\u001b[39;49m\u001b[38;5;241;43m.\u001b[39;49m\u001b[43m_validate_conn\u001b[49m\u001b[43m(\u001b[49m\u001b[43mconn\u001b[49m\u001b[43m)\u001b[49m\n\u001b[0;32m    467\u001b[0m \u001b[38;5;28;01mexcept\u001b[39;00m (SocketTimeout, BaseSSLError) \u001b[38;5;28;01mas\u001b[39;00m e:\n",
      "File \u001b[1;32mc:\\Users\\amrar\\AppData\\Local\\Programs\\Python\\Python38\\lib\\site-packages\\urllib3\\connectionpool.py:1095\u001b[0m, in \u001b[0;36mHTTPSConnectionPool._validate_conn\u001b[1;34m(self, conn)\u001b[0m\n\u001b[0;32m   1094\u001b[0m \u001b[38;5;28;01mif\u001b[39;00m conn\u001b[38;5;241m.\u001b[39mis_closed:\n\u001b[1;32m-> 1095\u001b[0m     \u001b[43mconn\u001b[49m\u001b[38;5;241;43m.\u001b[39;49m\u001b[43mconnect\u001b[49m\u001b[43m(\u001b[49m\u001b[43m)\u001b[49m\n\u001b[0;32m   1097\u001b[0m \u001b[38;5;66;03m# TODO revise this, see https://github.com/urllib3/urllib3/issues/2791\u001b[39;00m\n",
      "File \u001b[1;32mc:\\Users\\amrar\\AppData\\Local\\Programs\\Python\\Python38\\lib\\site-packages\\urllib3\\connection.py:693\u001b[0m, in \u001b[0;36mHTTPSConnection.connect\u001b[1;34m(self)\u001b[0m\n\u001b[0;32m    692\u001b[0m sock: socket\u001b[38;5;241m.\u001b[39msocket \u001b[38;5;241m|\u001b[39m ssl\u001b[38;5;241m.\u001b[39mSSLSocket\n\u001b[1;32m--> 693\u001b[0m \u001b[38;5;28mself\u001b[39m\u001b[38;5;241m.\u001b[39msock \u001b[38;5;241m=\u001b[39m sock \u001b[38;5;241m=\u001b[39m \u001b[38;5;28;43mself\u001b[39;49m\u001b[38;5;241;43m.\u001b[39;49m\u001b[43m_new_conn\u001b[49m\u001b[43m(\u001b[49m\u001b[43m)\u001b[49m\n\u001b[0;32m    694\u001b[0m server_hostname: \u001b[38;5;28mstr\u001b[39m \u001b[38;5;241m=\u001b[39m \u001b[38;5;28mself\u001b[39m\u001b[38;5;241m.\u001b[39mhost\n",
      "File \u001b[1;32mc:\\Users\\amrar\\AppData\\Local\\Programs\\Python\\Python38\\lib\\site-packages\\urllib3\\connection.py:206\u001b[0m, in \u001b[0;36mHTTPConnection._new_conn\u001b[1;34m(self)\u001b[0m\n\u001b[0;32m    205\u001b[0m \u001b[38;5;28;01mexcept\u001b[39;00m socket\u001b[38;5;241m.\u001b[39mgaierror \u001b[38;5;28;01mas\u001b[39;00m e:\n\u001b[1;32m--> 206\u001b[0m     \u001b[38;5;28;01mraise\u001b[39;00m NameResolutionError(\u001b[38;5;28mself\u001b[39m\u001b[38;5;241m.\u001b[39mhost, \u001b[38;5;28mself\u001b[39m, e) \u001b[38;5;28;01mfrom\u001b[39;00m\u001b[38;5;250m \u001b[39m\u001b[38;5;21;01me\u001b[39;00m\n\u001b[0;32m    207\u001b[0m \u001b[38;5;28;01mexcept\u001b[39;00m SocketTimeout \u001b[38;5;28;01mas\u001b[39;00m e:\n",
      "\u001b[1;31mNameResolutionError\u001b[0m: <urllib3.connection.HTTPSConnection object at 0x000001D336EC9730>: Failed to resolve 'api.keepa.com' ([Errno 11001] getaddrinfo failed)",
      "\nThe above exception was the direct cause of the following exception:\n",
      "\u001b[1;31mMaxRetryError\u001b[0m                             Traceback (most recent call last)",
      "File \u001b[1;32mc:\\Users\\amrar\\AppData\\Local\\Programs\\Python\\Python38\\lib\\site-packages\\requests\\adapters.py:667\u001b[0m, in \u001b[0;36mHTTPAdapter.send\u001b[1;34m(self, request, stream, timeout, verify, cert, proxies)\u001b[0m\n\u001b[0;32m    666\u001b[0m \u001b[38;5;28;01mtry\u001b[39;00m:\n\u001b[1;32m--> 667\u001b[0m     resp \u001b[38;5;241m=\u001b[39m \u001b[43mconn\u001b[49m\u001b[38;5;241;43m.\u001b[39;49m\u001b[43murlopen\u001b[49m\u001b[43m(\u001b[49m\n\u001b[0;32m    668\u001b[0m \u001b[43m        \u001b[49m\u001b[43mmethod\u001b[49m\u001b[38;5;241;43m=\u001b[39;49m\u001b[43mrequest\u001b[49m\u001b[38;5;241;43m.\u001b[39;49m\u001b[43mmethod\u001b[49m\u001b[43m,\u001b[49m\n\u001b[0;32m    669\u001b[0m \u001b[43m        \u001b[49m\u001b[43murl\u001b[49m\u001b[38;5;241;43m=\u001b[39;49m\u001b[43murl\u001b[49m\u001b[43m,\u001b[49m\n\u001b[0;32m    670\u001b[0m \u001b[43m        \u001b[49m\u001b[43mbody\u001b[49m\u001b[38;5;241;43m=\u001b[39;49m\u001b[43mrequest\u001b[49m\u001b[38;5;241;43m.\u001b[39;49m\u001b[43mbody\u001b[49m\u001b[43m,\u001b[49m\n\u001b[0;32m    671\u001b[0m \u001b[43m        \u001b[49m\u001b[43mheaders\u001b[49m\u001b[38;5;241;43m=\u001b[39;49m\u001b[43mrequest\u001b[49m\u001b[38;5;241;43m.\u001b[39;49m\u001b[43mheaders\u001b[49m\u001b[43m,\u001b[49m\n\u001b[0;32m    672\u001b[0m \u001b[43m        \u001b[49m\u001b[43mredirect\u001b[49m\u001b[38;5;241;43m=\u001b[39;49m\u001b[38;5;28;43;01mFalse\u001b[39;49;00m\u001b[43m,\u001b[49m\n\u001b[0;32m    673\u001b[0m \u001b[43m        \u001b[49m\u001b[43massert_same_host\u001b[49m\u001b[38;5;241;43m=\u001b[39;49m\u001b[38;5;28;43;01mFalse\u001b[39;49;00m\u001b[43m,\u001b[49m\n\u001b[0;32m    674\u001b[0m \u001b[43m        \u001b[49m\u001b[43mpreload_content\u001b[49m\u001b[38;5;241;43m=\u001b[39;49m\u001b[38;5;28;43;01mFalse\u001b[39;49;00m\u001b[43m,\u001b[49m\n\u001b[0;32m    675\u001b[0m \u001b[43m        \u001b[49m\u001b[43mdecode_content\u001b[49m\u001b[38;5;241;43m=\u001b[39;49m\u001b[38;5;28;43;01mFalse\u001b[39;49;00m\u001b[43m,\u001b[49m\n\u001b[0;32m    676\u001b[0m \u001b[43m        \u001b[49m\u001b[43mretries\u001b[49m\u001b[38;5;241;43m=\u001b[39;49m\u001b[38;5;28;43mself\u001b[39;49m\u001b[38;5;241;43m.\u001b[39;49m\u001b[43mmax_retries\u001b[49m\u001b[43m,\u001b[49m\n\u001b[0;32m    677\u001b[0m \u001b[43m        \u001b[49m\u001b[43mtimeout\u001b[49m\u001b[38;5;241;43m=\u001b[39;49m\u001b[43mtimeout\u001b[49m\u001b[43m,\u001b[49m\n\u001b[0;32m    678\u001b[0m \u001b[43m        \u001b[49m\u001b[43mchunked\u001b[49m\u001b[38;5;241;43m=\u001b[39;49m\u001b[43mchunked\u001b[49m\u001b[43m,\u001b[49m\n\u001b[0;32m    679\u001b[0m \u001b[43m    \u001b[49m\u001b[43m)\u001b[49m\n\u001b[0;32m    681\u001b[0m \u001b[38;5;28;01mexcept\u001b[39;00m (ProtocolError, \u001b[38;5;167;01mOSError\u001b[39;00m) \u001b[38;5;28;01mas\u001b[39;00m err:\n",
      "File \u001b[1;32mc:\\Users\\amrar\\AppData\\Local\\Programs\\Python\\Python38\\lib\\site-packages\\urllib3\\connectionpool.py:843\u001b[0m, in \u001b[0;36mHTTPConnectionPool.urlopen\u001b[1;34m(self, method, url, body, headers, retries, redirect, assert_same_host, timeout, pool_timeout, release_conn, chunked, body_pos, preload_content, decode_content, **response_kw)\u001b[0m\n\u001b[0;32m    841\u001b[0m     new_e \u001b[38;5;241m=\u001b[39m ProtocolError(\u001b[38;5;124m\"\u001b[39m\u001b[38;5;124mConnection aborted.\u001b[39m\u001b[38;5;124m\"\u001b[39m, new_e)\n\u001b[1;32m--> 843\u001b[0m retries \u001b[38;5;241m=\u001b[39m \u001b[43mretries\u001b[49m\u001b[38;5;241;43m.\u001b[39;49m\u001b[43mincrement\u001b[49m\u001b[43m(\u001b[49m\n\u001b[0;32m    844\u001b[0m \u001b[43m    \u001b[49m\u001b[43mmethod\u001b[49m\u001b[43m,\u001b[49m\u001b[43m \u001b[49m\u001b[43murl\u001b[49m\u001b[43m,\u001b[49m\u001b[43m \u001b[49m\u001b[43merror\u001b[49m\u001b[38;5;241;43m=\u001b[39;49m\u001b[43mnew_e\u001b[49m\u001b[43m,\u001b[49m\u001b[43m \u001b[49m\u001b[43m_pool\u001b[49m\u001b[38;5;241;43m=\u001b[39;49m\u001b[38;5;28;43mself\u001b[39;49m\u001b[43m,\u001b[49m\u001b[43m \u001b[49m\u001b[43m_stacktrace\u001b[49m\u001b[38;5;241;43m=\u001b[39;49m\u001b[43msys\u001b[49m\u001b[38;5;241;43m.\u001b[39;49m\u001b[43mexc_info\u001b[49m\u001b[43m(\u001b[49m\u001b[43m)\u001b[49m\u001b[43m[\u001b[49m\u001b[38;5;241;43m2\u001b[39;49m\u001b[43m]\u001b[49m\n\u001b[0;32m    845\u001b[0m \u001b[43m\u001b[49m\u001b[43m)\u001b[49m\n\u001b[0;32m    846\u001b[0m retries\u001b[38;5;241m.\u001b[39msleep()\n",
      "File \u001b[1;32mc:\\Users\\amrar\\AppData\\Local\\Programs\\Python\\Python38\\lib\\site-packages\\urllib3\\util\\retry.py:519\u001b[0m, in \u001b[0;36mRetry.increment\u001b[1;34m(self, method, url, response, error, _pool, _stacktrace)\u001b[0m\n\u001b[0;32m    518\u001b[0m     reason \u001b[38;5;241m=\u001b[39m error \u001b[38;5;129;01mor\u001b[39;00m ResponseError(cause)\n\u001b[1;32m--> 519\u001b[0m     \u001b[38;5;28;01mraise\u001b[39;00m MaxRetryError(_pool, url, reason) \u001b[38;5;28;01mfrom\u001b[39;00m\u001b[38;5;250m \u001b[39m\u001b[38;5;21;01mreason\u001b[39;00m  \u001b[38;5;66;03m# type: ignore[arg-type]\u001b[39;00m\n\u001b[0;32m    521\u001b[0m log\u001b[38;5;241m.\u001b[39mdebug(\u001b[38;5;124m\"\u001b[39m\u001b[38;5;124mIncremented Retry for (url=\u001b[39m\u001b[38;5;124m'\u001b[39m\u001b[38;5;132;01m%s\u001b[39;00m\u001b[38;5;124m'\u001b[39m\u001b[38;5;124m): \u001b[39m\u001b[38;5;132;01m%r\u001b[39;00m\u001b[38;5;124m\"\u001b[39m, url, new_retry)\n",
      "\u001b[1;31mMaxRetryError\u001b[0m: HTTPSConnectionPool(host='api.keepa.com', port=443): Max retries exceeded with url: /token/?key=a1g603bd0m13rt71rksm50t36ane60qc8kvioi1ivo3b4sf1qkbj0net036tt6ql (Caused by NameResolutionError(\"<urllib3.connection.HTTPSConnection object at 0x000001D336EC9730>: Failed to resolve 'api.keepa.com' ([Errno 11001] getaddrinfo failed)\"))",
      "\nDuring handling of the above exception, another exception occurred:\n",
      "\u001b[1;31mConnectionError\u001b[0m                           Traceback (most recent call last)",
      "Cell \u001b[1;32mIn[10], line 1\u001b[0m\n\u001b[1;32m----> 1\u001b[0m eightth \u001b[38;5;241m=\u001b[39m \u001b[43mfetch_products_from_queries\u001b[49m\u001b[43m(\u001b[49m\u001b[43mqueries\u001b[49m\u001b[38;5;241;43m.\u001b[39;49m\u001b[43miloc\u001b[49m\u001b[43m[\u001b[49m\u001b[38;5;241;43m212\u001b[39;49m\u001b[43m:\u001b[49m\u001b[43m]\u001b[49m\u001b[43m,\u001b[49m\u001b[43m \u001b[49m\u001b[43mallowed_brands\u001b[49m\u001b[43m,\u001b[49m\u001b[43mdfname\u001b[49m\u001b[38;5;241;43m=\u001b[39;49m\u001b[38;5;124;43m'\u001b[39;49m\u001b[38;5;124;43mProduct8.csv\u001b[39;49m\u001b[38;5;124;43m'\u001b[39;49m\u001b[43m)\u001b[49m\n",
      "Cell \u001b[1;32mIn[6], line 29\u001b[0m, in \u001b[0;36mfetch_products_from_queries\u001b[1;34m(query_series, allowed_brands, dfname, max_per_minute)\u001b[0m\n\u001b[0;32m     26\u001b[0m asin \u001b[38;5;241m=\u001b[39m asin_list[\u001b[38;5;241m0\u001b[39m]\n\u001b[0;32m     27\u001b[0m time\u001b[38;5;241m.\u001b[39msleep(\u001b[38;5;241m4\u001b[39m)  \u001b[38;5;66;03m# 🕒 Throttle per brand request\u001b[39;00m\n\u001b[1;32m---> 29\u001b[0m raw_products \u001b[38;5;241m=\u001b[39m \u001b[43mapi\u001b[49m\u001b[38;5;241;43m.\u001b[39;49m\u001b[43mquery\u001b[49m\u001b[43m(\u001b[49m\n\u001b[0;32m     30\u001b[0m \u001b[43m    \u001b[49m\u001b[43m[\u001b[49m\u001b[43masin\u001b[49m\u001b[43m]\u001b[49m\u001b[43m,\u001b[49m\n\u001b[0;32m     31\u001b[0m \u001b[43m    \u001b[49m\u001b[43mrating\u001b[49m\u001b[38;5;241;43m=\u001b[39;49m\u001b[38;5;28;43;01mTrue\u001b[39;49;00m\u001b[43m,\u001b[49m\n\u001b[0;32m     32\u001b[0m \u001b[43m    \u001b[49m\u001b[43mbuybox\u001b[49m\u001b[38;5;241;43m=\u001b[39;49m\u001b[38;5;28;43;01mFalse\u001b[39;49;00m\u001b[43m,\u001b[49m\n\u001b[0;32m     33\u001b[0m \u001b[43m    \u001b[49m\u001b[43mupdate\u001b[49m\u001b[38;5;241;43m=\u001b[39;49m\u001b[38;5;28;43;01mFalse\u001b[39;49;00m\u001b[43m,\u001b[49m\n\u001b[0;32m     34\u001b[0m \u001b[43m    \u001b[49m\u001b[43mhistory\u001b[49m\u001b[38;5;241;43m=\u001b[39;49m\u001b[38;5;28;43;01mTrue\u001b[39;49;00m\u001b[43m,\u001b[49m\n\u001b[0;32m     35\u001b[0m \u001b[43m\u001b[49m\u001b[43m)\u001b[49m\n\u001b[0;32m     37\u001b[0m product \u001b[38;5;241m=\u001b[39m raw_products[\u001b[38;5;241m0\u001b[39m] \u001b[38;5;28;01mif\u001b[39;00m raw_products \u001b[38;5;129;01mand\u001b[39;00m \u001b[38;5;28misinstance\u001b[39m(raw_products[\u001b[38;5;241m0\u001b[39m], \u001b[38;5;28mdict\u001b[39m) \u001b[38;5;28;01melse\u001b[39;00m \u001b[38;5;28;01mNone\u001b[39;00m\n\u001b[0;32m     38\u001b[0m \u001b[38;5;28;01mif\u001b[39;00m \u001b[38;5;129;01mnot\u001b[39;00m product:\n",
      "File \u001b[1;32mc:\\Users\\amrar\\AppData\\Local\\Programs\\Python\\Python38\\lib\\site-packages\\keepa\\interface.py:875\u001b[0m, in \u001b[0;36mKeepa.query\u001b[1;34m(self, items, stats, domain, history, offers, update, to_datetime, rating, out_of_stock_as_nan, stock, product_code_is_asin, progress_bar, buybox, wait, days, only_live_offers, raw)\u001b[0m\n\u001b[0;32m    873\u001b[0m \u001b[38;5;66;03m# request from keepa and increment current position\u001b[39;00m\n\u001b[0;32m    874\u001b[0m item_request \u001b[38;5;241m=\u001b[39m items[idx : idx \u001b[38;5;241m+\u001b[39m nrequest]  \u001b[38;5;66;03m# noqa: E203\u001b[39;00m\n\u001b[1;32m--> 875\u001b[0m response \u001b[38;5;241m=\u001b[39m \u001b[38;5;28;43mself\u001b[39;49m\u001b[38;5;241;43m.\u001b[39;49m\u001b[43m_product_query\u001b[49m\u001b[43m(\u001b[49m\n\u001b[0;32m    876\u001b[0m \u001b[43m    \u001b[49m\u001b[43mitem_request\u001b[49m\u001b[43m,\u001b[49m\n\u001b[0;32m    877\u001b[0m \u001b[43m    \u001b[49m\u001b[43mproduct_code_is_asin\u001b[49m\u001b[43m,\u001b[49m\n\u001b[0;32m    878\u001b[0m \u001b[43m    \u001b[49m\u001b[43mstats\u001b[49m\u001b[38;5;241;43m=\u001b[39;49m\u001b[43mstats\u001b[49m\u001b[43m,\u001b[49m\n\u001b[0;32m    879\u001b[0m \u001b[43m    \u001b[49m\u001b[43mdomain\u001b[49m\u001b[38;5;241;43m=\u001b[39;49m\u001b[43mdomain\u001b[49m\u001b[43m,\u001b[49m\n\u001b[0;32m    880\u001b[0m \u001b[43m    \u001b[49m\u001b[43mstock\u001b[49m\u001b[38;5;241;43m=\u001b[39;49m\u001b[43mstock\u001b[49m\u001b[43m,\u001b[49m\n\u001b[0;32m    881\u001b[0m \u001b[43m    \u001b[49m\u001b[43moffers\u001b[49m\u001b[38;5;241;43m=\u001b[39;49m\u001b[43moffers\u001b[49m\u001b[43m,\u001b[49m\n\u001b[0;32m    882\u001b[0m \u001b[43m    \u001b[49m\u001b[43mupdate\u001b[49m\u001b[38;5;241;43m=\u001b[39;49m\u001b[43mupdate\u001b[49m\u001b[43m,\u001b[49m\n\u001b[0;32m    883\u001b[0m \u001b[43m    \u001b[49m\u001b[43mhistory\u001b[49m\u001b[38;5;241;43m=\u001b[39;49m\u001b[43mhistory\u001b[49m\u001b[43m,\u001b[49m\n\u001b[0;32m    884\u001b[0m \u001b[43m    \u001b[49m\u001b[43mrating\u001b[49m\u001b[38;5;241;43m=\u001b[39;49m\u001b[43mrating\u001b[49m\u001b[43m,\u001b[49m\n\u001b[0;32m    885\u001b[0m \u001b[43m    \u001b[49m\u001b[43mto_datetime\u001b[49m\u001b[38;5;241;43m=\u001b[39;49m\u001b[43mto_datetime\u001b[49m\u001b[43m,\u001b[49m\n\u001b[0;32m    886\u001b[0m \u001b[43m    \u001b[49m\u001b[43mout_of_stock_as_nan\u001b[49m\u001b[38;5;241;43m=\u001b[39;49m\u001b[43mout_of_stock_as_nan\u001b[49m\u001b[43m,\u001b[49m\n\u001b[0;32m    887\u001b[0m \u001b[43m    \u001b[49m\u001b[43mbuybox\u001b[49m\u001b[38;5;241;43m=\u001b[39;49m\u001b[43mbuybox\u001b[49m\u001b[43m,\u001b[49m\n\u001b[0;32m    888\u001b[0m \u001b[43m    \u001b[49m\u001b[43mwait\u001b[49m\u001b[38;5;241;43m=\u001b[39;49m\u001b[43mwait\u001b[49m\u001b[43m,\u001b[49m\n\u001b[0;32m    889\u001b[0m \u001b[43m    \u001b[49m\u001b[43mdays\u001b[49m\u001b[38;5;241;43m=\u001b[39;49m\u001b[43mdays\u001b[49m\u001b[43m,\u001b[49m\n\u001b[0;32m    890\u001b[0m \u001b[43m    \u001b[49m\u001b[43monly_live_offers\u001b[49m\u001b[38;5;241;43m=\u001b[39;49m\u001b[43monly_live_offers\u001b[49m\u001b[43m,\u001b[49m\n\u001b[0;32m    891\u001b[0m \u001b[43m    \u001b[49m\u001b[43mraw\u001b[49m\u001b[38;5;241;43m=\u001b[39;49m\u001b[43mraw\u001b[49m\u001b[43m,\u001b[49m\n\u001b[0;32m    892\u001b[0m \u001b[43m\u001b[49m\u001b[43m)\u001b[49m\n\u001b[0;32m    893\u001b[0m idx \u001b[38;5;241m+\u001b[39m\u001b[38;5;241m=\u001b[39m nrequest\n\u001b[0;32m    894\u001b[0m \u001b[38;5;28;01mif\u001b[39;00m raw:\n",
      "File \u001b[1;32mc:\\Users\\amrar\\AppData\\Local\\Programs\\Python\\Python38\\lib\\site-packages\\keepa\\interface.py:1008\u001b[0m, in \u001b[0;36mKeepa._product_query\u001b[1;34m(self, items, product_code_is_asin, **kwargs)\u001b[0m\n\u001b[0;32m   1006\u001b[0m kwargs\u001b[38;5;241m.\u001b[39mpop(\u001b[38;5;124m\"\u001b[39m\u001b[38;5;124mwait\u001b[39m\u001b[38;5;124m\"\u001b[39m, \u001b[38;5;28;01mNone\u001b[39;00m)\n\u001b[0;32m   1007\u001b[0m raw_response \u001b[38;5;241m=\u001b[39m kwargs\u001b[38;5;241m.\u001b[39mpop(\u001b[38;5;124m\"\u001b[39m\u001b[38;5;124mraw\u001b[39m\u001b[38;5;124m\"\u001b[39m, \u001b[38;5;28;01mFalse\u001b[39;00m)\n\u001b[1;32m-> 1008\u001b[0m response \u001b[38;5;241m=\u001b[39m \u001b[38;5;28;43mself\u001b[39;49m\u001b[38;5;241;43m.\u001b[39;49m\u001b[43m_request\u001b[49m\u001b[43m(\u001b[49m\u001b[38;5;124;43m\"\u001b[39;49m\u001b[38;5;124;43mproduct\u001b[39;49m\u001b[38;5;124;43m\"\u001b[39;49m\u001b[43m,\u001b[49m\u001b[43m \u001b[49m\u001b[43mkwargs\u001b[49m\u001b[43m,\u001b[49m\u001b[43m \u001b[49m\u001b[43mwait\u001b[49m\u001b[38;5;241;43m=\u001b[39;49m\u001b[43mwait\u001b[49m\u001b[43m,\u001b[49m\u001b[43m \u001b[49m\u001b[43mraw_response\u001b[49m\u001b[38;5;241;43m=\u001b[39;49m\u001b[43mraw_response\u001b[49m\u001b[43m)\u001b[49m\n\u001b[0;32m   1010\u001b[0m \u001b[38;5;28;01mif\u001b[39;00m kwargs[\u001b[38;5;124m\"\u001b[39m\u001b[38;5;124mhistory\u001b[39m\u001b[38;5;124m\"\u001b[39m] \u001b[38;5;129;01mand\u001b[39;00m \u001b[38;5;129;01mnot\u001b[39;00m raw_response:\n\u001b[0;32m   1011\u001b[0m     \u001b[38;5;28;01mfor\u001b[39;00m product \u001b[38;5;129;01min\u001b[39;00m response[\u001b[38;5;124m\"\u001b[39m\u001b[38;5;124mproducts\u001b[39m\u001b[38;5;124m\"\u001b[39m]:\n",
      "File \u001b[1;32mc:\\Users\\amrar\\AppData\\Local\\Programs\\Python\\Python38\\lib\\site-packages\\keepa\\interface.py:1592\u001b[0m, in \u001b[0;36mKeepa._request\u001b[1;34m(self, request_type, payload, wait, raw_response)\u001b[0m\n\u001b[0;32m   1586\u001b[0m \u001b[38;5;250m\u001b[39m\u001b[38;5;124;03m\"\"\"Query keepa api server.\u001b[39;00m\n\u001b[0;32m   1587\u001b[0m \n\u001b[0;32m   1588\u001b[0m \u001b[38;5;124;03mParses raw response from keepa into a json format. Handles errors and\u001b[39;00m\n\u001b[0;32m   1589\u001b[0m \u001b[38;5;124;03mwaits for available tokens if allowed.\u001b[39;00m\n\u001b[0;32m   1590\u001b[0m \u001b[38;5;124;03m\"\"\"\u001b[39;00m\n\u001b[0;32m   1591\u001b[0m \u001b[38;5;28;01mif\u001b[39;00m wait:\n\u001b[1;32m-> 1592\u001b[0m     \u001b[38;5;28;43mself\u001b[39;49m\u001b[38;5;241;43m.\u001b[39;49m\u001b[43mwait_for_tokens\u001b[49m\u001b[43m(\u001b[49m\u001b[43m)\u001b[49m\n\u001b[0;32m   1594\u001b[0m \u001b[38;5;28;01mwhile\u001b[39;00m \u001b[38;5;28;01mTrue\u001b[39;00m:\n\u001b[0;32m   1595\u001b[0m     raw \u001b[38;5;241m=\u001b[39m requests\u001b[38;5;241m.\u001b[39mget(\n\u001b[0;32m   1596\u001b[0m         \u001b[38;5;124mf\u001b[39m\u001b[38;5;124m\"\u001b[39m\u001b[38;5;124mhttps://api.keepa.com/\u001b[39m\u001b[38;5;132;01m{\u001b[39;00mrequest_type\u001b[38;5;132;01m}\u001b[39;00m\u001b[38;5;124m/?\u001b[39m\u001b[38;5;124m\"\u001b[39m,\n\u001b[0;32m   1597\u001b[0m         payload,\n\u001b[0;32m   1598\u001b[0m         timeout\u001b[38;5;241m=\u001b[39m\u001b[38;5;28mself\u001b[39m\u001b[38;5;241m.\u001b[39m_timeout,\n\u001b[0;32m   1599\u001b[0m     )\n",
      "File \u001b[1;32mc:\\Users\\amrar\\AppData\\Local\\Programs\\Python\\Python38\\lib\\site-packages\\keepa\\interface.py:496\u001b[0m, in \u001b[0;36mKeepa.wait_for_tokens\u001b[1;34m(self)\u001b[0m\n\u001b[0;32m    494\u001b[0m log\u001b[38;5;241m.\u001b[39mwarning(\u001b[38;5;124m\"\u001b[39m\u001b[38;5;124mWaiting \u001b[39m\u001b[38;5;132;01m%.0f\u001b[39;00m\u001b[38;5;124m seconds for additional tokens\u001b[39m\u001b[38;5;124m\"\u001b[39m \u001b[38;5;241m%\u001b[39m tdelay)\n\u001b[0;32m    495\u001b[0m time\u001b[38;5;241m.\u001b[39msleep(tdelay)\n\u001b[1;32m--> 496\u001b[0m \u001b[38;5;28;43mself\u001b[39;49m\u001b[38;5;241;43m.\u001b[39;49m\u001b[43mupdate_status\u001b[49m\u001b[43m(\u001b[49m\u001b[43m)\u001b[49m\n",
      "File \u001b[1;32mc:\\Users\\amrar\\AppData\\Local\\Programs\\Python\\Python38\\lib\\site-packages\\keepa\\interface.py:483\u001b[0m, in \u001b[0;36mKeepa.update_status\u001b[1;34m(self)\u001b[0m\n\u001b[0;32m    481\u001b[0m \u001b[38;5;28;01mdef\u001b[39;00m\u001b[38;5;250m \u001b[39m\u001b[38;5;21mupdate_status\u001b[39m(\u001b[38;5;28mself\u001b[39m) \u001b[38;5;241m-\u001b[39m\u001b[38;5;241m>\u001b[39m Dict[\u001b[38;5;28mstr\u001b[39m, Any]:\n\u001b[0;32m    482\u001b[0m \u001b[38;5;250m    \u001b[39m\u001b[38;5;124;03m\"\"\"Update available tokens.\"\"\"\u001b[39;00m\n\u001b[1;32m--> 483\u001b[0m     status \u001b[38;5;241m=\u001b[39m \u001b[38;5;28;43mself\u001b[39;49m\u001b[38;5;241;43m.\u001b[39;49m\u001b[43m_request\u001b[49m\u001b[43m(\u001b[49m\u001b[38;5;124;43m\"\u001b[39;49m\u001b[38;5;124;43mtoken\u001b[39;49m\u001b[38;5;124;43m\"\u001b[39;49m\u001b[43m,\u001b[49m\u001b[43m \u001b[49m\u001b[43m{\u001b[49m\u001b[38;5;124;43m\"\u001b[39;49m\u001b[38;5;124;43mkey\u001b[39;49m\u001b[38;5;124;43m\"\u001b[39;49m\u001b[43m:\u001b[49m\u001b[43m \u001b[49m\u001b[38;5;28;43mself\u001b[39;49m\u001b[38;5;241;43m.\u001b[39;49m\u001b[43maccesskey\u001b[49m\u001b[43m}\u001b[49m\u001b[43m,\u001b[49m\u001b[43m \u001b[49m\u001b[43mwait\u001b[49m\u001b[38;5;241;43m=\u001b[39;49m\u001b[38;5;28;43;01mFalse\u001b[39;49;00m\u001b[43m)\u001b[49m\n\u001b[0;32m    484\u001b[0m     \u001b[38;5;28mself\u001b[39m\u001b[38;5;241m.\u001b[39mstatus \u001b[38;5;241m=\u001b[39m status\n\u001b[0;32m    485\u001b[0m     \u001b[38;5;28;01mreturn\u001b[39;00m status\n",
      "File \u001b[1;32mc:\\Users\\amrar\\AppData\\Local\\Programs\\Python\\Python38\\lib\\site-packages\\keepa\\interface.py:1595\u001b[0m, in \u001b[0;36mKeepa._request\u001b[1;34m(self, request_type, payload, wait, raw_response)\u001b[0m\n\u001b[0;32m   1592\u001b[0m     \u001b[38;5;28mself\u001b[39m\u001b[38;5;241m.\u001b[39mwait_for_tokens()\n\u001b[0;32m   1594\u001b[0m \u001b[38;5;28;01mwhile\u001b[39;00m \u001b[38;5;28;01mTrue\u001b[39;00m:\n\u001b[1;32m-> 1595\u001b[0m     raw \u001b[38;5;241m=\u001b[39m \u001b[43mrequests\u001b[49m\u001b[38;5;241;43m.\u001b[39;49m\u001b[43mget\u001b[49m\u001b[43m(\u001b[49m\n\u001b[0;32m   1596\u001b[0m \u001b[43m        \u001b[49m\u001b[38;5;124;43mf\u001b[39;49m\u001b[38;5;124;43m\"\u001b[39;49m\u001b[38;5;124;43mhttps://api.keepa.com/\u001b[39;49m\u001b[38;5;132;43;01m{\u001b[39;49;00m\u001b[43mrequest_type\u001b[49m\u001b[38;5;132;43;01m}\u001b[39;49;00m\u001b[38;5;124;43m/?\u001b[39;49m\u001b[38;5;124;43m\"\u001b[39;49m\u001b[43m,\u001b[49m\n\u001b[0;32m   1597\u001b[0m \u001b[43m        \u001b[49m\u001b[43mpayload\u001b[49m\u001b[43m,\u001b[49m\n\u001b[0;32m   1598\u001b[0m \u001b[43m        \u001b[49m\u001b[43mtimeout\u001b[49m\u001b[38;5;241;43m=\u001b[39;49m\u001b[38;5;28;43mself\u001b[39;49m\u001b[38;5;241;43m.\u001b[39;49m\u001b[43m_timeout\u001b[49m\u001b[43m,\u001b[49m\n\u001b[0;32m   1599\u001b[0m \u001b[43m    \u001b[49m\u001b[43m)\u001b[49m\n\u001b[0;32m   1600\u001b[0m     status_code \u001b[38;5;241m=\u001b[39m \u001b[38;5;28mstr\u001b[39m(raw\u001b[38;5;241m.\u001b[39mstatus_code)\n\u001b[0;32m   1601\u001b[0m     \u001b[38;5;28;01mif\u001b[39;00m status_code \u001b[38;5;241m!=\u001b[39m \u001b[38;5;124m\"\u001b[39m\u001b[38;5;124m200\u001b[39m\u001b[38;5;124m\"\u001b[39m:\n",
      "File \u001b[1;32mc:\\Users\\amrar\\AppData\\Local\\Programs\\Python\\Python38\\lib\\site-packages\\requests\\api.py:73\u001b[0m, in \u001b[0;36mget\u001b[1;34m(url, params, **kwargs)\u001b[0m\n\u001b[0;32m     62\u001b[0m \u001b[38;5;28;01mdef\u001b[39;00m\u001b[38;5;250m \u001b[39m\u001b[38;5;21mget\u001b[39m(url, params\u001b[38;5;241m=\u001b[39m\u001b[38;5;28;01mNone\u001b[39;00m, \u001b[38;5;241m*\u001b[39m\u001b[38;5;241m*\u001b[39mkwargs):\n\u001b[0;32m     63\u001b[0m \u001b[38;5;250m    \u001b[39m\u001b[38;5;124mr\u001b[39m\u001b[38;5;124;03m\"\"\"Sends a GET request.\u001b[39;00m\n\u001b[0;32m     64\u001b[0m \n\u001b[0;32m     65\u001b[0m \u001b[38;5;124;03m    :param url: URL for the new :class:`Request` object.\u001b[39;00m\n\u001b[1;32m   (...)\u001b[0m\n\u001b[0;32m     70\u001b[0m \u001b[38;5;124;03m    :rtype: requests.Response\u001b[39;00m\n\u001b[0;32m     71\u001b[0m \u001b[38;5;124;03m    \"\"\"\u001b[39;00m\n\u001b[1;32m---> 73\u001b[0m     \u001b[38;5;28;01mreturn\u001b[39;00m \u001b[43mrequest\u001b[49m\u001b[43m(\u001b[49m\u001b[38;5;124;43m\"\u001b[39;49m\u001b[38;5;124;43mget\u001b[39;49m\u001b[38;5;124;43m\"\u001b[39;49m\u001b[43m,\u001b[49m\u001b[43m \u001b[49m\u001b[43murl\u001b[49m\u001b[43m,\u001b[49m\u001b[43m \u001b[49m\u001b[43mparams\u001b[49m\u001b[38;5;241;43m=\u001b[39;49m\u001b[43mparams\u001b[49m\u001b[43m,\u001b[49m\u001b[43m \u001b[49m\u001b[38;5;241;43m*\u001b[39;49m\u001b[38;5;241;43m*\u001b[39;49m\u001b[43mkwargs\u001b[49m\u001b[43m)\u001b[49m\n",
      "File \u001b[1;32mc:\\Users\\amrar\\AppData\\Local\\Programs\\Python\\Python38\\lib\\site-packages\\requests\\api.py:59\u001b[0m, in \u001b[0;36mrequest\u001b[1;34m(method, url, **kwargs)\u001b[0m\n\u001b[0;32m     55\u001b[0m \u001b[38;5;66;03m# By using the 'with' statement we are sure the session is closed, thus we\u001b[39;00m\n\u001b[0;32m     56\u001b[0m \u001b[38;5;66;03m# avoid leaving sockets open which can trigger a ResourceWarning in some\u001b[39;00m\n\u001b[0;32m     57\u001b[0m \u001b[38;5;66;03m# cases, and look like a memory leak in others.\u001b[39;00m\n\u001b[0;32m     58\u001b[0m \u001b[38;5;28;01mwith\u001b[39;00m sessions\u001b[38;5;241m.\u001b[39mSession() \u001b[38;5;28;01mas\u001b[39;00m session:\n\u001b[1;32m---> 59\u001b[0m     \u001b[38;5;28;01mreturn\u001b[39;00m \u001b[43msession\u001b[49m\u001b[38;5;241;43m.\u001b[39;49m\u001b[43mrequest\u001b[49m\u001b[43m(\u001b[49m\u001b[43mmethod\u001b[49m\u001b[38;5;241;43m=\u001b[39;49m\u001b[43mmethod\u001b[49m\u001b[43m,\u001b[49m\u001b[43m \u001b[49m\u001b[43murl\u001b[49m\u001b[38;5;241;43m=\u001b[39;49m\u001b[43murl\u001b[49m\u001b[43m,\u001b[49m\u001b[43m \u001b[49m\u001b[38;5;241;43m*\u001b[39;49m\u001b[38;5;241;43m*\u001b[39;49m\u001b[43mkwargs\u001b[49m\u001b[43m)\u001b[49m\n",
      "File \u001b[1;32mc:\\Users\\amrar\\AppData\\Local\\Programs\\Python\\Python38\\lib\\site-packages\\requests\\sessions.py:589\u001b[0m, in \u001b[0;36mSession.request\u001b[1;34m(self, method, url, params, data, headers, cookies, files, auth, timeout, allow_redirects, proxies, hooks, stream, verify, cert, json)\u001b[0m\n\u001b[0;32m    584\u001b[0m send_kwargs \u001b[38;5;241m=\u001b[39m {\n\u001b[0;32m    585\u001b[0m     \u001b[38;5;124m\"\u001b[39m\u001b[38;5;124mtimeout\u001b[39m\u001b[38;5;124m\"\u001b[39m: timeout,\n\u001b[0;32m    586\u001b[0m     \u001b[38;5;124m\"\u001b[39m\u001b[38;5;124mallow_redirects\u001b[39m\u001b[38;5;124m\"\u001b[39m: allow_redirects,\n\u001b[0;32m    587\u001b[0m }\n\u001b[0;32m    588\u001b[0m send_kwargs\u001b[38;5;241m.\u001b[39mupdate(settings)\n\u001b[1;32m--> 589\u001b[0m resp \u001b[38;5;241m=\u001b[39m \u001b[38;5;28;43mself\u001b[39;49m\u001b[38;5;241;43m.\u001b[39;49m\u001b[43msend\u001b[49m\u001b[43m(\u001b[49m\u001b[43mprep\u001b[49m\u001b[43m,\u001b[49m\u001b[43m \u001b[49m\u001b[38;5;241;43m*\u001b[39;49m\u001b[38;5;241;43m*\u001b[39;49m\u001b[43msend_kwargs\u001b[49m\u001b[43m)\u001b[49m\n\u001b[0;32m    591\u001b[0m \u001b[38;5;28;01mreturn\u001b[39;00m resp\n",
      "File \u001b[1;32mc:\\Users\\amrar\\AppData\\Local\\Programs\\Python\\Python38\\lib\\site-packages\\requests\\sessions.py:703\u001b[0m, in \u001b[0;36mSession.send\u001b[1;34m(self, request, **kwargs)\u001b[0m\n\u001b[0;32m    700\u001b[0m start \u001b[38;5;241m=\u001b[39m preferred_clock()\n\u001b[0;32m    702\u001b[0m \u001b[38;5;66;03m# Send the request\u001b[39;00m\n\u001b[1;32m--> 703\u001b[0m r \u001b[38;5;241m=\u001b[39m \u001b[43madapter\u001b[49m\u001b[38;5;241;43m.\u001b[39;49m\u001b[43msend\u001b[49m\u001b[43m(\u001b[49m\u001b[43mrequest\u001b[49m\u001b[43m,\u001b[49m\u001b[43m \u001b[49m\u001b[38;5;241;43m*\u001b[39;49m\u001b[38;5;241;43m*\u001b[39;49m\u001b[43mkwargs\u001b[49m\u001b[43m)\u001b[49m\n\u001b[0;32m    705\u001b[0m \u001b[38;5;66;03m# Total elapsed time of the request (approximately)\u001b[39;00m\n\u001b[0;32m    706\u001b[0m elapsed \u001b[38;5;241m=\u001b[39m preferred_clock() \u001b[38;5;241m-\u001b[39m start\n",
      "File \u001b[1;32mc:\\Users\\amrar\\AppData\\Local\\Programs\\Python\\Python38\\lib\\site-packages\\requests\\adapters.py:700\u001b[0m, in \u001b[0;36mHTTPAdapter.send\u001b[1;34m(self, request, stream, timeout, verify, cert, proxies)\u001b[0m\n\u001b[0;32m    696\u001b[0m     \u001b[38;5;28;01mif\u001b[39;00m \u001b[38;5;28misinstance\u001b[39m(e\u001b[38;5;241m.\u001b[39mreason, _SSLError):\n\u001b[0;32m    697\u001b[0m         \u001b[38;5;66;03m# This branch is for urllib3 v1.22 and later.\u001b[39;00m\n\u001b[0;32m    698\u001b[0m         \u001b[38;5;28;01mraise\u001b[39;00m SSLError(e, request\u001b[38;5;241m=\u001b[39mrequest)\n\u001b[1;32m--> 700\u001b[0m     \u001b[38;5;28;01mraise\u001b[39;00m \u001b[38;5;167;01mConnectionError\u001b[39;00m(e, request\u001b[38;5;241m=\u001b[39mrequest)\n\u001b[0;32m    702\u001b[0m \u001b[38;5;28;01mexcept\u001b[39;00m ClosedPoolError \u001b[38;5;28;01mas\u001b[39;00m e:\n\u001b[0;32m    703\u001b[0m     \u001b[38;5;28;01mraise\u001b[39;00m \u001b[38;5;167;01mConnectionError\u001b[39;00m(e, request\u001b[38;5;241m=\u001b[39mrequest)\n",
      "\u001b[1;31mConnectionError\u001b[0m: HTTPSConnectionPool(host='api.keepa.com', port=443): Max retries exceeded with url: /token/?key=a1g603bd0m13rt71rksm50t36ane60qc8kvioi1ivo3b4sf1qkbj0net036tt6ql (Caused by NameResolutionError(\"<urllib3.connection.HTTPSConnection object at 0x000001D336EC9730>: Failed to resolve 'api.keepa.com' ([Errno 11001] getaddrinfo failed)\"))"
     ]
    }
   ],
   "source": [
    "\n",
    "eightth = fetch_products_from_queries(queries.iloc[212:], allowed_brands,dfname='Product8.csv')"
   ]
  },
  {
   "cell_type": "code",
   "execution_count": 11,
   "id": "0a022bb5",
   "metadata": {},
   "outputs": [
    {
     "name": "stderr",
     "output_type": "stream",
     "text": [
      "\n",
      "\u001b[A\n",
      "100%|██████████| 1/1 [00:01<00:00,  1.45s/it]\n"
     ]
    },
    {
     "name": "stdout",
     "output_type": "stream",
     "text": [
      "[✓] Hood Lift Supports Compatible With Lexus Ls460 Ls600H | ARANA | ASIN: B09DG24HCL | Price: N/A | Rating: N/A | Reviews: N/A\n"
     ]
    },
    {
     "name": "stderr",
     "output_type": "stream",
     "text": [
      "\n",
      "\u001b[A\n",
      "100%|██████████| 1/1 [00:01<00:00,  1.93s/it]\n"
     ]
    },
    {
     "name": "stdout",
     "output_type": "stream",
     "text": [
      "[✓] Hood Lift Supports Compatible With Lexus Ls460 Ls600H | Suspensia | ASIN: B0C75WP31W | Price: $48.92 | Rating: N/A | Reviews: N/A\n"
     ]
    },
    {
     "name": "stderr",
     "output_type": "stream",
     "text": [
      "\n",
      "\u001b[A\n",
      "100%|██████████| 1/1 [00:00<00:00,  1.46it/s]\n"
     ]
    },
    {
     "name": "stdout",
     "output_type": "stream",
     "text": [
      "[✓] Front Hood Lift Supports Fits Mercury/Ford Model Years Below | ARANA | ASIN: B09DG24HCL | Price: N/A | Rating: N/A | Reviews: N/A\n"
     ]
    },
    {
     "name": "stderr",
     "output_type": "stream",
     "text": [
      "\n",
      "\u001b[A\n",
      "100%|██████████| 1/1 [00:00<00:00,  1.47it/s]\n"
     ]
    },
    {
     "name": "stdout",
     "output_type": "stream",
     "text": [
      "[✓] Front Hood Lift Supports Fits Mercury/Ford Model Years Below | Suspensia | ASIN: B0C75WP31W | Price: $48.92 | Rating: N/A | Reviews: N/A\n"
     ]
    },
    {
     "name": "stderr",
     "output_type": "stream",
     "text": [
      "\n",
      "\u001b[A\n",
      "100%|██████████| 1/1 [00:01<00:00,  1.70s/it]\n"
     ]
    },
    {
     "name": "stdout",
     "output_type": "stream",
     "text": [
      "[✓] Rear Liftgate Lift Supports Land Rover Range Rover Sport Utility Mk Iv Manual Gate | ARANA | ASIN: B0D4YT7QCQ | Price: $35.99 | Rating: 4.5 | Reviews: 7713\n"
     ]
    },
    {
     "name": "stderr",
     "output_type": "stream",
     "text": [
      "\n",
      "\u001b[A\n",
      "100%|██████████| 1/1 [00:00<00:00,  1.54it/s]\n"
     ]
    },
    {
     "name": "stdout",
     "output_type": "stream",
     "text": [
      "[✓] Rear Liftgate Lift Supports Land Rover Range Rover Sport Utility Mk Iv Manual Gate | Suspensia | ASIN: B0C75WP31W | Price: $48.92 | Rating: N/A | Reviews: N/A\n"
     ]
    },
    {
     "name": "stderr",
     "output_type": "stream",
     "text": [
      "\n",
      "\u001b[A\n",
      "100%|██████████| 1/1 [00:01<00:00,  1.01s/it]\n"
     ]
    },
    {
     "name": "stdout",
     "output_type": "stream",
     "text": [
      "[✓] Hatch Lift Supports Fits To Mazda Hatchback | ARANA | ASIN: B0D4YT7QCQ | Price: $35.99 | Rating: 4.5 | Reviews: 7713\n"
     ]
    },
    {
     "name": "stderr",
     "output_type": "stream",
     "text": [
      "\n",
      "\u001b[A\n",
      "100%|██████████| 1/1 [00:00<00:00,  1.59it/s]\n"
     ]
    },
    {
     "name": "stdout",
     "output_type": "stream",
     "text": [
      "[✓] Hatch Lift Supports Fits To Mazda Hatchback | Suspensia | ASIN: B0C75WP31W | Price: $48.92 | Rating: N/A | Reviews: N/A\n"
     ]
    },
    {
     "name": "stderr",
     "output_type": "stream",
     "text": [
      "\n",
      "\u001b[A\n",
      "100%|██████████| 1/1 [00:01<00:00,  1.56s/it]\n"
     ]
    },
    {
     "name": "stdout",
     "output_type": "stream",
     "text": [
      "[✓] Rear Liftgate Lift Supports to BMW 328I Xdrive F31 | ARANA | ASIN: B0D7VS524Y | Price: $21.99 | Rating: 4.5 | Reviews: 7721\n"
     ]
    },
    {
     "name": "stderr",
     "output_type": "stream",
     "text": [
      "\n",
      "\u001b[A\n",
      "100%|██████████| 1/1 [00:00<00:00,  1.57it/s]\n"
     ]
    },
    {
     "name": "stdout",
     "output_type": "stream",
     "text": [
      "[✓] Rear Liftgate Lift Supports to BMW 328I Xdrive F31 | Suspensia | ASIN: B0C75WP31W | Price: $48.92 | Rating: N/A | Reviews: N/A\n"
     ]
    },
    {
     "name": "stderr",
     "output_type": "stream",
     "text": [
      "\n",
      "\u001b[A\n",
      "100%|██████████| 1/1 [00:00<00:00,  1.63it/s]\n"
     ]
    },
    {
     "name": "stdout",
     "output_type": "stream",
     "text": [
      "[✓] Rear Gate Lift Supports To Subaru Legacy To Subaru Outback | ARANA | ASIN: B0D7VS524Y | Price: $21.99 | Rating: 4.5 | Reviews: 7721\n"
     ]
    },
    {
     "name": "stderr",
     "output_type": "stream",
     "text": [
      "\n",
      "\u001b[A\n",
      "100%|██████████| 1/1 [00:00<00:00,  1.47it/s]\n"
     ]
    },
    {
     "name": "stdout",
     "output_type": "stream",
     "text": [
      "[✓] Rear Gate Lift Supports To Subaru Legacy To Subaru Outback | Suspensia | ASIN: B0C75WP31W | Price: $48.92 | Rating: N/A | Reviews: N/A\n"
     ]
    },
    {
     "name": "stderr",
     "output_type": "stream",
     "text": [
      "\n",
      "\u001b[A\n",
      "100%|██████████| 1/1 [00:00<00:00,  1.01it/s]\n"
     ]
    },
    {
     "name": "stdout",
     "output_type": "stream",
     "text": [
      "[✓] Right Side Liftgate Lift Support To Chevrolet Equinox W Power Gate | ARANA | ASIN: B09874JJR2 | Price: N/A | Rating: N/A | Reviews: N/A\n"
     ]
    },
    {
     "name": "stderr",
     "output_type": "stream",
     "text": [
      "\n",
      "\u001b[A\n",
      "100%|██████████| 1/1 [00:00<00:00,  1.43it/s]\n"
     ]
    },
    {
     "name": "stdout",
     "output_type": "stream",
     "text": [
      "[✓] Right Side Liftgate Lift Support To Chevrolet Equinox W Power Gate | Suspensia | ASIN: B0C75WP31W | Price: $48.92 | Rating: N/A | Reviews: N/A\n"
     ]
    },
    {
     "name": "stderr",
     "output_type": "stream",
     "text": [
      "\n",
      "\u001b[A\n",
      "100%|██████████| 1/1 [00:00<00:00,  1.70it/s]\n"
     ]
    },
    {
     "name": "stdout",
     "output_type": "stream",
     "text": [
      "[✓] Rear Gate Trunk Lift Supports To Pt Cruiser Station Wagon | ARANA | ASIN: B09874JJR2 | Price: N/A | Rating: N/A | Reviews: N/A\n"
     ]
    },
    {
     "name": "stderr",
     "output_type": "stream",
     "text": [
      "\n",
      "\u001b[A\n",
      "100%|██████████| 1/1 [00:00<00:00,  1.40it/s]\n"
     ]
    },
    {
     "name": "stdout",
     "output_type": "stream",
     "text": [
      "[✓] Rear Gate Trunk Lift Supports To Pt Cruiser Station Wagon | Suspensia | ASIN: B0C75WP31W | Price: $48.92 | Rating: N/A | Reviews: N/A\n"
     ]
    },
    {
     "name": "stderr",
     "output_type": "stream",
     "text": [
      "\n",
      "\u001b[A\n",
      "100%|██████████| 1/1 [00:01<00:00,  1.78s/it]\n"
     ]
    },
    {
     "name": "stdout",
     "output_type": "stream",
     "text": [
      "[✓] Front Hood Lift Supports Fits Mercedes Benz C Class Model Years Below | ARANA | ASIN: B07C7WSNRJ | Price: $26.99 | Rating: 4.5 | Reviews: 7727\n"
     ]
    },
    {
     "name": "stderr",
     "output_type": "stream",
     "text": [
      "\n",
      "\u001b[A\n",
      "100%|██████████| 1/1 [00:00<00:00,  1.44it/s]\n"
     ]
    },
    {
     "name": "stdout",
     "output_type": "stream",
     "text": [
      "[✓] Front Hood Lift Supports Fits Mercedes Benz C Class Model Years Below | Suspensia | ASIN: B0C75WP31W | Price: $48.92 | Rating: N/A | Reviews: N/A\n"
     ]
    },
    {
     "name": "stderr",
     "output_type": "stream",
     "text": [
      "\n",
      "\u001b[A\n",
      "100%|██████████| 1/1 [00:00<00:00,  1.25it/s]\n"
     ]
    },
    {
     "name": "stdout",
     "output_type": "stream",
     "text": [
      "[✓] Rear Liftgate Lift Supports Fits Chevrolet Opel Vauxhall Model Years Below | ARANA | ASIN: B07C7WSNRJ | Price: $26.99 | Rating: 4.5 | Reviews: 7727\n"
     ]
    },
    {
     "name": "stderr",
     "output_type": "stream",
     "text": [
      "\n",
      "\u001b[A\n",
      "100%|██████████| 1/1 [00:00<00:00,  1.34it/s]\n"
     ]
    },
    {
     "name": "stdout",
     "output_type": "stream",
     "text": [
      "[✓] Rear Liftgate Lift Supports Fits Chevrolet Opel Vauxhall Model Years Below | Suspensia | ASIN: B0C75WP31W | Price: $48.92 | Rating: N/A | Reviews: N/A\n"
     ]
    },
    {
     "name": "stderr",
     "output_type": "stream",
     "text": [
      "\n",
      "\u001b[A\n",
      "100%|██████████| 1/1 [00:01<00:00,  1.47s/it]\n"
     ]
    },
    {
     "name": "stdout",
     "output_type": "stream",
     "text": [
      "[✓] Hatch Lift Supports To Mazda Protege | ARANA | ASIN: B0B4P5VH7Y | Price: $39.99 | Rating: 4.5 | Reviews: 7725\n"
     ]
    },
    {
     "name": "stderr",
     "output_type": "stream",
     "text": [
      "\n",
      "\u001b[A\n",
      "100%|██████████| 1/1 [00:00<00:00,  1.53it/s]\n"
     ]
    },
    {
     "name": "stdout",
     "output_type": "stream",
     "text": [
      "[✓] Hatch Lift Supports To Mazda Protege | Suspensia | ASIN: B0C75WP31W | Price: $48.92 | Rating: N/A | Reviews: N/A\n"
     ]
    },
    {
     "name": "stderr",
     "output_type": "stream",
     "text": [
      "\n",
      "\u001b[A\n",
      "100%|██████████| 1/1 [00:00<00:00,  1.27it/s]\n"
     ]
    },
    {
     "name": "stdout",
     "output_type": "stream",
     "text": [
      "[✓] Trunk Lid Lift Supports to Buick Riviera | ARANA | ASIN: B0B4P5VH7Y | Price: $39.99 | Rating: 4.5 | Reviews: 7725\n"
     ]
    },
    {
     "name": "stderr",
     "output_type": "stream",
     "text": [
      "\n",
      "\u001b[A\n",
      "100%|██████████| 1/1 [00:00<00:00,  1.60it/s]\n"
     ]
    },
    {
     "name": "stdout",
     "output_type": "stream",
     "text": [
      "[✓] Trunk Lid Lift Supports to Buick Riviera | Suspensia | ASIN: B0C75WP31W | Price: $48.92 | Rating: N/A | Reviews: N/A\n"
     ]
    },
    {
     "name": "stderr",
     "output_type": "stream",
     "text": [
      "\n",
      "\u001b[A\n",
      "100%|██████████| 1/1 [00:00<00:00,  1.32it/s]\n"
     ]
    },
    {
     "name": "stdout",
     "output_type": "stream",
     "text": [
      "[✓] Hood Lift Support Compatible with: to Chevrolet Cobalt to Pontiac G5 | ARANA | ASIN: B0B4P5VH7Y | Price: $39.99 | Rating: 4.5 | Reviews: 7725\n"
     ]
    },
    {
     "name": "stderr",
     "output_type": "stream",
     "text": [
      "\n",
      "\u001b[A\n",
      "100%|██████████| 1/1 [00:00<00:00,  1.27it/s]\n"
     ]
    },
    {
     "name": "stdout",
     "output_type": "stream",
     "text": [
      "[✓] Hood Lift Support Compatible with: to Chevrolet Cobalt to Pontiac G5 | Suspensia | ASIN: B0C75WP31W | Price: $48.92 | Rating: N/A | Reviews: N/A\n"
     ]
    },
    {
     "name": "stderr",
     "output_type": "stream",
     "text": [
      "\n",
      "\u001b[A\n",
      "100%|██████████| 1/1 [00:01<00:00,  1.58s/it]\n"
     ]
    },
    {
     "name": "stdout",
     "output_type": "stream",
     "text": [
      "[✓] Liftgate Lift Supports To Saturn Vue | ARANA | ASIN: B0D2HJ2JDH | Price: $49.99 | Rating: 4.5 | Reviews: 7721\n"
     ]
    },
    {
     "name": "stderr",
     "output_type": "stream",
     "text": [
      "\n",
      "\u001b[A\n",
      "100%|██████████| 1/1 [00:00<00:00,  1.46it/s]\n"
     ]
    },
    {
     "name": "stdout",
     "output_type": "stream",
     "text": [
      "[✓] Liftgate Lift Supports To Saturn Vue | Suspensia | ASIN: B0C75WP31W | Price: $48.92 | Rating: N/A | Reviews: N/A\n"
     ]
    },
    {
     "name": "stderr",
     "output_type": "stream",
     "text": [
      "\n",
      "\u001b[A\n",
      "100%|██████████| 1/1 [00:01<00:00,  1.88s/it]\n"
     ]
    },
    {
     "name": "stdout",
     "output_type": "stream",
     "text": [
      "[✓] Hood Lift Support | ARANA | ASIN: B08FFZ1FJ8 | Price: $27.99 | Rating: 4.5 | Reviews: 7727\n"
     ]
    },
    {
     "name": "stderr",
     "output_type": "stream",
     "text": [
      "\n",
      "\u001b[A\n",
      "100%|██████████| 1/1 [00:00<00:00,  1.48it/s]\n"
     ]
    },
    {
     "name": "stdout",
     "output_type": "stream",
     "text": [
      "[✓] Hood Lift Support | Suspensia | ASIN: B0C75WP31W | Price: $48.92 | Rating: N/A | Reviews: N/A\n"
     ]
    },
    {
     "name": "stderr",
     "output_type": "stream",
     "text": [
      "\n",
      "\u001b[A\n",
      "100%|██████████| 1/1 [00:01<00:00,  1.04s/it]\n"
     ]
    },
    {
     "name": "stdout",
     "output_type": "stream",
     "text": [
      "[✓] Hatch Lift Supports To Ford Probe Without Wiper & Spoiler | ARANA | ASIN: B08FFZ1FJ8 | Price: $27.99 | Rating: 4.5 | Reviews: 7727\n"
     ]
    },
    {
     "name": "stderr",
     "output_type": "stream",
     "text": [
      "\n",
      "\u001b[A\n",
      "100%|██████████| 1/1 [00:01<00:00,  1.36s/it]\n"
     ]
    },
    {
     "name": "stdout",
     "output_type": "stream",
     "text": [
      "[✓] Hatch Lift Supports To Ford Probe Without Wiper & Spoiler | Suspensia | ASIN: B0C75WP31W | Price: $48.92 | Rating: N/A | Reviews: N/A\n"
     ]
    },
    {
     "name": "stderr",
     "output_type": "stream",
     "text": [
      "\n",
      "\u001b[A\n",
      "100%|██████████| 1/1 [00:01<00:00,  1.47s/it]\n"
     ]
    },
    {
     "name": "stdout",
     "output_type": "stream",
     "text": [
      "[✓] Liftgate Lift Supports to Ford Flex Non Power Liftgate | ARANA | ASIN: B0C998WPXQ | Price: $37.99 | Rating: 4.5 | Reviews: 7712\n"
     ]
    },
    {
     "name": "stderr",
     "output_type": "stream",
     "text": [
      "\n",
      "\u001b[A\n",
      "100%|██████████| 1/1 [00:00<00:00,  1.45it/s]\n"
     ]
    },
    {
     "name": "stdout",
     "output_type": "stream",
     "text": [
      "[✓] Liftgate Lift Supports to Ford Flex Non Power Liftgate | Suspensia | ASIN: B0C75WP31W | Price: $48.92 | Rating: N/A | Reviews: N/A\n"
     ]
    },
    {
     "name": "stderr",
     "output_type": "stream",
     "text": [
      "\n",
      "\u001b[A\n",
      "100%|██████████| 1/1 [00:00<00:00,  1.41it/s]\n"
     ]
    },
    {
     "name": "stdout",
     "output_type": "stream",
     "text": [
      "[✓] Front Hood Lift Supports to Chrysler Tc Maserati | ARANA | ASIN: B0C998WPXQ | Price: $37.99 | Rating: 4.5 | Reviews: 7712\n"
     ]
    },
    {
     "name": "stderr",
     "output_type": "stream",
     "text": [
      "\n",
      "\u001b[A\n",
      "100%|██████████| 1/1 [00:00<00:00,  1.41it/s]\n"
     ]
    },
    {
     "name": "stdout",
     "output_type": "stream",
     "text": [
      "[✓] Front Hood Lift Supports to Chrysler Tc Maserati | Suspensia | ASIN: B0C75WP31W | Price: $48.92 | Rating: N/A | Reviews: N/A\n"
     ]
    },
    {
     "name": "stderr",
     "output_type": "stream",
     "text": [
      "\n",
      "\u001b[A\n",
      "100%|██████████| 1/1 [00:01<00:00,  1.70s/it]\n"
     ]
    },
    {
     "name": "stdout",
     "output_type": "stream",
     "text": [
      "[✓] Rear Tailgate Lift Supports Models Using Struts Geo Tracker Suzuki Sidekick Suzuki XL .Inches Extended | ARANA | ASIN: B0C5RBFXGT | Price: $40.99 | Rating: 4.5 | Reviews: 7725\n"
     ]
    },
    {
     "name": "stderr",
     "output_type": "stream",
     "text": [
      "\n",
      "\u001b[A\n",
      "100%|██████████| 1/1 [00:00<00:00,  1.49it/s]\n"
     ]
    },
    {
     "name": "stdout",
     "output_type": "stream",
     "text": [
      "[✓] Rear Tailgate Lift Supports Models Using Struts Geo Tracker Suzuki Sidekick Suzuki XL .Inches Extended | Suspensia | ASIN: B0C75WP31W | Price: $48.92 | Rating: N/A | Reviews: N/A\n"
     ]
    },
    {
     "name": "stderr",
     "output_type": "stream",
     "text": [
      "\n",
      "\u001b[A\n",
      "100%|██████████| 1/1 [00:01<00:00,  1.98s/it]\n"
     ]
    },
    {
     "name": "stdout",
     "output_type": "stream",
     "text": [
      "[✓] Front Hood Lift Supports To Ford Flex | ARANA | ASIN: B08X65DVSX | Price: $35.99 | Rating: 4.5 | Reviews: 7727\n"
     ]
    },
    {
     "name": "stderr",
     "output_type": "stream",
     "text": [
      "\n",
      "\u001b[A\n",
      "100%|██████████| 1/1 [00:00<00:00,  1.58it/s]\n"
     ]
    },
    {
     "name": "stdout",
     "output_type": "stream",
     "text": [
      "[✓] Front Hood Lift Supports To Ford Flex | Suspensia | ASIN: B0C75WP31W | Price: $48.92 | Rating: N/A | Reviews: N/A\n"
     ]
    },
    {
     "name": "stderr",
     "output_type": "stream",
     "text": [
      "\n",
      "\u001b[A\n",
      "100%|██████████| 1/1 [00:00<00:00,  1.03it/s]\n"
     ]
    },
    {
     "name": "stdout",
     "output_type": "stream",
     "text": [
      "[✓] Liftgate Lift Supports To Chevrolet Trailblazer Ext To Gmc Envoy Xl To Gmc Envoy Xl Denali To Isuzu Ascender | ARANA | ASIN: B08X65DVSX | Price: $35.99 | Rating: 4.5 | Reviews: 7727\n"
     ]
    },
    {
     "name": "stderr",
     "output_type": "stream",
     "text": [
      "\n",
      "\u001b[A\n",
      "100%|██████████| 1/1 [00:00<00:00,  1.38it/s]\n"
     ]
    },
    {
     "name": "stdout",
     "output_type": "stream",
     "text": [
      "[✓] Liftgate Lift Supports To Chevrolet Trailblazer Ext To Gmc Envoy Xl To Gmc Envoy Xl Denali To Isuzu Ascender | Suspensia | ASIN: B0C75WP31W | Price: $48.92 | Rating: N/A | Reviews: N/A\n"
     ]
    },
    {
     "name": "stderr",
     "output_type": "stream",
     "text": [
      "\n",
      "\u001b[A\n",
      "100%|██████████| 1/1 [00:01<00:00,  1.36s/it]\n"
     ]
    },
    {
     "name": "stdout",
     "output_type": "stream",
     "text": [
      "[✓] Liftgate Lift Supports Compatible with to Pontiac Torrent / to Chevy Equinox | ARANA | ASIN: B0D7VQH838 | Price: $22.99 | Rating: 4.5 | Reviews: 7713\n"
     ]
    },
    {
     "name": "stderr",
     "output_type": "stream",
     "text": [
      "\n",
      "\u001b[A\n",
      "100%|██████████| 1/1 [00:00<00:00,  1.08it/s]\n"
     ]
    },
    {
     "name": "stdout",
     "output_type": "stream",
     "text": [
      "[✓] Liftgate Lift Supports Compatible with to Pontiac Torrent / to Chevy Equinox | Suspensia | ASIN: B0C75WP31W | Price: $48.92 | Rating: N/A | Reviews: N/A\n"
     ]
    },
    {
     "name": "stderr",
     "output_type": "stream",
     "text": [
      "\n",
      "\u001b[A\n",
      "100%|██████████| 1/1 [00:01<00:00,  1.93s/it]\n"
     ]
    },
    {
     "name": "stdout",
     "output_type": "stream",
     "text": [
      "[✓] Front Hood Lift Support To Buick Lacrosse | ARANA | ASIN: B0869BQ72C | Price: $20.99 | Rating: 4.5 | Reviews: 7725\n"
     ]
    },
    {
     "name": "stderr",
     "output_type": "stream",
     "text": [
      "\n",
      "\u001b[A\n",
      "100%|██████████| 1/1 [00:00<00:00,  1.05it/s]\n"
     ]
    },
    {
     "name": "stdout",
     "output_type": "stream",
     "text": [
      "[✓] Front Hood Lift Support To Buick Lacrosse | Suspensia | ASIN: B0C75WP31W | Price: $48.92 | Rating: N/A | Reviews: N/A\n"
     ]
    },
    {
     "name": "stderr",
     "output_type": "stream",
     "text": [
      "\n",
      "\u001b[A\n",
      "100%|██████████| 1/1 [00:00<00:00,  1.01it/s]\n"
     ]
    },
    {
     "name": "stdout",
     "output_type": "stream",
     "text": [
      "[✓] Liftgate Lift Supports Compatible with: to Dodge Ramcharger Plymouth Trailduster | ARANA | ASIN: B0869BQ72C | Price: $20.99 | Rating: 4.5 | Reviews: 7725\n"
     ]
    },
    {
     "name": "stderr",
     "output_type": "stream",
     "text": [
      "\n",
      "\u001b[A\n",
      "100%|██████████| 1/1 [00:01<00:00,  1.97s/it]\n"
     ]
    },
    {
     "name": "stdout",
     "output_type": "stream",
     "text": [
      "[✓] Liftgate Lift Supports Compatible with: to Dodge Ramcharger Plymouth Trailduster | Suspensia | ASIN: B0C75WP31W | Price: $48.92 | Rating: N/A | Reviews: N/A\n"
     ]
    },
    {
     "name": "stderr",
     "output_type": "stream",
     "text": [
      "\n",
      "\u001b[A\n",
      "100%|██████████| 1/1 [00:01<00:00,  1.75s/it]\n"
     ]
    },
    {
     "name": "stdout",
     "output_type": "stream",
     "text": [
      "[✓] Lift Supports | ARANA | ASIN: B07CGNQCCJ | Price: $23.99 | Rating: 4.5 | Reviews: 7727\n"
     ]
    },
    {
     "name": "stderr",
     "output_type": "stream",
     "text": [
      "\n",
      "\u001b[A\n",
      "100%|██████████| 1/1 [00:00<00:00,  1.22it/s]\n"
     ]
    },
    {
     "name": "stdout",
     "output_type": "stream",
     "text": [
      "[✓] Lift Supports | Suspensia | ASIN: B0C75WP31W | Price: $48.92 | Rating: N/A | Reviews: N/A\n"
     ]
    },
    {
     "name": "stderr",
     "output_type": "stream",
     "text": [
      "\n",
      "\u001b[A\n",
      "100%|██████████| 1/1 [00:01<00:00,  1.15s/it]\n"
     ]
    },
    {
     "name": "stdout",
     "output_type": "stream",
     "text": [
      "[✓] Hatch Lift Supports To Toyota Supra | ARANA | ASIN: B07CGNQCCJ | Price: $23.99 | Rating: 4.5 | Reviews: 7728\n"
     ]
    },
    {
     "name": "stderr",
     "output_type": "stream",
     "text": [
      "\n",
      "\u001b[A\n",
      "100%|██████████| 1/1 [00:00<00:00,  1.02it/s]\n"
     ]
    },
    {
     "name": "stdout",
     "output_type": "stream",
     "text": [
      "[✓] Hatch Lift Supports To Toyota Supra | Suspensia | ASIN: B0C75WP31W | Price: $48.92 | Rating: N/A | Reviews: N/A\n"
     ]
    },
    {
     "name": "stderr",
     "output_type": "stream",
     "text": [
      "\n",
      "\u001b[A\n",
      "100%|██████████| 1/1 [00:01<00:00,  1.54s/it]\n"
     ]
    },
    {
     "name": "stdout",
     "output_type": "stream",
     "text": [
      "[✓] Front Hood Lift Support to Mercedes Benz Glk250 Mercedes Benz Glk280 to Mercedes Benz Glk300 to Mercedes Benz Glk350 | ARANA | ASIN: B08CRCPLVH | Price: $26.99 | Rating: 4.5 | Reviews: 7725\n"
     ]
    },
    {
     "name": "stderr",
     "output_type": "stream",
     "text": [
      "\n",
      "\u001b[A\n",
      "100%|██████████| 1/1 [00:00<00:00,  1.55it/s]\n"
     ]
    },
    {
     "name": "stdout",
     "output_type": "stream",
     "text": [
      "[✓] Front Hood Lift Support to Mercedes Benz Glk250 Mercedes Benz Glk280 to Mercedes Benz Glk300 to Mercedes Benz Glk350 | Suspensia | ASIN: B0C75WP31W | Price: $48.92 | Rating: N/A | Reviews: N/A\n"
     ]
    },
    {
     "name": "stderr",
     "output_type": "stream",
     "text": [
      "\n",
      "\u001b[A\n",
      "100%|██████████| 1/1 [00:01<00:00,  1.35s/it]\n"
     ]
    },
    {
     "name": "stdout",
     "output_type": "stream",
     "text": [
      "[✓] Liftgate Lift Supports to Ford Freestar to Mercury Monterey | ARANA | ASIN: B08CRCPLVH | Price: $26.99 | Rating: 4.5 | Reviews: 7725\n"
     ]
    },
    {
     "name": "stderr",
     "output_type": "stream",
     "text": [
      "\n",
      "\u001b[A\n",
      "100%|██████████| 1/1 [00:00<00:00,  1.68it/s]\n"
     ]
    },
    {
     "name": "stdout",
     "output_type": "stream",
     "text": [
      "[✓] Liftgate Lift Supports to Ford Freestar to Mercury Monterey | Suspensia | ASIN: B0C75WP31W | Price: $48.92 | Rating: N/A | Reviews: N/A\n"
     ]
    },
    {
     "name": "stderr",
     "output_type": "stream",
     "text": [
      "\n",
      "\u001b[A\n",
      "100%|██████████| 1/1 [00:02<00:00,  2.66s/it]\n"
     ]
    },
    {
     "name": "stdout",
     "output_type": "stream",
     "text": [
      "[✓] Power Lift Support Hatch Lift Supports Compatible with Chevrolet Cruze Holden Cruze | ARANA | ASIN: B0912Y58V2 | Price: $36.99 | Rating: 4.5 | Reviews: 7727\n"
     ]
    },
    {
     "name": "stderr",
     "output_type": "stream",
     "text": [
      "\n",
      "\u001b[A\n",
      "100%|██████████| 1/1 [00:00<00:00,  1.27it/s]\n"
     ]
    },
    {
     "name": "stdout",
     "output_type": "stream",
     "text": [
      "[✓] Power Lift Support Hatch Lift Supports Compatible with Chevrolet Cruze Holden Cruze | Suspensia | ASIN: B0C75WP31W | Price: $48.92 | Rating: N/A | Reviews: N/A\n"
     ]
    },
    {
     "name": "stderr",
     "output_type": "stream",
     "text": [
      "\n",
      "\u001b[A\n",
      "100%|██████████| 1/1 [00:01<00:00,  1.16s/it]\n"
     ]
    },
    {
     "name": "stdout",
     "output_type": "stream",
     "text": [
      "[✓] Hood Lift Supports to Jaguar Xj to Jaguar Xjl to Jaguar XJR | ARANA | ASIN: B0912Y58V2 | Price: $36.99 | Rating: 4.5 | Reviews: 7727\n"
     ]
    },
    {
     "name": "stderr",
     "output_type": "stream",
     "text": [
      "\n",
      "\u001b[A\n",
      "100%|██████████| 1/1 [00:00<00:00,  1.57it/s]\n"
     ]
    },
    {
     "name": "stdout",
     "output_type": "stream",
     "text": [
      "[✓] Hood Lift Supports to Jaguar Xj to Jaguar Xjl to Jaguar XJR | Suspensia | ASIN: B0C75WP31W | Price: $48.92 | Rating: N/A | Reviews: N/A\n"
     ]
    },
    {
     "name": "stderr",
     "output_type": "stream",
     "text": [
      "\n",
      "\u001b[A\n",
      "100%|██████████| 1/1 [00:02<00:00,  2.69s/it]\n"
     ]
    },
    {
     "name": "stdout",
     "output_type": "stream",
     "text": [
      "[✓] Liftgate Lift Supports Compatible with: to Plymouth Voyager Mini Van Dodge Caravan Mini Van Chrysler Town & Country | ARANA | ASIN: B07C7RYJRJ | Price: $25.99 | Rating: 4.5 | Reviews: 7725\n"
     ]
    },
    {
     "name": "stderr",
     "output_type": "stream",
     "text": [
      "\n",
      "\u001b[A\n",
      "100%|██████████| 1/1 [00:00<00:00,  1.39it/s]\n"
     ]
    },
    {
     "name": "stdout",
     "output_type": "stream",
     "text": [
      "[✓] Liftgate Lift Supports Compatible with: to Plymouth Voyager Mini Van Dodge Caravan Mini Van Chrysler Town & Country | Suspensia | ASIN: B0C75WP31W | Price: $48.92 | Rating: N/A | Reviews: N/A\n"
     ]
    },
    {
     "name": "stderr",
     "output_type": "stream",
     "text": [
      "\n",
      "\u001b[A\n",
      "100%|██████████| 1/1 [00:00<00:00,  1.16it/s]\n"
     ]
    },
    {
     "name": "stdout",
     "output_type": "stream",
     "text": [
      "[✓] Hood Lift Supports To Cadillac Eldorado Seville | ARANA | ASIN: B07C7RYJRJ | Price: $25.99 | Rating: 4.5 | Reviews: 7725\n"
     ]
    },
    {
     "name": "stderr",
     "output_type": "stream",
     "text": [
      "\n",
      "\u001b[A\n",
      "100%|██████████| 1/1 [00:00<00:00,  1.27it/s]\n"
     ]
    },
    {
     "name": "stdout",
     "output_type": "stream",
     "text": [
      "[✓] Hood Lift Supports To Cadillac Eldorado Seville | Suspensia | ASIN: B0C75WP31W | Price: $48.92 | Rating: N/A | Reviews: N/A\n"
     ]
    },
    {
     "name": "stderr",
     "output_type": "stream",
     "text": [
      "\n",
      "\u001b[A\n",
      "100%|██████████| 1/1 [00:01<00:00,  1.90s/it]\n"
     ]
    },
    {
     "name": "stdout",
     "output_type": "stream",
     "text": [
      "[✓] Liftgate Lift Supports to Chevrolet Tahoe Gmc Yukon Gmc Yukon Denali with Aluminum Liftgate | ARANA | ASIN: B0BVB5847C | Price: $29.99 | Rating: 4.5 | Reviews: 7727\n"
     ]
    },
    {
     "name": "stderr",
     "output_type": "stream",
     "text": [
      "\n",
      "\u001b[A\n",
      "100%|██████████| 1/1 [00:00<00:00,  1.39it/s]\n"
     ]
    },
    {
     "name": "stdout",
     "output_type": "stream",
     "text": [
      "[✓] Liftgate Lift Supports to Chevrolet Tahoe Gmc Yukon Gmc Yukon Denali with Aluminum Liftgate | Suspensia | ASIN: B0C75WP31W | Price: $48.92 | Rating: N/A | Reviews: N/A\n"
     ]
    },
    {
     "name": "stderr",
     "output_type": "stream",
     "text": [
      "\n",
      "\u001b[A\n",
      "100%|██████████| 1/1 [00:02<00:00,  2.22s/it]\n"
     ]
    },
    {
     "name": "stdout",
     "output_type": "stream",
     "text": [
      "[✓] Rear Hatch Lift Supports To Mitsubishi Lancer Hatchback Model | ARANA | ASIN: B0BVB5847C | Price: $29.99 | Rating: 4.5 | Reviews: 7727\n"
     ]
    },
    {
     "name": "stderr",
     "output_type": "stream",
     "text": [
      "\n",
      "\u001b[A\n",
      "100%|██████████| 1/1 [00:00<00:00,  1.51it/s]\n"
     ]
    },
    {
     "name": "stdout",
     "output_type": "stream",
     "text": [
      "[✓] Rear Hatch Lift Supports To Mitsubishi Lancer Hatchback Model | Suspensia | ASIN: B0C75WP31W | Price: $48.92 | Rating: N/A | Reviews: N/A\n"
     ]
    },
    {
     "name": "stderr",
     "output_type": "stream",
     "text": [
      "\n",
      "\u001b[A\n",
      "100%|██████████| 1/1 [00:01<00:00,  1.91s/it]\n"
     ]
    },
    {
     "name": "stdout",
     "output_type": "stream",
     "text": [
      "[✓] Front Hood Lift Supports To Lincoln Mks | ARANA | ASIN: B08B3WR4Y7 | Price: $22.99 | Rating: 4.5 | Reviews: 7725\n"
     ]
    },
    {
     "name": "stderr",
     "output_type": "stream",
     "text": [
      "\n",
      "\u001b[A\n",
      "100%|██████████| 1/1 [00:00<00:00,  1.56it/s]\n"
     ]
    },
    {
     "name": "stdout",
     "output_type": "stream",
     "text": [
      "[✓] Front Hood Lift Supports To Lincoln Mks | Suspensia | ASIN: B0C75WP31W | Price: $48.92 | Rating: N/A | Reviews: N/A\n"
     ]
    },
    {
     "name": "stderr",
     "output_type": "stream",
     "text": [
      "\n",
      "\u001b[A\n",
      "100%|██████████| 1/1 [00:00<00:00,  1.18it/s]\n"
     ]
    },
    {
     "name": "stdout",
     "output_type": "stream",
     "text": [
      "[✓] Rear Hatch Lift Supports To Chevrolet Sprint To Suzuki Forsa Door To Suzuki Forsa Door | ARANA | ASIN: B08B3WR4Y7 | Price: $22.99 | Rating: 4.5 | Reviews: 7725\n"
     ]
    },
    {
     "name": "stderr",
     "output_type": "stream",
     "text": [
      "\n",
      "\u001b[A\n",
      "100%|██████████| 1/1 [00:00<00:00,  1.20it/s]\n"
     ]
    },
    {
     "name": "stdout",
     "output_type": "stream",
     "text": [
      "[✓] Rear Hatch Lift Supports To Chevrolet Sprint To Suzuki Forsa Door To Suzuki Forsa Door | Suspensia | ASIN: B0C75WP31W | Price: $48.92 | Rating: N/A | Reviews: N/A\n"
     ]
    },
    {
     "name": "stderr",
     "output_type": "stream",
     "text": [
      "\n",
      "\u001b[A\n",
      "100%|██████████| 1/1 [00:01<00:00,  1.58s/it]\n"
     ]
    },
    {
     "name": "stdout",
     "output_type": "stream",
     "text": [
      "[✓] Rear Gate Lift Supports To Toyota Prius V Wagon | ARANA | ASIN: B08CNGT5Z7 | Price: $32.99 | Rating: 4.5 | Reviews: 7721\n"
     ]
    },
    {
     "name": "stderr",
     "output_type": "stream",
     "text": [
      "\n",
      "\u001b[A\n",
      "100%|██████████| 1/1 [00:00<00:00,  1.32it/s]\n"
     ]
    },
    {
     "name": "stdout",
     "output_type": "stream",
     "text": [
      "[✓] Rear Gate Lift Supports To Toyota Prius V Wagon | Suspensia | ASIN: B0C75WP31W | Price: $48.92 | Rating: N/A | Reviews: N/A\n"
     ]
    },
    {
     "name": "stderr",
     "output_type": "stream",
     "text": [
      "\n",
      "\u001b[A\n",
      "100%|██████████| 1/1 [00:01<00:00,  1.81s/it]\n"
     ]
    },
    {
     "name": "stdout",
     "output_type": "stream",
     "text": [
      "[✓] Liftgate Lift Supports Replacement for: to GMC Yukon to Chevrolet Tahoe to Chevrolet Suburban to GMC Yukon XL | ARANA | ASIN: B0D2HNTFC7 | Price: $40.99 | Rating: 4.5 | Reviews: 7712\n"
     ]
    },
    {
     "name": "stderr",
     "output_type": "stream",
     "text": [
      "\n",
      "\u001b[A\n",
      "100%|██████████| 1/1 [00:00<00:00,  1.44it/s]\n"
     ]
    },
    {
     "name": "stdout",
     "output_type": "stream",
     "text": [
      "[✓] Liftgate Lift Supports Replacement for: to GMC Yukon to Chevrolet Tahoe to Chevrolet Suburban to GMC Yukon XL | Suspensia | ASIN: B0C75WP31W | Price: $48.92 | Rating: N/A | Reviews: N/A\n"
     ]
    },
    {
     "name": "stderr",
     "output_type": "stream",
     "text": [
      "\n",
      "\u001b[A\n",
      "100%|██████████| 1/1 [00:01<00:00,  1.69s/it]\n"
     ]
    },
    {
     "name": "stdout",
     "output_type": "stream",
     "text": [
      "[✓] Front Hood Lift Support Compatible with: to GMC Acadia | ARANA | ASIN: B09MMTZPB8 | Price: $35.99 | Rating: 4.5 | Reviews: 7725\n"
     ]
    },
    {
     "name": "stderr",
     "output_type": "stream",
     "text": [
      "\n",
      "\u001b[A\n",
      "100%|██████████| 1/1 [00:00<00:00,  1.44it/s]\n"
     ]
    },
    {
     "name": "stdout",
     "output_type": "stream",
     "text": [
      "[✓] Front Hood Lift Support Compatible with: to GMC Acadia | Suspensia | ASIN: B0C75WP31W | Price: $48.92 | Rating: N/A | Reviews: N/A\n"
     ]
    },
    {
     "name": "stderr",
     "output_type": "stream",
     "text": [
      "\n",
      "\u001b[A\n",
      "100%|██████████| 1/1 [00:00<00:00,  1.38it/s]\n"
     ]
    },
    {
     "name": "stdout",
     "output_type": "stream",
     "text": [
      "[✓] Liftgate Lift Supports to Toyota Camry Station Wagon | ARANA | ASIN: B09MMTZPB8 | Price: $35.99 | Rating: 4.5 | Reviews: 7725\n"
     ]
    },
    {
     "name": "stderr",
     "output_type": "stream",
     "text": [
      "\n",
      "\u001b[A\n",
      "100%|██████████| 1/1 [00:01<00:00,  1.13s/it]\n"
     ]
    },
    {
     "name": "stdout",
     "output_type": "stream",
     "text": [
      "[✓] Liftgate Lift Supports to Toyota Camry Station Wagon | Suspensia | ASIN: B0C75WP31W | Price: $48.92 | Rating: N/A | Reviews: N/A\n"
     ]
    },
    {
     "name": "stderr",
     "output_type": "stream",
     "text": [
      "\n",
      "\u001b[A\n",
      "100%|██████████| 1/1 [00:01<00:00,  1.65s/it]\n"
     ]
    },
    {
     "name": "stdout",
     "output_type": "stream",
     "text": [
      "[✓] Rear Liftgate Lift Support Jeep Cherokee Without Power | ARANA | ASIN: B0D1FYJ9CY | Price: $22.99 | Rating: 4.5 | Reviews: 7727\n"
     ]
    },
    {
     "name": "stderr",
     "output_type": "stream",
     "text": [
      "\n",
      "\u001b[A\n",
      "100%|██████████| 1/1 [00:00<00:00,  1.35it/s]\n"
     ]
    },
    {
     "name": "stdout",
     "output_type": "stream",
     "text": [
      "[✓] Rear Liftgate Lift Support Jeep Cherokee Without Power | Suspensia | ASIN: B0C75WP31W | Price: $48.92 | Rating: N/A | Reviews: N/A\n"
     ]
    },
    {
     "name": "stderr",
     "output_type": "stream",
     "text": [
      "\n",
      "\u001b[A\n",
      "100%|██████████| 1/1 [00:00<00:00,  1.34it/s]\n"
     ]
    },
    {
     "name": "stdout",
     "output_type": "stream",
     "text": [
      "[✓] Front Hood Lift Support Acura Mdx | ARANA | ASIN: B0D1FYJ9CY | Price: $22.99 | Rating: 4.5 | Reviews: 7727\n"
     ]
    },
    {
     "name": "stderr",
     "output_type": "stream",
     "text": [
      "\n",
      "\u001b[A\n",
      "100%|██████████| 1/1 [00:01<00:00,  1.03s/it]\n"
     ]
    },
    {
     "name": "stdout",
     "output_type": "stream",
     "text": [
      "[✓] Front Hood Lift Support Acura Mdx | Suspensia | ASIN: B0C75WP31W | Price: $48.92 | Rating: N/A | Reviews: N/A\n"
     ]
    },
    {
     "name": "stderr",
     "output_type": "stream",
     "text": [
      "\n",
      "\u001b[A\n",
      "100%|██████████| 1/1 [00:01<00:00,  1.70s/it]\n"
     ]
    },
    {
     "name": "stdout",
     "output_type": "stream",
     "text": [
      "[✓] Power Lift Support Liftgate Lift Supports Compatible with Kia Telluride w/o Power from | ARANA | ASIN: B0B7MZPF7Z | Price: $19.99 | Rating: 4.5 | Reviews: 7708\n"
     ]
    },
    {
     "name": "stderr",
     "output_type": "stream",
     "text": [
      "\n",
      "\u001b[AWaiting 30 seconds for additional tokens\n",
      "\n",
      "100%|██████████| 1/1 [00:31<00:00, 31.43s/it]\n"
     ]
    },
    {
     "name": "stdout",
     "output_type": "stream",
     "text": [
      "[✓] Power Lift Support Liftgate Lift Supports Compatible with Kia Telluride w/o Power from | Suspensia | ASIN: B0C75WP31W | Price: $48.92 | Rating: N/A | Reviews: N/A\n"
     ]
    },
    {
     "name": "stderr",
     "output_type": "stream",
     "text": [
      "\n",
      "\u001b[AWaiting 33 seconds for additional tokens\n",
      "\n",
      "100%|██████████| 1/1 [00:34<00:00, 34.74s/it]\n"
     ]
    },
    {
     "name": "stdout",
     "output_type": "stream",
     "text": [
      "[✓] Front Hood Lift Supports Fits To Lincoln MKC | ARANA | ASIN: B0D2LKY5QD | Price: $40.99 | Rating: 4.5 | Reviews: 7721\n"
     ]
    },
    {
     "name": "stderr",
     "output_type": "stream",
     "text": [
      "\n",
      "\u001b[A\n",
      "100%|██████████| 1/1 [00:00<00:00,  1.05it/s]\n"
     ]
    },
    {
     "name": "stdout",
     "output_type": "stream",
     "text": [
      "[✓] Front Hood Lift Supports Fits To Lincoln MKC | Suspensia | ASIN: B0C75WP31W | Price: $48.92 | Rating: N/A | Reviews: N/A\n"
     ]
    },
    {
     "name": "stderr",
     "output_type": "stream",
     "text": [
      "\n",
      "\u001b[AWaiting 65 seconds for additional tokens\n",
      "\n",
      "100%|██████████| 1/1 [01:06<00:00, 66.37s/it]\n"
     ]
    },
    {
     "name": "stdout",
     "output_type": "stream",
     "text": [
      "[✓] Liftgate Lift Supports Buick Century Chevrolet Celebrity Oldsmobile Cutlass Ciera Cutlass Cruiser Pontiac Station Wagon | ARANA | ASIN: B0D2LKY5QD | Price: $40.99 | Rating: 4.5 | Reviews: 7721\n"
     ]
    },
    {
     "name": "stderr",
     "output_type": "stream",
     "text": [
      "\n",
      "\u001b[AWaiting 33 seconds for additional tokens\n",
      "\n",
      "100%|██████████| 1/1 [00:34<00:00, 34.45s/it]\n"
     ]
    },
    {
     "name": "stdout",
     "output_type": "stream",
     "text": [
      "[✓] Liftgate Lift Supports Buick Century Chevrolet Celebrity Oldsmobile Cutlass Ciera Cutlass Cruiser Pontiac Station Wagon | Suspensia | ASIN: B0C75WP31W | Price: $48.92 | Rating: N/A | Reviews: N/A\n"
     ]
    },
    {
     "name": "stderr",
     "output_type": "stream",
     "text": [
      "\n",
      "\u001b[A\n",
      "100%|██████████| 1/1 [00:01<00:00,  1.31s/it]\n"
     ]
    },
    {
     "name": "stdout",
     "output_type": "stream",
     "text": [
      "[✓] Hood Lift Support | ARANA | ASIN: B0D2HP5WM8 | Price: $41.99 | Rating: 4.5 | Reviews: 7725\n"
     ]
    },
    {
     "name": "stderr",
     "output_type": "stream",
     "text": [
      "\n",
      "\u001b[AWaiting 67 seconds for additional tokens\n",
      "\n",
      "100%|██████████| 1/1 [01:07<00:00, 67.84s/it]\n"
     ]
    },
    {
     "name": "stdout",
     "output_type": "stream",
     "text": [
      "[✓] Hood Lift Support | Suspensia | ASIN: B0C75WP31W | Price: $48.92 | Rating: N/A | Reviews: N/A\n"
     ]
    },
    {
     "name": "stderr",
     "output_type": "stream",
     "text": [
      "\n",
      "\u001b[AWaiting 30 seconds for additional tokens\n",
      "\n",
      "100%|██████████| 1/1 [00:32<00:00, 32.18s/it]\n"
     ]
    },
    {
     "name": "stdout",
     "output_type": "stream",
     "text": [
      "[✓] Hatch Lift Supports To Dodge Viper Coupe | ARANA | ASIN: B0B28MT9LP | Price: $21.99 | Rating: 4.5 | Reviews: 7712\n"
     ]
    },
    {
     "name": "stderr",
     "output_type": "stream",
     "text": [
      "\n",
      "\u001b[A\n",
      "100%|██████████| 1/1 [00:00<00:00,  1.66it/s]\n"
     ]
    },
    {
     "name": "stdout",
     "output_type": "stream",
     "text": [
      "[✓] Hatch Lift Supports To Dodge Viper Coupe | Suspensia | ASIN: B0C75WP31W | Price: $48.92 | Rating: N/A | Reviews: N/A\n"
     ]
    },
    {
     "name": "stderr",
     "output_type": "stream",
     "text": [
      "\n",
      "\u001b[AWaiting 66 seconds for additional tokens\n",
      "\n",
      "100%|██████████| 1/1 [01:08<00:00, 68.56s/it]\n"
     ]
    },
    {
     "name": "stdout",
     "output_type": "stream",
     "text": [
      "[✓] Liftgate Lift Supports To Bmw X3 E83 | ARANA | ASIN: B098K2B82X | Price: $30.99 | Rating: 4.5 | Reviews: 7727\n"
     ]
    },
    {
     "name": "stderr",
     "output_type": "stream",
     "text": [
      "\n",
      "\u001b[AWaiting 35 seconds for additional tokens\n",
      "\n",
      "100%|██████████| 1/1 [00:36<00:00, 36.53s/it]\n"
     ]
    },
    {
     "name": "stdout",
     "output_type": "stream",
     "text": [
      "[✓] Liftgate Lift Supports To Bmw X3 E83 | Suspensia | ASIN: B0C75WP31W | Price: $48.92 | Rating: N/A | Reviews: N/A\n"
     ]
    },
    {
     "name": "stderr",
     "output_type": "stream",
     "text": [
      "\n",
      "\u001b[A\n",
      "100%|██████████| 1/1 [00:01<00:00,  1.46s/it]\n"
     ]
    },
    {
     "name": "stdout",
     "output_type": "stream",
     "text": [
      "[✓] Hood Lift Supports Toyota Camry | ARANA | ASIN: B0BWHYJ37N | Price: $29.99 | Rating: 4.5 | Reviews: 7712\n"
     ]
    },
    {
     "name": "stderr",
     "output_type": "stream",
     "text": [
      "Waiting 40 seconds for additional tokens\n",
      "\n",
      "\u001b[A\n",
      "100%|██████████| 1/1 [00:00<00:00,  1.60it/s]\n"
     ]
    },
    {
     "name": "stdout",
     "output_type": "stream",
     "text": [
      "[✓] Hood Lift Supports Toyota Camry | Suspensia | ASIN: B0C75WP31W | Price: $48.92 | Rating: N/A | Reviews: N/A\n"
     ]
    },
    {
     "name": "stderr",
     "output_type": "stream",
     "text": [
      "\n",
      "\u001b[AWaiting 58 seconds for additional tokens\n",
      "\n",
      "100%|██████████| 1/1 [00:59<00:00, 59.56s/it]\n"
     ]
    },
    {
     "name": "stdout",
     "output_type": "stream",
     "text": [
      "[✓] Trunk Lid Lift Supports To Ford Escort | ARANA | ASIN: B0BN6382CS | Price: $38.99 | Rating: 4.5 | Reviews: 7725\n"
     ]
    },
    {
     "name": "stderr",
     "output_type": "stream",
     "text": [
      "\n",
      "\u001b[A\n",
      "100%|██████████| 1/1 [00:00<00:00,  1.53it/s]\n"
     ]
    },
    {
     "name": "stdout",
     "output_type": "stream",
     "text": [
      "[✓] Trunk Lid Lift Supports To Ford Escort | Suspensia | ASIN: B0C75WP31W | Price: $48.92 | Rating: N/A | Reviews: N/A\n"
     ]
    },
    {
     "name": "stderr",
     "output_type": "stream",
     "text": [
      "Waiting 35 seconds for additional tokens\n",
      "\n",
      "\u001b[A\n",
      "100%|██████████| 1/1 [00:01<00:00,  1.85s/it]\n"
     ]
    },
    {
     "name": "stdout",
     "output_type": "stream",
     "text": [
      "[✓] Rear Gate Lift Supports Compatible With: To Honda Cr V | ARANA | ASIN: B0BN6382CS | Price: $38.99 | Rating: 4.5 | Reviews: 7725\n"
     ]
    },
    {
     "name": "stderr",
     "output_type": "stream",
     "text": [
      "\n",
      "\u001b[AWaiting 63 seconds for additional tokens\n",
      "\n",
      "100%|██████████| 1/1 [01:05<00:00, 65.40s/it]\n"
     ]
    },
    {
     "name": "stdout",
     "output_type": "stream",
     "text": [
      "[✓] Rear Gate Lift Supports Compatible With: To Honda Cr V | Suspensia | ASIN: B0C75WP31W | Price: $48.92 | Rating: N/A | Reviews: N/A\n"
     ]
    },
    {
     "name": "stderr",
     "output_type": "stream",
     "text": [
      "\n",
      "\u001b[A\n",
      "100%|██████████| 1/1 [00:01<00:00,  1.97s/it]\n"
     ]
    },
    {
     "name": "stdout",
     "output_type": "stream",
     "text": [
      "[✓] Rear Hatch Lift Supports To Acura Mdx | ARANA | ASIN: B0D4YTCBPL | Price: $38.99 | Rating: 4.5 | Reviews: 7712\n"
     ]
    },
    {
     "name": "stderr",
     "output_type": "stream",
     "text": [
      "Waiting 35 seconds for additional tokens\n",
      "\n",
      "\u001b[A\n",
      "100%|██████████| 1/1 [00:01<00:00,  1.32s/it]\n"
     ]
    },
    {
     "name": "stdout",
     "output_type": "stream",
     "text": [
      "[✓] Rear Hatch Lift Supports To Acura Mdx | Suspensia | ASIN: B0C75WP31W | Price: $48.92 | Rating: N/A | Reviews: N/A\n"
     ]
    },
    {
     "name": "stderr",
     "output_type": "stream",
     "text": [
      "\n",
      "\u001b[AWaiting 54 seconds for additional tokens\n",
      "\n",
      "100%|██████████| 1/1 [00:56<00:00, 56.62s/it]\n"
     ]
    },
    {
     "name": "stdout",
     "output_type": "stream",
     "text": [
      "[✓] Trunk Lid Lift Supports Compatible with Porsche Cayman Rear Engine w/o Aero Kit | ARANA | ASIN: B09NRGBVHN | Price: $22.99 | Rating: 4.5 | Reviews: 7725\n"
     ]
    },
    {
     "name": "stderr",
     "output_type": "stream",
     "text": [
      "\n",
      "\u001b[A\n",
      "100%|██████████| 1/1 [00:02<00:00,  2.39s/it]\n"
     ]
    },
    {
     "name": "stdout",
     "output_type": "stream",
     "text": [
      "[✓] Trunk Lid Lift Supports Compatible with Porsche Cayman Rear Engine w/o Aero Kit | Suspensia | ASIN: B0C75WP31W | Price: $48.92 | Rating: N/A | Reviews: N/A\n"
     ]
    },
    {
     "name": "stderr",
     "output_type": "stream",
     "text": [
      "Waiting 36 seconds for additional tokens\n",
      "\n",
      "\u001b[A\n",
      "100%|██████████| 1/1 [00:03<00:00,  3.28s/it]\n"
     ]
    },
    {
     "name": "stdout",
     "output_type": "stream",
     "text": [
      "[✓] Liftgate Lift Supports Mercedes Benz Gle300D Gle350 Gle350D Gle400 Gle43 Amg Gle450 Amg Gle500 Gle550 Gle550E Gle63 Amg Ml250 Ml350 Ml400 Ml500 Ml550W O Power | ARANA | ASIN: B09NRGRMKP | Price: $47.99 | Rating: 4.5 | Reviews: 7712\n"
     ]
    },
    {
     "name": "stderr",
     "output_type": "stream",
     "text": [
      "\n",
      "\u001b[AWaiting 61 seconds for additional tokens\n",
      "\n",
      "100%|██████████| 1/1 [01:04<00:00, 64.94s/it]\n"
     ]
    },
    {
     "name": "stdout",
     "output_type": "stream",
     "text": [
      "[✓] Liftgate Lift Supports Mercedes Benz Gle300D Gle350 Gle350D Gle400 Gle43 Amg Gle450 Amg Gle500 Gle550 Gle550E Gle63 Amg Ml250 Ml350 Ml400 Ml500 Ml550W O Power | Suspensia | ASIN: B0C75WP31W | Price: $48.92 | Rating: N/A | Reviews: N/A\n"
     ]
    },
    {
     "name": "stderr",
     "output_type": "stream",
     "text": [
      "\n",
      "\u001b[AWaiting 26 seconds for additional tokens\n",
      "\n",
      "100%|██████████| 1/1 [00:28<00:00, 28.82s/it]\n"
     ]
    },
    {
     "name": "stdout",
     "output_type": "stream",
     "text": [
      "[✓] Liftgate Lift Support | ARANA | ASIN: B088H61TWZ | Price: $14.99 | Rating: 4.5 | Reviews: 7727\n"
     ]
    },
    {
     "name": "stderr",
     "output_type": "stream",
     "text": [
      "\n",
      "\u001b[A\n",
      "100%|██████████| 1/1 [00:00<00:00,  1.39it/s]\n"
     ]
    },
    {
     "name": "stdout",
     "output_type": "stream",
     "text": [
      "[✓] Liftgate Lift Support | Suspensia | ASIN: B0C75WP31W | Price: $48.92 | Rating: N/A | Reviews: N/A\n"
     ]
    },
    {
     "name": "stderr",
     "output_type": "stream",
     "text": [
      "\n",
      "\u001b[AWaiting 65 seconds for additional tokens\n",
      "\n",
      "100%|██████████| 1/1 [01:06<00:00, 66.47s/it]\n"
     ]
    },
    {
     "name": "stdout",
     "output_type": "stream",
     "text": [
      "[✓] Liftgate Lift Supports To Toyota Highlander Without Power Supplied Without Brackets | ARANA | ASIN: B088H61TWZ | Price: $14.99 | Rating: 4.5 | Reviews: 7727\n"
     ]
    },
    {
     "name": "stderr",
     "output_type": "stream",
     "text": [
      "\n",
      "\u001b[AWaiting 34 seconds for additional tokens\n",
      "\n",
      "100%|██████████| 1/1 [00:34<00:00, 34.81s/it]\n"
     ]
    },
    {
     "name": "stdout",
     "output_type": "stream",
     "text": [
      "[✓] Liftgate Lift Supports To Toyota Highlander Without Power Supplied Without Brackets | Suspensia | ASIN: B0C75WP31W | Price: $48.92 | Rating: N/A | Reviews: N/A\n"
     ]
    },
    {
     "name": "stderr",
     "output_type": "stream",
     "text": [
      "\n",
      "\u001b[A\n",
      "100%|██████████| 1/1 [00:01<00:00,  1.70s/it]\n"
     ]
    },
    {
     "name": "stdout",
     "output_type": "stream",
     "text": [
      "[✓] Front Hood Lift Support To Toyota Tundra | ARANA | ASIN: B09MLFD378 | Price: $27.99 | Rating: 4.5 | Reviews: 7727\n"
     ]
    },
    {
     "name": "stderr",
     "output_type": "stream",
     "text": [
      "\n",
      "\u001b[AWaiting 66 seconds for additional tokens\n",
      "\n",
      "100%|██████████| 1/1 [01:07<00:00, 67.69s/it]\n"
     ]
    },
    {
     "name": "stdout",
     "output_type": "stream",
     "text": [
      "[✓] Front Hood Lift Support To Toyota Tundra | Suspensia | ASIN: B0C75WP31W | Price: $48.92 | Rating: N/A | Reviews: N/A\n"
     ]
    },
    {
     "name": "stderr",
     "output_type": "stream",
     "text": [
      "\n",
      "\u001b[AWaiting 33 seconds for additional tokens\n",
      "\n",
      "100%|██████████| 1/1 [00:33<00:00, 33.77s/it]\n"
     ]
    },
    {
     "name": "stdout",
     "output_type": "stream",
     "text": [
      "[✓] Rear Gate Trunk Lift Supports to Land Rover Range Rover Sport | ARANA | ASIN: B0C33PJ3C8 | Price: $23.99 | Rating: 4.5 | Reviews: 7721\n"
     ]
    },
    {
     "name": "stderr",
     "output_type": "stream",
     "text": [
      "\n",
      "\u001b[A\n",
      "100%|██████████| 1/1 [00:00<00:00,  1.54it/s]\n"
     ]
    },
    {
     "name": "stdout",
     "output_type": "stream",
     "text": [
      "[✓] Rear Gate Trunk Lift Supports to Land Rover Range Rover Sport | Suspensia | ASIN: B0C75WP31W | Price: $48.92 | Rating: N/A | Reviews: N/A\n"
     ]
    },
    {
     "name": "stderr",
     "output_type": "stream",
     "text": [
      "\n",
      "\u001b[AWaiting 64 seconds for additional tokens\n",
      "\n",
      "100%|██████████| 1/1 [01:05<00:00, 65.36s/it]\n"
     ]
    },
    {
     "name": "stdout",
     "output_type": "stream",
     "text": [
      "[✓] Rear Hatch Lift Supports To Chevrolet Volt | ARANA | ASIN: B0C33PJ3C8 | Price: $23.99 | Rating: 4.5 | Reviews: 7721\n"
     ]
    },
    {
     "name": "stderr",
     "output_type": "stream",
     "text": [
      "\n",
      "\u001b[AWaiting 36 seconds for additional tokens\n",
      "\n",
      "100%|██████████| 1/1 [00:36<00:00, 36.63s/it]\n"
     ]
    },
    {
     "name": "stdout",
     "output_type": "stream",
     "text": [
      "[✓] Rear Hatch Lift Supports To Chevrolet Volt | Suspensia | ASIN: B0C75WP31W | Price: $48.92 | Rating: N/A | Reviews: N/A\n"
     ]
    },
    {
     "name": "stderr",
     "output_type": "stream",
     "text": [
      "\n",
      "\u001b[A\n",
      "100%|██████████| 1/1 [00:02<00:00,  2.59s/it]\n"
     ]
    },
    {
     "name": "stdout",
     "output_type": "stream",
     "text": [
      "[✓] Liftgate Lift Supports Fits To Subaru Forester | ARANA | ASIN: B0B28PQZKJ | Price: $32.99 | Rating: 4.5 | Reviews: 7727\n"
     ]
    },
    {
     "name": "stderr",
     "output_type": "stream",
     "text": [
      "\n",
      "\u001b[AWaiting 65 seconds for additional tokens\n",
      "\n",
      "100%|██████████| 1/1 [01:05<00:00, 65.95s/it]\n"
     ]
    },
    {
     "name": "stdout",
     "output_type": "stream",
     "text": [
      "[✓] Liftgate Lift Supports Fits To Subaru Forester | Suspensia | ASIN: B0C75WP31W | Price: $48.92 | Rating: N/A | Reviews: N/A\n"
     ]
    },
    {
     "name": "stderr",
     "output_type": "stream",
     "text": [
      "\n",
      "\u001b[AWaiting 30 seconds for additional tokens\n",
      "\n",
      "100%|██████████| 1/1 [00:32<00:00, 32.53s/it]\n"
     ]
    },
    {
     "name": "stdout",
     "output_type": "stream",
     "text": [
      "[✓] Hood Lift Supports To Toyota Land Cruiser | ARANA | ASIN: B07CGKD9XP | Price: $19.59 | Rating: 4.5 | Reviews: 7721\n"
     ]
    },
    {
     "name": "stderr",
     "output_type": "stream",
     "text": [
      "\n",
      "\u001b[A\n",
      "100%|██████████| 1/1 [00:01<00:00,  1.31s/it]\n"
     ]
    },
    {
     "name": "stdout",
     "output_type": "stream",
     "text": [
      "[✓] Hood Lift Supports To Toyota Land Cruiser | Suspensia | ASIN: B0C75WP31W | Price: $48.92 | Rating: N/A | Reviews: N/A\n"
     ]
    },
    {
     "name": "stderr",
     "output_type": "stream",
     "text": [
      "\n",
      "\u001b[AWaiting 68 seconds for additional tokens\n",
      "\n",
      "100%|██████████| 1/1 [01:10<00:00, 70.33s/it]\n"
     ]
    },
    {
     "name": "stdout",
     "output_type": "stream",
     "text": [
      "[✓] Rear Liftgate To Ford Explorer Without Power Liftgate | ARANA | ASIN: B08698QYFV | Price: $29.99 | Rating: 4.5 | Reviews: 7727\n"
     ]
    },
    {
     "name": "stderr",
     "output_type": "stream",
     "text": [
      "\n",
      "\u001b[AWaiting 35 seconds for additional tokens\n",
      "\n",
      "100%|██████████| 1/1 [00:36<00:00, 36.14s/it]\n"
     ]
    },
    {
     "name": "stdout",
     "output_type": "stream",
     "text": [
      "[✓] Rear Liftgate To Ford Explorer Without Power Liftgate | Suspensia | ASIN: B0C75WP31W | Price: $48.92 | Rating: N/A | Reviews: N/A\n"
     ]
    },
    {
     "name": "stderr",
     "output_type": "stream",
     "text": [
      "\n",
      "\u001b[A\n",
      "100%|██████████| 1/1 [00:01<00:00,  1.56s/it]\n"
     ]
    },
    {
     "name": "stdout",
     "output_type": "stream",
     "text": [
      "[✓] Rear Gate Lift Supports Fits Kia and Hyundai with Powered Liftgate Model Years Below | ARANA | ASIN: B0BN674WNV | Price: $27.99 | Rating: 4.5 | Reviews: 7721\n"
     ]
    },
    {
     "name": "stderr",
     "output_type": "stream",
     "text": [
      "\n",
      "\u001b[AWaiting 66 seconds for additional tokens\n",
      "\n",
      "100%|██████████| 1/1 [01:07<00:00, 67.16s/it]\n"
     ]
    },
    {
     "name": "stdout",
     "output_type": "stream",
     "text": [
      "[✓] Rear Gate Lift Supports Fits Kia and Hyundai with Powered Liftgate Model Years Below | Suspensia | ASIN: B0C75WP31W | Price: $48.92 | Rating: N/A | Reviews: N/A\n"
     ]
    }
   ],
   "source": [
    "\n",
    "ningth = fetch_products_from_queries(queries.iloc[337:400], allowed_brands,dfname='Product9.csv')"
   ]
  },
  {
   "cell_type": "code",
   "execution_count": null,
   "id": "6d848f7b",
   "metadata": {},
   "outputs": [
    {
     "name": "stderr",
     "output_type": "stream",
     "text": [
      "\n",
      "\u001b[A\n",
      "100%|██████████| 1/1 [00:00<00:00,  1.19it/s]\n"
     ]
    },
    {
     "name": "stdout",
     "output_type": "stream",
     "text": [
      "[✓] Liftgate Lift Supports Compatible With: To Infiniti QX56 / To Nissan Armada Power Liftgate | ARANA | ASIN: B08B3Y7Y7W | Price: $27.99 | Rating: 4.5 | Reviews: 7721\n"
     ]
    },
    {
     "name": "stderr",
     "output_type": "stream",
     "text": [
      "\n",
      "\u001b[A\n",
      "100%|██████████| 1/1 [00:01<00:00,  1.38s/it]\n"
     ]
    },
    {
     "name": "stdout",
     "output_type": "stream",
     "text": [
      "[✓] Liftgate Lift Supports Compatible With: To Infiniti QX56 / To Nissan Armada Power Liftgate | Suspensia | ASIN: B0C75WP31W | Price: $48.92 | Rating: N/A | Reviews: N/A\n"
     ]
    },
    {
     "name": "stderr",
     "output_type": "stream",
     "text": [
      "\n",
      "\u001b[A\n",
      "100%|██████████| 1/1 [00:01<00:00,  1.87s/it]\n"
     ]
    },
    {
     "name": "stdout",
     "output_type": "stream",
     "text": [
      "[✓] Liftgate Lift Supports To Mazda Mpv | ARANA | ASIN: B08B3Y7Y7W | Price: $27.99 | Rating: 4.5 | Reviews: 7721\n"
     ]
    },
    {
     "name": "stderr",
     "output_type": "stream",
     "text": [
      "\n",
      "\u001b[A\n",
      "100%|██████████| 1/1 [00:00<00:00,  1.66it/s]\n"
     ]
    },
    {
     "name": "stdout",
     "output_type": "stream",
     "text": [
      "[✓] Liftgate Lift Supports To Mazda Mpv | Suspensia | ASIN: B0C75WP31W | Price: $48.92 | Rating: N/A | Reviews: N/A\n"
     ]
    },
    {
     "name": "stderr",
     "output_type": "stream",
     "text": [
      "\n",
      "\u001b[A\n",
      "100%|██████████| 1/1 [00:01<00:00,  1.06s/it]\n"
     ]
    },
    {
     "name": "stdout",
     "output_type": "stream",
     "text": [
      "[✓] Liftgate Lift Supports To Suzuki Xl Xl7 | ARANA | ASIN: B08B3Y7Y7W | Price: $27.99 | Rating: 4.5 | Reviews: 7721\n"
     ]
    },
    {
     "name": "stderr",
     "output_type": "stream",
     "text": [
      "\n",
      "\u001b[A\n",
      "100%|██████████| 1/1 [00:00<00:00,  1.43it/s]\n"
     ]
    },
    {
     "name": "stdout",
     "output_type": "stream",
     "text": [
      "[✓] Liftgate Lift Supports To Suzuki Xl Xl7 | Suspensia | ASIN: B0C75WP31W | Price: $48.92 | Rating: N/A | Reviews: N/A\n"
     ]
    },
    {
     "name": "stderr",
     "output_type": "stream",
     "text": [
      "\n",
      "\u001b[A\n",
      "100%|██████████| 1/1 [00:01<00:00,  1.91s/it]\n"
     ]
    },
    {
     "name": "stdout",
     "output_type": "stream",
     "text": [
      "[✓] Hood Lift Support | ARANA | ASIN: B07CGNQCCJ | Price: $23.99 | Rating: 4.5 | Reviews: 7728\n"
     ]
    },
    {
     "name": "stderr",
     "output_type": "stream",
     "text": [
      "\n",
      "\u001b[A\n",
      "100%|██████████| 1/1 [00:00<00:00,  1.39it/s]\n"
     ]
    },
    {
     "name": "stdout",
     "output_type": "stream",
     "text": [
      "[✓] Hood Lift Support | Suspensia | ASIN: B0C75WP31W | Price: $48.92 | Rating: N/A | Reviews: N/A\n"
     ]
    },
    {
     "name": "stderr",
     "output_type": "stream",
     "text": [
      "\n",
      "\u001b[A\n",
      "100%|██████████| 1/1 [00:00<00:00,  1.08it/s]\n"
     ]
    },
    {
     "name": "stdout",
     "output_type": "stream",
     "text": [
      "[✓] Rear Liftgate Lift Supports to Land Rover Freelander | ARANA | ASIN: B07CGNQCCJ | Price: $23.99 | Rating: 4.5 | Reviews: 7728\n"
     ]
    },
    {
     "name": "stderr",
     "output_type": "stream",
     "text": [
      "\n",
      "\u001b[A\n",
      "100%|██████████| 1/1 [00:00<00:00,  1.31it/s]\n"
     ]
    },
    {
     "name": "stdout",
     "output_type": "stream",
     "text": [
      "[✓] Rear Liftgate Lift Supports to Land Rover Freelander | Suspensia | ASIN: B0C75WP31W | Price: $48.92 | Rating: N/A | Reviews: N/A\n"
     ]
    },
    {
     "name": "stderr",
     "output_type": "stream",
     "text": [
      "\n",
      "\u001b[A\n",
      "100%|██████████| 1/1 [00:01<00:00,  1.47s/it]\n"
     ]
    },
    {
     "name": "stdout",
     "output_type": "stream",
     "text": [
      "[✓] Front Hood Lift Support To Pontiac Bonneville 2Nd Design | ARANA | ASIN: B0B28NWD3G | Price: $21.99 | Rating: 4.5 | Reviews: 7721\n"
     ]
    },
    {
     "name": "stderr",
     "output_type": "stream",
     "text": [
      "\n",
      "\u001b[A\n",
      "100%|██████████| 1/1 [00:00<00:00,  1.56it/s]\n"
     ]
    },
    {
     "name": "stdout",
     "output_type": "stream",
     "text": [
      "[✓] Front Hood Lift Support To Pontiac Bonneville 2Nd Design | Suspensia | ASIN: B0C75WP31W | Price: $48.92 | Rating: N/A | Reviews: N/A\n"
     ]
    },
    {
     "name": "stderr",
     "output_type": "stream",
     "text": [
      "\n",
      "\u001b[A\n",
      "100%|██████████| 1/1 [00:01<00:00,  1.57s/it]\n"
     ]
    },
    {
     "name": "stdout",
     "output_type": "stream",
     "text": [
      "[✓] Hood Lift Support | ARANA | ASIN: B0912Y58V2 | Price: $36.99 | Rating: 4.5 | Reviews: 7727\n"
     ]
    },
    {
     "name": "stderr",
     "output_type": "stream",
     "text": [
      "\n",
      "\u001b[A\n",
      "100%|██████████| 1/1 [00:00<00:00,  1.62it/s]\n"
     ]
    },
    {
     "name": "stdout",
     "output_type": "stream",
     "text": [
      "[✓] Hood Lift Support | Suspensia | ASIN: B0C75WP31W | Price: $48.92 | Rating: N/A | Reviews: N/A\n"
     ]
    },
    {
     "name": "stderr",
     "output_type": "stream",
     "text": [
      "\n",
      "\u001b[A\n",
      "100%|██████████| 1/1 [00:01<00:00,  1.28s/it]\n"
     ]
    },
    {
     "name": "stdout",
     "output_type": "stream",
     "text": [
      "[✓] Liftgate Lift Supports To Kia Sedona To Hyundai Entourage Without Power Liftgate | ARANA | ASIN: B0D7VS524Y | Price: $21.99 | Rating: 4.5 | Reviews: 7721\n"
     ]
    },
    {
     "name": "stderr",
     "output_type": "stream",
     "text": [
      "\n",
      "\u001b[A\n",
      "100%|██████████| 1/1 [00:00<00:00,  1.39it/s]\n"
     ]
    },
    {
     "name": "stdout",
     "output_type": "stream",
     "text": [
      "[✓] Liftgate Lift Supports To Kia Sedona To Hyundai Entourage Without Power Liftgate | Suspensia | ASIN: B0C75WP31W | Price: $48.92 | Rating: N/A | Reviews: N/A\n"
     ]
    },
    {
     "name": "stderr",
     "output_type": "stream",
     "text": [
      "\n",
      "\u001b[A\n",
      "100%|██████████| 1/1 [00:01<00:00,  1.71s/it]\n"
     ]
    },
    {
     "name": "stdout",
     "output_type": "stream",
     "text": [
      "[✓] Rear Liftgate Lift Supports To BMW X3 Manual Liftgate | ARANA | ASIN: B0D4YT7QCQ | Price: $35.99 | Rating: 4.5 | Reviews: 7713\n"
     ]
    },
    {
     "name": "stderr",
     "output_type": "stream",
     "text": [
      "\n",
      "\u001b[A\n",
      "100%|██████████| 1/1 [00:00<00:00,  1.44it/s]\n"
     ]
    },
    {
     "name": "stdout",
     "output_type": "stream",
     "text": [
      "[✓] Rear Liftgate Lift Supports To BMW X3 Manual Liftgate | Suspensia | ASIN: B0C75WP31W | Price: $48.92 | Rating: N/A | Reviews: N/A\n"
     ]
    },
    {
     "name": "stderr",
     "output_type": "stream",
     "text": [
      "\n",
      "\u001b[A\n",
      "100%|██████████| 1/1 [00:00<00:00,  1.67it/s]\n"
     ]
    },
    {
     "name": "stdout",
     "output_type": "stream",
     "text": [
      "[✓] Rear Trunk Lid Lift Supports Compatible with: to Honda Civic | ARANA | ASIN: B0D4YT7QCQ | Price: $35.99 | Rating: 4.5 | Reviews: 7713\n"
     ]
    },
    {
     "name": "stderr",
     "output_type": "stream",
     "text": [
      "\n",
      "\u001b[A\n",
      "100%|██████████| 1/1 [00:00<00:00,  1.42it/s]\n"
     ]
    },
    {
     "name": "stdout",
     "output_type": "stream",
     "text": [
      "[✓] Rear Trunk Lid Lift Supports Compatible with: to Honda Civic | Suspensia | ASIN: B0C75WP31W | Price: $48.92 | Rating: N/A | Reviews: N/A\n"
     ]
    },
    {
     "name": "stderr",
     "output_type": "stream",
     "text": [
      "\n",
      "\u001b[A\n",
      "100%|██████████| 1/1 [00:01<00:00,  1.62s/it]\n"
     ]
    },
    {
     "name": "stdout",
     "output_type": "stream",
     "text": [
      "[✓] Front Hood Lift Supports to Chevrolet Malibu Chevrolet Malibu Limited | ARANA | ASIN: B0D2HJ2JDH | Price: $49.99 | Rating: 4.5 | Reviews: 7721\n"
     ]
    },
    {
     "name": "stderr",
     "output_type": "stream",
     "text": [
      "\n",
      "\u001b[A\n",
      "100%|██████████| 1/1 [00:00<00:00,  1.42it/s]\n"
     ]
    },
    {
     "name": "stdout",
     "output_type": "stream",
     "text": [
      "[✓] Front Hood Lift Supports to Chevrolet Malibu Chevrolet Malibu Limited | Suspensia | ASIN: B0C75WP31W | Price: $48.92 | Rating: N/A | Reviews: N/A\n"
     ]
    },
    {
     "name": "stderr",
     "output_type": "stream",
     "text": [
      "\n",
      "\u001b[A\n",
      "100%|██████████| 1/1 [00:00<00:00,  1.43it/s]\n"
     ]
    },
    {
     "name": "stdout",
     "output_type": "stream",
     "text": [
      "[✓] Front Hood Lift Support Compatible with: to Lexus Rx with Bracket | ARANA | ASIN: B0D2HJ2JDH | Price: $49.99 | Rating: 4.5 | Reviews: 7721\n"
     ]
    },
    {
     "name": "stderr",
     "output_type": "stream",
     "text": [
      "\n",
      "\u001b[A\n",
      "100%|██████████| 1/1 [00:00<00:00,  1.51it/s]\n"
     ]
    },
    {
     "name": "stdout",
     "output_type": "stream",
     "text": [
      "[✓] Front Hood Lift Support Compatible with: to Lexus Rx with Bracket | Suspensia | ASIN: B0C75WP31W | Price: $48.92 | Rating: N/A | Reviews: N/A\n"
     ]
    },
    {
     "name": "stderr",
     "output_type": "stream",
     "text": [
      "\n",
      "\u001b[A\n",
      "100%|██████████| 1/1 [00:01<00:00,  1.72s/it]\n"
     ]
    },
    {
     "name": "stdout",
     "output_type": "stream",
     "text": [
      "[✓] Hood Lift Supports To Buick Park Avenue | ARANA | ASIN: B0D7VK2XG5 | Price: $39.99 | Rating: 4.5 | Reviews: 7721\n"
     ]
    },
    {
     "name": "stderr",
     "output_type": "stream",
     "text": [
      "\n",
      "\u001b[A\n",
      "100%|██████████| 1/1 [00:00<00:00,  1.26it/s]\n"
     ]
    },
    {
     "name": "stdout",
     "output_type": "stream",
     "text": [
      "[✓] Hood Lift Supports To Buick Park Avenue | Suspensia | ASIN: B0C75WP31W | Price: $48.92 | Rating: N/A | Reviews: N/A\n"
     ]
    },
    {
     "name": "stderr",
     "output_type": "stream",
     "text": [
      "\n",
      "\u001b[A\n",
      "100%|██████████| 1/1 [00:00<00:00,  1.69it/s]\n"
     ]
    },
    {
     "name": "stdout",
     "output_type": "stream",
     "text": [
      "[✓] Front Hood Lift Supports To Volkswagen Touareg | ARANA | ASIN: B0D7VK2XG5 | Price: $39.99 | Rating: 4.5 | Reviews: 7721\n"
     ]
    },
    {
     "name": "stderr",
     "output_type": "stream",
     "text": [
      "\n",
      "\u001b[A\n",
      "100%|██████████| 1/1 [00:00<00:00,  1.47it/s]\n"
     ]
    },
    {
     "name": "stdout",
     "output_type": "stream",
     "text": [
      "[✓] Front Hood Lift Supports To Volkswagen Touareg | Suspensia | ASIN: B0C75WP31W | Price: $48.92 | Rating: N/A | Reviews: N/A\n"
     ]
    },
    {
     "name": "stderr",
     "output_type": "stream",
     "text": [
      "\n",
      "\u001b[A\n",
      "100%|██████████| 1/1 [00:00<00:00,  1.54it/s]\n"
     ]
    },
    {
     "name": "stdout",
     "output_type": "stream",
     "text": [
      "[✓] Back Rear Glass Lift Supports To Jeep Wrangler Yj Models With Factory Hardtop | ARANA | ASIN: B0D7VK2XG5 | Price: $39.99 | Rating: 4.5 | Reviews: 7721\n"
     ]
    },
    {
     "name": "stderr",
     "output_type": "stream",
     "text": [
      "\n",
      "\u001b[A\n",
      "100%|██████████| 1/1 [00:00<00:00,  1.48it/s]\n"
     ]
    },
    {
     "name": "stdout",
     "output_type": "stream",
     "text": [
      "[✓] Back Rear Glass Lift Supports To Jeep Wrangler Yj Models With Factory Hardtop | Suspensia | ASIN: B0C75WP31W | Price: $48.92 | Rating: N/A | Reviews: N/A\n"
     ]
    },
    {
     "name": "stderr",
     "output_type": "stream",
     "text": [
      "\n",
      "\u001b[A\n",
      "100%|██████████| 1/1 [00:01<00:00,  1.67s/it]\n"
     ]
    },
    {
     "name": "stdout",
     "output_type": "stream",
     "text": [
      "[✓] Liftgate Supports Compatible with: to Honda Pilot | ARANA | ASIN: B08SQWND4Z | Price: $23.99 | Rating: 4.5 | Reviews: 7725\n"
     ]
    },
    {
     "name": "stderr",
     "output_type": "stream",
     "text": [
      "\n",
      "\u001b[A\n",
      "100%|██████████| 1/1 [00:00<00:00,  1.43it/s]\n"
     ]
    },
    {
     "name": "stdout",
     "output_type": "stream",
     "text": [
      "[✓] Liftgate Supports Compatible with: to Honda Pilot | Suspensia | ASIN: B0C75WP31W | Price: $48.92 | Rating: N/A | Reviews: N/A\n"
     ]
    },
    {
     "name": "stderr",
     "output_type": "stream",
     "text": [
      "\n",
      "\u001b[A\n",
      "100%|██████████| 1/1 [00:01<00:00,  1.74s/it]\n"
     ]
    },
    {
     "name": "stdout",
     "output_type": "stream",
     "text": [
      "[✓] Front Trunk Hood Lift Supports To Audi R8 Coupe To Audi R8 Convertible | ARANA | ASIN: B0BZCZGP24 | Price: $48.99 | Rating: 4.5 | Reviews: 7725\n"
     ]
    },
    {
     "name": "stderr",
     "output_type": "stream",
     "text": [
      "\n",
      "\u001b[A\n",
      "100%|██████████| 1/1 [00:00<00:00,  1.41it/s]\n"
     ]
    },
    {
     "name": "stdout",
     "output_type": "stream",
     "text": [
      "[✓] Front Trunk Hood Lift Supports To Audi R8 Coupe To Audi R8 Convertible | Suspensia | ASIN: B0C75WP31W | Price: $48.92 | Rating: N/A | Reviews: N/A\n"
     ]
    },
    {
     "name": "stderr",
     "output_type": "stream",
     "text": [
      "\n",
      "\u001b[A\n",
      "100%|██████████| 1/1 [00:00<00:00,  1.20it/s]\n"
     ]
    },
    {
     "name": "stdout",
     "output_type": "stream",
     "text": [
      "[✓] Front Hood Lift Supports Fits Mercedes Benz C180 C200 C230 C250 C280 C300 C350 C63 Amg | ARANA | ASIN: B08SQWND4Z | Price: $23.99 | Rating: 4.5 | Reviews: 7725\n"
     ]
    },
    {
     "name": "stderr",
     "output_type": "stream",
     "text": [
      "\n",
      "\u001b[A\n",
      "100%|██████████| 1/1 [00:00<00:00,  1.57it/s]\n"
     ]
    },
    {
     "name": "stdout",
     "output_type": "stream",
     "text": [
      "[✓] Front Hood Lift Supports Fits Mercedes Benz C180 C200 C230 C250 C280 C300 C350 C63 Amg | Suspensia | ASIN: B0C75WP31W | Price: $48.92 | Rating: N/A | Reviews: N/A\n"
     ]
    },
    {
     "name": "stderr",
     "output_type": "stream",
     "text": [
      "\n",
      "\u001b[A\n",
      "100%|██████████| 1/1 [00:00<00:00,  1.15it/s]\n"
     ]
    },
    {
     "name": "stdout",
     "output_type": "stream",
     "text": [
      "[✓] Rear Hatch Lift Supports To Toyota Sienna With Non Power Liftgate | ARANA | ASIN: B0D2HNTFC7 | Price: $40.99 | Rating: 4.5 | Reviews: 7712\n"
     ]
    },
    {
     "name": "stderr",
     "output_type": "stream",
     "text": [
      "\n",
      "\u001b[A\n",
      "100%|██████████| 1/1 [00:01<00:00,  1.62s/it]\n"
     ]
    },
    {
     "name": "stdout",
     "output_type": "stream",
     "text": [
      "[✓] Rear Hatch Lift Supports To Toyota Sienna With Non Power Liftgate | Suspensia | ASIN: B0C75WP31W | Price: $48.92 | Rating: N/A | Reviews: N/A\n"
     ]
    },
    {
     "name": "stderr",
     "output_type": "stream",
     "text": [
      "\n",
      "\u001b[A\n",
      "100%|██████████| 1/1 [00:01<00:00,  1.22s/it]\n"
     ]
    },
    {
     "name": "stdout",
     "output_type": "stream",
     "text": [
      "[✓] Liftgate Lift Supports To Dodge Grand Caravan Caravan Chrysler Town & Country To Chrysler Voyager | ARANA | ASIN: B0D2HNTFC7 | Price: $40.99 | Rating: 4.5 | Reviews: 7712\n"
     ]
    },
    {
     "name": "stderr",
     "output_type": "stream",
     "text": [
      "\n",
      "\u001b[A\n",
      "100%|██████████| 1/1 [00:00<00:00,  1.46it/s]\n"
     ]
    },
    {
     "name": "stdout",
     "output_type": "stream",
     "text": [
      "[✓] Liftgate Lift Supports To Dodge Grand Caravan Caravan Chrysler Town & Country To Chrysler Voyager | Suspensia | ASIN: B0C75WP31W | Price: $48.92 | Rating: N/A | Reviews: N/A\n"
     ]
    },
    {
     "name": "stderr",
     "output_type": "stream",
     "text": [
      "\n",
      "\u001b[A\n",
      "100%|██████████| 1/1 [00:00<00:00,  1.45it/s]\n"
     ]
    },
    {
     "name": "stdout",
     "output_type": "stream",
     "text": [
      "[✓] Front Hood Lift Supports To Chevrolet Traverse | ARANA | ASIN: B0D2HNTFC7 | Price: $40.99 | Rating: 4.5 | Reviews: 7712\n"
     ]
    },
    {
     "name": "stderr",
     "output_type": "stream",
     "text": [
      "\n",
      "\u001b[A\n",
      "100%|██████████| 1/1 [00:00<00:00,  1.38it/s]\n"
     ]
    },
    {
     "name": "stdout",
     "output_type": "stream",
     "text": [
      "[✓] Front Hood Lift Supports To Chevrolet Traverse | Suspensia | ASIN: B0C75WP31W | Price: $48.92 | Rating: N/A | Reviews: N/A\n"
     ]
    },
    {
     "name": "stderr",
     "output_type": "stream",
     "text": [
      "\n",
      "\u001b[A\n",
      "100%|██████████| 1/1 [00:00<00:00,  1.42it/s]\n"
     ]
    },
    {
     "name": "stdout",
     "output_type": "stream",
     "text": [
      "[✓] Front Hood Lift Supports Fits To Toyota Avalon | ARANA | ASIN: B0D2HNTFC7 | Price: $40.99 | Rating: 4.5 | Reviews: 7712\n"
     ]
    },
    {
     "name": "stderr",
     "output_type": "stream",
     "text": [
      "\n",
      "\u001b[A\n",
      "100%|██████████| 1/1 [00:00<00:00,  1.39it/s]\n"
     ]
    },
    {
     "name": "stdout",
     "output_type": "stream",
     "text": [
      "[✓] Front Hood Lift Supports Fits To Toyota Avalon | Suspensia | ASIN: B0C75WP31W | Price: $48.92 | Rating: N/A | Reviews: N/A\n"
     ]
    },
    {
     "name": "stderr",
     "output_type": "stream",
     "text": [
      "\n",
      "\u001b[AWaiting 36 seconds for additional tokens\n",
      "\n",
      "100%|██████████| 1/1 [00:37<00:00, 37.27s/it]\n"
     ]
    },
    {
     "name": "stdout",
     "output_type": "stream",
     "text": [
      "[✓] Liftgate Lift Support Fits to Hummer H2 | ARANA | ASIN: B0D2HNTFC7 | Price: $40.99 | Rating: 4.5 | Reviews: 7712\n"
     ]
    },
    {
     "name": "stderr",
     "output_type": "stream",
     "text": [
      "\n",
      "\u001b[AWaiting 33 seconds for additional tokens\n",
      "\n",
      "100%|██████████| 1/1 [00:34<00:00, 34.33s/it]\n"
     ]
    },
    {
     "name": "stdout",
     "output_type": "stream",
     "text": [
      "[✓] Liftgate Lift Support Fits to Hummer H2 | Suspensia | ASIN: B0C75WP31W | Price: $48.92 | Rating: N/A | Reviews: N/A\n"
     ]
    },
    {
     "name": "stderr",
     "output_type": "stream",
     "text": [
      "\n",
      "\u001b[A\n",
      "100%|██████████| 1/1 [00:00<00:00,  1.43it/s]\n"
     ]
    },
    {
     "name": "stdout",
     "output_type": "stream",
     "text": [
      "[✓] Camper Shell Cap Topper Snugtop Tonneau Leer Cover Lift Supports Inches Lbs. Repl C16 | ARANA | ASIN: B0D2HNTFC7 | Price: $40.99 | Rating: 4.5 | Reviews: 7712\n"
     ]
    },
    {
     "name": "stderr",
     "output_type": "stream",
     "text": [
      "\n",
      "\u001b[AWaiting 64 seconds for additional tokens\n",
      "\n",
      "100%|██████████| 1/1 [01:05<00:00, 65.41s/it]\n"
     ]
    },
    {
     "name": "stdout",
     "output_type": "stream",
     "text": [
      "[✓] Camper Shell Cap Topper Snugtop Tonneau Leer Cover Lift Supports Inches Lbs. Repl C16 | Suspensia | ASIN: B0C75WP31W | Price: $48.92 | Rating: N/A | Reviews: N/A\n"
     ]
    },
    {
     "name": "stderr",
     "output_type": "stream",
     "text": [
      "\n",
      "\u001b[AWaiting 30 seconds for additional tokens\n",
      "\n",
      "100%|██████████| 1/1 [00:31<00:00, 31.81s/it]\n"
     ]
    },
    {
     "name": "stdout",
     "output_type": "stream",
     "text": [
      "[✓] Front Hood Lift Supports To Jaguar Xk8 To Jaguar Xkr | ARANA | ASIN: B0D2HNTFC7 | Price: $40.99 | Rating: 4.5 | Reviews: 7712\n"
     ]
    },
    {
     "name": "stderr",
     "output_type": "stream",
     "text": [
      "\n",
      "\u001b[A\n",
      "100%|██████████| 1/1 [00:00<00:00,  1.42it/s]\n"
     ]
    },
    {
     "name": "stdout",
     "output_type": "stream",
     "text": [
      "[✓] Front Hood Lift Supports To Jaguar Xk8 To Jaguar Xkr | Suspensia | ASIN: B0C75WP31W | Price: $48.92 | Rating: N/A | Reviews: N/A\n"
     ]
    },
    {
     "name": "stderr",
     "output_type": "stream",
     "text": [
      "\n",
      "\u001b[AWaiting 63 seconds for additional tokens\n",
      "\n",
      "100%|██████████| 1/1 [01:04<00:00, 64.20s/it]\n"
     ]
    },
    {
     "name": "stdout",
     "output_type": "stream",
     "text": [
      "[✓] Rear Liftgate Lift Supports to Honda Pilot Without Power | ARANA | ASIN: B0D2HNTFC7 | Price: $40.99 | Rating: 4.5 | Reviews: 7712\n"
     ]
    },
    {
     "name": "stderr",
     "output_type": "stream",
     "text": [
      "\n",
      "\u001b[A\n",
      "100%|██████████| 1/1 [00:00<00:00,  1.45it/s]\n"
     ]
    },
    {
     "name": "stdout",
     "output_type": "stream",
     "text": [
      "[✓] Rear Liftgate Lift Supports to Honda Pilot Without Power | Suspensia | ASIN: B0C75WP31W | Price: $48.92 | Rating: N/A | Reviews: N/A\n"
     ]
    },
    {
     "name": "stderr",
     "output_type": "stream",
     "text": [
      "Waiting 36 seconds for additional tokens\n",
      "\n",
      "\u001b[A\n",
      "100%|██████████| 1/1 [00:00<00:00,  1.51it/s]\n"
     ]
    },
    {
     "name": "stdout",
     "output_type": "stream",
     "text": [
      "[✓] Hood Lift Support | ARANA | ASIN: B0D2HNTFC7 | Price: $40.99 | Rating: 4.5 | Reviews: 7712\n"
     ]
    },
    {
     "name": "stderr",
     "output_type": "stream",
     "text": [
      "\n",
      "\u001b[AWaiting 62 seconds for additional tokens\n",
      "\n",
      "100%|██████████| 1/1 [01:03<00:00, 63.40s/it]\n"
     ]
    },
    {
     "name": "stdout",
     "output_type": "stream",
     "text": [
      "[✓] Hood Lift Support | Suspensia | ASIN: B0C75WP31W | Price: $48.92 | Rating: N/A | Reviews: N/A\n"
     ]
    },
    {
     "name": "stderr",
     "output_type": "stream",
     "text": [
      "\n",
      "\u001b[A\n",
      "100%|██████████| 1/1 [00:00<00:00,  1.30it/s]\n"
     ]
    },
    {
     "name": "stdout",
     "output_type": "stream",
     "text": [
      "[✓] Liftgate Lift Supports To Chrysler Town & Country To Dodge Grand Caravan Non Power Liftgate | ARANA | ASIN: B0D2HNTFC7 | Price: $40.99 | Rating: 4.5 | Reviews: 7712\n"
     ]
    },
    {
     "name": "stderr",
     "output_type": "stream",
     "text": [
      "Waiting 38 seconds for additional tokens\n",
      "\n",
      "\u001b[A\n",
      "100%|██████████| 1/1 [00:00<00:00,  1.43it/s]\n"
     ]
    },
    {
     "name": "stdout",
     "output_type": "stream",
     "text": [
      "[✓] Liftgate Lift Supports To Chrysler Town & Country To Dodge Grand Caravan Non Power Liftgate | Suspensia | ASIN: B0C75WP31W | Price: $48.92 | Rating: N/A | Reviews: N/A\n"
     ]
    },
    {
     "name": "stderr",
     "output_type": "stream",
     "text": [
      "\n",
      "\u001b[AWaiting 59 seconds for additional tokens\n",
      "\n",
      "100%|██████████| 1/1 [00:59<00:00, 59.74s/it]\n"
     ]
    },
    {
     "name": "stdout",
     "output_type": "stream",
     "text": [
      "[✓] Liftgate Lift Supports To Dodge Durango Non Power Liftgate | ARANA | ASIN: B0D2HNTFC7 | Price: $40.99 | Rating: 4.5 | Reviews: 7712\n"
     ]
    },
    {
     "name": "stderr",
     "output_type": "stream",
     "text": [
      "\n",
      "\u001b[A\n",
      "100%|██████████| 1/1 [00:00<00:00,  1.54it/s]\n"
     ]
    },
    {
     "name": "stdout",
     "output_type": "stream",
     "text": [
      "[✓] Liftgate Lift Supports To Dodge Durango Non Power Liftgate | Suspensia | ASIN: B0C75WP31W | Price: $48.92 | Rating: N/A | Reviews: N/A\n"
     ]
    },
    {
     "name": "stderr",
     "output_type": "stream",
     "text": [
      "Waiting 36 seconds for additional tokens\n",
      "\n",
      "\u001b[A\n",
      "100%|██████████| 1/1 [00:01<00:00,  1.64s/it]\n"
     ]
    },
    {
     "name": "stdout",
     "output_type": "stream",
     "text": [
      "[✓] Rear Gate Lift Supports to Saturn Sw1 Wagon to Saturn Sw2 Wagon | ARANA | ASIN: B0D2HNTFC7 | Price: $40.99 | Rating: 4.5 | Reviews: 7712\n"
     ]
    },
    {
     "name": "stderr",
     "output_type": "stream",
     "text": [
      "\n",
      "\u001b[AWaiting 63 seconds for additional tokens\n",
      "\n",
      "100%|██████████| 1/1 [01:04<00:00, 64.06s/it]\n"
     ]
    },
    {
     "name": "stdout",
     "output_type": "stream",
     "text": [
      "[✓] Rear Gate Lift Supports to Saturn Sw1 Wagon to Saturn Sw2 Wagon | Suspensia | ASIN: B0C75WP31W | Price: $48.92 | Rating: N/A | Reviews: N/A\n"
     ]
    },
    {
     "name": "stderr",
     "output_type": "stream",
     "text": [
      "\n",
      "\u001b[A\n",
      "100%|██████████| 1/1 [00:00<00:00,  1.41it/s]\n"
     ]
    },
    {
     "name": "stdout",
     "output_type": "stream",
     "text": [
      "[✓] Hood Lift Support Compatible With Porsche Cayenne | ARANA | ASIN: B0D2HNTFC7 | Price: $40.99 | Rating: 4.5 | Reviews: 7712\n"
     ]
    },
    {
     "name": "stderr",
     "output_type": "stream",
     "text": [
      "Waiting 36 seconds for additional tokens\n",
      "\n",
      "\u001b[A\n",
      "100%|██████████| 1/1 [00:01<00:00,  1.44s/it]\n"
     ]
    },
    {
     "name": "stdout",
     "output_type": "stream",
     "text": [
      "[✓] Hood Lift Support Compatible With Porsche Cayenne | Suspensia | ASIN: B0C75WP31W | Price: $48.92 | Rating: N/A | Reviews: N/A\n"
     ]
    },
    {
     "name": "stderr",
     "output_type": "stream",
     "text": [
      "\n",
      "\u001b[AWaiting 59 seconds for additional tokens\n",
      "\n",
      "100%|██████████| 1/1 [01:00<00:00, 60.54s/it]\n"
     ]
    },
    {
     "name": "stdout",
     "output_type": "stream",
     "text": [
      "[✓] Hood Lift Supports Jaguar Xk Xkr Xkr S | ARANA | ASIN: B0D2HNTFC7 | Price: $40.99 | Rating: 4.5 | Reviews: 7712\n"
     ]
    },
    {
     "name": "stderr",
     "output_type": "stream",
     "text": [
      "\n",
      "\u001b[A\n",
      "100%|██████████| 1/1 [00:00<00:00,  1.06it/s]\n"
     ]
    },
    {
     "name": "stdout",
     "output_type": "stream",
     "text": [
      "[✓] Hood Lift Supports Jaguar Xk Xkr Xkr S | Suspensia | ASIN: B0C75WP31W | Price: $48.92 | Rating: N/A | Reviews: N/A\n"
     ]
    },
    {
     "name": "stderr",
     "output_type": "stream",
     "text": [
      "Waiting 35 seconds for additional tokens\n",
      "\n",
      "\u001b[A\n",
      "100%|██████████| 1/1 [00:01<00:00,  1.08s/it]\n"
     ]
    },
    {
     "name": "stdout",
     "output_type": "stream",
     "text": [
      "[✓] Front Hood Lift Supports Compatible with to Kia Optima | ARANA | ASIN: B0D2HNTFC7 | Price: $40.99 | Rating: 4.5 | Reviews: 7712\n"
     ]
    },
    {
     "name": "stderr",
     "output_type": "stream",
     "text": [
      "\n",
      "\u001b[AWaiting 61 seconds for additional tokens\n",
      "\n",
      "100%|██████████| 1/1 [01:03<00:00, 63.00s/it]\n"
     ]
    },
    {
     "name": "stdout",
     "output_type": "stream",
     "text": [
      "[✓] Front Hood Lift Supports Compatible with to Kia Optima | Suspensia | ASIN: B0C75WP31W | Price: $48.92 | Rating: N/A | Reviews: N/A\n"
     ]
    },
    {
     "name": "stderr",
     "output_type": "stream",
     "text": [
      "\n",
      "\u001b[A\n",
      "100%|██████████| 1/1 [00:02<00:00,  2.25s/it]\n"
     ]
    },
    {
     "name": "stdout",
     "output_type": "stream",
     "text": [
      "[✓] Rear Liftgate Lift Support to Ford Expedition Without Power | ARANA | ASIN: B0D2HNTFC7 | Price: $40.99 | Rating: 4.5 | Reviews: 7712\n"
     ]
    },
    {
     "name": "stderr",
     "output_type": "stream",
     "text": [
      "Waiting 35 seconds for additional tokens\n",
      "\n",
      "\u001b[A\n",
      "100%|██████████| 1/1 [00:00<00:00,  1.07it/s]\n"
     ]
    },
    {
     "name": "stdout",
     "output_type": "stream",
     "text": [
      "[✓] Rear Liftgate Lift Support to Ford Expedition Without Power | Suspensia | ASIN: B0C75WP31W | Price: $48.92 | Rating: N/A | Reviews: N/A\n"
     ]
    },
    {
     "name": "stderr",
     "output_type": "stream",
     "text": [
      "\n",
      "\u001b[AWaiting 58 seconds for additional tokens\n",
      "\n",
      "100%|██████████| 1/1 [01:01<00:00, 61.01s/it]\n"
     ]
    },
    {
     "name": "stdout",
     "output_type": "stream",
     "text": [
      "[✓] Front Hood Lift Supports Fits to BMW Z4 E86 | ARANA | ASIN: B0D2HNTFC7 | Price: $40.99 | Rating: 4.5 | Reviews: 7712\n"
     ]
    },
    {
     "name": "stderr",
     "output_type": "stream",
     "text": [
      "\n",
      "\u001b[A\n",
      "100%|██████████| 1/1 [00:01<00:00,  1.48s/it]\n"
     ]
    },
    {
     "name": "stdout",
     "output_type": "stream",
     "text": [
      "[✓] Front Hood Lift Supports Fits to BMW Z4 E86 | Suspensia | ASIN: B0C75WP31W | Price: $48.92 | Rating: N/A | Reviews: N/A\n"
     ]
    },
    {
     "name": "stderr",
     "output_type": "stream",
     "text": [
      "\n",
      "\u001b[AWaiting 58 seconds for additional tokens\n",
      "\n",
      "100%|██████████| 1/1 [01:01<00:00, 61.26s/it]\n"
     ]
    },
    {
     "name": "stdout",
     "output_type": "stream",
     "text": [
      "[✓] Front Hood Lift Supports To Mercedes Benz Slk To Slk To Slk To Slk Amg | ARANA | ASIN: B0D2HNTFC7 | Price: $40.99 | Rating: 4.5 | Reviews: 7712\n"
     ]
    },
    {
     "name": "stderr",
     "output_type": "stream",
     "text": [
      "\n",
      "\u001b[AWaiting 33 seconds for additional tokens\n",
      "\n",
      "100%|██████████| 1/1 [00:34<00:00, 34.43s/it]\n"
     ]
    },
    {
     "name": "stdout",
     "output_type": "stream",
     "text": [
      "[✓] Front Hood Lift Supports To Mercedes Benz Slk To Slk To Slk To Slk Amg | Suspensia | ASIN: B0C75WP31W | Price: $48.92 | Rating: N/A | Reviews: N/A\n"
     ]
    },
    {
     "name": "stderr",
     "output_type": "stream",
     "text": [
      "\n",
      "\u001b[A\n",
      "100%|██████████| 1/1 [00:00<00:00,  1.36it/s]\n"
     ]
    },
    {
     "name": "stdout",
     "output_type": "stream",
     "text": [
      "[✓] Lift Supports for Mercedes Benz Metris V220D V250 No Rear Window Black Rear .in Extended x .in Compressed | ARANA | ASIN: B0D2HNTFC7 | Price: $40.99 | Rating: 4.5 | Reviews: 7712\n"
     ]
    },
    {
     "name": "stderr",
     "output_type": "stream",
     "text": [
      "\n",
      "\u001b[AWaiting 66 seconds for additional tokens\n",
      "\n",
      "100%|██████████| 1/1 [01:07<00:00, 67.82s/it]\n"
     ]
    },
    {
     "name": "stdout",
     "output_type": "stream",
     "text": [
      "[✓] Lift Supports for Mercedes Benz Metris V220D V250 No Rear Window Black Rear .in Extended x .in Compressed | Suspensia | ASIN: B0C75WP31W | Price: $48.92 | Rating: N/A | Reviews: N/A\n"
     ]
    },
    {
     "name": "stderr",
     "output_type": "stream",
     "text": [
      "\n",
      "\u001b[AWaiting 30 seconds for additional tokens\n",
      "\n",
      "100%|██████████| 1/1 [00:31<00:00, 31.55s/it]\n"
     ]
    },
    {
     "name": "stdout",
     "output_type": "stream",
     "text": [
      "[✓] Rear Hatch Lift Supports To Volkswagen Beetle With Spoiler | ARANA | ASIN: B0D2HNTFC7 | Price: $40.99 | Rating: 4.5 | Reviews: 7712\n"
     ]
    },
    {
     "name": "stderr",
     "output_type": "stream",
     "text": [
      "\n",
      "\u001b[A\n",
      "100%|██████████| 1/1 [00:00<00:00,  1.50it/s]\n"
     ]
    },
    {
     "name": "stdout",
     "output_type": "stream",
     "text": [
      "[✓] Rear Hatch Lift Supports To Volkswagen Beetle With Spoiler | Suspensia | ASIN: B0C75WP31W | Price: $48.92 | Rating: N/A | Reviews: N/A\n"
     ]
    },
    {
     "name": "stderr",
     "output_type": "stream",
     "text": [
      "\n",
      "\u001b[AWaiting 66 seconds for additional tokens\n",
      "\n",
      "100%|██████████| 1/1 [01:07<00:00, 67.52s/it]\n"
     ]
    },
    {
     "name": "stdout",
     "output_type": "stream",
     "text": [
      "[✓] Rear Trunk Lid Lift Supports To Bmw Z4 M Coupe North American Models | ARANA | ASIN: B0D2HNTFC7 | Price: $40.99 | Rating: 4.5 | Reviews: 7712\n"
     ]
    },
    {
     "name": "stderr",
     "output_type": "stream",
     "text": [
      "\n",
      "\u001b[AWaiting 33 seconds for additional tokens\n",
      "\n",
      "100%|██████████| 1/1 [00:34<00:00, 34.69s/it]\n"
     ]
    },
    {
     "name": "stdout",
     "output_type": "stream",
     "text": [
      "[✓] Rear Trunk Lid Lift Supports To Bmw Z4 M Coupe North American Models | Suspensia | ASIN: B0C75WP31W | Price: $48.92 | Rating: N/A | Reviews: N/A\n"
     ]
    },
    {
     "name": "stderr",
     "output_type": "stream",
     "text": [
      "\n",
      "\u001b[A\n",
      "100%|██████████| 1/1 [00:00<00:00,  1.37it/s]\n"
     ]
    },
    {
     "name": "stdout",
     "output_type": "stream",
     "text": [
      "[✓] Hood Lift Support | ARANA | ASIN: B0D2HNTFC7 | Price: $40.99 | Rating: 4.5 | Reviews: 7712\n"
     ]
    },
    {
     "name": "stderr",
     "output_type": "stream",
     "text": [
      "\n",
      "\u001b[AWaiting 64 seconds for additional tokens\n",
      "\n",
      "100%|██████████| 1/1 [01:05<00:00, 65.55s/it]\n"
     ]
    },
    {
     "name": "stdout",
     "output_type": "stream",
     "text": [
      "[✓] Hood Lift Support | Suspensia | ASIN: B0C75WP31W | Price: $48.92 | Rating: N/A | Reviews: N/A\n"
     ]
    },
    {
     "name": "stderr",
     "output_type": "stream",
     "text": [
      "\n",
      "\u001b[AWaiting 31 seconds for additional tokens\n",
      "\n",
      "100%|██████████| 1/1 [00:33<00:00, 33.79s/it]\n"
     ]
    },
    {
     "name": "stdout",
     "output_type": "stream",
     "text": [
      "[✓] Front Hood Lift Support to Subaru Forester .Engine Only | ARANA | ASIN: B0D2HNTFC7 | Price: $40.99 | Rating: 4.5 | Reviews: 7712\n"
     ]
    },
    {
     "name": "stderr",
     "output_type": "stream",
     "text": [
      "\n",
      "\u001b[A\n",
      "100%|██████████| 1/1 [00:01<00:00,  1.13s/it]\n"
     ]
    },
    {
     "name": "stdout",
     "output_type": "stream",
     "text": [
      "[✓] Front Hood Lift Support to Subaru Forester .Engine Only | Suspensia | ASIN: B0C75WP31W | Price: $48.92 | Rating: N/A | Reviews: N/A\n"
     ]
    },
    {
     "name": "stderr",
     "output_type": "stream",
     "text": [
      "\n",
      "\u001b[AWaiting 63 seconds for additional tokens\n",
      "\n",
      "100%|██████████| 1/1 [01:05<00:00, 65.36s/it]\n"
     ]
    },
    {
     "name": "stdout",
     "output_type": "stream",
     "text": [
      "[✓] Rear Hatch Lift Supports To Ford C Max Manual Hatch | ARANA | ASIN: B0D2HNTFC7 | Price: $40.99 | Rating: 4.5 | Reviews: 7712\n"
     ]
    },
    {
     "name": "stderr",
     "output_type": "stream",
     "text": [
      "\n",
      "\u001b[AWaiting 31 seconds for additional tokens\n",
      "\n",
      "100%|██████████| 1/1 [00:33<00:00, 33.05s/it]\n"
     ]
    },
    {
     "name": "stdout",
     "output_type": "stream",
     "text": [
      "[✓] Rear Hatch Lift Supports To Ford C Max Manual Hatch | Suspensia | ASIN: B0C75WP31W | Price: $48.92 | Rating: N/A | Reviews: N/A\n"
     ]
    },
    {
     "name": "stderr",
     "output_type": "stream",
     "text": [
      "\n",
      "\u001b[A\n",
      "100%|██████████| 1/1 [00:01<00:00,  1.40s/it]\n"
     ]
    },
    {
     "name": "stdout",
     "output_type": "stream",
     "text": [
      "[✓] Hood Lift Support Fits to Volkswagen Beetle | ARANA | ASIN: B0D2HNTFC7 | Price: $40.99 | Rating: 4.5 | Reviews: 7712\n"
     ]
    },
    {
     "name": "stderr",
     "output_type": "stream",
     "text": [
      "\n",
      "\u001b[AWaiting 66 seconds for additional tokens\n",
      "\n",
      "100%|██████████| 1/1 [01:06<00:00, 66.72s/it]\n"
     ]
    },
    {
     "name": "stdout",
     "output_type": "stream",
     "text": [
      "[✓] Hood Lift Support Fits to Volkswagen Beetle | Suspensia | ASIN: B0C75WP31W | Price: $48.92 | Rating: N/A | Reviews: N/A\n"
     ]
    },
    {
     "name": "stderr",
     "output_type": "stream",
     "text": [
      "\n",
      "\u001b[AWaiting 30 seconds for additional tokens\n",
      "\n",
      "100%|██████████| 1/1 [00:31<00:00, 31.44s/it]\n"
     ]
    },
    {
     "name": "stdout",
     "output_type": "stream",
     "text": [
      "[✓] Hood Lift Support Buick Lacrosse | ARANA | ASIN: B0D2HNTFC7 | Price: $40.99 | Rating: 4.5 | Reviews: 7712\n"
     ]
    },
    {
     "name": "stderr",
     "output_type": "stream",
     "text": [
      "\n",
      "\u001b[A\n",
      "100%|██████████| 1/1 [00:00<00:00,  1.30it/s]\n"
     ]
    },
    {
     "name": "stdout",
     "output_type": "stream",
     "text": [
      "[✓] Hood Lift Support Buick Lacrosse | Suspensia | ASIN: B0C75WP31W | Price: $48.92 | Rating: N/A | Reviews: N/A\n"
     ]
    },
    {
     "name": "stderr",
     "output_type": "stream",
     "text": [
      "\n",
      "\u001b[AWaiting 64 seconds for additional tokens\n",
      "\n",
      "100%|██████████| 1/1 [01:04<00:00, 64.98s/it]\n"
     ]
    },
    {
     "name": "stdout",
     "output_type": "stream",
     "text": [
      "[✓] Front Hood Lift Supports Cadillac Xts | ARANA | ASIN: B0D2HNTFC7 | Price: $40.99 | Rating: 4.5 | Reviews: 7712\n"
     ]
    },
    {
     "name": "stderr",
     "output_type": "stream",
     "text": [
      "\n",
      "\u001b[AWaiting 34 seconds for additional tokens\n",
      "\n",
      "100%|██████████| 1/1 [00:35<00:00, 35.34s/it]\n"
     ]
    },
    {
     "name": "stdout",
     "output_type": "stream",
     "text": [
      "[✓] Front Hood Lift Supports Cadillac Xts | Suspensia | ASIN: B0C75WP31W | Price: $48.92 | Rating: N/A | Reviews: N/A\n"
     ]
    },
    {
     "name": "stderr",
     "output_type": "stream",
     "text": [
      "\n",
      "\u001b[A\n",
      "100%|██████████| 1/1 [00:00<00:00,  1.48it/s]\n"
     ]
    },
    {
     "name": "stdout",
     "output_type": "stream",
     "text": [
      "[✓] Rear Gate Lift Supports Fits To Toyota Sequoia With Power Gate | ARANA | ASIN: B0D2HNTFC7 | Price: $40.99 | Rating: 4.5 | Reviews: 7712\n"
     ]
    },
    {
     "name": "stderr",
     "output_type": "stream",
     "text": [
      "\n",
      "\u001b[AWaiting 66 seconds for additional tokens\n"
     ]
    }
   ],
   "source": [
    "ningth = fetch_products_from_queries(queries.iloc[400:], allowed_brands,dfname='Product10.csv')"
   ]
  },
  {
   "cell_type": "code",
   "execution_count": null,
   "id": "d2942988",
   "metadata": {},
   "outputs": [],
   "source": []
  }
 ],
 "metadata": {
  "kernelspec": {
   "display_name": "Python 3",
   "language": "python",
   "name": "python3"
  },
  "language_info": {
   "codemirror_mode": {
    "name": "ipython",
    "version": 3
   },
   "file_extension": ".py",
   "mimetype": "text/x-python",
   "name": "python",
   "nbconvert_exporter": "python",
   "pygments_lexer": "ipython3",
   "version": "3.8.0"
  }
 },
 "nbformat": 4,
 "nbformat_minor": 5
}
